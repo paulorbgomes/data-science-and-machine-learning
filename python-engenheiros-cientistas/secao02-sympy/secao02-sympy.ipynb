{
 "cells": [
  {
   "cell_type": "markdown",
   "id": "56a4ef43-eb63-4ee2-bea3-5e160caf7976",
   "metadata": {},
   "source": [
    "# BIBLIOTECA SYMPY"
   ]
  },
  {
   "cell_type": "markdown",
   "id": "57a154ae-c0ce-472c-8f14-bbc12e430816",
   "metadata": {},
   "source": [
    "- **SÍMBOLOS (MATEMÁTICA SIMBÓLICA):**"
   ]
  },
  {
   "cell_type": "code",
   "execution_count": 13,
   "id": "09d48d77-3295-4005-922e-859198d554e6",
   "metadata": {},
   "outputs": [],
   "source": [
    "# Importacao da biblioteca\n",
    "import sympy as sp"
   ]
  },
  {
   "cell_type": "code",
   "execution_count": 14,
   "id": "3bf14961-0f49-4c03-a09e-50480efe1211",
   "metadata": {},
   "outputs": [
    {
     "name": "stdout",
     "output_type": "stream",
     "text": [
      "2*x\n",
      "5*x\n",
      "x**3\n"
     ]
    }
   ],
   "source": [
    "# Funcao .symbols()\n",
    "x = sp.symbols(\"x\")\n",
    "print(x + x)\n",
    "print(5 * x)\n",
    "print(x * x * x)"
   ]
  },
  {
   "cell_type": "code",
   "execution_count": 15,
   "id": "a97bfe83-f227-45b9-9a16-b3ba5c1c4bde",
   "metadata": {},
   "outputs": [
    {
     "data": {
      "image/png": "[encoded data removed]",
      "text/latex": [
       "$\\displaystyle x^{2} + x y + y^{2}$"
      ],
      "text/plain": [
       " 2          2\n",
       "x  + x⋅y + y "
      ]
     },
     "execution_count": 15,
     "metadata": {},
     "output_type": "execute_result"
    }
   ],
   "source": [
    "# Funcao .init_printing()\n",
    "sp.init_printing()\n",
    "lista_simbolos = [\"x\", \"y\"]\n",
    "x, y = sp.symbols(lista_simbolos)\n",
    "Fxy = x**2 + y**2 + x*y\n",
    "Fxy"
   ]
  },
  {
   "cell_type": "code",
   "execution_count": 17,
   "id": "a51c486d-394e-4b07-85ee-14d8f7e4f1af",
   "metadata": {},
   "outputs": [
    {
     "data": {
      "image/png": "[encoded data removed]",
      "text/latex": [
       "$\\displaystyle 61$"
      ],
      "text/plain": [
       "61"
      ]
     },
     "execution_count": 17,
     "metadata": {},
     "output_type": "execute_result"
    }
   ],
   "source": [
    "# Funcao .subs()\n",
    "resposta = Fxy.subs(x,4).subs(y,5)\n",
    "resposta"
   ]
  },
  {
   "cell_type": "code",
   "execution_count": 20,
   "id": "6239694f-1924-4c53-882b-c354f0eed3c4",
   "metadata": {},
   "outputs": [
    {
     "data": {
      "image/png": "[encoded data removed]",
      "text/latex": [
       "$\\displaystyle x^{2} + 4 x y + 3 y^{2}$"
      ],
      "text/plain": [
       " 2              2\n",
       "x  + 4⋅x⋅y + 3⋅y "
      ]
     },
     "execution_count": 20,
     "metadata": {},
     "output_type": "execute_result"
    }
   ],
   "source": [
    "# Funcao .simplify()\n",
    "Fxy = (x + y) ** 2 + y ** 2 + 2 * x * y + y ** 2\n",
    "Fxy\n",
    "sp.simplify(Fxy)"
   ]
  },
  {
   "cell_type": "markdown",
   "id": "51c1d580-cbb7-454e-bff1-b3674c79552c",
   "metadata": {},
   "source": [
    "- **MATRIZES:** As matrizes na biblioteca sympy são fiéis as matrizes na matemática."
   ]
  },
  {
   "cell_type": "code",
   "execution_count": 1,
   "id": "e7104593-9dd1-4ebb-a9dd-82ee51ae1b0c",
   "metadata": {},
   "outputs": [],
   "source": [
    "import sympy as sp\n",
    "sp.init_printing()"
   ]
  },
  {
   "cell_type": "code",
   "execution_count": 10,
   "id": "de75701c-25c7-4f59-91fc-6edacfe64a55",
   "metadata": {},
   "outputs": [
    {
     "data": {
      "image/png": "[encoded data removed]",
      "text/latex": [
       "$\\displaystyle \\left[\\begin{matrix}1 & 4\\\\2 & 5\\\\3 & 6\\end{matrix}\\right]$"
      ],
      "text/plain": [
       "⎡1  4⎤\n",
       "⎢    ⎥\n",
       "⎢2  5⎥\n",
       "⎢    ⎥\n",
       "⎣3  6⎦"
      ]
     },
     "execution_count": 10,
     "metadata": {},
     "output_type": "execute_result"
    }
   ],
   "source": [
    "# Criacao da matriz\n",
    "A = sp.Matrix([[1, 2, 3], [4, 5, 6]])\n",
    "A.shape\n",
    "A.T   # transposicao da matriz A no sympy"
   ]
  },
  {
   "cell_type": "code",
   "execution_count": 11,
   "id": "4120dae3-f7e5-49ee-b98a-a96ec45e2277",
   "metadata": {},
   "outputs": [
    {
     "data": {
      "image/png": "[encoded data removed]",
      "text/latex": [
       "$\\displaystyle \\left[\\begin{matrix}1\\\\2\\\\3\\end{matrix}\\right]$"
      ],
      "text/plain": [
       "⎡1⎤\n",
       "⎢ ⎥\n",
       "⎢2⎥\n",
       "⎢ ⎥\n",
       "⎣3⎦"
      ]
     },
     "execution_count": 11,
     "metadata": {},
     "output_type": "execute_result"
    }
   ],
   "source": [
    "B = sp.Matrix([[1, 2, 3]])\n",
    "B.T"
   ]
  },
  {
   "cell_type": "code",
   "execution_count": 12,
   "id": "a99a3fb4-5418-4470-bece-62a18e1d603f",
   "metadata": {},
   "outputs": [
    {
     "data": {
      "image/png": "[encoded data removed]",
      "text/latex": [
       "$\\displaystyle \\left[\\begin{matrix}1\\\\2\\\\3\\end{matrix}\\right]$"
      ],
      "text/plain": [
       "⎡1⎤\n",
       "⎢ ⎥\n",
       "⎢2⎥\n",
       "⎢ ⎥\n",
       "⎣3⎦"
      ]
     },
     "execution_count": 12,
     "metadata": {},
     "output_type": "execute_result"
    }
   ],
   "source": [
    "C = sp.Matrix([[1], [2], [3]])\n",
    "C"
   ]
  },
  {
   "cell_type": "markdown",
   "id": "da9332f0-7a71-4b05-91f3-4698f7140d82",
   "metadata": {},
   "source": [
    "* **Matrizes úteis**: Identidade, Zeros e 1s (Hums)"
   ]
  },
  {
   "cell_type": "code",
   "execution_count": 24,
   "id": "3e954780-4263-4d1b-8e82-d44519c8c6e0",
   "metadata": {},
   "outputs": [
    {
     "data": {
      "image/png": "[encoded data removed]",
      "text/latex": [
       "$\\displaystyle \\left[\\begin{matrix}1 & 0 & 0\\\\0 & \\frac{1}{2} & 0\\\\0 & 0 & \\frac{1}{3}\\end{matrix}\\right]$"
      ],
      "text/plain": [
       "⎡1   0    0 ⎤\n",
       "⎢           ⎥\n",
       "⎢0  1/2   0 ⎥\n",
       "⎢           ⎥\n",
       "⎣0   0   1/3⎦"
      ]
     },
     "execution_count": 24,
     "metadata": {},
     "output_type": "execute_result"
    }
   ],
   "source": [
    "I = sp.eye(3)        # matriz identidade\n",
    "Z = sp.zeros(2, 3)   # matriz de 0s\n",
    "U = sp.ones(3, 2)    # matriz de 1s\n",
    "\n",
    "# matriz diagonal\n",
    "D = sp.diag([7, 8, 9], unpack=True)\n",
    "E = sp.diag(*[1, 2, 3])\n",
    "\n",
    "# matriz inversa\n",
    "Inv = E ** (-1)\n",
    "Inv"
   ]
  },
  {
   "cell_type": "code",
   "execution_count": 25,
   "id": "78d482c5-e9d5-43f5-ba41-de0f7f1d9a2a",
   "metadata": {},
   "outputs": [
    {
     "data": {
      "image/png": "[encoded data removed]",
      "text/latex": [
       "$\\displaystyle 6$"
      ],
      "text/plain": [
       "6"
      ]
     },
     "execution_count": 25,
     "metadata": {},
     "output_type": "execute_result"
    }
   ],
   "source": [
    "# determinante\n",
    "E.det()"
   ]
  },
  {
   "cell_type": "code",
   "execution_count": 33,
   "id": "3b9b2fcd-5b3b-47fb-8b1f-bbdb34b8b25d",
   "metadata": {},
   "outputs": [
    {
     "name": "stdout",
     "output_type": "stream",
     "text": [
      "Como solucionar esse sistema linear?\n"
     ]
    },
    {
     "data": {
      "image/png": "[encoded data removed]",
      "text/latex": [
       "$\\displaystyle \\left[\\begin{matrix}x_{1} + 2 x_{2} + 3 x_{3} - 11\\\\4 x_{1} + 5 x_{2} + 6 x_{3} - 22\\\\7 x_{1} + 8 x_{2} + 9 x_{3} - 33\\end{matrix}\\right]$"
      ],
      "text/plain": [
       "⎡ x₁ + 2⋅x₂ + 3⋅x₃ - 11 ⎤\n",
       "⎢                       ⎥\n",
       "⎢4⋅x₁ + 5⋅x₂ + 6⋅x₃ - 22⎥\n",
       "⎢                       ⎥\n",
       "⎣7⋅x₁ + 8⋅x₂ + 9⋅x₃ - 33⎦"
      ]
     },
     "execution_count": 33,
     "metadata": {},
     "output_type": "execute_result"
    }
   ],
   "source": [
    "# Sistemas lineares\n",
    "x1, x2, x3 = sp.symbols([\"x1\", \"x2\", \"x3\"])\n",
    "X = sp.Matrix([x1, x2, x3])\n",
    "E = sp.Matrix([[1, 2, 3], [4, 5, 6], [7, 8, 9]])\n",
    "R = sp.Matrix([11, 22, 33])\n",
    "\n",
    "# Solucao do sistema linear: EX = R\n",
    "print(\"Como solucionar esse sistema linear?\")\n",
    "E * X - R"
   ]
  },
  {
   "cell_type": "markdown",
   "id": "f5b5a4b4-2ff0-483f-981d-f9b33af4a2de",
   "metadata": {},
   "source": [
    "- **FUNÇÕES DO CÁLCULO: DERIVADAS E INTEGRAIS**"
   ]
  },
  {
   "cell_type": "markdown",
   "id": "c2b2a312-10f6-4aa1-851f-50696d5c60b2",
   "metadata": {},
   "source": [
    "* **Derivadas:**\n",
    "  ```python\n",
    "  import sympy as sp\n",
    "  sp.diff(função, variável)\n",
    "  ```"
   ]
  },
  {
   "cell_type": "code",
   "execution_count": 11,
   "id": "a099f929-ea3f-4b58-93f2-be5b86a214f0",
   "metadata": {},
   "outputs": [
    {
     "data": {
      "image/png": "[encoded data removed]",
      "text/latex": [
       "$\\displaystyle 2 y$"
      ],
      "text/plain": [
       "2⋅y"
      ]
     },
     "execution_count": 11,
     "metadata": {},
     "output_type": "execute_result"
    }
   ],
   "source": [
    "import sympy as sp\n",
    "sp.init_printing()\n",
    "\n",
    "x, y = sp.symbols([\"x\", \"y\"])\n",
    "Fx = sp.sin(x)\n",
    "\n",
    "dFx_x = sp.diff(Fx, x)\n",
    "dFx_x\n",
    "d2Fx_x = sp.diff(Fx, x, x)\n",
    "d2Fx_x\n",
    "\n",
    "Fxy = x**2 + y**2 - 100\n",
    "dFxy_x = sp.diff(Fxy, x)\n",
    "dFxy_x\n",
    "dFxy_y = sp.diff(Fxy, y)\n",
    "dFxy_y"
   ]
  },
  {
   "cell_type": "markdown",
   "id": "f3b4165b-b79e-4d5c-8171-65fac7af845f",
   "metadata": {},
   "source": [
    "* **Integrais:**\n",
    "  ```python\n",
    "  import sympy as sp\n",
    "  sp.integrate(função, variável)\n",
    "  sp.integrate(função, (variável, início, fim))\n",
    "  ```"
   ]
  },
  {
   "cell_type": "code",
   "execution_count": 27,
   "id": "6e25846a-c4b0-493e-b022-6653142ed92a",
   "metadata": {},
   "outputs": [
    {
     "data": {
      "image/png": "[encoded data removed]",
      "text/latex": [
       "$\\displaystyle 1$"
      ],
      "text/plain": [
       "1"
      ]
     },
     "execution_count": 27,
     "metadata": {},
     "output_type": "execute_result"
    }
   ],
   "source": [
    "import sympy as sp\n",
    "sp.init_printing()\n",
    "x, y, c = sp.symbols([\"x\", \"y\", \"C\"])\n",
    "\n",
    "Fx = sp.sin(x)**2\n",
    "iFx_x = sp.integrate(Fx, x)\n",
    "iFx_x += c\n",
    "iFx_x\n",
    "\n",
    "Fx = sp.exp(-x)\n",
    "Fx\n",
    "iFx_x = sp.integrate(Fx, (x, 0, sp.oo))\n",
    "iFx_x"
   ]
  },
  {
   "cell_type": "markdown",
   "id": "dea8549a-7f6f-489c-9e98-4e5f6bd2e5d4",
   "metadata": {},
   "source": [
    "- **SOLVERS: ÁLGEBRA, SISTEMAS LINEARES E NÃO-LINEARES, EDO**\n",
    "  ```python\n",
    "  import sympy as sp\n",
    "  solveset(eq, args) ou solve\n",
    "  dsolve(eq, args), Function('fx') e Derivative(fx, args)\n",
    "  ```"
   ]
  },
  {
   "cell_type": "code",
   "execution_count": 59,
   "id": "e72c1681-82ce-445c-a510-68d4c278109d",
   "metadata": {},
   "outputs": [
    {
     "data": {
      "image/png": "[encoded data removed]",
      "text/latex": [
       "$\\displaystyle 0$"
      ],
      "text/plain": [
       "0"
      ]
     },
     "execution_count": 59,
     "metadata": {},
     "output_type": "execute_result"
    }
   ],
   "source": [
    "import sympy as sp\n",
    "sp.init_printing()\n",
    "x = sp.symbols(\"x\")\n",
    "\n",
    "# Calculo de raizes\n",
    "Fx = x**3 + 5.*x**2 + x\n",
    "sp.solve(Fx, x)\n",
    "sp.solveset(Fx, x)\n",
    "# Verificacao da solucao utilizando o metodo .subs()\n",
    "Fx.subs(x, -4.79128784747792)\n",
    "Fx.subs(x, -0.20871215252208)\n",
    "Fx.subs(x, 0)"
   ]
  },
  {
   "cell_type": "code",
   "execution_count": 50,
   "id": "61c17f33-bcce-46bb-9038-02912c0ca91b",
   "metadata": {},
   "outputs": [
    {
     "data": {
      "image/png": "[encoded data removed]",
      "text/latex": [
       "$\\displaystyle \\left\\{ x_{1} : -3, \\  x_{2} : 5, \\  x_{3} : 0\\right\\}$"
      ],
      "text/plain": [
       "{x₁: -3, x₂: 5, x₃: 0}"
      ]
     },
     "execution_count": 50,
     "metadata": {},
     "output_type": "execute_result"
    }
   ],
   "source": [
    "# Resolucao de sistemas lineares\n",
    "A = sp.Matrix([[3, 2, 4], [1, 1, 2], [4, 3, -2]])\n",
    "x1, x2, x3 = sp.symbols([\"x1\", \"x2\", \"x3\"])\n",
    "x = sp.Matrix([[x1, x2, x3]]).T\n",
    "y = sp.Matrix([[1, 2, 3]]).T\n",
    "\n",
    "# Ax = y\n",
    "# Ax - y = 0\n",
    "sistema = A*x - y\n",
    "resposta = sp.solve(sistema, (x1, x2, x3))\n",
    "resposta"
   ]
  },
  {
   "cell_type": "code",
   "execution_count": 51,
   "id": "373ad78f-e35e-428e-9abe-b57046cffb27",
   "metadata": {},
   "outputs": [
    {
     "data": {
      "image/png": "[encoded data removed]",
      "text/latex": [
       "$\\displaystyle \\left[ \\left( 0, \\  3\\right), \\  \\left( 3, \\  0\\right)\\right]$"
      ],
      "text/plain": [
       "[(0, 3), (3, 0)]"
      ]
     },
     "execution_count": 51,
     "metadata": {},
     "output_type": "execute_result"
    }
   ],
   "source": [
    "# Resolucao de sistemas nao-lineares\n",
    "A = sp.Matrix([[x1 + x2 - 3 ], [x1**2 + x2**2 -9 ]])\n",
    "resposta = sp.solve(A, (x1, x2))\n",
    "resposta"
   ]
  },
  {
   "cell_type": "markdown",
   "id": "2a68ced0-6977-41f9-bd24-9edc64af45b5",
   "metadata": {},
   "source": [
    "**Exercício 1:** Solução"
   ]
  },
  {
   "cell_type": "code",
   "execution_count": 79,
   "id": "679ca719-4594-4c57-a422-4f1a19d662c7",
   "metadata": {},
   "outputs": [
    {
     "data": {
      "image/png": "[encoded data removed]",
      "text/latex": [
       "$\\displaystyle \\left[\\begin{matrix}2 & 4\\\\2 & 4\\end{matrix}\\right]$"
      ],
      "text/plain": [
       "⎡2  4⎤\n",
       "⎢    ⎥\n",
       "⎣2  4⎦"
      ]
     },
     "execution_count": 79,
     "metadata": {},
     "output_type": "execute_result"
    }
   ],
   "source": [
    "import sympy as sp\n",
    "sp.init_printing()\n",
    "\n",
    "A = sp.Matrix([[1, 2], [4, 5]])\n",
    "A.det()\n",
    "A.T\n",
    "A**(-1)\n",
    "A * A**(-1)\n",
    "\n",
    "B = sp.Matrix([[sp.cos(sp.pi / 4), -sp.sin(sp.pi / 4)], [sp.sin(sp.pi / 4), sp.cos(sp.pi / 4)]])\n",
    "B\n",
    "B.det()\n",
    "B.T\n",
    "B**(-1)\n",
    "B * B**(-1)\n",
    "\n",
    "C = sp.Matrix([[2, -2], [-2, 5]])\n",
    "C\n",
    "C.det()\n",
    "C.T\n",
    "C**(-1)\n",
    "C * C**(-1)\n",
    "\n",
    "D = sp.Matrix([[2, 2], [4, 4]])\n",
    "D\n",
    "D.det()\n",
    "D.T"
   ]
  },
  {
   "cell_type": "markdown",
   "id": "2a04dedb-4a64-4b06-9aa8-a5e6b305dd6f",
   "metadata": {},
   "source": [
    "**Exercício 2:** Dadas as funções, calcule sua derivada de primeira ordem e sua primitiva (integral sem limites de integração). Nota: o sympy não acrescenta constantes para integrais indefinidas, elas devem ser acrescentadas manualmente.\n",
    "\n",
    "$$A(x) = e^x$$\n",
    "\n",
    "$$B(x) = x^3$$\n",
    "\n",
    "$$C(x) = 1/x$$"
   ]
  },
  {
   "cell_type": "code",
   "execution_count": 101,
   "id": "794d3a56-91a0-4250-94c7-7df51878119e",
   "metadata": {},
   "outputs": [
    {
     "data": {
      "image/png": "[encoded data removed]",
      "text/latex": [
       "$\\displaystyle C + \\log{\\left(x \\right)}$"
      ],
      "text/plain": [
       "C + log(x)"
      ]
     },
     "execution_count": 101,
     "metadata": {},
     "output_type": "execute_result"
    }
   ],
   "source": [
    "import sympy as sp\n",
    "sp.init_printing()\n",
    "x, c = sp.symbols([\"x\", \"C\"])\n",
    "\n",
    "Ax = sp.exp(x)\n",
    "Ax\n",
    "dAx_x = sp.diff(Ax, x)\n",
    "dAx_x\n",
    "iAx_x = sp.integrate(Ax, x)\n",
    "iAx_x\n",
    "iAx_x += c\n",
    "iAx_x\n",
    "\n",
    "Bx = x**3\n",
    "Bx\n",
    "dBx_x = sp.diff(Bx, x)\n",
    "dBx_x\n",
    "iBx_x = sp.integrate(Bx, x)\n",
    "iBx_x\n",
    "iBx_x += c\n",
    "iBx_x\n",
    "\n",
    "Cx = 1/x\n",
    "Cx\n",
    "dCx_x = sp.diff(Cx, x)\n",
    "dCx_x\n",
    "iCx_x = sp.integrate(Cx, x)\n",
    "iCx_x\n",
    "iCx_x += c\n",
    "iCx_x"
   ]
  },
  {
   "cell_type": "markdown",
   "id": "49f85639-899c-4acd-a49b-342fb0d000eb",
   "metadata": {},
   "source": [
    "**Exercício 3:** Ache as raízes das equações:\n",
    "\n",
    "$$A(x) = x^3 + 5x^2$$\n",
    "\n",
    "$$B(x) = x^2 + 9$$\n",
    "\n",
    "$$C(x) = sin(x)$$\n",
    "\n",
    "$$D(x) = x^2 + cos(x)$$"
   ]
  },
  {
   "cell_type": "code",
   "execution_count": 123,
   "id": "8f9445f0-4e64-44d4-8fdd-04f78331934b",
   "metadata": {},
   "outputs": [
    {
     "data": {
      "image/png": "[encoded data removed]",
      "text/latex": [
       "$\\displaystyle \\left\\{x\\; \\middle|\\; x \\in \\mathbb{C} \\wedge x^{2} + \\cos{\\left(x \\right)} = 0 \\right\\}$"
      ],
      "text/plain": [
       "⎧  │         ⎛ 2             ⎞⎫\n",
       "⎨x │ x ∊ ℂ ∧ ⎝x  + cos(x) = 0⎠⎬\n",
       "⎩  │                          ⎭"
      ]
     },
     "execution_count": 123,
     "metadata": {},
     "output_type": "execute_result"
    }
   ],
   "source": [
    "import sympy as sp\n",
    "sp.init_printing()\n",
    "x = sp.symbols(\"x\")\n",
    "\n",
    "Ax = x**3 + 5.*x**2\n",
    "Ax\n",
    "sp.solve(Ax, x)\n",
    "Ax.subs(x, -5.0)\n",
    "Ax.subs(x, 0)\n",
    "\n",
    "Bx = x**2 + 9\n",
    "Bx\n",
    "sp.solve(Bx, x)\n",
    "Bx.subs(x, -3j)\n",
    "Bx.subs(x, 3j)\n",
    "\n",
    "Cx = sp.sin(x)\n",
    "Cx\n",
    "sp.solve(Cx, x)\n",
    "Cx.subs(x, 0)\n",
    "Cx.subs(x, sp.pi)\n",
    "\n",
    "Dx = x**2 + sp.cos(x)\n",
    "Dx\n",
    "sp.solveset(Dx, x)"
   ]
  },
  {
   "cell_type": "code",
   "execution_count": 139,
   "id": "2370c85a-2631-461f-aedd-ab3a0f80c1fe",
   "metadata": {},
   "outputs": [
    {
     "data": {
      "image/png": "[encoded data removed]",
      "text/plain": [
       "<Figure size 640x480 with 1 Axes>"
      ]
     },
     "metadata": {},
     "output_type": "display_data"
    }
   ],
   "source": [
    "import numpy as np\n",
    "import matplotlib.pyplot as plt\n",
    "%matplotlib inline\n",
    "\n",
    "x = list(np.linspace(-np.pi, np.pi, 500))\n",
    "y = [i**2 + np.cos(i) for i in x]\n",
    "\n",
    "plt.plot(x, y)\n",
    "plt.xlabel(\"Eixo-x\")\n",
    "plt.ylabel(\"Eixo-y\")\n",
    "plt.grid(True)\n",
    "plt.show()"
   ]
  },
  {
   "cell_type": "markdown",
   "id": "39b00dd2-720d-4849-87ab-857672aa22e2",
   "metadata": {},
   "source": [
    "**Exercício 4:** Solução"
   ]
  },
  {
   "cell_type": "code",
   "execution_count": 148,
   "id": "705571cf-ef41-455e-96e2-1f735a4801bb",
   "metadata": {},
   "outputs": [
    {
     "data": {
      "image/png": "[encoded data removed]",
      "text/latex": [
       "$\\displaystyle \\left[\\begin{matrix}x_{1} + x_{2} + x_{3} - 6\\\\x_{1} + 2 x_{2} + 2 x_{3} - 9\\\\2 x_{1} + x_{2} + 3 x_{3} - 11\\end{matrix}\\right]$"
      ],
      "text/plain": [
       "⎡  x₁ + x₂ + x₃ - 6   ⎤\n",
       "⎢                     ⎥\n",
       "⎢x₁ + 2⋅x₂ + 2⋅x₃ - 9 ⎥\n",
       "⎢                     ⎥\n",
       "⎣2⋅x₁ + x₂ + 3⋅x₃ - 11⎦"
      ]
     },
     "execution_count": 148,
     "metadata": {},
     "output_type": "execute_result"
    }
   ],
   "source": [
    "import sympy as sp\n",
    "sp.init_printing()\n",
    "[x1, x2, x3] = sp.symbols([\"x1\", \"x2\", \"x3\"])\n",
    "\n",
    "A = sp.Matrix([[1, 1, 1], [1, 2, 2], [2, 1, 3]])\n",
    "x = sp.Matrix([x1, x2, x3])\n",
    "B = sp.Matrix([6, 9, 11])\n",
    "sistema = A*x - B\n",
    "resposta = sp.solve(sistema, (x1, x2, x3))"
   ]
  },
  {
   "cell_type": "code",
   "execution_count": null,
   "id": "7b7c7745-d35e-4df7-a034-498994d1e678",
   "metadata": {},
   "outputs": [],
   "source": []
  }
 ],
 "metadata": {
  "kernelspec": {
   "display_name": "Python 3 (ipykernel)",
   "language": "python",
   "name": "python3"
  },
  "language_info": {
   "codemirror_mode": {
    "name": "ipython",
    "version": 3
   },
   "file_extension": ".py",
   "mimetype": "text/x-python",
   "name": "python",
   "nbconvert_exporter": "python",
   "pygments_lexer": "ipython3",
   "version": "3.11.8"
  }
 },
 "nbformat": 4,
 "nbformat_minor": 5
}
