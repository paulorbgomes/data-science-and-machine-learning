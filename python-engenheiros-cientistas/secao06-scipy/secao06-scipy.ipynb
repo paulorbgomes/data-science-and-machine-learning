{
 "cells": [
  {
   "cell_type": "markdown",
   "id": "97105e33-397c-4201-a61e-63873ff04110",
   "metadata": {},
   "source": [
    "# BIBLIOTECA SCIPY\n",
    "\n",
    "* A construção do *scipy* é baseada no *numpy*;\n",
    "* Biblioteca \"mais moderna\" que a *numpy*;\n",
    "* Biblioteca útil para problemas que necessitam de **soluções numéricas**;"
   ]
  },
  {
   "cell_type": "markdown",
   "id": "1e2eddb2-6122-487b-b434-fe07db6fe7a2",
   "metadata": {},
   "source": [
    "- **FUNÇÕES PARA ÁLGEBRA LINEAR:**\n",
    "\n",
    "  * **Referência:** *https://docs.scipy.org/doc/scipy/reference/*\n",
    "  * ```python\n",
    "    from scipy import linalg\n",
    "    ```\n",
    "  * **Funcionalidades:**\n",
    "    * linalg.inv(arg): retorna a inversa de uma matriz;\n",
    "    * linalg.det(arg): retorna o determinante de uma matriz;\n",
    "    * linalg.norm(arg): retorna a norma de um vetor;\n",
    "    * linalg.solve(arg): resolve um sistema linear;\n",
    "    * linalg.eig(arg): retorna os autovalores e autovetores."
   ]
  },
  {
   "cell_type": "code",
   "execution_count": 12,
   "id": "9e03be5d-a472-475e-ab25-688a754a7d84",
   "metadata": {},
   "outputs": [
    {
     "data": {
      "text/plain": [
       "True"
      ]
     },
     "execution_count": 12,
     "metadata": {},
     "output_type": "execute_result"
    }
   ],
   "source": [
    "from scipy import linalg\n",
    "import numpy as np\n",
    "\n",
    "A = np.array([[1,0,0],[0,5,0],[0,0,9]])\n",
    "a = np.array([1,2,3])\n",
    "\n",
    "linalg.inv(A)\n",
    "linalg.det(A)\n",
    "linalg.norm(A)\n",
    "linalg.norm(a) == np.sqrt(np.sum(a**2))"
   ]
  },
  {
   "cell_type": "markdown",
   "id": "7f9354d0-4670-4221-8af1-b516e4d3e5d8",
   "metadata": {},
   "source": [
    "**Exercício 1:** Solução"
   ]
  },
  {
   "cell_type": "code",
   "execution_count": 35,
   "id": "d836859f-cae6-4273-a41e-aef6409f1297",
   "metadata": {},
   "outputs": [
    {
     "data": {
      "text/plain": [
       "array([[1.00000000e+00, 0.00000000e+00],\n",
       "       [2.22044605e-16, 1.00000000e+00]])"
      ]
     },
     "execution_count": 35,
     "metadata": {},
     "output_type": "execute_result"
    }
   ],
   "source": [
    "A = np.array([[1,2],\n",
    "              [4,5]])\n",
    "linalg.det(A)\n",
    "A.T\n",
    "linalg.inv(A)\n",
    "A@linalg.inv(A)"
   ]
  },
  {
   "cell_type": "code",
   "execution_count": 36,
   "id": "5197943f-1e22-45c0-8410-d803b1bc4710",
   "metadata": {},
   "outputs": [
    {
     "data": {
      "text/plain": [
       "array([[1.00000000e+00, 1.01465364e-17],\n",
       "       [1.01465364e-17, 1.00000000e+00]])"
      ]
     },
     "execution_count": 36,
     "metadata": {},
     "output_type": "execute_result"
    }
   ],
   "source": [
    "B = np.array([[np.cos(np.pi/4),-np.sin(np.pi/4)], \n",
    "              [np.sin(np.pi/4),np.cos(np.pi/4)]])\n",
    "linalg.det(B)\n",
    "B.T\n",
    "linalg.inv(B)\n",
    "B@linalg.inv(B)"
   ]
  },
  {
   "cell_type": "code",
   "execution_count": 37,
   "id": "d2644d4e-9442-463f-ac5a-1f4958b803ac",
   "metadata": {},
   "outputs": [
    {
     "data": {
      "text/plain": [
       "array([[1.00000000e+00, 0.00000000e+00],\n",
       "       [5.55111512e-17, 1.00000000e+00]])"
      ]
     },
     "execution_count": 37,
     "metadata": {},
     "output_type": "execute_result"
    }
   ],
   "source": [
    "C = np.array([[2,-2], \n",
    "              [-2,5]])\n",
    "linalg.det(C)\n",
    "C.T\n",
    "linalg.inv(C)\n",
    "C@linalg.inv(C)"
   ]
  },
  {
   "cell_type": "code",
   "execution_count": 38,
   "id": "bbbf10ee-e988-4ff1-8001-2b43623d2c12",
   "metadata": {},
   "outputs": [
    {
     "data": {
      "text/plain": [
       "array([[2, 4],\n",
       "       [2, 4]])"
      ]
     },
     "execution_count": 38,
     "metadata": {},
     "output_type": "execute_result"
    }
   ],
   "source": [
    "D = np.array([[2,2], \n",
    "              [4,4]])\n",
    "linalg.det(D)\n",
    "D.T\n",
    "#linalg.inv(D)\n",
    "#D@linalg.inv(D)"
   ]
  },
  {
   "cell_type": "markdown",
   "id": "c389942b-c44f-42a1-a7d9-55a2d2c0bec7",
   "metadata": {},
   "source": [
    "**Exercício 2:** Solução"
   ]
  },
  {
   "cell_type": "code",
   "execution_count": 43,
   "id": "f2e34dce-959a-4259-bd21-efb50c60eae0",
   "metadata": {},
   "outputs": [
    {
     "data": {
      "text/plain": [
       "array([ 6.,  9., 11.])"
      ]
     },
     "execution_count": 43,
     "metadata": {},
     "output_type": "execute_result"
    }
   ],
   "source": [
    "A = np.array([[1,1,1],\n",
    "              [1,2,2],\n",
    "              [2,1,3]])\n",
    "\n",
    "B = np.array([6,9,11])\n",
    "\n",
    "solucao = linalg.solve(A,B)\n",
    "solucao\n",
    "A@solucao"
   ]
  },
  {
   "cell_type": "markdown",
   "id": "46b63a74-fdc0-4902-80bb-397d65f4400f",
   "metadata": {},
   "source": [
    "**Exercício 3:** Solução"
   ]
  },
  {
   "cell_type": "code",
   "execution_count": 56,
   "id": "c33a0efe-ffab-47b1-a717-e8c2594532d0",
   "metadata": {},
   "outputs": [
    {
     "data": {
      "text/plain": [
       "array([0.+0.j, 0.+0.j])"
      ]
     },
     "execution_count": 56,
     "metadata": {},
     "output_type": "execute_result"
    }
   ],
   "source": [
    "A = np.array([[-1,6],\n",
    "              [0,5]])\n",
    "eigenvalues, eigenvectors = linalg.eig(A)\n",
    "eigenvalues\n",
    "eigenvector1 = eigenvectors[:,0]\n",
    "eigenvector2 = eigenvectors[:,1]\n",
    "eigenvector2\n",
    "\n",
    "A@eigenvector1 - eigenvalues[0]*eigenvector1\n",
    "A@eigenvector2 - eigenvalues[1]*eigenvector2"
   ]
  },
  {
   "cell_type": "code",
   "execution_count": null,
   "id": "9a1584c7-c704-48ce-8af4-32ca86bd2062",
   "metadata": {},
   "outputs": [],
   "source": []
  }
 ],
 "metadata": {
  "kernelspec": {
   "display_name": "Python 3 (ipykernel)",
   "language": "python",
   "name": "python3"
  },
  "language_info": {
   "codemirror_mode": {
    "name": "ipython",
    "version": 3
   },
   "file_extension": ".py",
   "mimetype": "text/x-python",
   "name": "python",
   "nbconvert_exporter": "python",
   "pygments_lexer": "ipython3",
   "version": "3.11.8"
  }
 },
 "nbformat": 4,
 "nbformat_minor": 5
}
