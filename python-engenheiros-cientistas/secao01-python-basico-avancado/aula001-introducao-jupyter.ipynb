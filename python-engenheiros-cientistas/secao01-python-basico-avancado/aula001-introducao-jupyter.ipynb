{
 "cells": [
  {
   "cell_type": "markdown",
   "id": "78527efe-8a8e-4869-9155-56ac42af36a4",
   "metadata": {},
   "source": [
    "Exemplos de markdown:\n",
    "1. Títulos e Subtítulos:\n",
    "# Título 1\n",
    "## Título 2\n",
    "### Título 3\n",
    "\n",
    "2. Tabelas:\n",
    "| cabeçalho 1 | cabeçalho 2|\n",
    "| :- | :- |\n",
    "| valor 1 | valor 2 |\n",
    "\n",
    "3. Fórmulas matemáticas com LaTex:\n",
    "$$ x_n = x_1 + x_2 $$\n",
    "\n",
    "Exemplo de código (e execução) em Python:"
   ]
  },
  {
   "cell_type": "code",
   "execution_count": 2,
   "id": "aece4caf-87a5-445b-8db6-c484d24513cf",
   "metadata": {},
   "outputs": [
    {
     "name": "stdout",
     "output_type": "stream",
     "text": [
      "Olá, mundo!\n",
      "25\n"
     ]
    }
   ],
   "source": [
    "print(\"Olá, mundo!\")\n",
    "print(5 ** 2)"
   ]
  }
 ],
 "metadata": {
  "kernelspec": {
   "display_name": "Python 3 (ipykernel)",
   "language": "python",
   "name": "python3"
  },
  "language_info": {
   "codemirror_mode": {
    "name": "ipython",
    "version": 3
   },
   "file_extension": ".py",
   "mimetype": "text/x-python",
   "name": "python",
   "nbconvert_exporter": "python",
   "pygments_lexer": "ipython3",
   "version": "3.11.8"
  }
 },
 "nbformat": 4,
 "nbformat_minor": 5
}
