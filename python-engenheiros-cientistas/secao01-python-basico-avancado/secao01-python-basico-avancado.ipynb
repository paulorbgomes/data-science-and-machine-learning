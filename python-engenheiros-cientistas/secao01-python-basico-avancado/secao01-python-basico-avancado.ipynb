{
 "cells": [
  {
   "cell_type": "markdown",
   "id": "d6b7b53b-fed6-43c5-8e6a-3fc39495d0c4",
   "metadata": {},
   "source": [
    "# INICIANDO COM PYTHON\n",
    "- **TIPOS DE VARIÁVEIS:** int, float, complex, str;\n",
    "- **PRIMEIRAS FUNÇÕES:** print(), input(), int(), float(), str(), type();"
   ]
  },
  {
   "cell_type": "code",
   "execution_count": 2,
   "id": "889211bc-0bfb-4273-ad9f-57533b84689f",
   "metadata": {},
   "outputs": [
    {
     "name": "stdout",
     "output_type": "stream",
     "text": [
      "Olá, mundo!\n",
      "Olá, mundo!\n"
     ]
    }
   ],
   "source": [
    "variavel_a = \"Olá, mundo!\"\n",
    "print(variavel_a)\n",
    "print(\"Olá, mundo!\")"
   ]
  },
  {
   "cell_type": "code",
   "execution_count": 5,
   "id": "3df53634-8177-4617-8676-d588844d3ccf",
   "metadata": {},
   "outputs": [
    {
     "name": "stdin",
     "output_type": "stream",
     "text": [
      "Digite um número:  250\n"
     ]
    },
    {
     "name": "stdout",
     "output_type": "stream",
     "text": [
      "Você digitou o valor 250!\n"
     ]
    }
   ],
   "source": [
    "variavel_b = int(input(\"Digite um número: \"))\n",
    "print(f\"Você digitou o valor {variavel_b}!\")"
   ]
  },
  {
   "cell_type": "code",
   "execution_count": 6,
   "id": "170b95c3-8f35-489c-8acc-5c0fbd60ba81",
   "metadata": {},
   "outputs": [
    {
     "name": "stdout",
     "output_type": "stream",
     "text": [
      "Tipo da variável: <class 'int'>\n"
     ]
    }
   ],
   "source": [
    "tipo = type(variavel_b)\n",
    "print(f\"Tipo da variável: {tipo}\")"
   ]
  },
  {
   "cell_type": "markdown",
   "id": "f2a08000-b874-4077-be29-1c961311a970",
   "metadata": {},
   "source": [
    "- **OPERAÇÕES ARITMÉTICAS:**"
   ]
  },
  {
   "cell_type": "code",
   "execution_count": 8,
   "id": "2742e250-1f05-4a7b-a760-71cf15efb360",
   "metadata": {},
   "outputs": [
    {
     "name": "stdout",
     "output_type": "stream",
     "text": [
      "Valor: 10.0, Tipo: <class 'float'>\n"
     ]
    }
   ],
   "source": [
    "a = 5\n",
    "b = 5.\n",
    "c = a + b\n",
    "print(f\"Valor: {c}, Tipo: {type(c)}\")"
   ]
  },
  {
   "cell_type": "code",
   "execution_count": 11,
   "id": "6a97b10f-10de-4e91-9009-03a1ae00db5f",
   "metadata": {},
   "outputs": [
    {
     "name": "stdout",
     "output_type": "stream",
     "text": [
      "Valor: 15, Tipo: <class 'int'>\n"
     ]
    }
   ],
   "source": [
    "d = 10\n",
    "d += 5\n",
    "print(f\"Valor: {d}, Tipo: {type(d)}\")"
   ]
  },
  {
   "cell_type": "code",
   "execution_count": 12,
   "id": "485e2712-ec04-4e00-bc8a-8e733a40318a",
   "metadata": {},
   "outputs": [
    {
     "name": "stdout",
     "output_type": "stream",
     "text": [
      "Valor: 100, Tipo: <class 'int'>\n"
     ]
    }
   ],
   "source": [
    "e = 10 ** 2\n",
    "print(f\"Valor: {e}, Tipo: {type(e)}\")"
   ]
  },
  {
   "cell_type": "markdown",
   "id": "3ab43804-f60e-45ef-b31f-9235cdbdc568",
   "metadata": {},
   "source": [
    "- **NÚMEROS COMPLEXOS:**"
   ]
  },
  {
   "cell_type": "code",
   "execution_count": 14,
   "id": "5a625452-5d2d-49ef-a163-8ee390775cc6",
   "metadata": {},
   "outputs": [
    {
     "name": "stdout",
     "output_type": "stream",
     "text": [
      "Valor: (5+5j), Tipo: <class 'complex'>\n"
     ]
    }
   ],
   "source": [
    "n1 = 5 + 5j\n",
    "print(f\"Valor: {n1}, Tipo: {type(n1)}\")"
   ]
  },
  {
   "cell_type": "code",
   "execution_count": 15,
   "id": "e8779468-8ded-404d-a503-99c506e259a9",
   "metadata": {},
   "outputs": [
    {
     "name": "stdout",
     "output_type": "stream",
     "text": [
      "Soma: (11+7j)\n",
      "Subtração: (-1+3j)\n",
      "Multiplicação: (20+40j)\n",
      "Divisão: (0.9999999999999999+0.5j)\n"
     ]
    }
   ],
   "source": [
    "n2 = 6 + 2j\n",
    "print(f\"Soma: {n1 + n2}\")\n",
    "print(f\"Subtração: {n1 - n2}\")\n",
    "print(f\"Multiplicação: {n1 * n2}\")\n",
    "print(f\"Divisão: {n1 / n2}\")"
   ]
  },
  {
   "cell_type": "markdown",
   "id": "f4988885-7a83-4167-b7e9-bd23b606e368",
   "metadata": {},
   "source": [
    "- **TYPECAST:**"
   ]
  },
  {
   "cell_type": "code",
   "execution_count": 17,
   "id": "fe12439c-d55d-43ce-9f66-7665634f312a",
   "metadata": {},
   "outputs": [
    {
     "name": "stdout",
     "output_type": "stream",
     "text": [
      "Valor: 123, Tipo: <class 'str'>\n",
      "Valor: 123, Tipo: <class 'int'>\n"
     ]
    }
   ],
   "source": [
    "string_numero = \"123\"\n",
    "print(f\"Valor: {string_numero}, Tipo: {type(string_numero)}\")\n",
    "print(f\"Valor: {int(string_numero)}, Tipo: {type(int(string_numero))}\")"
   ]
  },
  {
   "cell_type": "markdown",
   "id": "83132b65-dc02-40f6-ac5c-221567fc3a46",
   "metadata": {},
   "source": [
    "- **STRINGS:**"
   ]
  },
  {
   "cell_type": "code",
   "execution_count": 3,
   "id": "e0421fce-5593-4367-82fb-ec5941fe202f",
   "metadata": {},
   "outputs": [
    {
     "name": "stdout",
     "output_type": "stream",
     "text": [
      "Valor: Olá, Mundo!, Tipo: <class 'str'>\n",
      "Valor: Olá, Mundo!, Tipo: <class 'str'>\n"
     ]
    }
   ],
   "source": [
    "a = \"Olá, Mundo!\"\n",
    "print(f\"Valor: {a}, Tipo: {type(a)}\")\n",
    "b = 'Olá, Mundo!'\n",
    "print(f\"Valor: {b}, Tipo: {type(b)}\")"
   ]
  },
  {
   "cell_type": "code",
   "execution_count": 5,
   "id": "236c608c-d2aa-4b85-bace-9fc2966716d7",
   "metadata": {},
   "outputs": [
    {
     "name": "stdout",
     "output_type": "stream",
     "text": [
      "Olá, Mundo!Olá, Mundo!\n",
      "Olá, Mundo!Olá, Mundo!Olá, Mundo!Olá, Mundo!Olá, Mundo!\n"
     ]
    }
   ],
   "source": [
    "print(a + b)\n",
    "print(5 * a)"
   ]
  },
  {
   "cell_type": "markdown",
   "id": "d11dfd95-fdc6-45f5-98fb-b6117485ea0e",
   "metadata": {},
   "source": [
    "- **MÉTODOS PARA STRINGS:**"
   ]
  },
  {
   "cell_type": "code",
   "execution_count": 50,
   "id": "c9ab75b2-5973-4913-b58b-04226a674117",
   "metadata": {},
   "outputs": [
    {
     "name": "stdout",
     "output_type": "stream",
     "text": [
      "pYthOn\n",
      "python\n",
      "PYTHON\n",
      "0 a\n",
      "36 a\n",
      "Paulo Ricardo Barboza Gomes\n",
      "Paulo R. B. Gomes\n",
      "['Paulo', ' Ricardo', ' Barboza', ' Gomes']\n"
     ]
    }
   ],
   "source": [
    "string_1 = \"pYthOn\"\n",
    "print(string_1)\n",
    "print(string_1.lower())\n",
    "print(string_1.upper())\n",
    "\n",
    "string_2 = \"asdfasdfasdfasdfasdfasdfasdfasdfasdfasdf\"\n",
    "print(string_2.find(\"a\"), string_2[0])\n",
    "print(string_2.rfind(\"a\"), string_2[36])\n",
    "\n",
    "string_3 = \"Paulo Ricardo Barboza Gomes\"\n",
    "print(string_3)\n",
    "string_4 = string_3.replace(\"Ricardo\", \"R.\")\n",
    "string_5 = string_4.replace(\"Barboza\", \"B.\")\n",
    "print(string_5)\n",
    "\n",
    "string_6 = \"Paulo, Ricardo, Barboza, Gomes\"\n",
    "string_7 = string_6.split(\",\")\n",
    "print(string_7)"
   ]
  },
  {
   "cell_type": "markdown",
   "id": "c7916a56-f5f0-46c7-83d6-cd8d6c08d1e4",
   "metadata": {},
   "source": [
    "- **LISTAS:**"
   ]
  },
  {
   "cell_type": "code",
   "execution_count": 11,
   "id": "5fbf7796-d799-4968-9bb0-38d3b5404c9b",
   "metadata": {},
   "outputs": [
    {
     "name": "stdout",
     "output_type": "stream",
     "text": [
      "Lista: [1, 2, 3, 4], Tipo: <class 'list'>\n",
      "Indexação em listas:\n",
      "1 2 3 4 5\n",
      "Função len(): tamanho da lista, 5\n"
     ]
    }
   ],
   "source": [
    "lista_a = [1, 2, 3, 4]\n",
    "print(f\"Lista: {lista_a}, Tipo: {type(lista_a)}\")\n",
    "lista_b = [1, 2, 3, 4, 5]\n",
    "print(\"Indexação em listas:\")\n",
    "print(lista_b[0], lista_b[1], lista_b[2], lista_b[3], lista_b[4])\n",
    "print(f\"Função len(): tamanho da lista, {len(lista_b)}\")"
   ]
  },
  {
   "cell_type": "markdown",
   "id": "3f64ba27-92ea-4bcd-941a-74539453aa98",
   "metadata": {},
   "source": [
    "- **SIMILARIDADE ENTRE LISTAS E STRINGS:**"
   ]
  },
  {
   "cell_type": "code",
   "execution_count": 13,
   "id": "558ec4db-961b-4fc9-bc9f-902df87dbc6f",
   "metadata": {},
   "outputs": [
    {
     "name": "stdout",
     "output_type": "stream",
     "text": [
      "P Y T H O N  ->  6\n",
      "P Y T H O N  ->  6\n",
      "Slicing: ['P', 'Y', 'T', 'H', 'O', 'N'], PYTHON (operação aplicável em listas e strings!)\n"
     ]
    }
   ],
   "source": [
    "lista_1 = [\"P\", \"Y\", \"T\", \"H\", \"O\", \"N\"]\n",
    "string_1 = \"PYTHON\"\n",
    "print(lista_1[0], lista_1[1], lista_1[2], lista_1[3], lista_1[4], lista_1[5], \" -> \", len(lista_1))\n",
    "print(string_1[0], string_1[1], string_1[2], string_1[3], string_1[4], string_1[5], \" -> \", len(string_1))\n",
    "print(f\"Slicing: {lista_1[0:6]}, {string_1[0:6]} (operação aplicável em listas e strings!)\")"
   ]
  },
  {
   "cell_type": "markdown",
   "id": "74f451f9-9e20-4123-9ee3-bc6b40c88745",
   "metadata": {},
   "source": [
    "- **VALORES BOOLEANOS:** *True* e *False*"
   ]
  },
  {
   "cell_type": "code",
   "execution_count": 14,
   "id": "4cbb6808-bc5a-40cf-b3de-29bd92100172",
   "metadata": {},
   "outputs": [
    {
     "name": "stdout",
     "output_type": "stream",
     "text": [
      "Valor: True, Tipo: <class 'bool'>\n",
      "Valor: False, Tipo: <class 'bool'>\n"
     ]
    }
   ],
   "source": [
    "a = True\n",
    "b = False\n",
    "print(f\"Valor: {a}, Tipo: {type(a)}\")\n",
    "print(f\"Valor: {b}, Tipo: {type(b)}\")"
   ]
  },
  {
   "cell_type": "markdown",
   "id": "1c19948f-90f8-4ec0-8e22-85c8bbd84ac4",
   "metadata": {},
   "source": [
    "- **OPERADORES RELACIONAIS:** ==, !=, >, >=, <, <="
   ]
  },
  {
   "cell_type": "code",
   "execution_count": 15,
   "id": "4da1c957-44b1-4f94-be5a-0484ec2fb6bd",
   "metadata": {},
   "outputs": [
    {
     "name": "stdout",
     "output_type": "stream",
     "text": [
      "False\n",
      "True\n",
      "False\n",
      "False\n",
      "True\n",
      "True\n"
     ]
    }
   ],
   "source": [
    "a = 10\n",
    "b = 50\n",
    "print(a == b)\n",
    "print(a != b)\n",
    "print(a > b)\n",
    "print(a >= b)\n",
    "print(a < b)\n",
    "print(a <= b)"
   ]
  },
  {
   "cell_type": "markdown",
   "id": "28e8c929-cc78-402b-a49b-91946d397df9",
   "metadata": {},
   "source": [
    "- **CONDICIONAL IF:**\n",
    "  ```python\n",
    "  if(condição):\n",
    "      instrução\n",
    "  elif(condição):\n",
    "      instrução\n",
    "  else:\n",
    "      instrução\n",
    "  ```"
   ]
  },
  {
   "cell_type": "code",
   "execution_count": 5,
   "id": "032fc233-115a-477f-9a13-4bd8b1201a2d",
   "metadata": {},
   "outputs": [
    {
     "name": "stdout",
     "output_type": "stream",
     "text": [
      "100 é positivo!\n"
     ]
    }
   ],
   "source": [
    "x = 100\n",
    "if(x > 0):\n",
    "    print(f\"{x} é positivo!\")\n",
    "elif(x < 0):\n",
    "    print(f\"{x} é negativo!\")\n",
    "else:\n",
    "    print(f\"Valor igual a zero!\")"
   ]
  },
  {
   "cell_type": "code",
   "execution_count": 11,
   "id": "da4747b4-5453-4283-aa52-dd1ab7c29285",
   "metadata": {},
   "outputs": [
    {
     "name": "stdout",
     "output_type": "stream",
     "text": [
      "Valor numérico complexo!\n"
     ]
    }
   ],
   "source": [
    "x = 100 + 2j\n",
    "if(type(x) == int):\n",
    "    print(\"Valor numérico inteiro!\")\n",
    "elif(type(x) == float):\n",
    "    print(\"Valor numérico de ponto flutuante!\")\n",
    "elif(type(x) == complex):\n",
    "    print(\"Valor numérico complexo!\")"
   ]
  },
  {
   "cell_type": "markdown",
   "id": "b9929895-cd18-4ec3-88e8-1dd61e338d8a",
   "metadata": {},
   "source": [
    "- **OPERADORES is | is not:**"
   ]
  },
  {
   "cell_type": "code",
   "execution_count": 12,
   "id": "a945ec7d-60e7-43e2-9bea-279b7c0fe804",
   "metadata": {},
   "outputs": [
    {
     "name": "stdout",
     "output_type": "stream",
     "text": [
      "10 é um valor numérico inteiro!\n",
      "11.23 não é um valor numérico inteiro!\n"
     ]
    }
   ],
   "source": [
    "a = 10\n",
    "b = 11.23\n",
    "if type(a) is int:\n",
    "    print(f\"{a} é um valor numérico inteiro!\")\n",
    "\n",
    "if type(b) is not int:\n",
    "    print(f\"{b} não é um valor numérico inteiro!\")"
   ]
  },
  {
   "cell_type": "markdown",
   "id": "b7fb9b66-3d28-49e0-b578-0d4e32a43039",
   "metadata": {},
   "source": [
    "- **OPERADORES LÓGICOS:** *and*, *or* e *not*"
   ]
  },
  {
   "cell_type": "code",
   "execution_count": 14,
   "id": "fc83e1c3-4869-4b7b-a0e7-2300fb358fb8",
   "metadata": {},
   "outputs": [
    {
     "name": "stdout",
     "output_type": "stream",
     "text": [
      "Tabela Verdade - AND\n",
      "False and False: False\n",
      "False and True: False\n",
      "True and False: False\n",
      "True and True: True\n"
     ]
    }
   ],
   "source": [
    "print(\"Tabela Verdade - AND\")\n",
    "print(f\"False and False: {False and False}\")\n",
    "print(f\"False and True: {False and True}\")\n",
    "print(f\"True and False: {True and False}\")\n",
    "print(f\"True and True: {True and True}\")"
   ]
  },
  {
   "cell_type": "code",
   "execution_count": 15,
   "id": "b911bc4e-210a-4036-b766-05c10df3f33d",
   "metadata": {},
   "outputs": [
    {
     "name": "stdout",
     "output_type": "stream",
     "text": [
      "Tabela Verdade - OR\n",
      "False or False: False\n",
      "False or True: True\n",
      "True or False: True\n",
      "True or True: True\n"
     ]
    }
   ],
   "source": [
    "print(\"Tabela Verdade - OR\")\n",
    "print(f\"False or False: {False or False}\")\n",
    "print(f\"False or True: {False or True}\")\n",
    "print(f\"True or False: {True or False}\")\n",
    "print(f\"True or True: {True or True}\")"
   ]
  },
  {
   "cell_type": "code",
   "execution_count": 17,
   "id": "e062592f-f814-47d7-aa6d-b0b582dbd78d",
   "metadata": {},
   "outputs": [
    {
     "name": "stdout",
     "output_type": "stream",
     "text": [
      "Tabela Verdade - NOT\n",
      "not True: False\n",
      "not False: True\n"
     ]
    }
   ],
   "source": [
    "print(\"Tabela Verdade - NOT\")\n",
    "print(f\"not True: {not True}\")\n",
    "print(f\"not False: {not False}\")"
   ]
  },
  {
   "cell_type": "markdown",
   "id": "08e67d92-b342-451b-b1e9-d4f83891122c",
   "metadata": {},
   "source": [
    "- **LOOP FOR:**\n",
    "  ```python\n",
    "  for i in o_que_será_iterado:\n",
    "      instrução\n",
    "  ```"
   ]
  },
  {
   "cell_type": "code",
   "execution_count": 20,
   "id": "fb96b22e-1599-49eb-97e0-93fa88ce33a7",
   "metadata": {},
   "outputs": [
    {
     "name": "stdout",
     "output_type": "stream",
     "text": [
      "0\n",
      "1\n",
      "2\n",
      "3\n",
      "4\n",
      "5\n"
     ]
    }
   ],
   "source": [
    "for i in range(0,6):\n",
    "    print(i)"
   ]
  },
  {
   "cell_type": "code",
   "execution_count": 26,
   "id": "9cb1a6ba-0f6f-4857-bcd8-cb3252f75005",
   "metadata": {},
   "outputs": [
    {
     "name": "stdout",
     "output_type": "stream",
     "text": [
      "1\n",
      "b\n",
      "3\n",
      "4\n",
      "e\n",
      "Elemento 0: 1\n",
      "Elemento 1: b\n",
      "Elemento 2: 3\n",
      "Elemento 3: 4\n",
      "Elemento 4: e\n",
      "(0, 1)\n",
      "(1, 'b')\n",
      "(2, 3)\n",
      "(3, 4)\n",
      "(4, 'e')\n"
     ]
    }
   ],
   "source": [
    "x = [1, \"b\", 3, 4, \"e\"]\n",
    "for i in x:\n",
    "    print(i)\n",
    "\n",
    "for i in range(0, len(x)):\n",
    "    print(f\"Elemento {i}: {x[i]}\")\n",
    "\n",
    "for i in enumerate(x):\n",
    "    print(i)"
   ]
  },
  {
   "cell_type": "code",
   "execution_count": 23,
   "id": "2fe56e59-0d3e-4e6d-b13b-97ab831c6212",
   "metadata": {},
   "outputs": [
    {
     "name": "stdout",
     "output_type": "stream",
     "text": [
      "0\n",
      "2\n",
      "4\n",
      "6\n",
      "8\n",
      "10\n"
     ]
    }
   ],
   "source": [
    "for i in range(0,11,2):\n",
    "    print(i)"
   ]
  },
  {
   "cell_type": "markdown",
   "id": "f0d83297-36fb-4ee1-84c8-ae6c9bb55202",
   "metadata": {},
   "source": [
    "- **LOOP WHILE:**\n",
    "  ```python\n",
    "  while(condição):\n",
    "      instrução\n",
    "  ```"
   ]
  },
  {
   "cell_type": "code",
   "execution_count": 27,
   "id": "53b9e9df-c2f7-44a4-b62e-8345ed920731",
   "metadata": {},
   "outputs": [
    {
     "name": "stdout",
     "output_type": "stream",
     "text": [
      "0\n",
      "1\n",
      "2\n",
      "3\n",
      "4\n",
      "5\n",
      "6\n",
      "7\n",
      "8\n",
      "9\n",
      "10\n"
     ]
    }
   ],
   "source": [
    "contador = 0\n",
    "while(contador <= 10):\n",
    "    print(contador)\n",
    "    contador += 1"
   ]
  },
  {
   "cell_type": "markdown",
   "id": "58210745-8672-4188-9039-b9b1bb7de005",
   "metadata": {},
   "source": [
    "**Exercício 1:**\n",
    "Crie um condicional que, dada uma variável, faça as operações:\n",
    "* Se for um número positivo, retorna \"Número positivo.\"\n",
    "* Se for um número negativo, retorna \"Número negativo.\"\n",
    "* Se for zero, retorna \"Zero.\"\n",
    "* Se não for um número, retorna \"Não é um número.\""
   ]
  },
  {
   "cell_type": "code",
   "execution_count": 39,
   "id": "632d4806-5da5-4b06-afb9-9400efea901a",
   "metadata": {},
   "outputs": [
    {
     "name": "stdin",
     "output_type": "stream",
     "text": [
      "Digite um número:  0\n"
     ]
    },
    {
     "name": "stdout",
     "output_type": "stream",
     "text": [
      "Zero\n"
     ]
    }
   ],
   "source": [
    "x = input(\"Digite um número: \")\n",
    "try:\n",
    "    if(float(x) > 0):\n",
    "        print(\"Número positivo\")\n",
    "    elif(float(x) < 0):\n",
    "        print(\"Número negativo\")\n",
    "    else:\n",
    "        print(\"Zero\") \n",
    "except:\n",
    "    print(\"Não é um número.\")"
   ]
  },
  {
   "cell_type": "markdown",
   "id": "cfb8bfb1-e422-40db-a82a-87fdd1a745e9",
   "metadata": {},
   "source": [
    "**Exercício 2:** Faça um loop for para criar uma lista que intercale os valores das listas a seguir:\n",
    "* valores = [1, 2, 3, 4, 5]\n",
    "* letras = [\"a\", \"b\", \"c\", \"d\", \"e\"]\n",
    "  \n",
    "Dica: você pode utilizar o método .append() que adiciona um elemento ao final da lista."
   ]
  },
  {
   "cell_type": "code",
   "execution_count": 67,
   "id": "7a11e0af-9bec-416b-84dd-a934f7c0bdac",
   "metadata": {},
   "outputs": [
    {
     "name": "stdout",
     "output_type": "stream",
     "text": [
      "[1, 'a', 2, 'b', 3, 'c', 4, 'd', 5, 'e']\n"
     ]
    }
   ],
   "source": [
    "valores = [1, 2, 3, 4, 5]\n",
    "letras = [\"a\", \"b\", \"c\", \"d\", \"e\"]\n",
    "intercalada = []\n",
    "\n",
    "for i in range(0, len(valores) + len(letras)):\n",
    "    if(i % 2 == 0):\n",
    "        intercalada.append(valores[int(i/2)])\n",
    "    else:\n",
    "        intercalada.append(letras[int((i - 1) / 2)])\n",
    "\n",
    "print(intercalada)"
   ]
  },
  {
   "cell_type": "markdown",
   "id": "6b722a1f-f8cc-404a-a163-766a612cf123",
   "metadata": {},
   "source": [
    "**Exercício 3:** Dado um número inteiro, faça um operador while que calcule o fatorial desse número. Dicas: utilize os operadores *= e -="
   ]
  },
  {
   "cell_type": "code",
   "execution_count": 3,
   "id": "61821f9a-889f-4f8c-b40e-34652b6e1c19",
   "metadata": {},
   "outputs": [
    {
     "name": "stdin",
     "output_type": "stream",
     "text": [
      "Digite um número inteiro:  5\n"
     ]
    },
    {
     "name": "stdout",
     "output_type": "stream",
     "text": [
      "O fatorial de 5 é 120\n"
     ]
    }
   ],
   "source": [
    "x = int(input(\"Digite um número inteiro: \"))\n",
    "xo = x\n",
    "fat = 1\n",
    "while(x > 0):\n",
    "    fat *= x\n",
    "    x -= 1\n",
    "\n",
    "print(f\"O fatorial de {xo} é {fat}\")"
   ]
  },
  {
   "cell_type": "markdown",
   "id": "5873436f-ba61-449d-8a8a-d189d7c6c009",
   "metadata": {},
   "source": [
    "- **MÉTODOS PARA LISTAS:**"
   ]
  },
  {
   "cell_type": "code",
   "execution_count": 4,
   "id": "c9843cac-6b67-4814-8207-0cc69764a481",
   "metadata": {},
   "outputs": [
    {
     "name": "stdout",
     "output_type": "stream",
     "text": [
      "[1, 2, 3, 4, 5]\n",
      "[1, 2, 3, 4, 5, 6]\n",
      "[1, 2, 3, 4, 5, 6, 7, 8]\n"
     ]
    }
   ],
   "source": [
    "lista_inteiros = [1, 2, 3, 4, 5]\n",
    "print(lista_inteiros)\n",
    "lista_inteiros.append(6)       # método .append()\n",
    "print(lista_inteiros)\n",
    "lista2 = [7, 8]\n",
    "lista_inteiros.extend(lista2)  # método .extend()\n",
    "print(lista_inteiros)"
   ]
  },
  {
   "cell_type": "code",
   "execution_count": 7,
   "id": "bad9e5e3-2aaa-4df8-b7d0-ca915137e124",
   "metadata": {},
   "outputs": [
    {
     "name": "stdout",
     "output_type": "stream",
     "text": [
      "3\n",
      "1\n",
      "1\n"
     ]
    }
   ],
   "source": [
    "lista_letras = [\"a\", \"b\", \"c\", \"a\", \"a\"]\n",
    "print(lista_letras.count(\"a\"))  # método .count()\n",
    "print(lista_letras.count(\"b\"))\n",
    "print(lista_letras.count(\"c\"))"
   ]
  },
  {
   "cell_type": "code",
   "execution_count": 13,
   "id": "581ff0d8-4ec6-4759-b4c0-54e5627ddba4",
   "metadata": {},
   "outputs": [
    {
     "name": "stdout",
     "output_type": "stream",
     "text": [
      "[1, 3, 5, 8, 10]\n",
      "['a', 'a', 'a', 'b', 'c']\n"
     ]
    }
   ],
   "source": [
    "lista_inteiros = [1, 10, 5, 3, 8]\n",
    "lista_inteiros.sort()           # método .sort()\n",
    "print(lista_inteiros)\n",
    "lista_letras.sort()\n",
    "print(lista_letras)"
   ]
  },
  {
   "cell_type": "markdown",
   "id": "367cffba-725f-47c6-99f9-1c63c297b3e7",
   "metadata": {},
   "source": [
    "- **FORMAS DE TRABALHAR COM LISTAS:**"
   ]
  },
  {
   "cell_type": "code",
   "execution_count": 14,
   "id": "5ffc3d85-a847-4686-ae87-9b9b78503588",
   "metadata": {},
   "outputs": [
    {
     "name": "stdout",
     "output_type": "stream",
     "text": [
      "[0, 1, 4, 9, 16, 25]\n"
     ]
    }
   ],
   "source": [
    "lista_quadrados = []\n",
    "for i in range(0, 6):\n",
    "    lista_quadrados.append(i ** 2)\n",
    "\n",
    "print(lista_quadrados)"
   ]
  },
  {
   "cell_type": "code",
   "execution_count": 26,
   "id": "a26495c9-fb0e-455e-a1e0-67e0e35bcb28",
   "metadata": {},
   "outputs": [
    {
     "name": "stdout",
     "output_type": "stream",
     "text": [
      "[0, 1, 2, 3, 4, 5]\n",
      "[0, 1, 4, 9, 16, 25]\n"
     ]
    }
   ],
   "source": [
    "lista = list(range(0, 6))\n",
    "print(lista)\n",
    "\n",
    "def quadrado(n):\n",
    "    return n ** 2\n",
    "    \n",
    "lista_quadrada = list(map(quadrado, lista))\n",
    "print(lista_quadrada)"
   ]
  },
  {
   "cell_type": "markdown",
   "id": "67c102b2-cb02-4bd2-9141-4d3ac9952679",
   "metadata": {},
   "source": [
    "- **TUPLAS, CONJUNTOS E DICIONÁRIOS:**"
   ]
  },
  {
   "cell_type": "code",
   "execution_count": 37,
   "id": "941c7553-6427-4255-ad20-83319feaa186",
   "metadata": {},
   "outputs": [
    {
     "name": "stdout",
     "output_type": "stream",
     "text": [
      "Comprimento da tupla: 5\n",
      "Posição: 0, Valor: a\n",
      "Posição: 1, Valor: e\n",
      "Posição: 2, Valor: i\n",
      "Posição: 3, Valor: o\n",
      "Posição: 4, Valor: u\n",
      "(0, 'a')\n",
      "(1, 'e')\n",
      "(2, 'i')\n",
      "(3, 'o')\n",
      "(4, 'u')\n"
     ]
    }
   ],
   "source": [
    "# Tuplas\n",
    "vogais = (\"a\", \"e\", \"i\", \"o\", \"u\")\n",
    "print(f\"Comprimento da tupla: {len(vogais)}\")\n",
    "\n",
    "for i in range(0, len(vogais)):\n",
    "    print(f\"Posição: {i}, Valor: {vogais[i]}\")\n",
    "\n",
    "for i in enumerate(vogais):\n",
    "    print(i)"
   ]
  },
  {
   "cell_type": "code",
   "execution_count": 30,
   "id": "84cadf47-cdb1-4d4b-b1a8-4d21d47b9008",
   "metadata": {},
   "outputs": [],
   "source": [
    "#vogais[0] = \"A\"   # Erro: tuplas são imutáveis!"
   ]
  },
  {
   "cell_type": "code",
   "execution_count": 42,
   "id": "e14c37be-cdb7-4e90-b109-bbcdcafd3567",
   "metadata": {},
   "outputs": [
    {
     "name": "stdout",
     "output_type": "stream",
     "text": [
      "Set sem repetições: {1, 2, 3, 4, 5}\n",
      "(0, 1)\n",
      "(1, 2)\n",
      "(2, 3)\n",
      "(3, 4)\n",
      "(4, 5)\n"
     ]
    }
   ],
   "source": [
    "# Conjuntos\n",
    "set_variaveis = {1, 1, 1, 2, 2, 3, 4, 5}\n",
    "print(f\"Set sem repetições: {set_variaveis}\")\n",
    "for i in enumerate(set_variaveis):\n",
    "    print(i)"
   ]
  },
  {
   "cell_type": "code",
   "execution_count": 55,
   "id": "59e490e4-e71c-4c0a-af1e-226d118d83c4",
   "metadata": {},
   "outputs": [
    {
     "name": "stdout",
     "output_type": "stream",
     "text": [
      "Nome: Paulo R. B. Gomes\n",
      "Profissão: Professor EBTT\n",
      "Instituição: IFCE - campus Tauá\n"
     ]
    }
   ],
   "source": [
    "# Dicionários\n",
    "dicionario = {\n",
    "    \"nome\": \"Paulo R. B. Gomes\",\n",
    "    \"profissao\": \"Professor EBTT\",\n",
    "    \"instituicao\": \"IFCE - campus Tauá\"\n",
    "}\n",
    "print(f\"Nome: {dicionario['nome']}\")\n",
    "print(f\"Profissão: {dicionario['profissao']}\")\n",
    "print(f\"Instituição: {dicionario['instituicao']}\")"
   ]
  },
  {
   "cell_type": "markdown",
   "id": "a9823f42-fae2-4078-998c-caf1037e8653",
   "metadata": {},
   "source": [
    "**Exercício 1:** Dada a lista ['P', 'A', 'Y', 'A', 'T', 'A', 'H', 'O', 'N'], conte o número de variáveis 'A' e utilize um loop para remover todos os 'A' excedentes."
   ]
  },
  {
   "cell_type": "code",
   "execution_count": 61,
   "id": "7cf31b77-d018-4cf4-8726-31e763f377b5",
   "metadata": {},
   "outputs": [
    {
     "name": "stdout",
     "output_type": "stream",
     "text": [
      "Quantidade de letras A: 3\n",
      "['P', 'Y', 'T', 'H', 'O', 'N']\n"
     ]
    }
   ],
   "source": [
    "lista = ['P', 'A', 'Y', 'A', 'T', 'A', 'H', 'O', 'N']\n",
    "count_A = len(lista);\n",
    "lista_filtrada = []\n",
    "for i in range(0, len(lista)):\n",
    "    if(lista[i] != 'A'):\n",
    "        lista_filtrada.append(lista[i])\n",
    "        count_A -= 1\n",
    "\n",
    "print(f\"Quantidade de letras A: {count_A}\")\n",
    "print(lista_filtrada)"
   ]
  },
  {
   "cell_type": "markdown",
   "id": "dc8ee081-e9de-449d-8297-cb9a242eb76b",
   "metadata": {},
   "source": [
    "**Exercício 2:** Utilizando somente uma linha de programação, crie uma lista que contenha os números ímpares de 1 a 51. Dica: esse exercício usa o conteito de *List Comprehensions*."
   ]
  },
  {
   "cell_type": "code",
   "execution_count": 62,
   "id": "86685673-d2c7-4be1-a643-f2607bd8576a",
   "metadata": {},
   "outputs": [
    {
     "name": "stdout",
     "output_type": "stream",
     "text": [
      "[1, 3, 5, 7, 9, 11, 13, 15, 17, 19, 21, 23, 25, 27, 29, 31, 33, 35, 37, 39, 41, 43, 45, 47, 49, 51]\n"
     ]
    }
   ],
   "source": [
    "impares = [x for x in range(1, 52, 2)]\n",
    "print(impares)"
   ]
  },
  {
   "cell_type": "markdown",
   "id": "657f2985-6af4-406e-a404-eeda9dd4477d",
   "metadata": {},
   "source": [
    "**Exercício 3:** Crie um dicionário que correlacione as seguintes listas:\n",
    "* valores = [1, 2, 3, 4, 5]\n",
    "* keys = ['a', 'b', 'c', 'd', 'e']\n",
    "  \n",
    "Utilize um loop."
   ]
  },
  {
   "cell_type": "code",
   "execution_count": 64,
   "id": "fbd627e5-252a-4b37-8c8a-53501f62bb8c",
   "metadata": {},
   "outputs": [
    {
     "name": "stdout",
     "output_type": "stream",
     "text": [
      "{'a': 1, 'b': 2, 'c': 3, 'd': 4, 'e': 5}\n"
     ]
    }
   ],
   "source": [
    "valores = [1, 2, 3, 4, 5]\n",
    "keys = [\"a\", \"b\", \"c\", \"d\", \"e\"]\n",
    "dicionario = {}\n",
    "\n",
    "for i in range(0, len(valores)):\n",
    "    dicionario[keys[i]] = valores[i]\n",
    "\n",
    "print(dicionario)"
   ]
  },
  {
   "cell_type": "markdown",
   "id": "8ffa4da8-0f1a-4c3d-b688-000ce08ac008",
   "metadata": {},
   "source": [
    "**Exercício 4:** A partir do diconário criado no exercício anterior, recrie as listas keys e valores."
   ]
  },
  {
   "cell_type": "code",
   "execution_count": 79,
   "id": "eae0162e-3523-472a-aeb5-8ffa1b3b9fc5",
   "metadata": {},
   "outputs": [
    {
     "name": "stdout",
     "output_type": "stream",
     "text": [
      "[1, 2, 3, 4, 5] ['a', 'b', 'c', 'd', 'e']\n"
     ]
    }
   ],
   "source": [
    "valores_rec = list(dicionario.values())\n",
    "keys_rec = list(dicionario.keys())\n",
    "print(valores_rec, keys_rec)\n",
    "\n",
    "    "
   ]
  },
  {
   "cell_type": "markdown",
   "id": "44eb416c-0a70-4c73-ad3f-442f1f068663",
   "metadata": {},
   "source": [
    "- **INTRODUÇÃO AO MATPLOTLIB:**\n",
    "  ```python\n",
    "  import matplotlib.pyplot as plt\n",
    "  ```"
   ]
  },
  {
   "cell_type": "code",
   "execution_count": 128,
   "id": "4cfe8c16-a223-46f7-a517-c87e18cd73c7",
   "metadata": {},
   "outputs": [
    {
     "data": {
      "image/png": "[encoded data removed]",
      "text/plain": [
       "<Figure size 640x480 with 1 Axes>"
      ]
     },
     "metadata": {},
     "output_type": "display_data"
    }
   ],
   "source": [
    "import matplotlib.pyplot as plt\n",
    "%matplotlib inline\n",
    "\n",
    "x = list(range(0, 101))\n",
    "y = [y ** 2 for y in x]\n",
    "z = [z ** (2.1) for z in x]\n",
    "\n",
    "plt.plot(x, y, '-', label='y = x^2')\n",
    "plt.plot(x, z, '-', label='y = x^2.1')\n",
    "plt.xlabel(\"Eixo-x\")\n",
    "plt.ylabel(\"Eixo-y\")\n",
    "plt.legend()\n",
    "plt.show()"
   ]
  },
  {
   "cell_type": "markdown",
   "id": "495b7f86-4995-4b8c-b6ef-2bae97b691b6",
   "metadata": {},
   "source": [
    "- **INTRODUÇÃO AO MATPLOTLIB-3D:**"
   ]
  },
  {
   "cell_type": "code",
   "execution_count": 37,
   "id": "e72acb81-2ab1-4f30-94a4-69a0eaf5b54c",
   "metadata": {},
   "outputs": [
    {
     "data": {
      "text/plain": [
       "<mpl_toolkits.mplot3d.art3d.Path3DCollection at 0x192543e9d90>"
      ]
     },
     "execution_count": 37,
     "metadata": {},
     "output_type": "execute_result"
    },
    {
     "data": {
      "image/png": "[encoded data removed]",
      "text/plain": [
       "<Figure size 640x480 with 1 Axes>"
      ]
     },
     "metadata": {},
     "output_type": "display_data"
    }
   ],
   "source": [
    "import matplotlib.pyplot as plt\n",
    "from mpl_toolkits.mplot3d import Axes3D\n",
    "%matplotlib inline\n",
    "\n",
    "x = [1, 2, 3, 4, 5]\n",
    "y = [2 * i for i in x]\n",
    "z = [3 * i for i in x]\n",
    "\n",
    "fig = plt.figure()\n",
    "plot = fig.add_subplot(111, projection=\"3d\")\n",
    "plot.scatter(x, y, x)"
   ]
  },
  {
   "cell_type": "markdown",
   "id": "e6746e78-5aee-4973-9dcf-e0de227cfd3f",
   "metadata": {},
   "source": [
    "- **LEITURA DE ARQUIVOS .txt EM PYTHON:**"
   ]
  },
  {
   "cell_type": "code",
   "execution_count": 11,
   "id": "1e70c680-6fa1-4d27-8dfd-60d7abda5c77",
   "metadata": {},
   "outputs": [
    {
     "name": "stdout",
     "output_type": "stream",
     "text": [
      "['Municípios', 'Estado', 'Posição', 'PIB (1 000 R$)', 'Participação (%)', 'Participação acumulada (%)\\n']\n",
      "Quantidade de municípios no estado de São Paulo: 36\n",
      "Participação acumulada desses municípios: 23.195820665883666%\n"
     ]
    }
   ],
   "source": [
    "file_path = \"PIB_100_maiores_cidades_2017.txt\"\n",
    "with open(file_path) as f:\n",
    "    f_data = f.readlines()\n",
    "    f.closed\n",
    "\n",
    "labels = f_data[0].split(\",\")\n",
    "print(labels)\n",
    "\n",
    "colecao = []\n",
    "for i in range(0,len(f_data) - 1):\n",
    "    colecao.append(f_data[i + 1].split(\",\")) \n",
    "\n",
    "contador = 0\n",
    "countMunicipios = 0\n",
    "acumulado = 0\n",
    "for i in range(0, len(colecao)):\n",
    "    contador += 1\n",
    "    if(colecao[i][1] == \"SP\"):\n",
    "        countMunicipios += 1\n",
    "        acumulado = acumulado + float(colecao[i][4])\n",
    "\n",
    "print(f\"Quantidade de municípios no estado de São Paulo: {countMunicipios}\")\n",
    "print(f\"Participação acumulada desses municípios: {acumulado}%\")"
   ]
  },
  {
   "cell_type": "markdown",
   "id": "26bd32c5-ce7e-4459-92da-7e64be3abdf7",
   "metadata": {},
   "source": [
    "- **INTRODUÇÃO À MANIPULAÇÃO DE DADOS COM PANDAS:**"
   ]
  },
  {
   "cell_type": "code",
   "execution_count": 44,
   "id": "d84d74ea-d1c9-4606-8677-141700ddae50",
   "metadata": {},
   "outputs": [
    {
     "name": "stdout",
     "output_type": "stream",
     "text": [
      "Quantidade de municípios no estado de São Paulo: 36\n",
      "Participação acumulada desses municípios: 23.195820665883666%\n"
     ]
    }
   ],
   "source": [
    "# Importando libs ...\n",
    "import pandas as pd\n",
    "\n",
    "# Chamando o dataset ...\n",
    "file_path = \"Raw_Data_IBGE.txt\"\n",
    "df = pd.read_csv(file_path, engine=\"python\")\n",
    "\n",
    "# Testando o dataset ...\n",
    "df.head()\n",
    "\n",
    "# Resolucao do exercicio ...\n",
    "X = [df.iloc[:, 1], df.iloc[:, 4]]\n",
    "municipiosSP = 0\n",
    "acumuladoSP = 0\n",
    "for i in range(0, len(X[0])):\n",
    "    if(X[0][i] == \"SP\"):\n",
    "        municipiosSP += 1\n",
    "        acumuladoSP += float(X[1][i])\n",
    "\n",
    "print(f\"Quantidade de municípios no estado de São Paulo: {municipiosSP}\")\n",
    "print(f\"Participação acumulada desses municípios: {acumuladoSP}%\")"
   ]
  },
  {
   "cell_type": "markdown",
   "id": "fd19aab6-7a93-4905-9f44-12c4c4a46413",
   "metadata": {},
   "source": [
    "- **FUNÇÕES:**\n",
    "  ```python\n",
    "  def nome_funçao(argumentos):\n",
    "      implementação\n",
    "      return valor\n",
    "\n",
    "  nome_função(argumentos)\n",
    "  ```"
   ]
  },
  {
   "cell_type": "code",
   "execution_count": 1,
   "id": "e31040f2-ba5d-4c7e-8db1-d70e7805d094",
   "metadata": {},
   "outputs": [
    {
     "name": "stdin",
     "output_type": "stream",
     "text": [
      "Digite o seu nome:  Paulo R. B. Gomes\n"
     ]
    },
    {
     "name": "stdout",
     "output_type": "stream",
     "text": [
      "Olá, Paulo R. B. Gomes. Seja bem-vindo!\n"
     ]
    }
   ],
   "source": [
    "def saudacao(nome):\n",
    "    print(f\"Olá, {nome}. Seja bem-vindo!\")\n",
    "\n",
    "nome = input(\"Digite o seu nome: \")\n",
    "saudacao(nome)"
   ]
  },
  {
   "cell_type": "code",
   "execution_count": 3,
   "id": "83c9aada-ce03-4a63-83f4-6d67e512dd42",
   "metadata": {},
   "outputs": [
    {
     "name": "stdout",
     "output_type": "stream",
     "text": [
      "Resultado da operação: 20\n"
     ]
    }
   ],
   "source": [
    "def soma_quadrados(a, b):\n",
    "    return (a ** 2 + b ** 2)\n",
    "\n",
    "soma_quadrados = soma_quadrados(2, 4)\n",
    "print(f\"Resultado da operação: {soma_quadrados}\")"
   ]
  },
  {
   "cell_type": "markdown",
   "id": "83028f40-c315-4b77-b60b-88654ced2a39",
   "metadata": {},
   "source": [
    "- **MÓDULOS:** São arquivos .py que contém conjuntos de funções, objetos, variáveis, entre outros. Essas funcionalidades podem ser \"chamadas\" das seguintes formas:\n",
    "  * ```python\n",
    "    import nome_modulo\n",
    "    ```\n",
    "  * ```python\n",
    "    import nome_modulo as abreviação\n",
    "    ```\n",
    "  * ```python\n",
    "    from nome_modulo import nome_funcionalidade|nome_objeto\n",
    "    ```"
   ]
  },
  {
   "cell_type": "code",
   "execution_count": 9,
   "id": "13e336a8-ce62-496a-a298-4ece01998eb5",
   "metadata": {},
   "outputs": [
    {
     "name": "stdout",
     "output_type": "stream",
     "text": [
      "1.0\n",
      "10.0\n",
      "3.141592653589793\n"
     ]
    }
   ],
   "source": [
    "# Importacao sem abreviacao ...\n",
    "import math\n",
    "print(math.cos(0))\n",
    "\n",
    "# Importacao com abreviacao ...\n",
    "from math import sqrt, pi\n",
    "print(sqrt(100))\n",
    "print(pi)"
   ]
  },
  {
   "cell_type": "markdown",
   "id": "ae8ac949-eb11-4a9d-a1de-1a7a95a373bf",
   "metadata": {},
   "source": [
    "- **CRIANDO MÓDULOS:**"
   ]
  },
  {
   "cell_type": "code",
   "execution_count": 24,
   "id": "d61ceb2e-c4dd-4b96-a413-4cd3e265e2d0",
   "metadata": {},
   "outputs": [
    {
     "name": "stdout",
     "output_type": "stream",
     "text": [
      "Peso na Lua: 80.0 Newtons\n",
      "Peso na Terra: 490.00000000000006 Newtons\n"
     ]
    }
   ],
   "source": [
    "import peso\n",
    "massa = 50\n",
    "print(f\"Peso na Lua: {peso.peso_lua(massa)} Newtons\")\n",
    "print(f\"Peso na Terra: {peso.peso_terra(massa)} Newtons\")"
   ]
  },
  {
   "cell_type": "code",
   "execution_count": 9,
   "id": "f22ed49f-8ef9-4904-857b-9d960437a819",
   "metadata": {},
   "outputs": [
    {
     "name": "stdout",
     "output_type": "stream",
     "text": [
      "Peso na Lua: 80.0 Newtons\n",
      "Peso na Terra: 490.00000000000006 Newtons\n"
     ]
    },
    {
     "data": {
      "text/plain": [
       "['Paulo', 'Gomes']"
      ]
     },
     "execution_count": 9,
     "metadata": {},
     "output_type": "execute_result"
    }
   ],
   "source": [
    "from peso import peso_lua, peso_terra\n",
    "massa = 50\n",
    "print(f\"Peso na Lua: {peso_lua(massa)} Newtons\")\n",
    "print(f\"Peso na Terra: {peso_terra(massa)} Newtons\")"
   ]
  },
  {
   "cell_type": "markdown",
   "id": "c352eade-3f35-45a0-9e5e-17ab3a46385a",
   "metadata": {},
   "source": [
    "**Exercício 1:** Crie uma função que receba uma frase e retorne quantas palavras tem a frase. Dica: utilize o método .split()."
   ]
  },
  {
   "cell_type": "code",
   "execution_count": 11,
   "id": "eb790da5-25de-41e3-98c6-541d9e5b780c",
   "metadata": {},
   "outputs": [
    {
     "name": "stdin",
     "output_type": "stream",
     "text": [
      "Digite uma frase:  Análise e Desenvolvimento de Sistemas\n"
     ]
    },
    {
     "name": "stdout",
     "output_type": "stream",
     "text": [
      "A frase Análise e Desenvolvimento de Sistemas possui 5 palavras.\n"
     ]
    }
   ],
   "source": [
    "def conta_palavras(frase):\n",
    "    processada = frase.split()\n",
    "    return len(processada)\n",
    "\n",
    "frase = input(\"Digite uma frase: \")\n",
    "print(f\"A frase {frase} possui {conta_palavras(frase)} palavras.\")"
   ]
  },
  {
   "cell_type": "markdown",
   "id": "8ae05ba1-efe2-4322-88c6-50f2094689eb",
   "metadata": {},
   "source": [
    "**Exercício 2:** Crie uma função que lÊ um arquivo de extensão .txt e retorne quantas palavras em esse arquivo. Dica: utilize o método readlines()."
   ]
  },
  {
   "cell_type": "code",
   "execution_count": 20,
   "id": "92fc216d-c8b2-4436-996a-42d568c46299",
   "metadata": {},
   "outputs": [
    {
     "name": "stdout",
     "output_type": "stream",
     "text": [
      "Quantidade de palavras: 22.\n"
     ]
    }
   ],
   "source": [
    "file_path = \"Leitura_Palavras.txt\"\n",
    "with open(file_path) as f:\n",
    "    f_data = f.readlines()\n",
    "    f.closed\n",
    "\n",
    "frase = f_data[0]\n",
    "print(f\"Quantidade de palavras: {conta_palavras(frase)}.\")"
   ]
  },
  {
   "cell_type": "markdown",
   "id": "4d28f728-c22f-4905-91f2-5c1e17ddb8a6",
   "metadata": {},
   "source": [
    "**Exercício 3:** Crie um módulo que receba o peso e a altura e calcule o IMC de uma pessoa.\n",
    "$$IMC = peso / altura^2$$"
   ]
  },
  {
   "cell_type": "code",
   "execution_count": 30,
   "id": "092cae24-bcab-4f51-b508-8d4ecac6f63d",
   "metadata": {},
   "outputs": [
    {
     "name": "stdin",
     "output_type": "stream",
     "text": [
      "Digite o seu peso [Kg]:  78\n",
      "Digite a sua altura [m]:  1.73\n"
     ]
    },
    {
     "name": "stdout",
     "output_type": "stream",
     "text": [
      "Para 78.0 Kg e 1.73 m, o IMC é 26.061679307694877.\n"
     ]
    }
   ],
   "source": [
    "from exercicios_modulos import imc\n",
    "peso = float(input(\"Digite o seu peso [Kg]: \"))\n",
    "altura = float(input(\"Digite a sua altura [m]: \"))\n",
    "valor_imc = imc(peso, altura)\n",
    "print(f\"Para {peso} Kg e {altura} m, o IMC é {valor_imc}.\")"
   ]
  },
  {
   "cell_type": "markdown",
   "id": "697e579d-9272-4a94-a4df-9de27dedbc7c",
   "metadata": {},
   "source": [
    "- **ESCREVENDO ARQUIVOS:**\n",
    "  * **Estrutura para ler:**\n",
    "\n",
    "    ```python\n",
    "    with open(caminho_string) as f:\n",
    "    variavel = f.read()\n",
    "    f.close\n",
    "    ```\n",
    "\n",
    "\n",
    "  * **Estrutura para escrever:**\n",
    " \n",
    "    ```python\n",
    "    with open(nome_novo_arquivo, \"w\") as f:\n",
    "    f.write(nova_string)\n",
    "    f.close\n",
    "    ```"
   ]
  },
  {
   "cell_type": "code",
   "execution_count": 69,
   "id": "dd74bc60-e903-4b17-9a0c-d3f61d0898f8",
   "metadata": {},
   "outputs": [
    {
     "name": "stdout",
     "output_type": "stream",
     "text": [
      "Dados do arquivo sujo:\n",
      "p1p pp\n",
      "p2 p\n",
      "p3pp pp\n",
      "p 4p pp\n",
      "p 5\n",
      "6p p\n",
      "p7p pp\n",
      "Dados do arquivo limpo:\n",
      "1\n",
      "2\n",
      "3\n",
      "4\n",
      "5\n",
      "6\n",
      "7\n"
     ]
    }
   ],
   "source": [
    "# read() gera uma unica string\n",
    "# readlines() separa por linhas\n",
    "\n",
    "file_path = \"Arquivo_sujo.txt\"\n",
    "with open(file_path) as f:\n",
    "    linhas = f.read()\n",
    "    f.close\n",
    "\n",
    "print(\"Dados do arquivo sujo:\")\n",
    "print(linhas)\n",
    "linhas_limpo = linhas.replace(\"p\", \"\").replace(\" \", \"\")\n",
    "\n",
    "with open(\"Arquivo_limpo.txt\", \"w\") as f:\n",
    "    f.write(linhas_limpo)\n",
    "    f.close\n",
    "\n",
    "with open(\"Arquivo_limpo.txt\") as f:\n",
    "    linhas = f.read()\n",
    "    f.close\n",
    "\n",
    "print(\"Dados do arquivo limpo:\")\n",
    "print(linhas)"
   ]
  },
  {
   "cell_type": "code",
   "execution_count": null,
   "id": "1419fc3c-2e81-4716-ab76-5c4d9c962353",
   "metadata": {},
   "outputs": [],
   "source": []
  }
 ],
 "metadata": {
  "kernelspec": {
   "display_name": "Python 3 (ipykernel)",
   "language": "python",
   "name": "python3"
  },
  "language_info": {
   "codemirror_mode": {
    "name": "ipython",
    "version": 3
   },
   "file_extension": ".py",
   "mimetype": "text/x-python",
   "name": "python",
   "nbconvert_exporter": "python",
   "pygments_lexer": "ipython3",
   "version": "3.11.8"
  }
 },
 "nbformat": 4,
 "nbformat_minor": 5
}
