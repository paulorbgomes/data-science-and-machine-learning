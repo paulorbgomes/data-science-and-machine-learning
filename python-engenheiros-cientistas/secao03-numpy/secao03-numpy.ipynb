{
 "cells": [
  {
   "cell_type": "markdown",
   "id": "7b32f83f-a447-45ed-b43b-30d2f21eac7b",
   "metadata": {},
   "source": [
    "# BIBLIOTECA NUMPY\n",
    "* Biblioteca baseada em estruturas de **arrays** (*estrutura de dados multidimensional*);\n",
    "* Trabalha com arrays de N-dimensões (traz uma série de vantagens pois é uma estrutura de dados mais eficiente);\n",
    "* Indicada para manipulação de dados | cálculos matemáticos;\n",
    "* **Vantagens:** eficiência e versatilidade em trabalhar com dados."
   ]
  },
  {
   "cell_type": "markdown",
   "id": "a41893e2-91fe-4ce8-80c5-bd9b2cc88f5b",
   "metadata": {},
   "source": [
    "* **ESTRUTURA DE ARRAYS:**"
   ]
  },
  {
   "cell_type": "code",
   "execution_count": 6,
   "id": "4d5cab5b-c220-47cc-8f55-a421d7471bea",
   "metadata": {},
   "outputs": [
    {
     "name": "stdout",
     "output_type": "stream",
     "text": [
      "Soma dos valores: 49999995000000\n",
      "Tempo de execução: 0.9325351715087891\n"
     ]
    }
   ],
   "source": [
    "# Analise de desempenho das listas em Python nativo\n",
    "from time import time\n",
    "inicio = time()\n",
    "\n",
    "lista_1 = list(range(0, 10**7))\n",
    "soma_1 = 0\n",
    "for i in lista_1:\n",
    "    soma_1 += i\n",
    "fim = time()\n",
    "tempo_1 = fim - inicio \n",
    "\n",
    "print(f\"Soma dos valores: {soma_1}\")\n",
    "print(f\"Tempo de execução: {tempo_1}\")"
   ]
  },
  {
   "cell_type": "code",
   "execution_count": 7,
   "id": "81de22d6-0e4d-46c6-b0a1-6bd52653ce36",
   "metadata": {},
   "outputs": [
    {
     "name": "stdout",
     "output_type": "stream",
     "text": [
      "Soma dos valores: 49999995000000.0\n",
      "Tempo de execução: 0.4104580879211426\n"
     ]
    }
   ],
   "source": [
    "# Analise de desempenho da biblioteca numpy\n",
    "import numpy as np\n",
    "inicio = time()\n",
    "\n",
    "array = np.array(lista_1, dtype=float)   # estrutura de dados especifica da biblioteca numpy\n",
    "soma_2 = array.sum()\n",
    "\n",
    "fim = time()\n",
    "tempo_2 = fim - inicio\n",
    "\n",
    "print(f\"Soma dos valores: {soma_2}\")\n",
    "print(f\"Tempo de execução: {tempo_2}\")"
   ]
  },
  {
   "cell_type": "code",
   "execution_count": 5,
   "id": "91d1ed70-a8cf-48dc-96f2-e0337e027d8e",
   "metadata": {},
   "outputs": [
    {
     "name": "stdout",
     "output_type": "stream",
     "text": [
      "Razão do tempo: 2.4675438596491226\n"
     ]
    }
   ],
   "source": [
    "print(f\"Razão do tempo: {tempo_1 / tempo_2}\")"
   ]
  },
  {
   "cell_type": "markdown",
   "id": "549ee88a-2d28-49e5-94a5-09696c1b56f3",
   "metadata": {},
   "source": [
    "- **ARRAYS NUMPY:**\n",
    "  * Propriedades dos arrays:\n",
    "    * **ndim**: retorna (int) o número de dimensões (axes);\n",
    "    * **shape**: retorna (tupla) a quantidade de dados em cada dimensão;\n",
    "    * **size**: retorna (int) o número de elementos;\n",
    "    * **dtype**: retorna (dtype) o tipo das variáveis dos elementos.\n",
    "    "
   ]
  },
  {
   "cell_type": "code",
   "execution_count": 24,
   "id": "9b6f1735-0434-41f3-b297-67f8d0544e0b",
   "metadata": {},
   "outputs": [
    {
     "data": {
      "text/plain": [
       "dtype('float64')"
      ]
     },
     "execution_count": 24,
     "metadata": {},
     "output_type": "execute_result"
    }
   ],
   "source": [
    "import numpy as np\n",
    "\n",
    "a1 = np.array([1, 1, 1], dtype=float)\n",
    "a1.shape\n",
    "a1.size\n",
    "a1.ndim\n",
    "a1.dtype"
   ]
  },
  {
   "cell_type": "code",
   "execution_count": 25,
   "id": "55120497-f492-480e-9015-bb67951e9aaf",
   "metadata": {},
   "outputs": [
    {
     "data": {
      "text/plain": [
       "dtype('float64')"
      ]
     },
     "execution_count": 25,
     "metadata": {},
     "output_type": "execute_result"
    }
   ],
   "source": [
    "a2 = np.array([[1, 2, 3], [4, 5, 6]], dtype=float)\n",
    "a2.shape\n",
    "a2.size\n",
    "a2.ndim\n",
    "a2.dtype"
   ]
  },
  {
   "cell_type": "code",
   "execution_count": 31,
   "id": "d4ee3626-d1eb-4270-9cca-890756df8070",
   "metadata": {},
   "outputs": [
    {
     "data": {
      "text/plain": [
       "dtype('int32')"
      ]
     },
     "execution_count": 31,
     "metadata": {},
     "output_type": "execute_result"
    }
   ],
   "source": [
    "a3 = np.arange(27).reshape(3, 3, 3)\n",
    "a3\n",
    "a4 = np.arange(40).reshape(2, 2, 2, 5)\n",
    "a4\n",
    "a4.shape\n",
    "a4.ndim\n",
    "a4.dtype"
   ]
  },
  {
   "cell_type": "markdown",
   "id": "144bc30c-1ee6-4ba5-a3d2-d78e7a719d55",
   "metadata": {},
   "source": [
    "- **OPERAÇÕES COM ARRAYS:**\n",
    "  * sin, cos, exp, sqrt: funções seno, cosseno, exponencial, raiz quadrada;\n",
    "  * pi, nan, inf: constantes(float) pi, similar ao None, infinito;\n",
    "  * +, -, *, /: operações aritméticas;\n",
    "  * ARRAY1.dot(ARRAY2): método (multiplicação matricial)."
   ]
  },
  {
   "cell_type": "code",
   "execution_count": 42,
   "id": "0c021329-0d96-4f44-9915-b75b39796643",
   "metadata": {},
   "outputs": [
    {
     "data": {
      "text/plain": [
       "nan"
      ]
     },
     "execution_count": 42,
     "metadata": {},
     "output_type": "execute_result"
    }
   ],
   "source": [
    "import numpy as np\n",
    "\n",
    "np.pi\n",
    "np.sin(np.pi)\n",
    "np.cos(np.pi)\n",
    "np.exp(np.pi)\n",
    "np.sqrt(np.pi)\n",
    "np.inf\n",
    "np.nan"
   ]
  },
  {
   "cell_type": "code",
   "execution_count": 51,
   "id": "38813839-0576-4a5e-a9c6-73ede7cef0cb",
   "metadata": {},
   "outputs": [
    {
     "data": {
      "text/plain": [
       "array([32])"
      ]
     },
     "execution_count": 51,
     "metadata": {},
     "output_type": "execute_result"
    }
   ],
   "source": [
    "a1 = np.array([[1, 2, 3]])\n",
    "a2 = np.array([[4, 5, 6]])\n",
    "a1 + a2\n",
    "a1 - a2\n",
    "a1 * a2      # multiplicacao elemento a elemento\n",
    "\n",
    "a2 = np.array([4, 5, 6])\n",
    "a1.dot(a2)   # multiplicacao de matrizes no numpy"
   ]
  },
  {
   "cell_type": "markdown",
   "id": "cb56990e-2479-4874-9547-fd3206796fd8",
   "metadata": {},
   "source": [
    "- **CRIAÇÃO DE ARRAYS:**\n",
    "  * **Funções:**\n",
    "    * zeros(shape): array preenchido com 0s;\n",
    "    * ones(shape): array preenchido com 1s;\n",
    "    * eye(dimensao): matriz identidade;\n",
    "    * arange(inicio, fim, passo): cria um array unidimensional;\n",
    "    * linspace(inicio, fim, quantidade): cria um array unidimensional;\n",
    "    * vstack((arrays)) e hstack((arrays)): adiciona elementos de um ou mais arrays.\n",
    "  * **Métodos:**\n",
    "    * reshape: retorna um array com o shape indicado;\n",
    "    * resize: modifica o shape do array em que está sendo aplicado."
   ]
  },
  {
   "cell_type": "code",
   "execution_count": 2,
   "id": "7a15b507-0ee4-4dba-9a39-af8a75fe89bd",
   "metadata": {},
   "outputs": [
    {
     "data": {
      "text/plain": [
       "array([[1., 0., 0., 0.],\n",
       "       [0., 1., 0., 0.],\n",
       "       [0., 0., 1., 0.],\n",
       "       [0., 0., 0., 1.]])"
      ]
     },
     "execution_count": 2,
     "metadata": {},
     "output_type": "execute_result"
    }
   ],
   "source": [
    "import numpy as np\n",
    "\n",
    "a1 = np.zeros(6)\n",
    "a1\n",
    "a2 = np.ones(6) * 10\n",
    "a2\n",
    "a3 = np.eye(4)\n",
    "a3"
   ]
  },
  {
   "cell_type": "code",
   "execution_count": 21,
   "id": "fdb903db-9cc0-4a13-befb-5fef2b0dd65b",
   "metadata": {},
   "outputs": [
    {
     "data": {
      "text/plain": [
       "array([ 0.        ,  0.90909091,  1.81818182,  2.72727273,  3.63636364,\n",
       "        4.54545455,  5.45454545,  6.36363636,  7.27272727,  8.18181818,\n",
       "        9.09090909, 10.        ])"
      ]
     },
     "execution_count": 21,
     "metadata": {},
     "output_type": "execute_result"
    }
   ],
   "source": [
    "a4 = np.arange(0, 10, 0.5)\n",
    "a4\n",
    "a5 = np.linspace(0, 10, 12)\n",
    "a5"
   ]
  },
  {
   "cell_type": "code",
   "execution_count": 8,
   "id": "9e7b1404-e24d-4fe3-91bb-03a07a71c3db",
   "metadata": {},
   "outputs": [
    {
     "data": {
      "text/plain": [
       "array([[1., 1., 1., 1.],\n",
       "       [1., 1., 1., 1.]])"
      ]
     },
     "execution_count": 8,
     "metadata": {},
     "output_type": "execute_result"
    }
   ],
   "source": [
    "a6 = np.ones(8)\n",
    "a6\n",
    "a6.reshape(2, 4)   # não modifica a estrutura o array original\n",
    "a6\n",
    "a6.resize(2, 4)    # modifica a estrutura do array original\n",
    "a6"
   ]
  },
  {
   "cell_type": "code",
   "execution_count": 21,
   "id": "fd8d2193-cb5a-4724-bf3a-002087762f29",
   "metadata": {},
   "outputs": [
    {
     "data": {
      "text/plain": [
       "array([[0., 0., 0., 0., 1., 1., 1., 1.],\n",
       "       [0., 0., 0., 0., 1., 1., 1., 1.]])"
      ]
     },
     "execution_count": 21,
     "metadata": {},
     "output_type": "execute_result"
    }
   ],
   "source": [
    "a0 = np.zeros(8)\n",
    "a0.resize(2, 4)\n",
    "a1 = np.ones(8)\n",
    "a1.resize(2, 4)\n",
    "\n",
    "av = np.vstack((a0, a1))\n",
    "av\n",
    "ah = np.hstack((a0, a1))\n",
    "ah"
   ]
  },
  {
   "cell_type": "markdown",
   "id": "a0f2ac9c-3921-43ac-b811-f6f342c880a4",
   "metadata": {},
   "source": [
    "- **MÉTODO copy():**\n",
    "  Faz a cópia (deep copy) do array. Cuidado! O sinal de igual não executa essa função. Nota: a propriedade base retorna o array utilizado para criar o array em questão.\n",
    "\n",
    "  **OBS**: *array é um objeto e possui um método específico para ser copiado como uma variável independente:* .copy()"
   ]
  },
  {
   "cell_type": "code",
   "execution_count": 12,
   "id": "374c374a-4f72-4c6f-b794-afa54433143c",
   "metadata": {},
   "outputs": [
    {
     "data": {
      "text/plain": [
       "True"
      ]
     },
     "execution_count": 12,
     "metadata": {},
     "output_type": "execute_result"
    }
   ],
   "source": [
    "import numpy as np\n",
    "a = np.arange(8)\n",
    "a\n",
    "b = a   # o mesmo array e adiconado em outra variavel. Eles possuem relacao como pode ser visto abaixo\n",
    "b\n",
    "a[0] = 100\n",
    "a\n",
    "b\n",
    "a is b"
   ]
  },
  {
   "cell_type": "code",
   "execution_count": 27,
   "id": "c53914ba-8026-49b3-82da-d738aab091e8",
   "metadata": {},
   "outputs": [
    {
     "data": {
      "text/plain": [
       "False"
      ]
     },
     "execution_count": 27,
     "metadata": {},
     "output_type": "execute_result"
    }
   ],
   "source": [
    "a[0] = 9\n",
    "a\n",
    "c = a.copy()\n",
    "a[0] = 1\n",
    "a\n",
    "c\n",
    "c is a"
   ]
  },
  {
   "cell_type": "code",
   "execution_count": 31,
   "id": "3dfbebd2-6689-4169-9a83-06bb5460f06e",
   "metadata": {},
   "outputs": [
    {
     "data": {
      "text/plain": [
       "True"
      ]
     },
     "execution_count": 31,
     "metadata": {},
     "output_type": "execute_result"
    }
   ],
   "source": [
    "a\n",
    "d = a.reshape(2, 4)\n",
    "d\n",
    "d is a\n",
    "d.base is a"
   ]
  },
  {
   "cell_type": "markdown",
   "id": "df187e90-4098-4f69-bb57-631f9a31c3fd",
   "metadata": {},
   "source": [
    "- **MÉTODOS MATEMÁTICOS PARA ARRAYS:**\n",
    "\n",
    "  * .max() | .min(): retorna os valores máximo e mínimo;\n",
    "  * .argmax() | .argmin(): retorna os índices de valor máximo e mínimo;\n",
    "  * .sum() | .mean() | .std(): soma, média e desvio-padrão;\n",
    "  * .cumsum(): retorna um array com a soma acumulada."
   ]
  },
  {
   "cell_type": "code",
   "execution_count": 47,
   "id": "0a1b8694-cbb8-47da-8477-f5919b21fd3f",
   "metadata": {},
   "outputs": [
    {
     "data": {
      "text/plain": [
       "array([ 11,  12,  16,  25,  41,  66, 102, 151])"
      ]
     },
     "execution_count": 47,
     "metadata": {},
     "output_type": "execute_result"
    }
   ],
   "source": [
    "import numpy as np\n",
    "arr = np.arange(8).reshape(2,4)**2\n",
    "arr[0][0] = 11 \n",
    "arr.max()\n",
    "arr.max(axis=1)\n",
    "arr.min()\n",
    "arr.argmax()\n",
    "arr.argmin()\n",
    "arr.sum()\n",
    "arr.mean()\n",
    "arr.std()\n",
    "arr.cumsum()"
   ]
  },
  {
   "cell_type": "markdown",
   "id": "dd9b7024-bd24-42b9-a13f-e701a76dce67",
   "metadata": {},
   "source": [
    "- **ÍNDICES E FATIAS DE ARRAYS:**\n",
    "\n",
    "  * [i]: para 1 dimensão funciona como nas listas;\n",
    "  * [:i]: exibe um array que vai do índice 0 até o anterior ao i;\n",
    "  * [i:]: exibe um array que vai do índice posterior ao i até o último índice;\n",
    "  * [::i]: exibe todos os elementos variando de i em i;\n",
    "  * [::-i]: exibe a sequência de elementos de trás para frente variando de i em i;\n",
    "  * [a:b:c]: início, fim, step;\n",
    "  * [i,j]: para exibir um elemento de uma matriz;\n",
    "  * [i,a:b]: retorna uma fatia da linha i com elementos das colunas a até b;\n",
    "  * [n,i,j]: outra dimensão, linha, coluna."
   ]
  },
  {
   "cell_type": "code",
   "execution_count": 15,
   "id": "974ea339-6e62-4302-884d-924032d15645",
   "metadata": {},
   "outputs": [
    {
     "data": {
      "text/plain": [
       "array([ 0,  1,  4,  9, 16, 25, 36, 49, 64, 81])"
      ]
     },
     "execution_count": 15,
     "metadata": {},
     "output_type": "execute_result"
    }
   ],
   "source": [
    "import numpy as np\n",
    "\n",
    "# Arrays unidimensionais\n",
    "a = np.arange(10)**2\n",
    "a"
   ]
  },
  {
   "cell_type": "code",
   "execution_count": 17,
   "id": "196d840d-217d-41f1-8754-b82385f4273e",
   "metadata": {},
   "outputs": [
    {
     "data": {
      "text/plain": [
       "array([ 4, 16, 36])"
      ]
     },
     "execution_count": 17,
     "metadata": {},
     "output_type": "execute_result"
    }
   ],
   "source": [
    "a[len(a) - 1]\n",
    "a[:2]\n",
    "a[2:]\n",
    "a[::3]\n",
    "a[::-2]\n",
    "a[2:8:2]"
   ]
  },
  {
   "cell_type": "code",
   "execution_count": 18,
   "id": "8a6529d2-262d-49c6-9e34-40e35805daf6",
   "metadata": {},
   "outputs": [
    {
     "data": {
      "text/plain": [
       "array([[ 0,  1,  2,  3,  4],\n",
       "       [ 5,  6,  7,  8,  9],\n",
       "       [10, 11, 12, 13, 14],\n",
       "       [15, 16, 17, 18, 19]])"
      ]
     },
     "execution_count": 18,
     "metadata": {},
     "output_type": "execute_result"
    }
   ],
   "source": [
    "# Arrays bidimensionais\n",
    "b = np.arange(20).reshape(4,5)\n",
    "b"
   ]
  },
  {
   "cell_type": "code",
   "execution_count": 28,
   "id": "bca81237-52c8-4aec-9747-f7d58208ca5f",
   "metadata": {},
   "outputs": [
    {
     "data": {
      "text/plain": [
       "array([[13, 14],\n",
       "       [18, 19]])"
      ]
     },
     "execution_count": 28,
     "metadata": {},
     "output_type": "execute_result"
    }
   ],
   "source": [
    "b[1,1]\n",
    "b[0,:5]\n",
    "b[:4,0]\n",
    "b[1,2:]\n",
    "b[2:,3:]"
   ]
  },
  {
   "cell_type": "code",
   "execution_count": 29,
   "id": "3b05dffb-3806-469b-93f7-66f60df56b2c",
   "metadata": {},
   "outputs": [
    {
     "data": {
      "text/plain": [
       "array([[[ 0,  1,  2,  3,  4],\n",
       "        [ 5,  6,  7,  8,  9],\n",
       "        [10, 11, 12, 13, 14],\n",
       "        [15, 16, 17, 18, 19]],\n",
       "\n",
       "       [[20, 21, 22, 23, 24],\n",
       "        [25, 26, 27, 28, 29],\n",
       "        [30, 31, 32, 33, 34],\n",
       "        [35, 36, 37, 38, 39]]])"
      ]
     },
     "execution_count": 29,
     "metadata": {},
     "output_type": "execute_result"
    }
   ],
   "source": [
    "c = np.arange(40).reshape(2,4,5)\n",
    "c"
   ]
  },
  {
   "cell_type": "code",
   "execution_count": 31,
   "id": "69e9f831-2a95-4ff2-8430-fb9ca41725f0",
   "metadata": {},
   "outputs": [
    {
     "data": {
      "text/plain": [
       "26"
      ]
     },
     "execution_count": 31,
     "metadata": {},
     "output_type": "execute_result"
    }
   ],
   "source": [
    "c[1,1,1]"
   ]
  },
  {
   "cell_type": "markdown",
   "id": "b203e810-8c2a-4918-8439-643a89a7753d",
   "metadata": {},
   "source": [
    "- **OPERAÇÕES COM VETORES E MATRIZES NO NUMPY:**\n",
    "\n",
    "  * .dot(**a**,**b**) ou @: retorna o **produto escalar** entre os vetores **a** e **b**;\n",
    "  * .cross(**a**,**b**): retorna o **produto vetorial** entre os vetores **a** e **b**;\n",
    "  * .inner(**a**,**b**) e .outer(**a**,**b**): retorna o **produto interno** e **externo** entre os vetores **a** e **b**;\n",
    "  * .linalg.norm(**a**): retorna a **norma** do vetor **a**;\n",
    "  * .matmul(**A**,**B**) ou @: retorna o **produto** entre as matrizes **A** e **B**;\n",
    "  * .linalg.det(**A**): retorna o **determinante** da matriz **A**;\n",
    "  * .linalg.inv(**A**): retorna a **matriz inversa** de **A**."
   ]
  },
  {
   "cell_type": "markdown",
   "id": "c4b3b32b-e60c-4749-ba4a-d9057608038a",
   "metadata": {},
   "source": [
    "**Operações com vetores:**"
   ]
  },
  {
   "cell_type": "code",
   "execution_count": 36,
   "id": "66111360-ee3e-45f4-a33a-129883ead26c",
   "metadata": {},
   "outputs": [
    {
     "data": {
      "text/plain": [
       "14"
      ]
     },
     "execution_count": 36,
     "metadata": {},
     "output_type": "execute_result"
    }
   ],
   "source": [
    "import numpy as np\n",
    "\n",
    "a = np.array([1, 2, 3])\n",
    "np.dot(a,a)\n",
    "a@a"
   ]
  },
  {
   "cell_type": "code",
   "execution_count": 46,
   "id": "b89a2d26-9119-4e8a-849d-db51905b0661",
   "metadata": {},
   "outputs": [
    {
     "data": {
      "text/plain": [
       "array([0, 0, 1])"
      ]
     },
     "execution_count": 46,
     "metadata": {},
     "output_type": "execute_result"
    }
   ],
   "source": [
    "np.inner(a,a)\n",
    "np.outer(a,a)\n",
    "np.cross(np.array([1,0,0]), np.array([0,1,0]))"
   ]
  },
  {
   "cell_type": "code",
   "execution_count": 45,
   "id": "16f9444b-853e-4c1a-957a-9b813fc17c49",
   "metadata": {},
   "outputs": [
    {
     "data": {
      "text/plain": [
       "True"
      ]
     },
     "execution_count": 45,
     "metadata": {},
     "output_type": "execute_result"
    }
   ],
   "source": [
    "a\n",
    "np.sqrt(1**2 + 2**2 + 3**2)\n",
    "np.linalg.norm(a)\n",
    "np.linalg.norm(a) == np.sqrt(1**2 + 2**2 + 3**2)"
   ]
  },
  {
   "cell_type": "markdown",
   "id": "45ef2b50-943e-4128-b963-937048e72ec2",
   "metadata": {},
   "source": [
    "**Operações com matrizes:**"
   ]
  },
  {
   "cell_type": "code",
   "execution_count": 54,
   "id": "4423438e-f042-49bc-b7fa-f73a426174cd",
   "metadata": {},
   "outputs": [
    {
     "data": {
      "text/plain": [
       "array([[1., 0.],\n",
       "       [0., 1.]])"
      ]
     },
     "execution_count": 54,
     "metadata": {},
     "output_type": "execute_result"
    }
   ],
   "source": [
    "A = np.array([[1,2],[4,4]])\n",
    "np.matmul(A,A)\n",
    "A@A\n",
    "np.linalg.det(A)\n",
    "np.linalg.inv(A)\n",
    "np.matmul(A, np.linalg.inv(A))"
   ]
  },
  {
   "cell_type": "markdown",
   "id": "cfa0d246-1dbc-4cf4-9fdf-b1829d0afb7d",
   "metadata": {},
   "source": [
    "**Autovalor e Autovetor:**\n",
    "\n",
    "  * .linalg.eig(**A**): retorna os autovalores e autovetores da matriz **A**."
   ]
  },
  {
   "cell_type": "code",
   "execution_count": 65,
   "id": "07d6429b-6c56-49f2-8634-9f4986d9ecdd",
   "metadata": {},
   "outputs": [
    {
     "name": "stdout",
     "output_type": "stream",
     "text": [
      "Autovalores: [7.64575131 1.         2.35424869]\n",
      "==========\n",
      "Autovetores: [[-0.76505532 -0.57735027 -0.28523152]\n",
      " [-0.6295454   0.57735027  0.51994159]\n",
      " [ 0.13550992 -0.57735027  0.8051731 ]]\n"
     ]
    }
   ],
   "source": [
    "import numpy as np\n",
    "\n",
    "A = np.array([[5,3,-1], [3,4,0], [-1,0,2]])\n",
    "(eigenvalues, eigenvectors) = np.linalg.eig(A)\n",
    "print(f\"Autovalores: {eigenvalues}\")\n",
    "print(\"==========\")\n",
    "print(f\"Autovetores: {eigenvectors}\")"
   ]
  },
  {
   "cell_type": "markdown",
   "id": "58ea3339-647e-41a9-b173-d5568bb2c413",
   "metadata": {},
   "source": [
    "**Solver para sistemas lineares:**\n",
    "\n",
    " * .linalg.solve(A,B): resolve um sistema linear do tipo AX = B."
   ]
  },
  {
   "cell_type": "code",
   "execution_count": 67,
   "id": "9990d417-46a7-4194-aba9-fdb10b520f43",
   "metadata": {},
   "outputs": [
    {
     "data": {
      "text/plain": [
       "array([ 2., -1.,  4.])"
      ]
     },
     "execution_count": 67,
     "metadata": {},
     "output_type": "execute_result"
    }
   ],
   "source": [
    "import numpy as np\n",
    "\n",
    "A = np.array([[3,-1,1],\n",
    "              [-2,3,-3],\n",
    "              [-1,-3,-4]])\n",
    "\n",
    "B = np.array([11,-19,-15])\n",
    "solucao = np.linalg.solve(A,B)\n",
    "solucao"
   ]
  },
  {
   "cell_type": "code",
   "execution_count": 71,
   "id": "0e54f0b3-7908-4e3c-9cb9-16eeb2f17ff4",
   "metadata": {},
   "outputs": [
    {
     "data": {
      "text/plain": [
       "array([3., 2., 1.])"
      ]
     },
     "execution_count": 71,
     "metadata": {},
     "output_type": "execute_result"
    }
   ],
   "source": [
    "A = np.array([\n",
    "                [1,1,1],\n",
    "                [1,2,2],\n",
    "                [2,1,3]\n",
    "            ])\n",
    "\n",
    "B = np.array([6,9,11])\n",
    "solucao = np.linalg.solve(A,B)\n",
    "solucao"
   ]
  },
  {
   "cell_type": "code",
   "execution_count": null,
   "id": "13e9012f-b5a9-4e54-bb52-3a1810d9b81b",
   "metadata": {},
   "outputs": [],
   "source": []
  }
 ],
 "metadata": {
  "kernelspec": {
   "display_name": "Python 3 (ipykernel)",
   "language": "python",
   "name": "python3"
  },
  "language_info": {
   "codemirror_mode": {
    "name": "ipython",
    "version": 3
   },
   "file_extension": ".py",
   "mimetype": "text/x-python",
   "name": "python",
   "nbconvert_exporter": "python",
   "pygments_lexer": "ipython3",
   "version": "3.11.8"
  }
 },
 "nbformat": 4,
 "nbformat_minor": 5
}
