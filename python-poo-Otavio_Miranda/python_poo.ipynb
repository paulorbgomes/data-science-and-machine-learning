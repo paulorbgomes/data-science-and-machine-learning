{
  "nbformat": 4,
  "nbformat_minor": 0,
  "metadata": {
    "colab": {
      "provenance": []
    },
    "kernelspec": {
      "name": "python3",
      "display_name": "Python 3"
    },
    "language_info": {
      "name": "python"
    }
  },
  "cells": [
    {
      "cell_type": "markdown",
      "source": [
        "# PYTHON ORIENTADO A OBJETOS"
      ],
      "metadata": {
        "id": "ZQn7DX4x4_3T"
      }
    },
    {
      "cell_type": "markdown",
      "source": [
        "Link: https://www.youtube.com/playlist?list=PLbIBj8vQhvm34qAAEEH_PdL2tMG9rz-P7"
      ],
      "metadata": {
        "id": "JbP9F3fv5HVr"
      }
    },
    {
      "cell_type": "markdown",
      "source": [
        "### 1. Classes"
      ],
      "metadata": {
        "id": "Zb5_UoQ95cI_"
      }
    },
    {
      "cell_type": "code",
      "execution_count": 61,
      "metadata": {
        "colab": {
          "base_uri": "https://localhost:8080/"
        },
        "id": "OiEqLGC64_Uv",
        "outputId": "09b1de97-da0d-4854-c0cc-e4e4fd85d1c1"
      },
      "outputs": [
        {
          "output_type": "stream",
          "name": "stdout",
          "text": [
            "<__main__.Pessoa object at 0x7f105250ecb0>\n",
            "Paulo R. B. Gomes\n"
          ]
        }
      ],
      "source": [
        "# Criação da classe\n",
        "class Pessoa:\n",
        "  pass\n",
        "\n",
        "if __name__ == \"__main__\":\n",
        "  # Instanciação do objeto\n",
        "  p1 = Pessoa()\n",
        "  print(p1)\n",
        "\n",
        "  p1.nome = \"Paulo R. B. Gomes\"     # variável de instância (geralmente essa forma não é utilizada!)\n",
        "  print(p1.nome)"
      ]
    },
    {
      "cell_type": "code",
      "source": [
        "# Criação da classe com atributos e métodos\n",
        "class Pessoa:\n",
        "  # Método construtor\n",
        "  def __init__(self, nome, idade, comendo=False, falando=False):\n",
        "    self.nome = nome\n",
        "    self.idade = idade\n",
        "    self.comendo = comendo\n",
        "    self.falando = falando     # variáveis de instância (essa é a forma mais utilizada!)\n",
        "\n",
        "  # Métodos personalizados\n",
        "  def falar(self):\n",
        "    self.falando = True\n",
        "    print(f\"{self.nome} está falando ...\")\n",
        "\n",
        "  def silenciar(self):\n",
        "    self.falando = False\n",
        "    print(f\"{self.nome} está em silêncio ...\")\n",
        "\n",
        "  def comer(self, alimento):\n",
        "    if self.comendo == True:\n",
        "      print(f\"{self.nome} já está comendo ...\")\n",
        "    else:\n",
        "      print(f\"{self.nome} está comendo {alimento} ...\")\n",
        "      self.comendo = True\n",
        "\n",
        "  def pararComer(self):\n",
        "    if self.comendo == False:\n",
        "      print(f\"{self.nome} não está comendo ...\")\n",
        "    else:\n",
        "      print(f\"{self.nome} parou de comer ...\")\n",
        "      self.comendo = False\n",
        "\n",
        "if __name__ == \"__main__\":\n",
        "  p1 = Pessoa(\"Paulo R. B. Gomes\", 34)\n",
        "  print(p1.nome)\n",
        "  print(p1.idade)\n",
        "  print(p1.comendo)\n",
        "  print(p1.falando)\n",
        "  p1.falar()\n",
        "  print(p1.falando)\n",
        "  p1.silenciar()\n",
        "  print(p1.falando)\n",
        "  p1.comer(\"Maçã\")\n",
        "  print(p1.comendo)\n",
        "  p1.comer(\"Uva\")\n",
        "  p1.pararComer()\n",
        "  p1.pararComer()"
      ],
      "metadata": {
        "colab": {
          "base_uri": "https://localhost:8080/"
        },
        "id": "eq42Ry-07-9F",
        "outputId": "8b5c68bf-60f4-4f81-d136-40d1dfcbdbd0"
      },
      "execution_count": 62,
      "outputs": [
        {
          "output_type": "stream",
          "name": "stdout",
          "text": [
            "Paulo R. B. Gomes\n",
            "34\n",
            "False\n",
            "False\n",
            "Paulo R. B. Gomes está falando ...\n",
            "True\n",
            "Paulo R. B. Gomes está em silêncio ...\n",
            "False\n",
            "Paulo R. B. Gomes está comendo Maçã ...\n",
            "True\n",
            "Paulo R. B. Gomes já está comendo ...\n",
            "Paulo R. B. Gomes parou de comer ...\n",
            "Paulo R. B. Gomes não está comendo ...\n"
          ]
        }
      ]
    },
    {
      "cell_type": "markdown",
      "source": [
        "### 2. Métodos de classes (utiliza o decorator @classmethod)\n",
        "(São métodos acessíveis diretamente a partir da classe, i.e., não necessitam de uma instância para serem utilizados)."
      ],
      "metadata": {
        "id": "j-8DgyYbFhXB"
      }
    },
    {
      "cell_type": "code",
      "source": [
        "# Atributos de classe x atributos de instância\n",
        "class Pessoa:\n",
        "  # Atributo de classe\n",
        "  ano_atual = 2024\n",
        "\n",
        "  # Método construtor\n",
        "  def __init__(self, nome, idade):\n",
        "    self.nome = nome\n",
        "    self.idade = idade\n",
        "\n",
        "  # Método personalizado\n",
        "  def ano_nascimento(self):\n",
        "    return self.ano_atual - self.idade\n",
        "\n",
        "if __name__ == \"__main__\":\n",
        "  p1 = Pessoa(\"Paulo R. B. Gomes\", 34)\n",
        "  print(f\"Atributo de classe (acessado a partir da classe): {Pessoa.ano_atual}\")\n",
        "  print(f\"Atributo de instância (acessado a partir da instância) Nome: {p1.nome}\")\n",
        "  print(f\"Atributo de instância (acessado a partir da instância) Idade: {p1.idade}\")\n",
        "  print(f\"Instâncias tanbém possuem atributos de classe: {p1.ano_atual}\")\n",
        "  print(f\"Ano de nascimento: {p1.ano_nascimento()}\")"
      ],
      "metadata": {
        "id": "5y6b63iEFi8R",
        "colab": {
          "base_uri": "https://localhost:8080/"
        },
        "outputId": "9c6218d8-123c-4331-f3fe-62c163f132db"
      },
      "execution_count": 63,
      "outputs": [
        {
          "output_type": "stream",
          "name": "stdout",
          "text": [
            "Atributo de classe (acessado a partir da classe): 2024\n",
            "Atributo de instância (acessado a partir da instância) Nome: Paulo R. B. Gomes\n",
            "Atributo de instância (acessado a partir da instância) Idade: 34\n",
            "Instâncias tanbém possuem atributos de classe: 2024\n",
            "Ano de nascimento: 1990\n"
          ]
        }
      ]
    },
    {
      "cell_type": "code",
      "source": [
        "# Métodos de classes\n",
        "class Pessoa:\n",
        "  # Atributos de classe\n",
        "  ano_atual = 2024\n",
        "\n",
        "  # Método construtor\n",
        "  def __init__(self, nome, idade):\n",
        "    self.nome = nome\n",
        "    self.idade = idade     # nome e idade são atributos de instância\n",
        "\n",
        "  # Método pesonalizado\n",
        "  def ano_nascimento(self):     # método de instância\n",
        "    return self.ano_atual - self.idade\n",
        "\n",
        "  # Método de classe\n",
        "  @classmethod\n",
        "  def por_ano_nascimento(cls, nome, ano_nascimento):\n",
        "    idade = cls.ano_atual - ano_nascimento\n",
        "    return cls(nome, idade)\n",
        "\n",
        "if __name__ == \"__main__\":\n",
        "  p1 = Pessoa(\"Paulo R. B. Gomes\", 34)\n",
        "  print(f\"{p1.nome} nasceu em {p1.ano_nascimento()} ...\")\n",
        "  p2 = Pessoa.por_ano_nascimento(\"Flávia\", 1990)"
      ],
      "metadata": {
        "colab": {
          "base_uri": "https://localhost:8080/"
        },
        "id": "4V0k1okLY-F5",
        "outputId": "470581ea-fdcf-470b-e308-1085304266ab"
      },
      "execution_count": 64,
      "outputs": [
        {
          "output_type": "stream",
          "name": "stdout",
          "text": [
            "Paulo R. B. Gomes nasceu em 1990 ...\n"
          ]
        }
      ]
    },
    {
      "cell_type": "markdown",
      "source": [
        "### 3. Métodos estáticos (utiliza o decorator @staticmethod)\n",
        "(São métodos acessíveis sem a utilização da classe e sem a utilização de instâncias. Funcionam como \"funções comuns\")\n"
      ],
      "metadata": {
        "id": "E8aJeDeHdhEv"
      }
    },
    {
      "cell_type": "code",
      "source": [
        "import random\n",
        "\n",
        "# Métodos de estáticos\n",
        "class Pessoa:\n",
        "  # Atributos de classe\n",
        "  ano_atual = 2024\n",
        "\n",
        "  # Método construtor\n",
        "  def __init__(self, nome, idade):\n",
        "    self.nome = nome\n",
        "    self.idade = idade     # nome e idade são atributos de instância\n",
        "\n",
        "  # Método pesonalizado\n",
        "  def ano_nascimento(self):     # método de instância\n",
        "    return self.ano_atual - self.idade\n",
        "\n",
        "  # Método de classe\n",
        "  @classmethod\n",
        "  def por_ano_nascimento(cls, nome, ano_nascimento):\n",
        "    idade = cls.ano_atual - ano_nascimento\n",
        "    return cls(nome, idade)\n",
        "\n",
        "  # Método estático\n",
        "  @staticmethod\n",
        "  def gera_id():\n",
        "    return random.randint(10000, 19999)\n",
        "\n",
        "if __name__ == \"__main__\":\n",
        "  p1 = Pessoa(\"Paulo R. B. Gomes\", 34)\n",
        "  print(f\"{p1.nome} nasceu em {p1.ano_nascimento()} ...\")\n",
        "  p2 = Pessoa.por_ano_nascimento(\"Flávia\", 1990)\n",
        "  print(Pessoa.gera_id())"
      ],
      "metadata": {
        "colab": {
          "base_uri": "https://localhost:8080/"
        },
        "id": "mkgRKzpjdieY",
        "outputId": "cc59cb29-2f82-428c-de2c-1d8d564a60d8"
      },
      "execution_count": 65,
      "outputs": [
        {
          "output_type": "stream",
          "name": "stdout",
          "text": [
            "Paulo R. B. Gomes nasceu em 1990 ...\n",
            "14222\n"
          ]
        }
      ]
    },
    {
      "cell_type": "markdown",
      "source": [
        "### 4. Getters e Setters (encapsulamento)\n",
        "(Métodos acessores e modificadores)"
      ],
      "metadata": {
        "id": "oEDqSeO8j0TC"
      }
    },
    {
      "cell_type": "code",
      "source": [
        "class Produto:\n",
        "  # Método construtor\n",
        "  def __init__(self, nome, preco):\n",
        "    self.__nome = nome\n",
        "    self.__preco = preco   # encapsulamento!\n",
        "\n",
        "  # Getters e Setters\n",
        "  def get_nome(self):\n",
        "    return self.__nome\n",
        "\n",
        "  def set_nome(self, nome):\n",
        "    self.__nome = nome\n",
        "\n",
        "  def get_preco(self):\n",
        "    return self.__preco\n",
        "\n",
        "  def set_preco(self, preco):\n",
        "    self.__preco = preco\n",
        "\n",
        "  # Método personalizado\n",
        "  def desconto(self, percentual):\n",
        "    self.__preco = self.__preco - (self.__preco * (percentual / 100))\n",
        "\n",
        "if __name__ == \"__main__\":\n",
        "  p1 = Produto(\"Camiseta\", 50)\n",
        "  #print(p1.nome)         # nome é um atributo privado (__nome)\n",
        "  print(p1.get_nome())    # o método get_nome() é público\n",
        "  #print(p1.preco)        # preco é um atributo privado (__nome)\n",
        "  print(p1.get_preco())   # o método get_preco() é público\n",
        "\n",
        "  p1.desconto(50)\n",
        "  print(p1.get_preco())"
      ],
      "metadata": {
        "colab": {
          "base_uri": "https://localhost:8080/"
        },
        "id": "oxLY6muLj2hV",
        "outputId": "fea58c86-36ff-4ab8-ffd7-0d173f0f1f39"
      },
      "execution_count": 66,
      "outputs": [
        {
          "output_type": "stream",
          "name": "stdout",
          "text": [
            "Camiseta\n",
            "50\n",
            "25.0\n"
          ]
        }
      ]
    },
    {
      "cell_type": "markdown",
      "source": [
        "### 5. Atributos de classe (repetido)"
      ],
      "metadata": {
        "id": "JahX5tFVqVwB"
      }
    },
    {
      "cell_type": "code",
      "source": [
        "class A:\n",
        "  vc = 123     # atributo de classe\n",
        "\n",
        "if __name__ == \"__main__\":\n",
        "  a1 = A()\n",
        "  a2 = A()\n",
        "\n",
        "  print(a1.vc)\n",
        "  print(a2.vc)\n",
        "  print(A.vc)\n",
        "  print(\"----------\")\n",
        "\n",
        "  A.vc = 1000\n",
        "  print(a1.vc)\n",
        "  print(a2.vc)\n",
        "  print(A.vc)\n",
        "  print(\"----------\")\n",
        "\n",
        "  a1.vc = 100\n",
        "  print(a1.vc)\n",
        "  print(a2.vc)\n",
        "  print(A.vc)\n",
        "  print(\"----------\")"
      ],
      "metadata": {
        "colab": {
          "base_uri": "https://localhost:8080/"
        },
        "id": "OVMIDhQmqW4Z",
        "outputId": "347079d8-c38a-4728-efed-19d72264f5ef"
      },
      "execution_count": 67,
      "outputs": [
        {
          "output_type": "stream",
          "name": "stdout",
          "text": [
            "123\n",
            "123\n",
            "123\n",
            "----------\n",
            "1000\n",
            "1000\n",
            "1000\n",
            "----------\n",
            "100\n",
            "1000\n",
            "1000\n",
            "----------\n"
          ]
        }
      ]
    },
    {
      "cell_type": "markdown",
      "source": [
        "### 6. Encapsulamento\n",
        "- POO Clássico (Java, PHP, C++): modificadores de acesso -> public, protected, private\n",
        "- Python não é 100% OO:\n",
        "\n",
        "Modificadores de  acesso em Python:\n",
        "\n",
        "nomeAtributo ou nomeMetodo() [public]\n",
        "\n",
        "_nomeAtributo ou _nomeMetodo() [protected ou weak private]\n",
        "\n",
        "__nomeAtributo ou __nomeMetodo() [private ou strong private]"
      ],
      "metadata": {
        "id": "AAQeYejOtrcc"
      }
    },
    {
      "cell_type": "markdown",
      "source": [
        "### 7. Relacionamento entre classes"
      ],
      "metadata": {
        "id": "pwZ0X1FqyAKU"
      }
    },
    {
      "cell_type": "markdown",
      "source": [
        "### 7.1 Associação\n",
        "\n",
        "- Uma classe se relaciona com outra classe mas nenhuma delas depende uma da outra (são classes independentes);\n",
        "\n",
        "- Relacionamento de associação: uma instância de uma classe é um atributo de uma instância da outra classe;\n",
        "\n",
        "- O relacionamento de associação é fraco, pois se a instância da primeira classe for apagada da memória, a instância da segunda classe continuará armazenada na memória."
      ],
      "metadata": {
        "id": "7QzYpiOqQD6M"
      }
    },
    {
      "cell_type": "code",
      "source": [
        "class Escritor:\n",
        "  # Método construtor\n",
        "  def __init__(self, nome):\n",
        "    self.__nome = nome\n",
        "    self.__ferramenta = None\n",
        "\n",
        "  # Get e Set\n",
        "  def get_nome(self):\n",
        "    return self.__nome\n",
        "\n",
        "  def set_nome(self, nome):\n",
        "    self.__nome = nome\n",
        "\n",
        "  def get_ferramenta(self):\n",
        "    return self.__ferramenta\n",
        "\n",
        "  def set_ferramenta(self, ferramenta):\n",
        "    self.__ferramenta = ferramenta\n",
        "# ----------\n",
        "\n",
        "class Caneta:\n",
        "  # Método construtor\n",
        "  def __init__(self, marca):\n",
        "    self.__marca = marca\n",
        "\n",
        "  # Get e Set\n",
        "  def get_marca(self):\n",
        "    return self.__marca\n",
        "\n",
        "  def set_marca(self, marca):\n",
        "    self.__marca = marca\n",
        "\n",
        "  # Método personalizado\n",
        "  def escrever(self):\n",
        "    print(\"Caneta está escrevendo ...\")\n",
        "# ----------\n",
        "\n",
        "class MaquinaDeEscrever:\n",
        "  # Método personalizado\n",
        "  def escrever(self):\n",
        "    print(\"Máquina está escrevendo ...\")\n",
        "# ----------\n",
        "\n",
        "if __name__ == \"__main__\":\n",
        "  escritor = Escritor(\"Paulo R. B. Gomes\")\n",
        "  caneta = Caneta(\"BIC\")\n",
        "  maquina_escrever = MaquinaDeEscrever()\n",
        "\n",
        "  escritor.set_ferramenta(caneta)\n",
        "  escritor.get_ferramenta().escrever()\n",
        "\n",
        "  escritor.set_ferramenta(maquina_escrever)\n",
        "  escritor.get_ferramenta().escrever()\n",
        "\n",
        "  del escritor\n",
        "  #print(escritor)\n",
        "  print(caneta)\n",
        "  print(maquina_escrever)"
      ],
      "metadata": {
        "id": "ZR9hUTG8yBMM",
        "colab": {
          "base_uri": "https://localhost:8080/"
        },
        "outputId": "cad7da74-5c05-4b50-8272-59cbad295e57"
      },
      "execution_count": 68,
      "outputs": [
        {
          "output_type": "stream",
          "name": "stdout",
          "text": [
            "Caneta está escrevendo ...\n",
            "Máquina está escrevendo ...\n",
            "<__main__.Caneta object at 0x7f1052571570>\n",
            "<__main__.MaquinaDeEscrever object at 0x7f1052570e80>\n"
          ]
        }
      ]
    },
    {
      "cell_type": "markdown",
      "source": [
        "### 7.2 Agregação\n",
        "- Uma classe usa uma outra classe como parte de si. Essa classe precisa da outra classe para existir. A segunda classe existe independentemente da primeira classe;\n",
        "\n",
        "- Uma classe depende da outra para funcionar corretamente;\n",
        "\n",
        "- Ambas as classes podem existir independentemente. Contudo, uma não funciona corretamente sem a outra."
      ],
      "metadata": {
        "id": "EKXwygIZO3P1"
      }
    },
    {
      "cell_type": "code",
      "source": [
        "class CarrinhoDeCompras:\n",
        "  # Método construtor\n",
        "  def __init__(self):\n",
        "    self.__produtos = []\n",
        "\n",
        "  # Get e Set\n",
        "  def get_produtos(self):\n",
        "    return self.__produtos\n",
        "\n",
        "  # Métodos personalizados\n",
        "  def inserir_produto(self, produto):\n",
        "    self.__produtos.append(produto)\n",
        "\n",
        "  def lista_produtos(self):\n",
        "    for i in self.__produtos:\n",
        "      print(i.get_nome(), i.get_valor())\n",
        "\n",
        "  def soma_total(self):\n",
        "    total = 0\n",
        "    for i in self.__produtos:\n",
        "      total = total + i.get_valor()\n",
        "    print(f\"Valor total da compra: R$ {total:.2f}\")\n",
        "# ---------------\n",
        "\n",
        "class Produto:\n",
        "  # Método construtor\n",
        "  def __init__(self, nome, valor):\n",
        "    self.__nome = nome\n",
        "    self.__valor = valor\n",
        "\n",
        "  # Get e Set\n",
        "  def get_nome(self):\n",
        "    return self.__nome\n",
        "\n",
        "  def set_nome(self, nome):\n",
        "    self.__nome = nome\n",
        "\n",
        "  def get_valor(self):\n",
        "    return self.__valor\n",
        "\n",
        "  def set_valor(self, valor):\n",
        "    self.__valor = valor\n",
        "# ---------------\n",
        "\n",
        "if __name__ == \"__main__\":\n",
        "  carrinho = CarrinhoDeCompras()\n",
        "\n",
        "  p1 = Produto(\"Camiseta\", 50)\n",
        "  p2 = Produto(\"Relógio\", 100)\n",
        "  p3 = Produto(\"Tênis\", 80)\n",
        "\n",
        "  print(\"Primeira volta na loja ...\")\n",
        "  carrinho.inserir_produto(p1)\n",
        "  carrinho.lista_produtos()\n",
        "  carrinho.soma_total()\n",
        "\n",
        "  print(\"Segunda volta na loja ...\")\n",
        "  carrinho.inserir_produto(p2)\n",
        "  carrinho.lista_produtos()\n",
        "  carrinho.soma_total()\n",
        "\n",
        "  print(\"Terceira volta na loja ...\")\n",
        "  carrinho.inserir_produto(p3)\n",
        "  carrinho.lista_produtos()\n",
        "  carrinho.soma_total()"
      ],
      "metadata": {
        "id": "Ay_4qSrxO4Wz",
        "colab": {
          "base_uri": "https://localhost:8080/"
        },
        "outputId": "bd87d51d-7558-4e11-8f75-7938bf747c3b"
      },
      "execution_count": 69,
      "outputs": [
        {
          "output_type": "stream",
          "name": "stdout",
          "text": [
            "Primeira volta na loja ...\n",
            "Camiseta 50\n",
            "Valor total da compra: R$ 50.00\n",
            "Segunda volta na loja ...\n",
            "Camiseta 50\n",
            "Relógio 100\n",
            "Valor total da compra: R$ 150.00\n",
            "Terceira volta na loja ...\n",
            "Camiseta 50\n",
            "Relógio 100\n",
            "Tênis 80\n",
            "Valor total da compra: R$ 230.00\n"
          ]
        }
      ]
    },
    {
      "cell_type": "markdown",
      "source": [
        "### 7.3 Composição\n",
        "- É a relação mais forte entre classes;\n",
        "\n",
        "- Uma classe é \"dona\" dos objetos de outra classe;\n",
        "\n",
        "- Se a classe principal for apagada, todos os objetos que a classe principal utilizar serão apagados com ela."
      ],
      "metadata": {
        "id": "iN9ig1lSAFdM"
      }
    },
    {
      "cell_type": "code",
      "source": [
        "class Cliente:\n",
        "  # Método construtor\n",
        "  def __init__(self, nome, idade):\n",
        "    self.__nome = nome\n",
        "    self.__idade = idade\n",
        "    self.__enderecos = []     # essa lista receberá objetos da classe Endereco\n",
        "\n",
        "  # Método destrutor\n",
        "  def __del__(self):\n",
        "    print(f\"{self.nome} foi apagado!\")\n",
        "\n",
        "  # Get e Set\n",
        "  @property\n",
        "  def nome(self):\n",
        "    return self.__nome\n",
        "\n",
        "  @nome.setter\n",
        "  def nome(self, nome):\n",
        "    self.__nome = nome\n",
        "\n",
        "  @property\n",
        "  def idade(self):\n",
        "    return self.__idade\n",
        "\n",
        "  @idade.setter\n",
        "  def idade(self, idade):\n",
        "    self.__idade = idade\n",
        "\n",
        "  @property\n",
        "  def enderecos(self):\n",
        "    return self.__enderecos\n",
        "\n",
        "  # Métodos personalizados\n",
        "  def inserir_endereco(self, cidade, estado):\n",
        "    self.__enderecos.append(Endereco(cidade, estado))\n",
        "\n",
        "  def lista_enderecos(self):\n",
        "    for endereco in self.__enderecos:\n",
        "      print(endereco.cidade, endereco.estado)\n",
        "# ---------------\n",
        "\n",
        "class Endereco:\n",
        "  # Método construtor\n",
        "  def __init__(self, cidade, estado):\n",
        "    self.__cidade = cidade\n",
        "    self.__estado = estado\n",
        "\n",
        "  # Método destrutor\n",
        "  def __del__(self):\n",
        "    print(f\"{self.cidade} - {self.estado} foi apagado\")\n",
        "\n",
        "  # Get e Set\n",
        "  @property\n",
        "  def cidade(self):\n",
        "    return self.__cidade\n",
        "\n",
        "  @cidade.setter\n",
        "  def cidade(self, cidade):\n",
        "    self.__cidade = cidade\n",
        "\n",
        "  @property\n",
        "  def estado(self):\n",
        "    return self.__estado\n",
        "\n",
        "  @estado.setter\n",
        "  def estado(self, estado):\n",
        "    self.__estado = estado\n",
        "# ---------------\n",
        "\n",
        "if __name__ == \"__main__\":\n",
        "  cliente1 = Cliente(\"Paulo\", 34)\n",
        "  cliente1.inserir_endereco(\"Fortaleza\", \"CE\")\n",
        "  print(cliente1.nome)\n",
        "  cliente1.lista_enderecos()\n",
        "  del cliente1\n",
        "  print(\"---------------\")\n",
        "\n",
        "  cliente2 = Cliente(\"Ricardo\", 34)\n",
        "  cliente2.inserir_endereco(\"Tauá\", \"CE\")\n",
        "  cliente2.inserir_endereco(\"Morada Nova\", \"CE\")\n",
        "  print(cliente2.nome)\n",
        "  cliente2.lista_enderecos()\n",
        "  del cliente2\n",
        "  print(\"---------------\")"
      ],
      "metadata": {
        "id": "fv7JE_bNAIXu",
        "colab": {
          "base_uri": "https://localhost:8080/"
        },
        "outputId": "a0625d6e-cdf3-4a20-8e93-62880aa7daa8"
      },
      "execution_count": 70,
      "outputs": [
        {
          "output_type": "stream",
          "name": "stdout",
          "text": [
            "Paulo\n",
            "Fortaleza CE\n",
            "Paulo foi apagado!\n",
            "Fortaleza - CE foi apagado\n",
            "---------------\n",
            "Ricardo\n",
            "Tauá CE\n",
            "Morada Nova CE\n",
            "Ricardo foi apagado!\n",
            "Morada Nova - CE foi apagado\n",
            "Tauá - CE foi apagado\n",
            "---------------\n"
          ]
        }
      ]
    },
    {
      "cell_type": "markdown",
      "source": [
        "### 8. Herança\n",
        "- Associação: um objeto usa outro objeto;\n",
        "\n",
        "- Agregação: um objeto tem outro objeto\n",
        "\n",
        "- Composição: um objeto é dono de outro objeto\n",
        "\n",
        "- Herança: um objeto é outro objeto"
      ],
      "metadata": {
        "id": "lEguqLmHbPRc"
      }
    },
    {
      "cell_type": "code",
      "source": [
        "# Superclasse\n",
        "class Pessoa:\n",
        "  def __init__(self, nome, idade):\n",
        "    self.__nome = nome\n",
        "    self.__idade = idade\n",
        "\n",
        "  @property\n",
        "  def nome(self):\n",
        "    return self.__nome\n",
        "\n",
        "  @property\n",
        "  def idade(self):\n",
        "    return self.__idade\n",
        "\n",
        "  @nome.setter\n",
        "  def nome(self, nome):\n",
        "    self.__nome = nome\n",
        "\n",
        "  @idade.setter\n",
        "  def idade(self, idade):\n",
        "    self.__idade = idade\n",
        "\n",
        "  def falar(self):\n",
        "    print(\"Falando ...\")\n",
        "# ---------------\n",
        "\n",
        "# Subclasse\n",
        "class Cliente(Pessoa):\n",
        "  def __init__(self, nome, idade, rg):\n",
        "    super().__init__(nome, idade)\n",
        "    self.__rg = rg\n",
        "\n",
        "  @property\n",
        "  def rg(self):\n",
        "    return self.__rg\n",
        "\n",
        "  @rg.setter\n",
        "  def rg(self, rg):\n",
        "    self.__rg = rg\n",
        "\n",
        "  def falar(self):     # polimorfismo\n",
        "    print(\"Cliente falando ...\")\n",
        "\n",
        "  def comprar(self):\n",
        "    print(\"Cliente comprando ...\")\n",
        "# ---------------\n",
        "\n",
        "# Subclasse\n",
        "class Aluno(Pessoa):\n",
        "  def __init__(self, nome, idade, matricula):\n",
        "    super().__init__(nome, idade)\n",
        "    self.__matricula = matricula\n",
        "\n",
        "  @property\n",
        "  def matricula(self):\n",
        "    return self.__matricula\n",
        "\n",
        "  @matricula.setter\n",
        "  def matricula(self, matricula):\n",
        "    self.__matricula = matricula\n",
        "\n",
        "  def falar(self):     # polimorfismo\n",
        "    print(\"Aluno falando ...\")\n",
        "\n",
        "  def estudar(self):\n",
        "    print(\"Aluno estudando ...\")\n",
        "# ---------------\n",
        "\n",
        "if __name__ == \"__main__\":\n",
        "  c1 = Cliente(\"Paulo R. B. Gomes\", 34, \"0000-5\")\n",
        "  print(c1.nome, c1.idade, c1.rg)\n",
        "  c1.falar()\n",
        "  c1.comprar()\n",
        "\n",
        "  print(\"---------------\")\n",
        "\n",
        "  a1 = Aluno(\"Paulo Ricardo\", 34, \"1111-5\")\n",
        "  print(a1.nome, a1.idade, a1.matricula)\n",
        "  a1.falar()\n",
        "  a1.estudar()"
      ],
      "metadata": {
        "colab": {
          "base_uri": "https://localhost:8080/"
        },
        "id": "bkanBw1HbRF4",
        "outputId": "e07a3497-08b4-4ab7-d962-40a298be51ed"
      },
      "execution_count": 71,
      "outputs": [
        {
          "output_type": "stream",
          "name": "stdout",
          "text": [
            "Paulo R. B. Gomes 34 0000-5\n",
            "Cliente falando ...\n",
            "Cliente comprando ...\n",
            "---------------\n",
            "Paulo Ricardo 34 1111-5\n",
            "Aluno falando ...\n",
            "Aluno estudando ...\n"
          ]
        }
      ]
    }
  ]
}