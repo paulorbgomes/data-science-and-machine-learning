{
  "nbformat": 4,
  "nbformat_minor": 0,
  "metadata": {
    "colab": {
      "provenance": []
    },
    "kernelspec": {
      "name": "python3",
      "display_name": "Python 3"
    },
    "language_info": {
      "name": "python"
    }
  },
  "cells": [
    {
      "cell_type": "markdown",
      "source": [
        "# ALGORITMO ONE-RULE\n",
        "\n",
        "Pseudo-Código\n",
        "\n",
        "Para cada atributo\n",
        "\n",
        "    Para cada valor do atributo gerar uma regra como segue:\n",
        "\n",
        "      Contar a frequência de cada classe;\n",
        "      Encontrar a classe mais frequente;\n",
        "      Formar uma regra que atribui a classe mais frequente ao valor;\n",
        "\n",
        "    Calcular a taxa de erro de classificação das regras;\n",
        "\n",
        "Escolher as regras com a menor taxa de erro de classificação."
      ],
      "metadata": {
        "id": "ytnlco66nz27"
      }
    }
  ]
}