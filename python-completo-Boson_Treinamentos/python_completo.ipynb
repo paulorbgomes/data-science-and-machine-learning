{
  "nbformat": 4,
  "nbformat_minor": 0,
  "metadata": {
    "colab": {
      "provenance": []
    },
    "kernelspec": {
      "name": "python3",
      "display_name": "Python 3"
    },
    "language_info": {
      "name": "python"
    }
  },
  "cells": [
    {
      "cell_type": "markdown",
      "source": [
        "# CURSO COMPLETO DE PYTHON - DO ZERO AO AVANÇADO - BÓSON TREINAMENTOS\n",
        "Link: https://www.youtube.com/watch?v=-VeVq64Fgw0"
      ],
      "metadata": {
        "id": "iWDgQ4gmt9gI"
      }
    },
    {
      "cell_type": "markdown",
      "source": [
        "### 1. Instalação do Python e VSCode"
      ],
      "metadata": {
        "id": "bXXxcgG4w7cr"
      }
    },
    {
      "cell_type": "code",
      "source": [
        "# Processo de instalação do interpretador Python e IDE VSCode ..."
      ],
      "metadata": {
        "id": "iyYEpGsNxYyu"
      },
      "execution_count": null,
      "outputs": []
    },
    {
      "cell_type": "markdown",
      "source": [
        "### 2. Teste do ambiente ..."
      ],
      "metadata": {
        "id": "O_jemBD-xPpg"
      }
    },
    {
      "cell_type": "code",
      "execution_count": null,
      "metadata": {
        "colab": {
          "base_uri": "https://localhost:8080/"
        },
        "id": "_08D_3cSt24Y",
        "outputId": "87ea444d-b39f-4658-a070-5324df6f5ba6"
      },
      "outputs": [
        {
          "output_type": "stream",
          "name": "stdout",
          "text": [
            "Curso de Python da Bóson Treinamentos ...\n"
          ]
        }
      ],
      "source": [
        "# Comentário em linguagem Python\n",
        "print(\"Curso de Python da Bóson Treinamentos ...\")"
      ]
    },
    {
      "cell_type": "markdown",
      "source": [
        "### 3. Outras IDEs ..."
      ],
      "metadata": {
        "id": "EYt1Hiyr0zaH"
      }
    },
    {
      "cell_type": "code",
      "source": [
        "# Exemplos de outras IDEs: IDLE, VSCode, PyCharm, Jupyter, Google Colab, Programiz, OnlineGDB, Online-Python"
      ],
      "metadata": {
        "id": "asSF0c7s01q1"
      },
      "execution_count": null,
      "outputs": []
    },
    {
      "cell_type": "markdown",
      "source": [
        "### 4. Variáveis e tipos de dados"
      ],
      "metadata": {
        "id": "TE7XpMqY3vz_"
      }
    },
    {
      "cell_type": "code",
      "source": [
        "nome = \"Paulo R. B. Gomes\"     # string\n",
        "print(nome)\n",
        "print(type(nome))"
      ],
      "metadata": {
        "colab": {
          "base_uri": "https://localhost:8080/"
        },
        "id": "HXhiVhBk38AU",
        "outputId": "f87aad63-2523-40a6-f2eb-bfd2d0be1fea"
      },
      "execution_count": null,
      "outputs": [
        {
          "output_type": "stream",
          "name": "stdout",
          "text": [
            "Paulo R. B. Gomes\n",
            "<class 'str'>\n"
          ]
        }
      ]
    },
    {
      "cell_type": "code",
      "source": [
        "media = 0                      # int\n",
        "print(media)\n",
        "print(type(media))"
      ],
      "metadata": {
        "colab": {
          "base_uri": "https://localhost:8080/"
        },
        "id": "gcqsrxyv6IDX",
        "outputId": "7b7fee59-4a52-4321-ddd6-7428fe117928"
      },
      "execution_count": null,
      "outputs": [
        {
          "output_type": "stream",
          "name": "stdout",
          "text": [
            "0\n",
            "<class 'int'>\n"
          ]
        }
      ]
    },
    {
      "cell_type": "code",
      "source": [
        "media2 = 0.0                   # float\n",
        "print(media2)\n",
        "print(type(media2))"
      ],
      "metadata": {
        "colab": {
          "base_uri": "https://localhost:8080/"
        },
        "id": "vY5Vkdei6mp4",
        "outputId": "3183d427-be42-48b3-f9c6-16b18485ba31"
      },
      "execution_count": null,
      "outputs": [
        {
          "output_type": "stream",
          "name": "stdout",
          "text": [
            "0.0\n",
            "<class 'float'>\n"
          ]
        }
      ]
    },
    {
      "cell_type": "code",
      "source": [
        "estado = True                  # boolean\n",
        "print(estado)\n",
        "print(type(estado))\n",
        "\n",
        "estado = False\n",
        "print(estado)\n",
        "print(type(estado))"
      ],
      "metadata": {
        "colab": {
          "base_uri": "https://localhost:8080/"
        },
        "id": "mX-K8E6n7NpV",
        "outputId": "a5291052-0cff-426f-e88c-5031842c9635"
      },
      "execution_count": null,
      "outputs": [
        {
          "output_type": "stream",
          "name": "stdout",
          "text": [
            "True\n",
            "<class 'bool'>\n",
            "False\n",
            "<class 'bool'>\n"
          ]
        }
      ]
    },
    {
      "cell_type": "code",
      "source": [
        "numero = 1 + 2j                # complex\n",
        "print(numero)\n",
        "print(type(numero))"
      ],
      "metadata": {
        "colab": {
          "base_uri": "https://localhost:8080/"
        },
        "id": "oiiwn0bn84g8",
        "outputId": "d144436c-6709-424a-b124-2ddc01a68597"
      },
      "execution_count": null,
      "outputs": [
        {
          "output_type": "stream",
          "name": "stdout",
          "text": [
            "(1+2j)\n",
            "<class 'complex'>\n"
          ]
        }
      ]
    },
    {
      "cell_type": "code",
      "source": [
        "# Função isinstance()\n",
        "a = 10\n",
        "b = \"Sol\"\n",
        "\n",
        "print(isinstance(a, int))\n",
        "print(isinstance(a, str))\n",
        "\n",
        "print(isinstance(b, int))\n",
        "print(isinstance(b, str))\n",
        "\n",
        "print(isinstance(b, (int, float, complex)))"
      ],
      "metadata": {
        "colab": {
          "base_uri": "https://localhost:8080/"
        },
        "id": "v1le91n79zYH",
        "outputId": "555f2e80-3980-4c49-9a9f-2580d06153d4"
      },
      "execution_count": null,
      "outputs": [
        {
          "output_type": "stream",
          "name": "stdout",
          "text": [
            "True\n",
            "False\n",
            "False\n",
            "True\n",
            "False\n"
          ]
        }
      ]
    },
    {
      "cell_type": "code",
      "source": [
        "a = 40\n",
        "c = 3\n",
        "r = a * c\n",
        "print(r)"
      ],
      "metadata": {
        "colab": {
          "base_uri": "https://localhost:8080/"
        },
        "id": "exoDyyBR_o8Q",
        "outputId": "3eb9c147-51cb-4527-ab11-38ec224f4e16"
      },
      "execution_count": null,
      "outputs": [
        {
          "output_type": "stream",
          "name": "stdout",
          "text": [
            "120\n"
          ]
        }
      ]
    },
    {
      "cell_type": "markdown",
      "source": [
        "### 5. Operadores aritméticos"
      ],
      "metadata": {
        "id": "C-SBgYWv_nnm"
      }
    },
    {
      "cell_type": "code",
      "source": [
        "a = 10\n",
        "b = 5\n",
        "print(a + b)\n",
        "print(a - b)\n",
        "print(a / b)\n",
        "print(a // b)\n",
        "print(a % b)\n",
        "print(a ** b)"
      ],
      "metadata": {
        "id": "oPQn-QtGBXFn",
        "colab": {
          "base_uri": "https://localhost:8080/"
        },
        "outputId": "965aa99c-0844-4559-aa4d-d480ab400662"
      },
      "execution_count": null,
      "outputs": [
        {
          "output_type": "stream",
          "name": "stdout",
          "text": [
            "15\n",
            "5\n",
            "2.0\n",
            "2\n",
            "0\n",
            "100000\n"
          ]
        }
      ]
    },
    {
      "cell_type": "code",
      "source": [
        "# Ordem de precedência (PEMDAS)\n",
        "a = 10\n",
        "b = 5\n",
        "c = 11\n",
        "print(a + b * c)\n",
        "print((a + b) * c)"
      ],
      "metadata": {
        "colab": {
          "base_uri": "https://localhost:8080/"
        },
        "id": "X6eGHAkbVNgB",
        "outputId": "415aafdf-a8fc-4689-9117-7305233f5737"
      },
      "execution_count": null,
      "outputs": [
        {
          "output_type": "stream",
          "name": "stdout",
          "text": [
            "65\n",
            "165\n"
          ]
        }
      ]
    },
    {
      "cell_type": "code",
      "source": [
        "# Exemplo ...\n",
        "x = y = z = 0\n",
        "x = 7\n",
        "y = 9\n",
        "z = x + y\n",
        "\n",
        "print(f\"A soma entre {x} e {y} é {z}.\")"
      ],
      "metadata": {
        "colab": {
          "base_uri": "https://localhost:8080/"
        },
        "id": "UQUhdEy8WAPg",
        "outputId": "04dabfda-8e8b-4a18-8e5f-6731d944b465"
      },
      "execution_count": null,
      "outputs": [
        {
          "output_type": "stream",
          "name": "stdout",
          "text": [
            "A soma entre 7 e 9 é 16.\n"
          ]
        }
      ]
    },
    {
      "cell_type": "markdown",
      "source": [
        "### 6. Entrada de dados padrão"
      ],
      "metadata": {
        "id": "4rxPOp6KWz3s"
      }
    },
    {
      "cell_type": "code",
      "source": [
        "x = int(input(\"Digite o primeiro valor inteiro: \"))\n",
        "y = int(input(\"Digite o segundo valor inteiro: \"))     # obs: a função input retorna uma string!\n",
        "z = x + y\n",
        "\n",
        "print(f\"A soma entre {x} e {y} é {z}.\")"
      ],
      "metadata": {
        "colab": {
          "base_uri": "https://localhost:8080/"
        },
        "id": "9eMtfYdiW2Gn",
        "outputId": "bf2a7770-5ce9-4d65-ab85-6956b14d9fe0"
      },
      "execution_count": null,
      "outputs": [
        {
          "output_type": "stream",
          "name": "stdout",
          "text": [
            "Digite o primeiro valor inteiro: 10\n",
            "Digite o segundo valor inteiro: 20\n",
            "A soma entre 10 e 20 é 30.\n"
          ]
        }
      ]
    },
    {
      "cell_type": "markdown",
      "source": [
        "### 7. Operadores relacionais"
      ],
      "metadata": {
        "id": "tvi5wE1WYOpA"
      }
    },
    {
      "cell_type": "code",
      "source": [
        "# Operadores utilizados para \"comparar\" valores entre variáveis\n",
        "a = 5\n",
        "b = 5\n",
        "\n",
        "print(a == 5)\n",
        "print(b == 6)\n",
        "print(a == b)\n",
        "print(a != b)\n",
        "print(a > 5)\n",
        "print(a < 5)\n",
        "print(a >= 5)\n",
        "print(b <= 5)\n",
        "\n",
        "print(b != (a + 1))\n",
        "print((a * 2 >= b))"
      ],
      "metadata": {
        "colab": {
          "base_uri": "https://localhost:8080/"
        },
        "id": "vqnrXtkoYRZb",
        "outputId": "14961fb4-aae6-4d71-8259-49720bfcea15"
      },
      "execution_count": null,
      "outputs": [
        {
          "output_type": "stream",
          "name": "stdout",
          "text": [
            "True\n",
            "False\n",
            "True\n",
            "False\n",
            "False\n",
            "False\n",
            "True\n",
            "True\n",
            "True\n",
            "True\n"
          ]
        }
      ]
    },
    {
      "cell_type": "code",
      "source": [
        "# Exemplo ...\n",
        "x = y = z = False\n",
        "n1 = n2 = 0\n",
        "n1 = int(input(\"Digite um número: \"))\n",
        "n2 = int(input(\"Digite outro número: \"))\n",
        "\n",
        "x = (n1 == n2)\n",
        "print(f\"Os valores digitados são iguais? {x}\")\n",
        "\n",
        "z = (n1 > n2)\n",
        "print(f\"{n1} é maior que {n2}? {z}\")\n",
        "\n",
        "y = (n1 != n2)\n",
        "print(f\"Os valores digitados são diferentes? {y}\")"
      ],
      "metadata": {
        "colab": {
          "base_uri": "https://localhost:8080/"
        },
        "id": "AVHn9OHEaHPT",
        "outputId": "b26e5996-ae31-46dd-cb0b-2046a802fe8a"
      },
      "execution_count": null,
      "outputs": [
        {
          "output_type": "stream",
          "name": "stdout",
          "text": [
            "Digite um número: 12\n",
            "Digite outro número: 13\n",
            "Os valores digitados são iguais? False\n",
            "12 é maior que 13? False\n",
            "Os valores digitados são diferentes? True\n"
          ]
        }
      ]
    },
    {
      "cell_type": "markdown",
      "source": [
        "### 8. Operadores lógicos"
      ],
      "metadata": {
        "id": "dEEyuXCKcu2g"
      }
    },
    {
      "cell_type": "code",
      "source": [
        "# and, or, not\n",
        "print(\"----------\")\n",
        "print(\"Tabela verdade - and\")\n",
        "print(False and False)\n",
        "print(False and True)\n",
        "print(True and False)\n",
        "print(True and True)\n",
        "print(\"----------\")"
      ],
      "metadata": {
        "id": "TpCo8GOec-_o",
        "colab": {
          "base_uri": "https://localhost:8080/"
        },
        "outputId": "21982083-9cfe-4f4f-df6f-7e2785f2dba1"
      },
      "execution_count": null,
      "outputs": [
        {
          "output_type": "stream",
          "name": "stdout",
          "text": [
            "----------\n",
            "Tabela verdade - and\n",
            "False\n",
            "False\n",
            "False\n",
            "True\n",
            "----------\n"
          ]
        }
      ]
    },
    {
      "cell_type": "code",
      "source": [
        "print(\"----------\")\n",
        "print(\"Tabela verdade - or\")\n",
        "print(False or False)\n",
        "print(False or True)\n",
        "print(True or False)\n",
        "print(True or True)\n",
        "print(\"----------\")"
      ],
      "metadata": {
        "colab": {
          "base_uri": "https://localhost:8080/"
        },
        "id": "Ub7d_q_-7KfP",
        "outputId": "d2342a94-602d-446f-d80b-2e861bed8f26"
      },
      "execution_count": null,
      "outputs": [
        {
          "output_type": "stream",
          "name": "stdout",
          "text": [
            "----------\n",
            "Tabela verdade - or\n",
            "False\n",
            "True\n",
            "True\n",
            "True\n",
            "----------\n"
          ]
        }
      ]
    },
    {
      "cell_type": "code",
      "source": [
        "print(\"----------\")\n",
        "print(\"Tabela verdade - not\")\n",
        "print(not False)\n",
        "print(not True)\n",
        "print(\"----------\")"
      ],
      "metadata": {
        "colab": {
          "base_uri": "https://localhost:8080/"
        },
        "id": "5Xyvw5TT78L5",
        "outputId": "80d0acee-18d7-42a4-9c5c-2d58728081e6"
      },
      "execution_count": null,
      "outputs": [
        {
          "output_type": "stream",
          "name": "stdout",
          "text": [
            "----------\n",
            "Tabela verdade - not\n",
            "True\n",
            "False\n",
            "----------\n"
          ]
        }
      ]
    },
    {
      "cell_type": "code",
      "source": [
        "# Exemplo ...\n",
        "# Programa participa ou não de um evento ...\n",
        "idade = 15\n",
        "altura = 1.65\n",
        "\n",
        "resultado = (idade >= 18) and (altura >= 1.70)\n",
        "print(f\"Essa pessoa pode participar do evento? {resultado}\")"
      ],
      "metadata": {
        "colab": {
          "base_uri": "https://localhost:8080/"
        },
        "id": "XMaVCNy-8mmj",
        "outputId": "1bcfae3f-060e-4ccd-efe6-ad4e6b86f46e"
      },
      "execution_count": null,
      "outputs": [
        {
          "output_type": "stream",
          "name": "stdout",
          "text": [
            "Essa pessoa pode participar do evento? False\n"
          ]
        }
      ]
    },
    {
      "cell_type": "code",
      "source": [
        "# Exemplo ...\n",
        "# Programa de disparo do alarme de um carro\n",
        "# False: porta fechada; True: porta aberta\n",
        "porta1 = False\n",
        "porta2 = False\n",
        "porta3 = False\n",
        "porta4 = True\n",
        "\n",
        "alarme = porta1 or porta2 or porta3 or porta4\n",
        "print(f\"O alarme disparou? {alarme}\")"
      ],
      "metadata": {
        "colab": {
          "base_uri": "https://localhost:8080/"
        },
        "id": "q5UWjDNC9sDz",
        "outputId": "2fbadfee-064c-433c-9113-b8be6abed187"
      },
      "execution_count": null,
      "outputs": [
        {
          "output_type": "stream",
          "name": "stdout",
          "text": [
            "O alarme disparou? True\n"
          ]
        }
      ]
    },
    {
      "cell_type": "markdown",
      "source": [
        "### 9. Desvios condicionais if, elif, else"
      ],
      "metadata": {
        "id": "sFhXVCkN_Phi"
      }
    },
    {
      "cell_type": "code",
      "source": [
        "# Condicional simples\n",
        "'''\n",
        "if(condicao):\n",
        "  codigo\n",
        "'''\n",
        "# Exemplo ...\n",
        "nota1 = float(input(\"Digite a N1: \"))\n",
        "nota2 = float(input(\"Digite a N2: \"))\n",
        "media = (nota1 + nota2) / 2\n",
        "\n",
        "if(media >= 7):\n",
        "  print(\"Aprovado(a)\")\n",
        "print(\"Fim do programa!\")"
      ],
      "metadata": {
        "colab": {
          "base_uri": "https://localhost:8080/"
        },
        "id": "d5ZI6Udp_RSr",
        "outputId": "6617b41b-c32d-476e-b459-e31b40bcd025"
      },
      "execution_count": null,
      "outputs": [
        {
          "output_type": "stream",
          "name": "stdout",
          "text": [
            "Digite a N1: 5\n",
            "Digite a N2: 7\n",
            "Fim do programa!\n"
          ]
        }
      ]
    },
    {
      "cell_type": "code",
      "source": [
        "# Condicional composta\n",
        "'''\n",
        "if(condicao):\n",
        "  codigo\n",
        "else:\n",
        "  codigo\n",
        "'''\n",
        "\n",
        "# Exemplo ...\n",
        "nota1 = float(input(\"Digite a N1: \"))\n",
        "nota2 = float(input(\"Digite a N2: \"))\n",
        "media = (nota1 + nota2) / 2\n",
        "\n",
        "if(media >= 7):\n",
        "  print(\"Aprovado(a)\")\n",
        "else:\n",
        "  print(\"Reprovado(a)\")\n",
        "print(\"Fim do programa!\")"
      ],
      "metadata": {
        "colab": {
          "base_uri": "https://localhost:8080/"
        },
        "id": "W5XZvZefBbOQ",
        "outputId": "040edea6-ee3f-4a55-b074-461d001db4a1"
      },
      "execution_count": null,
      "outputs": [
        {
          "output_type": "stream",
          "name": "stdout",
          "text": [
            "Digite a N1: 8\n",
            "Digite a N2: 9\n",
            "Aprovado(a)\n",
            "Fim do programa!\n"
          ]
        }
      ]
    },
    {
      "cell_type": "code",
      "source": [
        "# Condicional aninhada\n",
        "'''\n",
        "if(condicao):\n",
        "  codigo\n",
        "elif(condicao):\n",
        "  codigo\n",
        "else:\n",
        "  codigo\n",
        "'''\n",
        "\n",
        "# Exemplo ...\n",
        "nota1 = float(input(\"Digite a N1: \"))\n",
        "nota2 = float(input(\"Digite a N2: \"))\n",
        "media = (nota1 + nota2) / 2\n",
        "\n",
        "if(media < 5):\n",
        "  print(\"Reprovado(a)\")\n",
        "elif(media >= 7):\n",
        "  print(\"Aprovado(a)\")\n",
        "else:\n",
        "  print(\"Aluno(a) em recuperação\")\n",
        "print(\"Fim do programa!\")"
      ],
      "metadata": {
        "colab": {
          "base_uri": "https://localhost:8080/"
        },
        "id": "4wWU7B_bFLNX",
        "outputId": "12d42cef-7a09-47e7-c3fa-52fd878688fe"
      },
      "execution_count": null,
      "outputs": [
        {
          "output_type": "stream",
          "name": "stdout",
          "text": [
            "Digite a N1: 6\n",
            "Digite a N2: 5\n",
            "Aluno(a) em recuperação\n",
            "Fim do programa!\n"
          ]
        }
      ]
    },
    {
      "cell_type": "markdown",
      "source": [
        "### 10. Saída de dados com a função print()"
      ],
      "metadata": {
        "id": "0-CeWHNbHS5R"
      }
    },
    {
      "cell_type": "code",
      "source": [
        "mensagem = \"Função print()\"\n",
        "print(mensagem)\n",
        "print(\"Função print()\")"
      ],
      "metadata": {
        "colab": {
          "base_uri": "https://localhost:8080/"
        },
        "id": "ElMjgapmHYWO",
        "outputId": "ff606c11-6e40-4377-f075-b2db6681779e"
      },
      "execution_count": null,
      "outputs": [
        {
          "output_type": "stream",
          "name": "stdout",
          "text": [
            "Função print()\n",
            "Função print()\n"
          ]
        }
      ]
    },
    {
      "cell_type": "code",
      "source": [
        "nome = \"Paulo R. B. Gomes\"\n",
        "print(\"Estudante de Python:\", nome)"
      ],
      "metadata": {
        "colab": {
          "base_uri": "https://localhost:8080/"
        },
        "id": "kTMRo5xyIVXx",
        "outputId": "03fc9d8c-8a0a-4372-9a89-7ad7d6429965"
      },
      "execution_count": null,
      "outputs": [
        {
          "output_type": "stream",
          "name": "stdout",
          "text": [
            "Estudante de Python: Paulo R. B. Gomes\n"
          ]
        }
      ]
    },
    {
      "cell_type": "code",
      "source": [
        "# Concatenação de strings\n",
        "print(\"Estudante de Python: \" + nome)"
      ],
      "metadata": {
        "colab": {
          "base_uri": "https://localhost:8080/"
        },
        "id": "PY-LgJFOIpq7",
        "outputId": "cf6ccb54-43b4-4724-d3ba-11e3361b05c8"
      },
      "execution_count": null,
      "outputs": [
        {
          "output_type": "stream",
          "name": "stdout",
          "text": [
            "Estudante de Python: Paulo R. B. Gomes\n"
          ]
        }
      ]
    },
    {
      "cell_type": "code",
      "source": [
        "# Exemplo ...\n",
        "nome = input(\"Digite seu nome: \")\n",
        "mensagem = \"Seja bem-vindo(a), \"\n",
        "print(mensagem + nome)"
      ],
      "metadata": {
        "colab": {
          "base_uri": "https://localhost:8080/"
        },
        "id": "8iIZ8d4SJH6R",
        "outputId": "fad15278-5897-4877-a3ad-6f9da24e57cd"
      },
      "execution_count": null,
      "outputs": [
        {
          "output_type": "stream",
          "name": "stdout",
          "text": [
            "Digite seu nome: Paulo\n",
            "Seja bem-vindo(a), Paulo\n"
          ]
        }
      ]
    },
    {
      "cell_type": "code",
      "source": [
        "print(\"Imprime a mensagem e muda de linha\")\n",
        "print(\"Imprime a mensagem e permanece na mesma linha. \", end=\"\")\n",
        "print(\"Continuo na mesma linha!\")"
      ],
      "metadata": {
        "colab": {
          "base_uri": "https://localhost:8080/"
        },
        "id": "7DEPIca0J-Vf",
        "outputId": "215fb061-303e-4443-cec0-354161b37cf7"
      },
      "execution_count": null,
      "outputs": [
        {
          "output_type": "stream",
          "name": "stdout",
          "text": [
            "Imprime a mensagem e muda de linha\n",
            "Imprime a mensagem e permanece na mesma linha. Continuo na mesma linha!\n"
          ]
        }
      ]
    },
    {
      "cell_type": "code",
      "source": [
        "# .format\n",
        "nome = \"Paulo R. B. Gomes\"\n",
        "idade = 34\n",
        "\n",
        "print(\"O nome do professor é {} e ele tem {} anos.\".format(nome, idade))"
      ],
      "metadata": {
        "colab": {
          "base_uri": "https://localhost:8080/"
        },
        "id": "yg6PvE-1K4Hp",
        "outputId": "66f2ba47-61da-4cc1-e46f-231d3a5f14e8"
      },
      "execution_count": null,
      "outputs": [
        {
          "output_type": "stream",
          "name": "stdout",
          "text": [
            "O nome do professor é Paulo R. B. Gomes e ele tem 34 anos.\n"
          ]
        }
      ]
    },
    {
      "cell_type": "code",
      "source": [
        "# fstring (método mais moderno)\n",
        "print(f\"O nome do professor é {nome} e ele tem {idade} anos.\")"
      ],
      "metadata": {
        "colab": {
          "base_uri": "https://localhost:8080/"
        },
        "id": "uqOMzzudMAkK",
        "outputId": "63e8c45b-68dd-4d7d-ba88-883a1f268cb6"
      },
      "execution_count": null,
      "outputs": [
        {
          "output_type": "stream",
          "name": "stdout",
          "text": [
            "O nome do professor é Paulo R. B. Gomes e ele tem 34 anos.\n"
          ]
        }
      ]
    },
    {
      "cell_type": "code",
      "source": [
        "# fstring suporta expressões diretamente\n",
        "a = 10\n",
        "b = 5\n",
        "print(f\"Soma: {a + b}, Subtração: {a - b}, Multiplicação: {a * b}, Divisão: {a / b}\")"
      ],
      "metadata": {
        "colab": {
          "base_uri": "https://localhost:8080/"
        },
        "id": "Qz_YF9CzNMDe",
        "outputId": "4129e677-f31c-4726-c26d-4846381ace97"
      },
      "execution_count": null,
      "outputs": [
        {
          "output_type": "stream",
          "name": "stdout",
          "text": [
            "Soma: 15, Subtração: 5, Multiplicação: 50, Divisão: 2.0\n"
          ]
        }
      ]
    },
    {
      "cell_type": "code",
      "source": [
        "# Formatação de float\n",
        "a = 125.579637\n",
        "print(f\"Número: {a}\")\n",
        "print(f\"Número com duas casas decimais: {a:.2f}\")"
      ],
      "metadata": {
        "colab": {
          "base_uri": "https://localhost:8080/"
        },
        "id": "dRPl-jXSNrjM",
        "outputId": "f8fd9bd8-622a-48ce-b054-4994da7cf172"
      },
      "execution_count": null,
      "outputs": [
        {
          "output_type": "stream",
          "name": "stdout",
          "text": [
            "Número: 125.579637\n",
            "Número com duas casas decimais: 125.58\n"
          ]
        }
      ]
    },
    {
      "cell_type": "code",
      "source": [
        "# Caractere de escape\n",
        "print(f\"Número: \\'{a}\\'\")\n",
        "print(\"Mensagem com \\nquebra de linha\")"
      ],
      "metadata": {
        "colab": {
          "base_uri": "https://localhost:8080/"
        },
        "id": "jjOGF6KWPBGT",
        "outputId": "0603c188-53ce-456c-d112-28743cca1ca1"
      },
      "execution_count": null,
      "outputs": [
        {
          "output_type": "stream",
          "name": "stdout",
          "text": [
            "Número: '125.579637'\n",
            "Mensagem com \n",
            "quebra de linha\n"
          ]
        }
      ]
    },
    {
      "cell_type": "code",
      "source": [
        "# Tabulação\n",
        "nome = \"Paulo R. B. Gomes\"\n",
        "idade = 34\n",
        "print(f\"Nome: {nome} \\tIdade: {idade}\")"
      ],
      "metadata": {
        "colab": {
          "base_uri": "https://localhost:8080/"
        },
        "id": "zND2QlDPQG4m",
        "outputId": "3a7e3494-4c33-45c7-c9ce-1d8c837705f3"
      },
      "execution_count": null,
      "outputs": [
        {
          "output_type": "stream",
          "name": "stdout",
          "text": [
            "Nome: Paulo R. B. Gomes \tIdade: 34\n"
          ]
        }
      ]
    },
    {
      "cell_type": "markdown",
      "source": [
        "### 11. Laço de repetição while"
      ],
      "metadata": {
        "id": "Ir7LIFPQQwuk"
      }
    },
    {
      "cell_type": "code",
      "source": [
        "'''\n",
        "while(condicao):\n",
        "  codigo\n",
        "'''\n",
        "\n",
        "# Exemplo ...\n",
        "numero = 1\n",
        "while(numero <= 10):\n",
        "  print(numero)\n",
        "  numero += 1\n",
        "print(\"Fim do programa!\")"
      ],
      "metadata": {
        "colab": {
          "base_uri": "https://localhost:8080/"
        },
        "id": "RMz5Nl43Q1xM",
        "outputId": "9b8dc593-91aa-4ced-dd20-4c19783f0cd3"
      },
      "execution_count": null,
      "outputs": [
        {
          "output_type": "stream",
          "name": "stdout",
          "text": [
            "1\n",
            "2\n",
            "3\n",
            "4\n",
            "5\n",
            "6\n",
            "7\n",
            "8\n",
            "9\n",
            "10\n",
            "Fim do programa!\n"
          ]
        }
      ]
    },
    {
      "cell_type": "code",
      "source": [
        "# Exemplo ...\n",
        "numero = 1\n",
        "while(True):\n",
        "  print(numero)\n",
        "  numero += 1\n",
        "  if(numero > 10):\n",
        "    break\n",
        "print(\"Fim do programa!\")"
      ],
      "metadata": {
        "colab": {
          "base_uri": "https://localhost:8080/"
        },
        "id": "_whFaSQxWqn7",
        "outputId": "2a9c12cf-cd0d-492a-8e14-efc9e0066cc1"
      },
      "execution_count": null,
      "outputs": [
        {
          "output_type": "stream",
          "name": "stdout",
          "text": [
            "1\n",
            "2\n",
            "3\n",
            "4\n",
            "5\n",
            "6\n",
            "7\n",
            "8\n",
            "9\n",
            "10\n",
            "Fim do programa!\n"
          ]
        }
      ]
    },
    {
      "cell_type": "code",
      "source": [
        "# Exemplo (menu) ...\n",
        "while(True):\n",
        "  print(\"----------\")\n",
        "  print(\"[1] - Entrar\")\n",
        "  print(\"[0] - Sair\")\n",
        "  print(\"----------\")\n",
        "  x = int(input(\"Opção: \"))\n",
        "  if(x == 1):\n",
        "    nome = input(\"Digite o seu nome: \")\n",
        "    print(f\"Seja bem-vindo(a) {nome}!\")\n",
        "  elif(x == 0):\n",
        "    print(\"Saindo ...\")\n",
        "    break\n",
        "print(\"Programa finalizado!\")"
      ],
      "metadata": {
        "colab": {
          "base_uri": "https://localhost:8080/"
        },
        "id": "XkMHd6KuXKPk",
        "outputId": "fb5b4409-0f73-46f8-f262-688f09f519f1"
      },
      "execution_count": null,
      "outputs": [
        {
          "output_type": "stream",
          "name": "stdout",
          "text": [
            "----------\n",
            "[1] - Entrar\n",
            "[0] - Sair\n",
            "----------\n",
            "Opção: 1\n",
            "Digite o seu nome: Paulo\n",
            "Seja bem-vindo(a) Paulo!\n",
            "----------\n",
            "[1] - Entrar\n",
            "[0] - Sair\n",
            "----------\n",
            "Opção: 1\n",
            "Digite o seu nome: Flávia\n",
            "Seja bem-vindo(a) Flávia!\n",
            "----------\n",
            "[1] - Entrar\n",
            "[0] - Sair\n",
            "----------\n",
            "Opção: 0\n",
            "Saindo ...\n",
            "Programa finalizado!\n"
          ]
        }
      ]
    },
    {
      "cell_type": "markdown",
      "source": [
        "### 12. Laço for e função range()"
      ],
      "metadata": {
        "id": "cuSh--DSanBn"
      }
    },
    {
      "cell_type": "code",
      "source": [
        "'''\n",
        "for item in sequencia:\n",
        "  codigo\n",
        "'''\n",
        "\n",
        "# Exemplo ...\n",
        "for numero in range(1,11,1):\n",
        "  print(numero)\n",
        "print(\"Fim do programa!\")"
      ],
      "metadata": {
        "id": "oQ3CN5jfaoyj",
        "colab": {
          "base_uri": "https://localhost:8080/"
        },
        "outputId": "47bd3526-3f28-4adb-cb87-17e8859806e0"
      },
      "execution_count": null,
      "outputs": [
        {
          "output_type": "stream",
          "name": "stdout",
          "text": [
            "1\n",
            "2\n",
            "3\n",
            "4\n",
            "5\n",
            "6\n",
            "7\n",
            "8\n",
            "9\n",
            "10\n",
            "Fim do programa!\n"
          ]
        }
      ]
    },
    {
      "cell_type": "code",
      "source": [
        "# Exemplo ...\n",
        "lista = [2, 6, 9, 4, 0, 12, 3, 7]\n",
        "for item in lista:\n",
        "  print(item)\n",
        "print(\"Fim do programa!\")"
      ],
      "metadata": {
        "colab": {
          "base_uri": "https://localhost:8080/"
        },
        "id": "eWudZNZ7d1dy",
        "outputId": "b8a1b335-a355-4178-f52c-af64c224c365"
      },
      "execution_count": null,
      "outputs": [
        {
          "output_type": "stream",
          "name": "stdout",
          "text": [
            "2\n",
            "6\n",
            "9\n",
            "4\n",
            "0\n",
            "12\n",
            "3\n",
            "7\n",
            "Fim do programa!\n"
          ]
        }
      ]
    },
    {
      "cell_type": "code",
      "source": [
        "# Exemplo ...\n",
        "contatos = [\"Paulo\", \"João\", \"Cláudia\", \"Maria\", \"Ricardo\"]\n",
        "for indice,i in enumerate(contatos):\n",
        "  print(f\"Contato {indice + 1}: {i}\")\n",
        "print(\"Fim do programa!\")"
      ],
      "metadata": {
        "colab": {
          "base_uri": "https://localhost:8080/"
        },
        "id": "QgWMDQCKeg3w",
        "outputId": "753814c7-2e74-4e81-dbe1-03a0b54f13b2"
      },
      "execution_count": null,
      "outputs": [
        {
          "output_type": "stream",
          "name": "stdout",
          "text": [
            "Contato 1: Paulo\n",
            "Contato 2: João\n",
            "Contato 3: Cláudia\n",
            "Contato 4: Maria\n",
            "Contato 5: Ricardo\n",
            "Fim do programa!\n"
          ]
        }
      ]
    },
    {
      "cell_type": "code",
      "source": [
        "# Exemplo ...\n",
        "nome = input(\"Digite seu nome: \")\n",
        "for i in range(1,11,1):\n",
        "  print(f\"Seja bem-vindo(a), {nome}\")\n",
        "print(\"Fim do programa!\")"
      ],
      "metadata": {
        "colab": {
          "base_uri": "https://localhost:8080/"
        },
        "id": "M6D2FstKgi6S",
        "outputId": "9367bf0e-4858-449d-861b-b5ff5d904952"
      },
      "execution_count": null,
      "outputs": [
        {
          "output_type": "stream",
          "name": "stdout",
          "text": [
            "Digite seu nome: Paulo R. B. Gomes\n",
            "Seja bem-vindo(a), Paulo R. B. Gomes\n",
            "Seja bem-vindo(a), Paulo R. B. Gomes\n",
            "Seja bem-vindo(a), Paulo R. B. Gomes\n",
            "Seja bem-vindo(a), Paulo R. B. Gomes\n",
            "Seja bem-vindo(a), Paulo R. B. Gomes\n",
            "Seja bem-vindo(a), Paulo R. B. Gomes\n",
            "Seja bem-vindo(a), Paulo R. B. Gomes\n",
            "Seja bem-vindo(a), Paulo R. B. Gomes\n",
            "Seja bem-vindo(a), Paulo R. B. Gomes\n",
            "Seja bem-vindo(a), Paulo R. B. Gomes\n",
            "Fim do programa!\n"
          ]
        }
      ]
    },
    {
      "cell_type": "code",
      "source": [
        "# Exemplo ...\n",
        "contatos = [\"Paulo\", \"João\", \"Cláudia\", \"Maria\", \"Ricardo\"]\n",
        "for i in range(0, len(contatos)):\n",
        "  print(f\"Contato {i + 1}: {contatos[i]}\")\n",
        "print(\"Fim do programa!\")"
      ],
      "metadata": {
        "colab": {
          "base_uri": "https://localhost:8080/"
        },
        "id": "mz0_LJmGhJ6_",
        "outputId": "2e5ff855-3e26-41b8-c24a-bcad9e146f43"
      },
      "execution_count": null,
      "outputs": [
        {
          "output_type": "stream",
          "name": "stdout",
          "text": [
            "Contato 1: Paulo\n",
            "Contato 2: João\n",
            "Contato 3: Cláudia\n",
            "Contato 4: Maria\n",
            "Contato 5: Ricardo\n",
            "Fim do programa!\n"
          ]
        }
      ]
    },
    {
      "cell_type": "code",
      "source": [
        "# Exemplo (números pares de 0 a 99) ...\n",
        "for i in range(0, 100, 2):\n",
        "  print(i, end=\" \")"
      ],
      "metadata": {
        "colab": {
          "base_uri": "https://localhost:8080/"
        },
        "id": "hOF4XPGphvd-",
        "outputId": "911847a5-9c20-4907-851a-44b061e5b2a7"
      },
      "execution_count": null,
      "outputs": [
        {
          "output_type": "stream",
          "name": "stdout",
          "text": [
            "0 2 4 6 8 10 12 14 16 18 20 22 24 26 28 30 32 34 36 38 40 42 44 46 48 50 52 54 56 58 60 62 64 66 68 70 72 74 76 78 80 82 84 86 88 90 92 94 96 98 "
          ]
        }
      ]
    },
    {
      "cell_type": "markdown",
      "source": [
        "### 13. Laços de repetição encadeados"
      ],
      "metadata": {
        "id": "Oxac0-bWkTgr"
      }
    },
    {
      "cell_type": "code",
      "source": [
        "# Exemplo ...\n",
        "matriz = [[1, 2, 3], [4, 5, 6], [7, 8, 9]]\n",
        "for i in range(0, 3):\n",
        "  for j in range(0, 3):\n",
        "    print(f\"Elemento ({i + 1, j + 1}): {matriz[i][j]}\")\n",
        "print(\"Fim do programa!\")"
      ],
      "metadata": {
        "colab": {
          "base_uri": "https://localhost:8080/"
        },
        "id": "hXY4p979ktLu",
        "outputId": "01964fe0-6d1c-4b49-a430-264f617c45df"
      },
      "execution_count": null,
      "outputs": [
        {
          "output_type": "stream",
          "name": "stdout",
          "text": [
            "Elemento ((1, 1)): 1\n",
            "Elemento ((1, 2)): 2\n",
            "Elemento ((1, 3)): 3\n",
            "Elemento ((2, 1)): 4\n",
            "Elemento ((2, 2)): 5\n",
            "Elemento ((2, 3)): 6\n",
            "Elemento ((3, 1)): 7\n",
            "Elemento ((3, 2)): 8\n",
            "Elemento ((3, 3)): 9\n",
            "Fim do programa!\n"
          ]
        }
      ]
    },
    {
      "cell_type": "code",
      "source": [
        "# Exemplo ...\n",
        "import random\n",
        "for i in range(0, 3):\n",
        "  for j in range(0, 3):\n",
        "    matriz[i][j] = random.randint(1,10)\n",
        "print(matriz)\n",
        "print(\"Fim do programa!\")"
      ],
      "metadata": {
        "colab": {
          "base_uri": "https://localhost:8080/"
        },
        "id": "dTSTDF_pm5-C",
        "outputId": "3c16e81a-5871-4884-8398-8ef18309f154"
      },
      "execution_count": null,
      "outputs": [
        {
          "output_type": "stream",
          "name": "stdout",
          "text": [
            "[[3, 6, 10], [6, 5, 8], [3, 6, 9]]\n",
            "Fim do programa!\n"
          ]
        }
      ]
    },
    {
      "cell_type": "markdown",
      "source": [
        "### 14. Gerenciar módulos e pacotes"
      ],
      "metadata": {
        "id": "HgSJ_igpnZD7"
      }
    },
    {
      "cell_type": "code",
      "source": [
        "# Importação do módulo completo\n",
        "import math\n",
        "\n",
        "print(math.pi)\n",
        "print(math.e)\n",
        "print(math.sqrt(81))"
      ],
      "metadata": {
        "id": "1_fngp7vnif1",
        "colab": {
          "base_uri": "https://localhost:8080/"
        },
        "outputId": "3afb9559-82ce-49ff-e14e-8040c6332735"
      },
      "execution_count": null,
      "outputs": [
        {
          "output_type": "stream",
          "name": "stdout",
          "text": [
            "3.141592653589793\n",
            "2.718281828459045\n",
            "9.0\n"
          ]
        }
      ]
    },
    {
      "cell_type": "code",
      "source": [
        "# Importação de uma função/método específico do módulo\n",
        "from math import pi, cos\n",
        "\n",
        "print(cos(0 * pi))\n",
        "print(cos(0.5 * pi))\n",
        "print(cos(3 * pi / 2))\n",
        "print(cos(2 * pi))"
      ],
      "metadata": {
        "colab": {
          "base_uri": "https://localhost:8080/"
        },
        "id": "YL31uIiobumz",
        "outputId": "21083958-59c5-45db-d083-dbdae0c9a1f8"
      },
      "execution_count": null,
      "outputs": [
        {
          "output_type": "stream",
          "name": "stdout",
          "text": [
            "1.0\n",
            "6.123233995736766e-17\n",
            "-1.8369701987210297e-16\n",
            "1.0\n"
          ]
        }
      ]
    },
    {
      "cell_type": "code",
      "source": [
        "# Uso de alias (apelidos) para os modulos (útil para módulos com nomes extensos)\n",
        "import math as m\n",
        "\n",
        "print(m.log10(100))\n",
        "print(m.factorial(5))\n",
        "print(m.pow(10, 3))"
      ],
      "metadata": {
        "colab": {
          "base_uri": "https://localhost:8080/"
        },
        "id": "Rg3eR9gLdMnD",
        "outputId": "c3dfdfd8-bc11-45bc-8967-f1bc4fe54944"
      },
      "execution_count": null,
      "outputs": [
        {
          "output_type": "stream",
          "name": "stdout",
          "text": [
            "2.0\n",
            "120\n",
            "1000.0\n"
          ]
        }
      ]
    },
    {
      "cell_type": "code",
      "source": [
        "# Exemplo de uso de um módulo criado pelo programador\n",
        "import modulo as md\n",
        "\n",
        "if __name__ == \"__main__\":\n",
        "  md.boas_vindas(\"Paulo R. B. Gomes\")"
      ],
      "metadata": {
        "colab": {
          "base_uri": "https://localhost:8080/"
        },
        "id": "csxfOqVJd8XF",
        "outputId": "71ff8e7e-5d76-48c2-9930-75c1a3c4629c"
      },
      "execution_count": null,
      "outputs": [
        {
          "output_type": "stream",
          "name": "stdout",
          "text": [
            "Olá Paulo R. B. Gomes. Seja bem-vindo(a)!\n"
          ]
        }
      ]
    },
    {
      "cell_type": "markdown",
      "source": [
        "### 15. Números aleatórios com random"
      ],
      "metadata": {
        "id": "Rz6zrmzakQCc"
      }
    },
    {
      "cell_type": "code",
      "source": [
        "import random\n",
        "\n",
        "if __name__ == \"__main__\":\n",
        "  numero = random.randint(1, 20)\n",
        "  print(numero)"
      ],
      "metadata": {
        "id": "ecaOMVr_kTAh",
        "colab": {
          "base_uri": "https://localhost:8080/"
        },
        "outputId": "30d1d863-f916-4515-819f-9c11a23a96aa"
      },
      "execution_count": null,
      "outputs": [
        {
          "output_type": "stream",
          "name": "stdout",
          "text": [
            "3\n"
          ]
        }
      ]
    },
    {
      "cell_type": "code",
      "source": [
        "# Exemplo (geração de cinco números inteiros aleatórios entre 1 e 50) ...\n",
        "for i in range(5):\n",
        "  numero = random.randint(1,50)          # randint gera um número inteiro\n",
        "  print(f\"Sorteio {i + 1}: {numero}\")"
      ],
      "metadata": {
        "colab": {
          "base_uri": "https://localhost:8080/"
        },
        "id": "JfoUJphLcloZ",
        "outputId": "8070f2e1-c8c0-4bed-a6f6-02c3726611b2"
      },
      "execution_count": null,
      "outputs": [
        {
          "output_type": "stream",
          "name": "stdout",
          "text": [
            "Sorteio 1: 30\n",
            "Sorteio 2: 4\n",
            "Sorteio 3: 42\n",
            "Sorteio 4: 2\n",
            "Sorteio 5: 17\n"
          ]
        }
      ]
    },
    {
      "cell_type": "code",
      "source": [
        "# Exemplo (geração de cinco números aleatórios float entre 1 e 50) ...\n",
        "for i in range(5):\n",
        "  numero = random.random()                # random gera um float entre 0  1\n",
        "  print(f\"Sorteio {i + 1}: {numero:.4f}\")"
      ],
      "metadata": {
        "colab": {
          "base_uri": "https://localhost:8080/"
        },
        "id": "f3_aZQv5do9o",
        "outputId": "9c75f8ad-1b8b-40e7-c2d0-a30b38394d0e"
      },
      "execution_count": null,
      "outputs": [
        {
          "output_type": "stream",
          "name": "stdout",
          "text": [
            "Sorteio 1: 0.4991\n",
            "Sorteio 2: 0.4386\n",
            "Sorteio 3: 0.1801\n",
            "Sorteio 4: 0.5009\n",
            "Sorteio 5: 0.5292\n"
          ]
        }
      ]
    },
    {
      "cell_type": "code",
      "source": [
        "# Exemplo (ajuste de intervalo) ...\n",
        "# Número aleatório entre 0 e 10\n",
        "numero = random.random() * 10\n",
        "print(f\"{numero:.2f}\")"
      ],
      "metadata": {
        "colab": {
          "base_uri": "https://localhost:8080/"
        },
        "id": "U0FvwvE7e_sh",
        "outputId": "c98e313c-8b5e-4cf1-bddb-dad2dd06522a"
      },
      "execution_count": null,
      "outputs": [
        {
          "output_type": "stream",
          "name": "stdout",
          "text": [
            "2.31\n"
          ]
        }
      ]
    },
    {
      "cell_type": "code",
      "source": [
        "# Exemplo ...\n",
        "numero = random.uniform(0, 10)\n",
        "print(round(numero, 2))"
      ],
      "metadata": {
        "colab": {
          "base_uri": "https://localhost:8080/"
        },
        "id": "BiZDSpBtgGSR",
        "outputId": "1ad3a47c-0723-455a-b48f-fa79acb2476a"
      },
      "execution_count": null,
      "outputs": [
        {
          "output_type": "stream",
          "name": "stdout",
          "text": [
            "8.24\n"
          ]
        }
      ]
    },
    {
      "cell_type": "code",
      "source": [
        "# Exemplo (busca aleatória em uma lista) ...\n",
        "lista = [2, 4, 6, 9, 10, 13, 14, 16, 18, 20, 21, 27, 33]\n",
        "posicao = random.randint(0, len(lista) - 1)\n",
        "valor = lista[posicao]\n",
        "print(f\"O valor sorteado foi {valor} e está na posição {posicao + 1}!\")"
      ],
      "metadata": {
        "colab": {
          "base_uri": "https://localhost:8080/"
        },
        "id": "uyhrnns-hBtN",
        "outputId": "8288ac8b-370b-4a6a-bd5c-10ef62d9e6e5"
      },
      "execution_count": null,
      "outputs": [
        {
          "output_type": "stream",
          "name": "stdout",
          "text": [
            "O valor sorteado foi 21 e está na posição 11!\n"
          ]
        }
      ]
    },
    {
      "cell_type": "code",
      "source": [
        "# Métodos choice() e sample()\n",
        "valor = random.choice(lista)\n",
        "print(valor)\n",
        "\n",
        "valor = random.sample(lista, 3)\n",
        "print(valor)"
      ],
      "metadata": {
        "colab": {
          "base_uri": "https://localhost:8080/"
        },
        "id": "rM2-184mjorw",
        "outputId": "60dd21a2-4f94-4ff5-8468-3ab12fa07762"
      },
      "execution_count": null,
      "outputs": [
        {
          "output_type": "stream",
          "name": "stdout",
          "text": [
            "33\n",
            "[2, 9, 10]\n"
          ]
        }
      ]
    },
    {
      "cell_type": "markdown",
      "source": [
        "### 16. Listas em Python (estruturas de dados mutáveis!)"
      ],
      "metadata": {
        "id": "tKBy6TuukCFg"
      }
    },
    {
      "cell_type": "code",
      "source": [
        "# Sintaxe: nome_lista = [valores]\n",
        "notas = [5, 7, 8, 6, 9]\n",
        "print(notas)\n",
        "\n",
        "# Indexação\n",
        "print(notas[0], notas[1], notas[2], notas[3], notas[4])\n",
        "print(notas[-5], notas[-4], notas[-3], notas[-2], notas[-1])\n",
        "\n",
        "# Concatenação\n",
        "n1 = [4, 6, 7, 8, 0, 3]\n",
        "n2 = [1, 6, 3, 9, 12, 4]\n",
        "n = n1 + n2     # concatenação das listas n1 e n2\n",
        "print(n)\n",
        "print(type(n))\n",
        "\n",
        "n[11] = 100     # listas são estruturas de dados mutáveis!\n",
        "print(n)\n",
        "\n",
        "# Slicing\n",
        "print(n[:4])\n",
        "print(n[5:])\n",
        "print(n[3:7])"
      ],
      "metadata": {
        "colab": {
          "base_uri": "https://localhost:8080/"
        },
        "id": "0TwsOFfikDv-",
        "outputId": "e96e0151-09d2-4f7f-e0ab-e7ad01ed564c"
      },
      "execution_count": null,
      "outputs": [
        {
          "output_type": "stream",
          "name": "stdout",
          "text": [
            "[5, 7, 8, 6, 9]\n",
            "5 7 8 6 9\n",
            "5 7 8 6 9\n",
            "[4, 6, 7, 8, 0, 3, 1, 6, 3, 9, 12, 4]\n",
            "<class 'list'>\n",
            "[4, 6, 7, 8, 0, 3, 1, 6, 3, 9, 12, 100]\n",
            "[4, 6, 7, 8]\n",
            "[3, 1, 6, 3, 9, 12, 100]\n",
            "[8, 0, 3, 1]\n"
          ]
        }
      ]
    },
    {
      "cell_type": "code",
      "source": [
        "# Funções para listas\n",
        "print(len(n))\n",
        "print(sorted(n))\n",
        "print(sorted(n, reverse=True))\n",
        "print(sum(n))\n",
        "print(min(n))\n",
        "print(max(n))"
      ],
      "metadata": {
        "colab": {
          "base_uri": "https://localhost:8080/"
        },
        "id": "PNd4BoOLzC24",
        "outputId": "ccaa379d-e41c-4166-8b94-22646c18135f"
      },
      "execution_count": null,
      "outputs": [
        {
          "output_type": "stream",
          "name": "stdout",
          "text": [
            "12\n",
            "[0, 1, 3, 3, 4, 6, 6, 7, 8, 9, 12, 100]\n",
            "[100, 12, 9, 8, 7, 6, 6, 4, 3, 3, 1, 0]\n",
            "159\n",
            "0\n",
            "100\n"
          ]
        }
      ]
    },
    {
      "cell_type": "code",
      "source": [
        "# Métodos para listas\n",
        "lista = [1, 2, 3, 4, 5]\n",
        "lista.append(6); print(lista)\n",
        "lista.pop(); print(lista)\n",
        "lista.pop(0); print(lista)\n",
        "lista.insert(0, 100); print(lista)\n",
        "print(100 in lista); print(1000 in lista)"
      ],
      "metadata": {
        "colab": {
          "base_uri": "https://localhost:8080/"
        },
        "id": "1ol_A-P306Yw",
        "outputId": "691aecaf-d01a-429a-c216-b7e55fae0134"
      },
      "execution_count": null,
      "outputs": [
        {
          "output_type": "stream",
          "name": "stdout",
          "text": [
            "[1, 2, 3, 4, 5, 6]\n",
            "[1, 2, 3, 4, 5]\n",
            "[2, 3, 4, 5]\n",
            "[100, 2, 3, 4, 5]\n",
            "True\n",
            "False\n"
          ]
        }
      ]
    },
    {
      "cell_type": "code",
      "source": [
        "# Listas + laço de repetição for\n",
        "lista = [\"Mercúrio\", \"Vênus\", \"Marte\", \"Saturno\", \"Urano\", \"Netuno\"]\n",
        "\n",
        "for i in lista:\n",
        "  print(i)\n",
        "\n",
        "print(\"--------------------\")\n",
        "\n",
        "for i in range(len(lista)):\n",
        "  print(f\"Posição {i}: {lista[i]}\")"
      ],
      "metadata": {
        "colab": {
          "base_uri": "https://localhost:8080/"
        },
        "id": "zysNY71g3SGh",
        "outputId": "30176569-f485-4edc-acef-ed8b8f230ce5"
      },
      "execution_count": null,
      "outputs": [
        {
          "output_type": "stream",
          "name": "stdout",
          "text": [
            "Mercúrio\n",
            "Vênus\n",
            "Marte\n",
            "Saturno\n",
            "Urano\n",
            "Netuno\n",
            "--------------------\n",
            "Posição 0: Mercúrio\n",
            "Posição 1: Vênus\n",
            "Posição 2: Marte\n",
            "Posição 3: Saturno\n",
            "Posição 4: Urano\n",
            "Posição 5: Netuno\n"
          ]
        }
      ]
    },
    {
      "cell_type": "code",
      "source": [
        "# Exemplo ...\n",
        "# Crie um script que peça para o usuário digitar o nome de 5 bebidas favoritas dele, armazenando esses valores em uma lista.\n",
        "# Em seguida, exiba na tela os elementos da lista em ordem alfabética, um por linha, usando um laço de repetição for."
      ],
      "metadata": {
        "id": "8UfWnFgo4lE6"
      },
      "execution_count": null,
      "outputs": []
    },
    {
      "cell_type": "code",
      "source": [
        "lista = []\n",
        "for i in range(5):\n",
        "  bebida = input(f\"{i + 1}º bebida: \")\n",
        "  lista.append(bebida)\n",
        "\n",
        "print(\"--------------------\")\n",
        "\n",
        "lista_ordenada = sorted(lista)\n",
        "for i in lista_ordenada:\n",
        "  print(i)"
      ],
      "metadata": {
        "colab": {
          "base_uri": "https://localhost:8080/"
        },
        "id": "7WlVarzH422Q",
        "outputId": "97967645-edc2-44b5-d25a-b9e1a84fe21a"
      },
      "execution_count": null,
      "outputs": [
        {
          "output_type": "stream",
          "name": "stdout",
          "text": [
            "1º bebida: Coca\n",
            "2º bebida: Fanta\n",
            "3º bebida: Suco\n",
            "4º bebida: Cerveja\n",
            "5º bebida: Limonada\n",
            "--------------------\n",
            "Cerveja\n",
            "Coca\n",
            "Fanta\n",
            "Limonada\n",
            "Suco\n"
          ]
        }
      ]
    },
    {
      "cell_type": "markdown",
      "source": [
        "### 17. Tuplas em Python (estruturas de dados imutáveis!)"
      ],
      "metadata": {
        "id": "sOmTqV9r66r7"
      }
    },
    {
      "cell_type": "code",
      "source": [
        "# Sintaxe: nome_tupla = (valores)\n",
        "# O conteúdo de uma tupla não pode ser modificado após a sua criação\n",
        "tupla = (2, 4, 6, 7, 9)\n",
        "print(tupla)\n",
        "\n",
        "# Indexação\n",
        "print(tupla[0], tupla[1], tupla[2], tupla[3], tupla[4])\n",
        "print(tupla[-5], tupla[-4], tupla[-3], tupla[-2], tupla[-1])\n",
        "\n",
        "# Mutação (ERRO pois tuplas são estruturas de dados imutáveis!)\n",
        "# tupla[0] = 100"
      ],
      "metadata": {
        "id": "QfMZeHmN68ek",
        "colab": {
          "base_uri": "https://localhost:8080/"
        },
        "outputId": "58d7df8e-a16b-4476-ee5a-2336abd1e13a"
      },
      "execution_count": null,
      "outputs": [
        {
          "output_type": "stream",
          "name": "stdout",
          "text": [
            "(2, 4, 6, 7, 9)\n",
            "2 4 6 7 9\n",
            "2 4 6 7 9\n"
          ]
        }
      ]
    },
    {
      "cell_type": "code",
      "source": [
        "# Funções e métodos para tuplas\n",
        "print(len(tupla))\n",
        "\n",
        "tupla1 = (1, 2, 3)\n",
        "tupla2 = (4, 5)\n",
        "tupla = tupla1 + tupla2\n",
        "print(tupla)\n",
        "\n",
        "tupla = (5, 2, 6, 8, 4, 5, 6, 4, 4, 0, 12, 22, 3, 4, 5)\n",
        "print(tupla.count(5))\n",
        "\n",
        "# Slicing\n",
        "print(tupla[:5])\n",
        "print(tupla[10:])\n",
        "print(tupla[9:13])\n",
        "\n",
        "print(5 in tupla)\n",
        "print(1000 in tupla)"
      ],
      "metadata": {
        "colab": {
          "base_uri": "https://localhost:8080/"
        },
        "id": "0h52oX_NBw4H",
        "outputId": "f1ababe9-411d-4cc7-b57b-b96d1dd511dc"
      },
      "execution_count": null,
      "outputs": [
        {
          "output_type": "stream",
          "name": "stdout",
          "text": [
            "15\n",
            "(1, 2, 3, 4, 5)\n",
            "3\n",
            "(5, 2, 6, 8, 4)\n",
            "(12, 22, 3, 4, 5)\n",
            "(0, 12, 22, 3)\n",
            "True\n",
            "False\n"
          ]
        }
      ]
    },
    {
      "cell_type": "code",
      "source": [
        "print(len(tupla))\n",
        "print(sorted(tupla))\n",
        "print(sorted(tupla, reverse=True))\n",
        "print(sum(tupla))\n",
        "print(min(tupla))\n",
        "print(max(tupla))"
      ],
      "metadata": {
        "colab": {
          "base_uri": "https://localhost:8080/"
        },
        "id": "g9qq8rhFEtfw",
        "outputId": "bffcb91e-30ac-4e32-e075-4c27432edee2"
      },
      "execution_count": null,
      "outputs": [
        {
          "output_type": "stream",
          "name": "stdout",
          "text": [
            "15\n",
            "[0, 2, 3, 4, 4, 4, 4, 5, 5, 5, 6, 6, 8, 12, 22]\n",
            "[22, 12, 8, 6, 6, 5, 5, 5, 4, 4, 4, 4, 3, 2, 0]\n",
            "90\n",
            "0\n",
            "22\n"
          ]
        }
      ]
    },
    {
      "cell_type": "code",
      "source": [
        "# Tuplas + laço de repetição for\n",
        "tupla = (1, 2, 3, 4, 5)\n",
        "for i in range(len(tupla)):\n",
        "  print(f\"Posição {i + 1}: {tupla[i]}\")"
      ],
      "metadata": {
        "colab": {
          "base_uri": "https://localhost:8080/"
        },
        "id": "wXdRksTwGrZs",
        "outputId": "6b7c5350-6e48-49f8-f97d-65238284db83"
      },
      "execution_count": null,
      "outputs": [
        {
          "output_type": "stream",
          "name": "stdout",
          "text": [
            "Posição 1: 1\n",
            "Posição 2: 2\n",
            "Posição 3: 3\n",
            "Posição 4: 4\n",
            "Posição 5: 5\n"
          ]
        }
      ]
    },
    {
      "cell_type": "code",
      "source": [
        "# Criação de listas a partir de tuplas (casting)\n",
        "tupla = (1, 2, 3, 4, 5)     # imutável\n",
        "lista = list(tupla)         # mutável\n",
        "\n",
        "print(tupla); print(type(tupla))\n",
        "print(lista); print(type(lista))\n",
        "\n",
        "# Criação de tuplas a partir de listas (casting)\n",
        "lista = [10, 20, 30]\n",
        "tupla = tuple(lista)\n",
        "print(lista); print(type(lista))\n",
        "print(tupla); print(type(tupla))"
      ],
      "metadata": {
        "colab": {
          "base_uri": "https://localhost:8080/"
        },
        "id": "p5try2tyHY_c",
        "outputId": "0a15a086-bd23-4f0e-f3f3-7ba1d7193357"
      },
      "execution_count": null,
      "outputs": [
        {
          "output_type": "stream",
          "name": "stdout",
          "text": [
            "(1, 2, 3, 4, 5)\n",
            "<class 'tuple'>\n",
            "[1, 2, 3, 4, 5]\n",
            "<class 'list'>\n",
            "[10, 20, 30]\n",
            "<class 'list'>\n",
            "(10, 20, 30)\n",
            "<class 'tuple'>\n"
          ]
        }
      ]
    },
    {
      "cell_type": "markdown",
      "source": [
        "### 18. Funções matemáticas - módulo math"
      ],
      "metadata": {
        "id": "loDc_czdIOq9"
      }
    },
    {
      "cell_type": "code",
      "source": [
        "import math\n",
        "\n",
        "x = 8\n",
        "y = 100\n",
        "\n",
        "print(math.sqrt(x))\n",
        "print(math.sqrt(y))\n",
        "\n",
        "r = math.sqrt(x)\n",
        "print(r)\n",
        "print(math.floor(r))\n",
        "print(math.ceil(r))"
      ],
      "metadata": {
        "id": "ewP7lOsWIP0r",
        "colab": {
          "base_uri": "https://localhost:8080/"
        },
        "outputId": "7b0a8d3f-9435-49c4-e35f-96ec97dc8171"
      },
      "execution_count": null,
      "outputs": [
        {
          "output_type": "stream",
          "name": "stdout",
          "text": [
            "2.8284271247461903\n",
            "10.0\n",
            "2.8284271247461903\n",
            "2\n",
            "3\n"
          ]
        }
      ]
    },
    {
      "cell_type": "code",
      "source": [
        "x = 1000\n",
        "print(math.log10(x))"
      ],
      "metadata": {
        "colab": {
          "base_uri": "https://localhost:8080/"
        },
        "id": "JIIfqGj7RFmR",
        "outputId": "68f029d7-f9cc-427c-d9f8-4462db97fc6e"
      },
      "execution_count": null,
      "outputs": [
        {
          "output_type": "stream",
          "name": "stdout",
          "text": [
            "3.0\n"
          ]
        }
      ]
    },
    {
      "cell_type": "code",
      "source": [
        "raio = 5\n",
        "area_circulo = 2 * math.pi * r * r\n",
        "print(area_circulo)"
      ],
      "metadata": {
        "colab": {
          "base_uri": "https://localhost:8080/"
        },
        "id": "4Dtw5vofRgWs",
        "outputId": "07cd961b-dd03-4f81-b909-a844c2813557"
      },
      "execution_count": null,
      "outputs": [
        {
          "output_type": "stream",
          "name": "stdout",
          "text": [
            "50.2654824574367\n"
          ]
        }
      ]
    },
    {
      "cell_type": "code",
      "source": [
        "print(math.factorial(5))"
      ],
      "metadata": {
        "colab": {
          "base_uri": "https://localhost:8080/"
        },
        "id": "auFeGV__R2XT",
        "outputId": "c6a40e4d-5c45-4b34-cde6-189964d19250"
      },
      "execution_count": null,
      "outputs": [
        {
          "output_type": "stream",
          "name": "stdout",
          "text": [
            "120\n"
          ]
        }
      ]
    },
    {
      "cell_type": "markdown",
      "source": [
        "### 19. Manipulação de strings"
      ],
      "metadata": {
        "id": "JZDXteUlSTbD"
      }
    },
    {
      "cell_type": "code",
      "source": [
        "string = \"Isso é uma string em linguagem Python\"\n",
        "nome = \"Paulo\"\n",
        "print(nome[2])\n",
        "print(len(nome))\n",
        "\n",
        "sobrenome = \"Ricardo\"\n",
        "print(nome + \" \" + sobrenome)     # concatenação de strings"
      ],
      "metadata": {
        "colab": {
          "base_uri": "https://localhost:8080/"
        },
        "id": "T7cOmCenSY5_",
        "outputId": "e0af6417-edca-4402-cd1e-0e256c649bf3"
      },
      "execution_count": null,
      "outputs": [
        {
          "output_type": "stream",
          "name": "stdout",
          "text": [
            "u\n",
            "5\n",
            "Paulo Ricardo\n"
          ]
        }
      ]
    },
    {
      "cell_type": "code",
      "source": [
        "# Funções e métodos para strings\n",
        "frase = \"vamos aprender Python hoje.\"\n",
        "\n",
        "palavras = frase.split(); print(palavras)\n",
        "\n",
        "# Slicing\n",
        "print(frase[:5])\n",
        "print(frase[10:])\n",
        "print(frase[6:12])\n",
        "\n",
        "email = input(\"Digite seu email: \")\n",
        "arroba = email.find(\"@\")\n",
        "usuario = email[:arroba]\n",
        "dominio = email[arroba:]\n",
        "print(f\"Usuário: {usuario}\"); print(f\"Domínio: {dominio}\")"
      ],
      "metadata": {
        "colab": {
          "base_uri": "https://localhost:8080/"
        },
        "id": "d4AUhKFgTydl",
        "outputId": "d525204c-9e9f-4cab-dfe7-e012be0c2a98"
      },
      "execution_count": null,
      "outputs": [
        {
          "output_type": "stream",
          "name": "stdout",
          "text": [
            "['vamos', 'aprender', 'Python', 'hoje.']\n",
            "vamos\n",
            "nder Python hoje.\n",
            "aprend\n",
            "Digite seu email: paulorbgomez@gmail.com\n",
            "Usuário: paulorbgomez\n",
            "Domínio: @gmail.com\n"
          ]
        }
      ]
    },
    {
      "cell_type": "code",
      "source": [
        "# Maiúsculos e minúsculos\n",
        "nome = \"PAUlo r. b. GoMEs\"\n",
        "print(nome.upper())\n",
        "print(nome.lower())\n",
        "print(nome.capitalize())\n",
        "print(nome.title())\n",
        "\n",
        "# Substituição de termos\n",
        "suplemento = \"Cloreto de Magnésio\"\n",
        "novo_suplemento = suplemento.replace(\"Magnésio\", \"Zinco\")\n",
        "print(novo_suplemento)\n",
        "\n",
        "# Remoção de espaços em branco\n",
        "string = \"    Essa frase possui espaços!                \"\n",
        "print(string)\n",
        "print(string.lstrip())\n",
        "print(string.rstrip())\n",
        "print(string.strip())"
      ],
      "metadata": {
        "colab": {
          "base_uri": "https://localhost:8080/"
        },
        "id": "BhDAVEUUeqar",
        "outputId": "1ecdab7b-b83b-4114-96a0-d1c1047f6a23"
      },
      "execution_count": null,
      "outputs": [
        {
          "output_type": "stream",
          "name": "stdout",
          "text": [
            "PAULO R. B. GOMES\n",
            "paulo r. b. gomes\n",
            "Paulo r. b. gomes\n",
            "Paulo R. B. Gomes\n",
            "Cloreto de Zinco\n",
            "    Essa frase possui espaços!                \n",
            "Essa frase possui espaços!                \n",
            "    Essa frase possui espaços!\n",
            "Essa frase possui espaços!\n"
          ]
        }
      ]
    },
    {
      "cell_type": "code",
      "source": [
        "# Docstrings - strings utilizadas para documentar trechos de código (funções, módulos, classes)\n",
        "\"\"\"\n",
        "... Isso é uma Docstring ...\n",
        "\"\"\""
      ],
      "metadata": {
        "colab": {
          "base_uri": "https://localhost:8080/",
          "height": 35
        },
        "id": "5BK45oFOjGwm",
        "outputId": "fd962d24-1878-4786-d272-6fb434413414"
      },
      "execution_count": null,
      "outputs": [
        {
          "output_type": "execute_result",
          "data": {
            "text/plain": [
              "' \\n... Isso é uma Docstring ...\\n'"
            ],
            "application/vnd.google.colaboratory.intrinsic+json": {
              "type": "string"
            }
          },
          "metadata": {},
          "execution_count": 38
        }
      ]
    },
    {
      "cell_type": "markdown",
      "source": [
        "### 20. Dicionários em Python"
      ],
      "metadata": {
        "id": "QqMITYY6i2SR"
      }
    },
    {
      "cell_type": "code",
      "source": [
        "# Sintaxe: nome_dicionario = {\"chave1\": valor1, ..., \"chave2\": valor2}\n",
        "# Baseados no par chave: valor (as chaves são únicas!)\n",
        "dicionario = {\n",
        "    \"Paulo\": \"paulo@email.com\",\n",
        "    \"Ricardo\": \"ricardo@email.com\",\n",
        "    \"Flávia\": \"flavia@email.com\",\n",
        "    \"Régis\": \"regis@email.com\"\n",
        "}\n",
        "print(dicionario)\n",
        "\n",
        "print(dicionario.keys())\n",
        "print(dicionario.values())\n",
        "print(len(dicionario))\n",
        "\n",
        "# Indexação (através das chaves)\n",
        "print(dicionario[\"Paulo\"])\n",
        "print(dicionario[\"Ricardo\"])\n",
        "print(dicionario[\"Flávia\"])\n",
        "print(dicionario[\"Régis\"])\n",
        "\n",
        "# Atualização de valor no dicionário\n",
        "dicionario[\"Paulo\"] = \"gomes@email.com\"\n",
        "print(dicionario)\n",
        "\n",
        "# Adicionar um novo par chave: valor no dicionário\n",
        "dicionario[\"Maria\"] = \"maria@email.com\"\n",
        "print(dicionario)\n",
        "\n",
        "# Exclusão de um par chave: valor no dicionário\n",
        "del dicionario[\"Maria\"]\n",
        "print(dicionario)\n",
        "\n",
        "dicionario.clear()      # apaga os registros, porém o dicionário continua armazenado em memória\n",
        "print(dicionario)\n",
        "\n",
        "del dicionario\n",
        "# print(dicionario)     # Erro! Pois o dicionário foi excluído da memória"
      ],
      "metadata": {
        "colab": {
          "base_uri": "https://localhost:8080/"
        },
        "id": "al3dwz2Bi3ZO",
        "outputId": "3e05174e-33bf-4e75-ee87-8b12853aeb92"
      },
      "execution_count": null,
      "outputs": [
        {
          "output_type": "stream",
          "name": "stdout",
          "text": [
            "{'Paulo': 'paulo@email.com', 'Ricardo': 'ricardo@email.com', 'Flávia': 'flavia@email.com', 'Régis': 'regis@email.com'}\n",
            "dict_keys(['Paulo', 'Ricardo', 'Flávia', 'Régis'])\n",
            "dict_values(['paulo@email.com', 'ricardo@email.com', 'flavia@email.com', 'regis@email.com'])\n",
            "4\n",
            "paulo@email.com\n",
            "ricardo@email.com\n",
            "flavia@email.com\n",
            "regis@email.com\n",
            "{'Paulo': 'gomes@email.com', 'Ricardo': 'ricardo@email.com', 'Flávia': 'flavia@email.com', 'Régis': 'regis@email.com'}\n",
            "{'Paulo': 'gomes@email.com', 'Ricardo': 'ricardo@email.com', 'Flávia': 'flavia@email.com', 'Régis': 'regis@email.com', 'Maria': 'maria@email.com'}\n",
            "{'Paulo': 'gomes@email.com', 'Ricardo': 'ricardo@email.com', 'Flávia': 'flavia@email.com', 'Régis': 'regis@email.com'}\n",
            "{}\n"
          ]
        }
      ]
    },
    {
      "cell_type": "code",
      "source": [
        "# Métodos para dicionários\n",
        "dicionario = {\n",
        "    \"Paulo\": \"paulo@email.com\",\n",
        "    \"Ricardo\": \"ricardo@email.com\",\n",
        "    \"Flávia\": \"flavia@email.com\",\n",
        "    \"Régis\": \"regis@email.com\"\n",
        "}\n",
        "\n",
        "print(dicionario)\n",
        "print(dicionario.items())\n",
        "print(dicionario.keys())\n",
        "print(dicionario.values())"
      ],
      "metadata": {
        "colab": {
          "base_uri": "https://localhost:8080/"
        },
        "id": "sDvIZk5vru_0",
        "outputId": "d810c36d-7cdf-459f-962e-f892f93aea66"
      },
      "execution_count": null,
      "outputs": [
        {
          "output_type": "stream",
          "name": "stdout",
          "text": [
            "{'Paulo': 'paulo@email.com', 'Ricardo': 'ricardo@email.com', 'Flávia': 'flavia@email.com', 'Régis': 'regis@email.com'}\n",
            "dict_items([('Paulo', 'paulo@email.com'), ('Ricardo', 'ricardo@email.com'), ('Flávia', 'flavia@email.com'), ('Régis', 'regis@email.com')])\n",
            "dict_keys(['Paulo', 'Ricardo', 'Flávia', 'Régis'])\n",
            "dict_values(['paulo@email.com', 'ricardo@email.com', 'flavia@email.com', 'regis@email.com'])\n"
          ]
        }
      ]
    },
    {
      "cell_type": "code",
      "source": [
        "# Dicionários + laço de repetição for\n",
        "for i in dicionario.items():\n",
        "  print(i)\n",
        "\n",
        "print(\"---------------\")\n",
        "\n",
        "for i in dicionario.keys():\n",
        "  print(i)\n",
        "\n",
        "print(\"---------------\")\n",
        "\n",
        "for i in dicionario.values():\n",
        "  print(i)\n",
        "\n",
        "print(\"---------------\")\n",
        "\n",
        "for i in dicionario.items():\n",
        "  (chave, valor) = i\n",
        "  print(f\"Chave: {chave}; Valor: {valor}\")"
      ],
      "metadata": {
        "colab": {
          "base_uri": "https://localhost:8080/"
        },
        "id": "qorpNrmwsllK",
        "outputId": "1d54fd0a-91d6-45ed-e178-640880c6976b"
      },
      "execution_count": null,
      "outputs": [
        {
          "output_type": "stream",
          "name": "stdout",
          "text": [
            "('Paulo', 'paulo@email.com')\n",
            "('Ricardo', 'ricardo@email.com')\n",
            "('Flávia', 'flavia@email.com')\n",
            "('Régis', 'regis@email.com')\n",
            "---------------\n",
            "Paulo\n",
            "Ricardo\n",
            "Flávia\n",
            "Régis\n",
            "---------------\n",
            "paulo@email.com\n",
            "ricardo@email.com\n",
            "flavia@email.com\n",
            "regis@email.com\n",
            "---------------\n",
            "Chave: Paulo; Valor: paulo@email.com\n",
            "Chave: Ricardo; Valor: ricardo@email.com\n",
            "Chave: Flávia; Valor: flavia@email.com\n",
            "Chave: Régis; Valor: regis@email.com\n"
          ]
        }
      ]
    },
    {
      "cell_type": "markdown",
      "source": [
        "### 21. Sets (ou conjuntos) em Python"
      ],
      "metadata": {
        "id": "zQcg4qc9u6nq"
      }
    },
    {
      "cell_type": "code",
      "source": [
        "# Sintaxe: nome_conjunto = {valores}\n",
        "conjunto = {1, 1, 2, 2, 3, 3, 3, 4, 4, 5, 5, 5, 5}     # armazena somente os valores não repetidos!\n",
        "print(conjunto)\n",
        "\n",
        "print(len(conjunto))\n",
        "print(type(conjunto))\n",
        "\n",
        "conjunto.add(100)\n",
        "print(conjunto)\n",
        "\n",
        "conjunto.remove(100)\n",
        "print(conjunto)\n",
        "\n",
        "conjunto.pop()     # remove um elemento arbitrário do conjunto\n",
        "print(conjunto)"
      ],
      "metadata": {
        "colab": {
          "base_uri": "https://localhost:8080/"
        },
        "id": "F0Cj9PesvAQF",
        "outputId": "3b2fff7a-3d5d-4eef-e705-84293932c35e"
      },
      "execution_count": null,
      "outputs": [
        {
          "output_type": "stream",
          "name": "stdout",
          "text": [
            "{1, 2, 3, 4, 5}\n",
            "5\n",
            "<class 'set'>\n",
            "{1, 2, 3, 4, 5, 100}\n",
            "{1, 2, 3, 4, 5}\n",
            "{2, 3, 4, 5}\n"
          ]
        }
      ]
    },
    {
      "cell_type": "code",
      "source": [
        "# Operações em conjuntos (parte I)\n",
        "print(5 in conjunto)\n",
        "print(10 in conjunto)\n",
        "print(10 not in conjunto)"
      ],
      "metadata": {
        "colab": {
          "base_uri": "https://localhost:8080/"
        },
        "id": "zuAHKDnfwV0-",
        "outputId": "c319cedd-e265-4182-8869-6c0cb4569536"
      },
      "execution_count": null,
      "outputs": [
        {
          "output_type": "stream",
          "name": "stdout",
          "text": [
            "True\n",
            "False\n",
            "True\n"
          ]
        }
      ]
    },
    {
      "cell_type": "code",
      "source": [
        "# Conjuntos + laço de repetição for\n",
        "for i in conjunto:\n",
        "  print(i)"
      ],
      "metadata": {
        "colab": {
          "base_uri": "https://localhost:8080/"
        },
        "id": "l4bUarUExBNG",
        "outputId": "5621d472-36b6-46e4-f8fd-712333dcacd6"
      },
      "execution_count": null,
      "outputs": [
        {
          "output_type": "stream",
          "name": "stdout",
          "text": [
            "1\n",
            "2\n",
            "3\n",
            "4\n",
            "5\n"
          ]
        }
      ]
    },
    {
      "cell_type": "code",
      "source": [
        "# Casting (lista -> set)\n",
        "lista = [1, 2, 2, 2, 3, 3, 3, 4, 4, 4, 5, 5, 5, 5, 5, 5, 5, 5, 5]\n",
        "print(lista)\n",
        "conjunto = set(lista)\n",
        "print(conjunto)"
      ],
      "metadata": {
        "colab": {
          "base_uri": "https://localhost:8080/"
        },
        "id": "5kwX_a-PxeQ4",
        "outputId": "0b2f7950-7ea4-4209-c4e2-dc2457ee9773"
      },
      "execution_count": null,
      "outputs": [
        {
          "output_type": "stream",
          "name": "stdout",
          "text": [
            "[1, 2, 2, 2, 3, 3, 3, 4, 4, 4, 5, 5, 5, 5, 5, 5, 5, 5, 5]\n",
            "{1, 2, 3, 4, 5}\n"
          ]
        }
      ]
    },
    {
      "cell_type": "code",
      "source": [
        "# Operações em conjuntos (parte II)\n",
        "conjunto1 = {1, 2, 2, 2, 3, 4}\n",
        "conjunto2 = {5, 6, 6, 7, 8, 9, 9, 9, 9, 9, 9, 1}\n",
        "\n",
        "conjunto3 = conjunto1 | conjunto2     # | representa a união dos conjuntos\n",
        "print(conjunto3)\n",
        "print(conjunto1.union(conjunto2))\n",
        "\n",
        "conjunto4 = conjunto1 & conjunto2     # & representa a intersecção dos conjuntos\n",
        "print(conjunto4)\n",
        "print(conjunto1.intersection(conjunto2))\n",
        "\n",
        "conjunto5 = conjunto1 ^ conjunto2     # ^ representa a diferença entre os conjuntos\n",
        "print(conjunto5)"
      ],
      "metadata": {
        "colab": {
          "base_uri": "https://localhost:8080/"
        },
        "id": "c6uT6XOAy3RC",
        "outputId": "a2f22ee9-5997-4bf3-8161-f995e3ebfaad"
      },
      "execution_count": null,
      "outputs": [
        {
          "output_type": "stream",
          "name": "stdout",
          "text": [
            "{1, 2, 3, 4, 5, 6, 7, 8, 9}\n",
            "{1, 2, 3, 4, 5, 6, 7, 8, 9}\n",
            "{1}\n",
            "{1}\n",
            "{2, 3, 4, 5, 6, 7, 8, 9}\n"
          ]
        }
      ]
    },
    {
      "cell_type": "markdown",
      "source": [
        "### 22. Funções em Python (introdução)"
      ],
      "metadata": {
        "id": "l9C-Mjgo2gNC"
      }
    },
    {
      "cell_type": "code",
      "source": [
        "# Sintaxe:\n",
        "# def nome_funcao(parametros):\n",
        "#   codigo\n",
        "\n",
        "# Exemplo ...\n",
        "def boas_vindas():\n",
        "  print(\"Seja bem-vindo(a)!\")\n",
        "  print(\"Estude Python!\")\n",
        "\n",
        "boas_vindas()"
      ],
      "metadata": {
        "colab": {
          "base_uri": "https://localhost:8080/"
        },
        "id": "TJqCwDqk2wMQ",
        "outputId": "b45d4ca3-28bf-4d06-8174-2c3a9655f166"
      },
      "execution_count": null,
      "outputs": [
        {
          "output_type": "stream",
          "name": "stdout",
          "text": [
            "Seja bem-vindo(a)!\n",
            "Estude Python!\n"
          ]
        }
      ]
    },
    {
      "cell_type": "code",
      "source": [
        "# Exemplo ...\n",
        "def soma(a, b):\n",
        "  return a + b\n",
        "\n",
        "resultado = soma(10, 40)\n",
        "print(resultado)"
      ],
      "metadata": {
        "colab": {
          "base_uri": "https://localhost:8080/"
        },
        "id": "HNZ1Pf0Z-3uV",
        "outputId": "3f0472b6-a03e-40b5-9684-66d03e342121"
      },
      "execution_count": null,
      "outputs": [
        {
          "output_type": "stream",
          "name": "stdout",
          "text": [
            "50\n"
          ]
        }
      ]
    },
    {
      "cell_type": "code",
      "source": [
        "# Exemplo ...\n",
        "def multiplicacao(a, b):\n",
        "  return a * b\n",
        "\n",
        "resultado = multiplicacao(100, 3)\n",
        "print(resultado)"
      ],
      "metadata": {
        "colab": {
          "base_uri": "https://localhost:8080/"
        },
        "id": "Ly6GaV-Q_wJV",
        "outputId": "050c348d-49bf-4fe4-eacc-9af73ba590db"
      },
      "execution_count": null,
      "outputs": [
        {
          "output_type": "stream",
          "name": "stdout",
          "text": [
            "300\n"
          ]
        }
      ]
    },
    {
      "cell_type": "code",
      "source": [
        "# Exemplo ...\n",
        "def divisao(a, b):\n",
        "  if (b == 0):\n",
        "    return \"Denominador igual a zero. Operação não realizada!\"\n",
        "  else:\n",
        "    return a / b\n",
        "\n",
        "if __name__ == \"__main__\":\n",
        "  n1 = float(input(\"Primeiro número: \"))\n",
        "  n2 = float(input(\"Segundo número: \"))\n",
        "\n",
        "  resultado = divisao(n1, n2)\n",
        "  print(f\"A divisão entre {n1} e {n2} é igual a: {resultado}\")"
      ],
      "metadata": {
        "colab": {
          "base_uri": "https://localhost:8080/"
        },
        "id": "pmwyR2l0Ct4a",
        "outputId": "02b40931-5bed-44be-d7be-cda8f2b4f749"
      },
      "execution_count": null,
      "outputs": [
        {
          "output_type": "stream",
          "name": "stdout",
          "text": [
            "Primeiro número: 40\n",
            "Segundo número: 0\n",
            "A divisão entre 40.0 e 0.0 é igual a: Denominador igual a zero. Operação não realizada!\n"
          ]
        }
      ]
    },
    {
      "cell_type": "code",
      "source": [
        "# Exemplo (distância entre dois pontos) ...\n",
        "def distancia_pontos(x1, x2, y1, y2):\n",
        "  d = math.sqrt(math.pow(x2 - x1, 2) + math.pow(y2 - y1, 2))\n",
        "  return d\n",
        "\n",
        "if __name__ == \"__main__\":\n",
        "  import math\n",
        "\n",
        "  distancia = distancia_pontos(5, 3, 7, 4)\n",
        "  print(distancia)"
      ],
      "metadata": {
        "colab": {
          "base_uri": "https://localhost:8080/"
        },
        "id": "rFOxMVNHAyAQ",
        "outputId": "e44da28e-af53-4861-f3da-c0ee7df2ac89"
      },
      "execution_count": null,
      "outputs": [
        {
          "output_type": "stream",
          "name": "stdout",
          "text": [
            "3.605551275463989\n"
          ]
        }
      ]
    },
    {
      "cell_type": "code",
      "source": [
        "# Exemplo ...\n",
        "def area_circulo(raio):\n",
        "  area = 2 * math.pi * math.pow(raio, 2)\n",
        "  return area\n",
        "\n",
        "if __name__ == \"__main__\":\n",
        "  import math\n",
        "  raio = float(input(\"Qual o valor do raio? \"))\n",
        "  area = area_circulo(raio)\n",
        "  print(f\"Para um raio de {raio} u.c. o círculo possui uma área de {area} u.a.\")"
      ],
      "metadata": {
        "colab": {
          "base_uri": "https://localhost:8080/"
        },
        "id": "psOG1rGOEbSg",
        "outputId": "cbffa314-1570-41c0-829b-bb8f84daaa41"
      },
      "execution_count": null,
      "outputs": [
        {
          "output_type": "stream",
          "name": "stdout",
          "text": [
            "Qual o valor do raio? 5\n",
            "Para um raio de 5.0 u.c. o círculo possui uma área de 157.07963267948966 u.a.\n"
          ]
        }
      ]
    },
    {
      "cell_type": "code",
      "source": [
        "# Exemplo ...\n",
        "def soma_quadrados(valores):\n",
        "  resultado = []\n",
        "  for i in valores:\n",
        "    resultado.append(i * i)\n",
        "  return sum(resultado)\n",
        "\n",
        "if __name__ == \"__main__\":\n",
        "  lista = [1, 2, 3]\n",
        "  resultado = soma_quadrados(lista)\n",
        "  print(resultado)"
      ],
      "metadata": {
        "colab": {
          "base_uri": "https://localhost:8080/"
        },
        "id": "3MT4nJWXFeeV",
        "outputId": "6b53834a-0c20-4f21-a445-7fd0e4f6be4a"
      },
      "execution_count": null,
      "outputs": [
        {
          "output_type": "stream",
          "name": "stdout",
          "text": [
            "14\n"
          ]
        }
      ]
    },
    {
      "cell_type": "markdown",
      "source": [
        "### 23. Funções: comportamento dos parâmetros"
      ],
      "metadata": {
        "id": "2Q00LhNWGb2c"
      }
    },
    {
      "cell_type": "code",
      "source": [
        "# Parâmetros opcionais e valores padrão para funções\n",
        "def contar(caractere=\"+\", n=11):\n",
        "  for i in range(n):\n",
        "    print(f\"Rodada {i + 1}: {caractere}\")\n",
        "\n",
        "if __name__ == \"__main__\":\n",
        "  print(\"Função com parâmetro fornecido:\"); contar(\"PR\", 5)\n",
        "  print(\"---------------\")\n",
        "  print(\"Função com parâmetro não fornecido (opcional):\"); contar()"
      ],
      "metadata": {
        "id": "1UH-dokEGdh1",
        "colab": {
          "base_uri": "https://localhost:8080/"
        },
        "outputId": "5f4fb814-0b43-4e78-c7e3-0d460e304993"
      },
      "execution_count": null,
      "outputs": [
        {
          "output_type": "stream",
          "name": "stdout",
          "text": [
            "Função com parâmetro fornecido:\n",
            "Rodada 1: PR\n",
            "Rodada 2: PR\n",
            "Rodada 3: PR\n",
            "Rodada 4: PR\n",
            "Rodada 5: PR\n",
            "---------------\n",
            "Função com parâmetro não fornecido (opcional):\n",
            "Rodada 1: +\n",
            "Rodada 2: +\n",
            "Rodada 3: +\n",
            "Rodada 4: +\n",
            "Rodada 5: +\n",
            "Rodada 6: +\n",
            "Rodada 7: +\n",
            "Rodada 8: +\n",
            "Rodada 9: +\n",
            "Rodada 10: +\n",
            "Rodada 11: +\n"
          ]
        }
      ]
    },
    {
      "cell_type": "code",
      "source": [
        "# Exemplo ...\n",
        "def soma_multi(a, b, c=0):\n",
        "  if c == 0:\n",
        "    return a * b\n",
        "  else:\n",
        "    return a + b + c\n",
        "\n",
        "if __name__ == \"__main__\":\n",
        "  x = 2\n",
        "  y = 4\n",
        "  z = 10\n",
        "  print(soma_multi(x, y))\n",
        "  print(soma_multi(x, y, z))"
      ],
      "metadata": {
        "colab": {
          "base_uri": "https://localhost:8080/"
        },
        "id": "izDD49bknFt6",
        "outputId": "abafb919-750f-4415-fa8f-44993fc9ee47"
      },
      "execution_count": null,
      "outputs": [
        {
          "output_type": "stream",
          "name": "stdout",
          "text": [
            "8\n",
            "16\n"
          ]
        }
      ]
    },
    {
      "cell_type": "markdown",
      "source": [
        "### 24. Escopos de variáveis (global e local)"
      ],
      "metadata": {
        "id": "wJrCqr0Fmrvh"
      }
    },
    {
      "cell_type": "code",
      "source": [
        "esc_global = \"Escopo Global\"\n",
        "print(esc_global)\n",
        "\n",
        "def funcao():\n",
        "  esc_local = \"Escopo Local\"\n",
        "  print(esc_global)\n",
        "  print(esc_local)\n",
        "\n",
        "funcao()\n",
        "print(esc_global)\n",
        "#print(esc_local)"
      ],
      "metadata": {
        "id": "VaObmlE9mtT3",
        "colab": {
          "base_uri": "https://localhost:8080/"
        },
        "outputId": "b5a2cc90-4ac1-4942-ad07-ba2ca75d1b9c"
      },
      "execution_count": null,
      "outputs": [
        {
          "output_type": "stream",
          "name": "stdout",
          "text": [
            "Escopo Global\n",
            "Escopo Global\n",
            "Escopo Local\n",
            "Escopo Global\n"
          ]
        }
      ]
    },
    {
      "cell_type": "markdown",
      "source": [
        "### 25. Manipulação de erros e exceções"
      ],
      "metadata": {
        "id": "zZ3QR3lSveel"
      }
    },
    {
      "cell_type": "code",
      "source": [
        "# Baseia-se na utilização dos blocos try ... except\n",
        "'''\n",
        "try: (tente executar as intrucoes abaixo)\n",
        "  instrucoes\n",
        "except nome_excecao: (se ocorrer uma exececao execute as instrucoes abaixo)\n",
        "  instrucoes\n",
        "else: (se o bloco try foi executado sem erro, execute as instrucoes abaixo)\n",
        "  instrucoes\n",
        "'''\n",
        "\n",
        "# Exemplo ...\n",
        "n1 = float(input(\"Digite um número: \"))\n",
        "n2 = float(input(\"Digite outro número: \"))\n",
        "r = round(n1/n2, 2)\n",
        "print(f\"Resultado: {r}\")"
      ],
      "metadata": {
        "id": "sYprKqj2v91s",
        "colab": {
          "base_uri": "https://localhost:8080/",
          "height": 228
        },
        "outputId": "d3e5a3f6-4d57-49b8-9130-a5bc7a705567"
      },
      "execution_count": null,
      "outputs": [
        {
          "name": "stdout",
          "output_type": "stream",
          "text": [
            "Digite um número: 10\n",
            "Digite outro número: 0\n"
          ]
        },
        {
          "output_type": "error",
          "ename": "ZeroDivisionError",
          "evalue": "float division by zero",
          "traceback": [
            "\u001b[0;31m---------------------------------------------------------------------------\u001b[0m",
            "\u001b[0;31mZeroDivisionError\u001b[0m                         Traceback (most recent call last)",
            "\u001b[0;32m<ipython-input-10-15f13001bd2e>\u001b[0m in \u001b[0;36m<cell line: 6>\u001b[0;34m()\u001b[0m\n\u001b[1;32m      4\u001b[0m \u001b[0mn1\u001b[0m \u001b[0;34m=\u001b[0m \u001b[0mfloat\u001b[0m\u001b[0;34m(\u001b[0m\u001b[0minput\u001b[0m\u001b[0;34m(\u001b[0m\u001b[0;34m\"Digite um número: \"\u001b[0m\u001b[0;34m)\u001b[0m\u001b[0;34m)\u001b[0m\u001b[0;34m\u001b[0m\u001b[0;34m\u001b[0m\u001b[0m\n\u001b[1;32m      5\u001b[0m \u001b[0mn2\u001b[0m \u001b[0;34m=\u001b[0m \u001b[0mfloat\u001b[0m\u001b[0;34m(\u001b[0m\u001b[0minput\u001b[0m\u001b[0;34m(\u001b[0m\u001b[0;34m\"Digite outro número: \"\u001b[0m\u001b[0;34m)\u001b[0m\u001b[0;34m)\u001b[0m\u001b[0;34m\u001b[0m\u001b[0;34m\u001b[0m\u001b[0m\n\u001b[0;32m----> 6\u001b[0;31m \u001b[0mr\u001b[0m \u001b[0;34m=\u001b[0m \u001b[0mround\u001b[0m\u001b[0;34m(\u001b[0m\u001b[0mn1\u001b[0m\u001b[0;34m/\u001b[0m\u001b[0mn2\u001b[0m\u001b[0;34m,\u001b[0m \u001b[0;36m2\u001b[0m\u001b[0;34m)\u001b[0m\u001b[0;34m\u001b[0m\u001b[0;34m\u001b[0m\u001b[0m\n\u001b[0m\u001b[1;32m      7\u001b[0m \u001b[0mprint\u001b[0m\u001b[0;34m(\u001b[0m\u001b[0;34mf\"Resultado: {r}\"\u001b[0m\u001b[0;34m)\u001b[0m\u001b[0;34m\u001b[0m\u001b[0;34m\u001b[0m\u001b[0m\n",
            "\u001b[0;31mZeroDivisionError\u001b[0m: float division by zero"
          ]
        }
      ]
    },
    {
      "cell_type": "code",
      "source": [
        "# Tratamento da exceção\n",
        "n1 = float(input(\"Digite um número: \"))\n",
        "n2 = float(input(\"Digite outro número: \"))\n",
        "\n",
        "try:\n",
        "  r = round(n1/n2, 2)\n",
        "except ZeroDivisionError:\n",
        "  print(\"Não é possível dividir um número por zero!\")\n",
        "else:\n",
        "  print(f\"Resultado: {r}\")"
      ],
      "metadata": {
        "colab": {
          "base_uri": "https://localhost:8080/"
        },
        "id": "bHmVjCa35iO_",
        "outputId": "8efea946-9de4-46cb-d0fc-4e023890888c"
      },
      "execution_count": null,
      "outputs": [
        {
          "output_type": "stream",
          "name": "stdout",
          "text": [
            "Digite um número: 9\n",
            "Digite outro número: 0\n",
            "Não é possível dividir um número por zero!\n"
          ]
        }
      ]
    },
    {
      "cell_type": "code",
      "source": [
        "# Exemplo ...\n",
        "def divisao(k, j):\n",
        "  return round(k / j, 2)\n",
        "\n",
        "if __name__ == \"__main__\":\n",
        "  while True:\n",
        "    try:\n",
        "      n1 = int(input(\"Digite um número: \"))\n",
        "      n2 = int(input(\"Digite outro número: \"))\n",
        "      break\n",
        "    except ValueError:\n",
        "      print(\"Ocorreu um erro ao ler o valor. Tente novamente!\")\n",
        "  try:\n",
        "    r = divisao(n1, n2)\n",
        "  except ZeroDivisionError:\n",
        "    print(\"Não é possível dividir um número por zero!\")\n",
        "  except:\n",
        "    print(\"Ocorreu um erro deconhecido!\")\n",
        "  else:\n",
        "    print(f\"Resultado: {r}\")\n",
        "  finally:\n",
        "    print(\"Fim do programa!\")"
      ],
      "metadata": {
        "colab": {
          "base_uri": "https://localhost:8080/"
        },
        "id": "9BVW3_1x71m4",
        "outputId": "30202021-c39e-4fdc-e8f6-a1b48cc37649"
      },
      "execution_count": null,
      "outputs": [
        {
          "output_type": "stream",
          "name": "stdout",
          "text": [
            "Digite um número: 8\n",
            "Digite outro número: q\n",
            "Ocorreu um erro ao ler o valor. Tente novamente!\n",
            "Digite um número: 8\n",
            "Digite outro número: 0\n",
            "Não é possível dividir um número por zero!\n",
            "Fim do programa!\n"
          ]
        }
      ]
    },
    {
      "cell_type": "code",
      "source": [
        "# Exemplo ...\n",
        "from math import sqrt\n",
        "\n",
        "if __name__ == \"__main__\":\n",
        "  try:\n",
        "    n = float(input(\"Digite um número positivo: \"))\n",
        "    if n < 0:\n",
        "      raise ArithmeticError\n",
        "  except ArithmeticError:\n",
        "    print(\"Foi fornecido um número negativo!\")\n",
        "  else:\n",
        "    print(f\"A raiz quadrada de {n} é {sqrt(n)}\")\n",
        "  finally:\n",
        "    print(\"Fim do programa!\")"
      ],
      "metadata": {
        "colab": {
          "base_uri": "https://localhost:8080/"
        },
        "id": "nphkcUfG_8nh",
        "outputId": "bfd1e781-631e-4b02-a215-c184695147ce"
      },
      "execution_count": null,
      "outputs": [
        {
          "output_type": "stream",
          "name": "stdout",
          "text": [
            "Digite um número positivo: 10\n",
            "A raiz quadrada de 10.0 é 3.1622776601683795\n",
            "Fim do programa!\n"
          ]
        }
      ]
    },
    {
      "cell_type": "code",
      "source": [
        "# Exemplo ...\n",
        "from math import sqrt\n",
        "\n",
        "class NumeroNegativoError(Exception):\n",
        "  def __init__(self):\n",
        "    pass\n",
        "\n",
        "if __name__ == \"__main__\":\n",
        "  try:\n",
        "    n = float(input(\"Digite um número positivo: \"))\n",
        "    if n < 0:\n",
        "      raise NumeroNegativoError\n",
        "  except NumeroNegativoError:\n",
        "    print(\"Foi fornecido um número negativo!\")\n",
        "  else:\n",
        "    print(f\"A raiz quadrada de {n} é {sqrt(n)}\")\n",
        "  finally:\n",
        "    print(\"Fim do programa!\")"
      ],
      "metadata": {
        "colab": {
          "base_uri": "https://localhost:8080/"
        },
        "id": "Lb0bWV9hCPX5",
        "outputId": "11284d83-a65a-4cea-e9c1-4d40b92c1368"
      },
      "execution_count": null,
      "outputs": [
        {
          "output_type": "stream",
          "name": "stdout",
          "text": [
            "Digite um número positivo: -9\n",
            "Foi fornecido um número negativo!\n",
            "Fim do programa!\n"
          ]
        }
      ]
    },
    {
      "cell_type": "markdown",
      "source": [
        "### 26. Funções recursivas"
      ],
      "metadata": {
        "id": "T_nKpCMiC_r7"
      }
    },
    {
      "cell_type": "code",
      "source": [
        "# Função fatorial ...\n",
        "def fatorial(n):\n",
        "  f = 1\n",
        "  while n >= 1:\n",
        "    f = f * n\n",
        "    n = n - 1\n",
        "  return f\n",
        "\n",
        "if __name__ == \"__main__\":\n",
        "  n = 4\n",
        "  r = fatorial(n)\n",
        "  print(f\"O fatorial de {n} é {r}.\")"
      ],
      "metadata": {
        "id": "MULrvDlGDILp",
        "colab": {
          "base_uri": "https://localhost:8080/"
        },
        "outputId": "826e48ce-e1d0-46b2-afb1-b02727ae8b03"
      },
      "execution_count": null,
      "outputs": [
        {
          "output_type": "stream",
          "name": "stdout",
          "text": [
            "O fatorial de 4 é 24.\n"
          ]
        }
      ]
    },
    {
      "cell_type": "code",
      "source": [
        "# Função fatorial com recursividade ...\n",
        "def fatorial_rec(n):\n",
        "  if n == 0 or n == 1:\n",
        "    return 1\n",
        "  else:\n",
        "    return n * fatorial_rec(n - 1)\n",
        "\n",
        "if __name__ == \"__main__\":\n",
        "  n = 4\n",
        "  r = fatorial_rec(n)\n",
        "  print(f\"O fatorial de {n} é {r}\")"
      ],
      "metadata": {
        "colab": {
          "base_uri": "https://localhost:8080/"
        },
        "id": "ESUjIsHHHrqU",
        "outputId": "5268647e-32c2-42fc-91f7-299a20f86af9"
      },
      "execution_count": null,
      "outputs": [
        {
          "output_type": "stream",
          "name": "stdout",
          "text": [
            "O fatorial de 4 é 24\n"
          ]
        }
      ]
    },
    {
      "cell_type": "code",
      "source": [
        "# Função fatorial com recursividade + tratamento de exceção ...\n",
        "def fatorial_rec(n):\n",
        "  if n == 0 or n == 1:\n",
        "    return 1\n",
        "  else:\n",
        "    return n * fatorial_rec(n - 1)\n",
        "\n",
        "if __name__ == \"__main__\":\n",
        "  try:\n",
        "    n = -1\n",
        "    r = fatorial_rec(n)\n",
        "  except RecursionError:\n",
        "    print(\"Valor fornecido muito elevado ou negativo!\")\n",
        "  else:\n",
        "    print(f\"O fatorial de {n} é {r}\")\n",
        "  finally:\n",
        "    print(\"Fim do programa!\")"
      ],
      "metadata": {
        "colab": {
          "base_uri": "https://localhost:8080/"
        },
        "id": "xmG9qxmYLhSc",
        "outputId": "11add6ca-952b-41da-f230-b86211d2cb31"
      },
      "execution_count": null,
      "outputs": [
        {
          "output_type": "stream",
          "name": "stdout",
          "text": [
            "Valor fornecido muito elevado ou negativo!\n",
            "Fim do programa!\n"
          ]
        }
      ]
    },
    {
      "cell_type": "markdown",
      "source": [
        "### 27. Funções: lambda, map, filter, reduce"
      ],
      "metadata": {
        "id": "MFBUar9hLPrG"
      }
    },
    {
      "cell_type": "markdown",
      "source": [
        "#### Funções lambda ..."
      ],
      "metadata": {
        "id": "2X8LfJZyRmzd"
      }
    },
    {
      "cell_type": "code",
      "source": [
        "# Funções lambda ou anônimas\n",
        "# Sintaxe:\n",
        "# lambda argumentos: expressao\n",
        "\n",
        "# Exemplo ...\n",
        "quadrado = lambda x: x ** 2\n",
        "print(quadrado(5))\n",
        "\n",
        "print(\"---------------\")\n",
        "\n",
        "for i in range(1,11):\n",
        "  print(quadrado(i))"
      ],
      "metadata": {
        "colab": {
          "base_uri": "https://localhost:8080/"
        },
        "id": "V-W7ycIhLRGz",
        "outputId": "6731942e-f7b5-482a-bde7-f2ecab7a95a0"
      },
      "execution_count": null,
      "outputs": [
        {
          "output_type": "stream",
          "name": "stdout",
          "text": [
            "25\n",
            "---------------\n",
            "1\n",
            "4\n",
            "9\n",
            "16\n",
            "25\n",
            "36\n",
            "49\n",
            "64\n",
            "81\n",
            "100\n"
          ]
        }
      ]
    },
    {
      "cell_type": "code",
      "source": [
        "# Exemplo ...\n",
        "e_par = lambda x: x % 2 == 0\n",
        "print(e_par(5))\n",
        "print(e_par(10))"
      ],
      "metadata": {
        "colab": {
          "base_uri": "https://localhost:8080/"
        },
        "id": "kPQ5Z81iPZl6",
        "outputId": "76127778-7a19-4e44-84b6-1426ffe18056"
      },
      "execution_count": null,
      "outputs": [
        {
          "output_type": "stream",
          "name": "stdout",
          "text": [
            "False\n",
            "True\n"
          ]
        }
      ]
    },
    {
      "cell_type": "code",
      "source": [
        "# Exemplo ...\n",
        "fah_to_cel = lambda f: (f - 32) / 1.8\n",
        "print(f\"{fah_to_cel(32):.2f}\")"
      ],
      "metadata": {
        "colab": {
          "base_uri": "https://localhost:8080/"
        },
        "id": "Cl3_h26dQFRa",
        "outputId": "abfa4d17-3dff-47bf-88f9-9aea9f402898"
      },
      "execution_count": null,
      "outputs": [
        {
          "output_type": "stream",
          "name": "stdout",
          "text": [
            "0.00\n"
          ]
        }
      ]
    },
    {
      "cell_type": "markdown",
      "source": [
        "#### map() ..."
      ],
      "metadata": {
        "id": "oFwyGEnVRtlu"
      }
    },
    {
      "cell_type": "code",
      "source": [
        "# Sintaxe:\n",
        "# map(funcao, iteravel)\n",
        "\n",
        "# Exemplo ...\n",
        "def multiplica2(lista):\n",
        "  nova_lista = []\n",
        "  for i in range(len(lista)):\n",
        "    nova_lista.append(2 * lista[i])\n",
        "  return nova_lista\n",
        "\n",
        "if __name__ == \"__main__\":\n",
        "  lista = [0, 1, 2, 3, 4, 5]\n",
        "\n",
        "  # Resolução convencional (com iteração):\n",
        "  nova_lista_iteracao = multiplica2(lista)\n",
        "  print(nova_lista_iteracao)\n",
        "\n",
        "  # Resolução com função map():\n",
        "  nova_lista_map = map(lambda i: 2 * i, lista)\n",
        "  print(nova_lista_map, type(nova_lista_map))\n",
        "  print(list(nova_lista_map))     # casting de map para list"
      ],
      "metadata": {
        "colab": {
          "base_uri": "https://localhost:8080/"
        },
        "id": "rITGHk9qRwlA",
        "outputId": "d9d03a51-2ba3-4d63-dbc3-8c552c63a1d6"
      },
      "execution_count": null,
      "outputs": [
        {
          "output_type": "stream",
          "name": "stdout",
          "text": [
            "[0, 2, 4, 6, 8, 10]\n",
            "<map object at 0x7c739822f310> <class 'map'>\n",
            "[0, 2, 4, 6, 8, 10]\n"
          ]
        }
      ]
    },
    {
      "cell_type": "code",
      "source": [
        "# Exemplo ...\n",
        "palavras = [\"python\", \"é\", \"uma\", \"linguagem\", \"de\", \"programação!\"]\n",
        "maiusculas = map(lambda p: p.upper(), palavras)\n",
        "\n",
        "print(palavras)\n",
        "print(list(maiusculas))"
      ],
      "metadata": {
        "colab": {
          "base_uri": "https://localhost:8080/"
        },
        "id": "qW7hGrlzV6oN",
        "outputId": "62a2a7f6-c9da-4b69-e55f-9979c0f0730b"
      },
      "execution_count": null,
      "outputs": [
        {
          "output_type": "stream",
          "name": "stdout",
          "text": [
            "['python', 'é', 'uma', 'linguagem', 'de', 'programação!']\n",
            "['PYTHON', 'É', 'UMA', 'LINGUAGEM', 'DE', 'PROGRAMAÇÃO!']\n"
          ]
        }
      ]
    },
    {
      "cell_type": "markdown",
      "source": [
        "#### filter() ..."
      ],
      "metadata": {
        "id": "L2r892EMWzcQ"
      }
    },
    {
      "cell_type": "code",
      "source": [
        "# Sintaxe:\n",
        "# filter(funcao, iteravel)\n",
        "\n",
        "# Exemplo ...\n",
        "lista = [1, 2, 3, 4, 5, 6, 7, 8, 9, 10, 11, 12, 13]\n",
        "pares = filter(lambda i: i % 2 == 0, lista)\n",
        "impares = filter(lambda i: i % 2 != 0, lista)\n",
        "\n",
        "print(lista)\n",
        "print(list(pares))\n",
        "print(list(impares))"
      ],
      "metadata": {
        "colab": {
          "base_uri": "https://localhost:8080/"
        },
        "id": "cVcIVM4jW2Br",
        "outputId": "967a6752-4ba1-4385-8738-6f03e22f1a30"
      },
      "execution_count": null,
      "outputs": [
        {
          "output_type": "stream",
          "name": "stdout",
          "text": [
            "[1, 2, 3, 4, 5, 6, 7, 8, 9, 10, 11, 12, 13]\n",
            "[2, 4, 6, 8, 10, 12]\n",
            "[1, 3, 5, 7, 9, 11, 13]\n"
          ]
        }
      ]
    },
    {
      "cell_type": "markdown",
      "source": [
        "#### reduce() ..."
      ],
      "metadata": {
        "id": "mKoOL9QCZ5jH"
      }
    },
    {
      "cell_type": "code",
      "source": [
        "# Sintaxe:\n",
        "# from functools import reduce\n",
        "# reduce(funcao, iteravel, valor_inicial)\n",
        "# É uma operação cumulativa!\n",
        "\n",
        "# Exemplo ...\n",
        "from functools import reduce\n",
        "\n",
        "def multiplica(a, b):\n",
        "  return a * b\n",
        "\n",
        "if __name__ == \"__main__\":\n",
        "  lista = [1, 2, 3, 4, 8, 6]\n",
        "  resultado = reduce(multiplica, lista)\n",
        "  print(resultado)"
      ],
      "metadata": {
        "colab": {
          "base_uri": "https://localhost:8080/"
        },
        "id": "5vPINM7aZ7We",
        "outputId": "3942077f-54f2-4e0d-9c69-e7877e25fb46"
      },
      "execution_count": null,
      "outputs": [
        {
          "output_type": "stream",
          "name": "stdout",
          "text": [
            "1152\n"
          ]
        }
      ]
    },
    {
      "cell_type": "code",
      "source": [
        "# Exemplo ...\n",
        "lista = [1, 2, 3, 4]\n",
        "resultado = reduce(lambda i, j: i**2 + j**2, lista)\n",
        "print(resultado)"
      ],
      "metadata": {
        "colab": {
          "base_uri": "https://localhost:8080/"
        },
        "id": "I5LbY_0_b1Zc",
        "outputId": "9d46dd21-23dc-44ec-ced6-fdfa8c9e27d9"
      },
      "execution_count": null,
      "outputs": [
        {
          "output_type": "stream",
          "name": "stdout",
          "text": [
            "1172\n"
          ]
        }
      ]
    },
    {
      "cell_type": "markdown",
      "source": [
        "### 28. Compreensões de lista"
      ],
      "metadata": {
        "id": "ywMB_q0adSWL"
      }
    },
    {
      "cell_type": "code",
      "source": [
        "# Sintaxe:\n",
        "# nova_lista = [expressao for item in lista]\n",
        "\n",
        "# Exemplo ...\n",
        "lista = [1, 2, 3, 4, 5]\n",
        "lista_map = list(map(lambda i: 2*i, lista))\n",
        "lista_comp = [2*i for i in lista]\n",
        "\n",
        "print(lista)\n",
        "print(lista_map)\n",
        "print(lista_comp)"
      ],
      "metadata": {
        "colab": {
          "base_uri": "https://localhost:8080/"
        },
        "id": "YzXOlrvhdTZE",
        "outputId": "fc03453d-61e5-4336-e84d-22f2f1e95e0c"
      },
      "execution_count": null,
      "outputs": [
        {
          "output_type": "stream",
          "name": "stdout",
          "text": [
            "[1, 2, 3, 4, 5]\n",
            "[2, 4, 6, 8, 10]\n",
            "[2, 4, 6, 8, 10]\n"
          ]
        }
      ]
    },
    {
      "cell_type": "code",
      "source": [
        "# Exemplo ...\n",
        "lista = [0, 1, 2, 3, 4, 5]\n",
        "lista_map = list(map(lambda i: i**2, lista))\n",
        "lista_comp = [i**2 for i in lista]\n",
        "\n",
        "print(lista)\n",
        "print(lista_map)\n",
        "print(lista_comp)"
      ],
      "metadata": {
        "colab": {
          "base_uri": "https://localhost:8080/"
        },
        "id": "WelvHQI4kLy2",
        "outputId": "5dd46210-707e-4310-fb55-5ec2ff6e1404"
      },
      "execution_count": null,
      "outputs": [
        {
          "output_type": "stream",
          "name": "stdout",
          "text": [
            "[0, 1, 2, 3, 4, 5]\n",
            "[0, 1, 4, 9, 16, 25]\n",
            "[0, 1, 4, 9, 16, 25]\n"
          ]
        }
      ]
    },
    {
      "cell_type": "code",
      "source": [
        "# Exemplo ...\n",
        "lista = list(range(11))\n",
        "lista_pares = [i for i in lista if i % 2 == 0]\n",
        "print(lista)\n",
        "print(lista_pares)"
      ],
      "metadata": {
        "colab": {
          "base_uri": "https://localhost:8080/"
        },
        "id": "g0VTL2yplGDs",
        "outputId": "0d6cfca7-2adf-4380-9b96-2c7e5fea14b7"
      },
      "execution_count": null,
      "outputs": [
        {
          "output_type": "stream",
          "name": "stdout",
          "text": [
            "[0, 1, 2, 3, 4, 5, 6, 7, 8, 9, 10]\n",
            "[0, 2, 4, 6, 8, 10]\n"
          ]
        }
      ]
    },
    {
      "cell_type": "code",
      "source": [
        "# Exemplo (contar a quantidade de vogais em um texto) ...\n",
        "frase = \"A logica e apenas o principio da sabedoria e nao o seu fim ...\"\n",
        "vogais = [\"a\", \"e\", \"i\", \"o\", \"u\", \"A\", \"E\", \"I\", \"O\", \"U\"]\n",
        "f = [i for i in frase if i in vogais]\n",
        "qde_vogais = len(f)\n",
        "print(f\"A frase \\'{frase}\\' possui {qde_vogais} vogais.\")"
      ],
      "metadata": {
        "colab": {
          "base_uri": "https://localhost:8080/"
        },
        "id": "naKW71o9metL",
        "outputId": "e6c3e38b-b88c-4c1c-97ba-16bde925141e"
      },
      "execution_count": null,
      "outputs": [
        {
          "output_type": "stream",
          "name": "stdout",
          "text": [
            "A frase 'A logica e apenas o principio da sabedoria e nao o seu fim ...' possui 26 vogais.\n"
          ]
        }
      ]
    },
    {
      "cell_type": "code",
      "source": [
        "# Exemplo ...\n",
        "lista1 = [2, 3, 5]\n",
        "lista2 = [10, 20, 30]\n",
        "resultado = [i*j for i in lista1 for j in lista2]\n",
        "print(resultado)"
      ],
      "metadata": {
        "colab": {
          "base_uri": "https://localhost:8080/"
        },
        "id": "BpEtdVYHoWPn",
        "outputId": "d427e367-c8b5-4187-82e0-61def48b7081"
      },
      "execution_count": null,
      "outputs": [
        {
          "output_type": "stream",
          "name": "stdout",
          "text": [
            "[20, 40, 60, 30, 60, 90, 50, 100, 150]\n"
          ]
        }
      ]
    },
    {
      "cell_type": "markdown",
      "source": [
        "### 29. Orientação à objetos (OO) em Python"
      ],
      "metadata": {
        "id": "0zfBMTdZnsCl"
      }
    },
    {
      "cell_type": "code",
      "source": [
        "# Python não é uma linguagem 100% orientada a objetos!\n",
        "\n",
        "# Classes ...\n",
        "class Veiculo:\n",
        "  # Construtor\n",
        "  def __init__(self, fabricante, modelo):\n",
        "    self.fabricante = fabricante\n",
        "    self.modelo = modelo\n",
        "    self.num_registro = None\n",
        "\n",
        "  # Método Personalizado\n",
        "  def movimentar(self):\n",
        "    print(\"Sou um veículo e me desloco!\")\n",
        "\n",
        "if __name__ == \"__main__\":\n",
        "  meu_veiculo = Veiculo(\"GM\", \"Cadillac Escalade\")\n",
        "  meu_veiculo.movimentar()\n",
        "  print(meu_veiculo.fabricante)\n",
        "  print(meu_veiculo.modelo)"
      ],
      "metadata": {
        "id": "pd9yjVDNnuSb",
        "colab": {
          "base_uri": "https://localhost:8080/"
        },
        "outputId": "5675d5e2-4b42-41ba-b118-26a34572d0cd"
      },
      "execution_count": null,
      "outputs": [
        {
          "output_type": "stream",
          "name": "stdout",
          "text": [
            "Sou um veículo e me desloco!\n",
            "GM\n",
            "Cadillac Escalade\n"
          ]
        }
      ]
    },
    {
      "cell_type": "code",
      "source": [
        "# Python não é uma linguagem 100% orientada a objetos!\n",
        "\n",
        "# Classes ...\n",
        "class Veiculo:\n",
        "  # Construtor\n",
        "  def __init__(self, fabricante, modelo):\n",
        "    # Encapsulamento\n",
        "    self.__fabricante = fabricante\n",
        "    self.__modelo = modelo\n",
        "    self.__num_registro = None\n",
        "\n",
        "  # Método Personalizado\n",
        "  def movimentar(self):\n",
        "    print(\"Sou um veículo e me desloco!\")\n",
        "\n",
        "if __name__ == \"__main__\":\n",
        "  meu_veiculo = Veiculo(\"GM\", \"Cadillac Escalade\")\n",
        "  meu_veiculo.movimentar()\n",
        "  print(meu_veiculo.fabricante)\n",
        "  print(meu_veiculo.modelo)"
      ],
      "metadata": {
        "colab": {
          "base_uri": "https://localhost:8080/",
          "height": 211
        },
        "id": "u7s6cr-vaRNB",
        "outputId": "5bf7eec4-d011-4a70-a9c4-9bbcab3d2bc4"
      },
      "execution_count": null,
      "outputs": [
        {
          "output_type": "stream",
          "name": "stdout",
          "text": [
            "Sou um veículo e me desloco!\n"
          ]
        },
        {
          "output_type": "error",
          "ename": "AttributeError",
          "evalue": "'Veiculo' object has no attribute 'fabricante'",
          "traceback": [
            "\u001b[0;31m---------------------------------------------------------------------------\u001b[0m",
            "\u001b[0;31mAttributeError\u001b[0m                            Traceback (most recent call last)",
            "\u001b[0;32m<ipython-input-35-97bd00990eee>\u001b[0m in \u001b[0;36m<cell line: 16>\u001b[0;34m()\u001b[0m\n\u001b[1;32m     17\u001b[0m   \u001b[0mmeu_veiculo\u001b[0m \u001b[0;34m=\u001b[0m \u001b[0mVeiculo\u001b[0m\u001b[0;34m(\u001b[0m\u001b[0;34m\"GM\"\u001b[0m\u001b[0;34m,\u001b[0m \u001b[0;34m\"Cadillac Escalade\"\u001b[0m\u001b[0;34m)\u001b[0m\u001b[0;34m\u001b[0m\u001b[0;34m\u001b[0m\u001b[0m\n\u001b[1;32m     18\u001b[0m   \u001b[0mmeu_veiculo\u001b[0m\u001b[0;34m.\u001b[0m\u001b[0mmovimentar\u001b[0m\u001b[0;34m(\u001b[0m\u001b[0;34m)\u001b[0m\u001b[0;34m\u001b[0m\u001b[0;34m\u001b[0m\u001b[0m\n\u001b[0;32m---> 19\u001b[0;31m   \u001b[0mprint\u001b[0m\u001b[0;34m(\u001b[0m\u001b[0mmeu_veiculo\u001b[0m\u001b[0;34m.\u001b[0m\u001b[0mfabricante\u001b[0m\u001b[0;34m)\u001b[0m\u001b[0;34m\u001b[0m\u001b[0;34m\u001b[0m\u001b[0m\n\u001b[0m\u001b[1;32m     20\u001b[0m   \u001b[0mprint\u001b[0m\u001b[0;34m(\u001b[0m\u001b[0mmeu_veiculo\u001b[0m\u001b[0;34m.\u001b[0m\u001b[0mmodelo\u001b[0m\u001b[0;34m)\u001b[0m\u001b[0;34m\u001b[0m\u001b[0;34m\u001b[0m\u001b[0m\n",
            "\u001b[0;31mAttributeError\u001b[0m: 'Veiculo' object has no attribute 'fabricante'"
          ]
        }
      ]
    },
    {
      "cell_type": "code",
      "source": [
        "# Python não é uma linguagem 100% orientada a objetos!\n",
        "\n",
        "# Classes ...\n",
        "class Veiculo:\n",
        "  # Construtor\n",
        "  def __init__(self, fabricante, modelo):\n",
        "    # Encapsulamento\n",
        "    self.__fabricante = fabricante\n",
        "    self.__modelo = modelo\n",
        "    self.__num_registro = None\n",
        "\n",
        "  # Getters\n",
        "  def get_fabricante(self):\n",
        "    return self.__fabricante\n",
        "\n",
        "  def get_modelo(self):\n",
        "    return self.__modelo\n",
        "\n",
        "  def get_num_registro(self):\n",
        "    return self.__num_registro\n",
        "\n",
        "  # Método Personalizado\n",
        "  def movimentar(self):\n",
        "    print(\"Sou um veículo e me desloco!\")\n",
        "\n",
        "if __name__ == \"__main__\":\n",
        "  meu_veiculo = Veiculo(\"GM\", \"Cadillac Escalade\")\n",
        "  meu_veiculo.movimentar()\n",
        "  print(meu_veiculo.get_fabricante())\n",
        "  print(meu_veiculo.get_modelo())\n",
        "  print(meu_veiculo.get_num_registro())"
      ],
      "metadata": {
        "colab": {
          "base_uri": "https://localhost:8080/"
        },
        "id": "WctFCLGwadgP",
        "outputId": "8dddd0a3-c038-4c37-969f-0fa5e7ea2a96"
      },
      "execution_count": null,
      "outputs": [
        {
          "output_type": "stream",
          "name": "stdout",
          "text": [
            "Sou um veículo e me desloco!\n",
            "GM\n",
            "Cadillac Escalade\n",
            "None\n"
          ]
        }
      ]
    },
    {
      "cell_type": "code",
      "source": [
        "# Python não é uma linguagem 100% orientada a objetos!\n",
        "\n",
        "# Classes ...\n",
        "class Veiculo:\n",
        "  # Construtor\n",
        "  def __init__(self, fabricante, modelo):\n",
        "    # Encapsulamento\n",
        "    self.__fabricante = fabricante\n",
        "    self.__modelo = modelo\n",
        "    self.__num_registro = None\n",
        "\n",
        "  # Getters\n",
        "  def get_fabricante(self):\n",
        "    return self.__fabricante\n",
        "\n",
        "  def get_modelo(self):\n",
        "    return self.__modelo\n",
        "\n",
        "  def get_num_registro(self):\n",
        "    return self.__num_registro\n",
        "\n",
        "  # Setters\n",
        "  def set_fabricante(self, fabricante):\n",
        "    self.__fabricante = fabricante\n",
        "\n",
        "  def set_modelo(self, modelo):\n",
        "    self.__modelo = modelo\n",
        "\n",
        "  def set_num_registro(self, num_registro):\n",
        "    self.__num_registro = num_registro\n",
        "\n",
        "  # Método Personalizado\n",
        "  def movimentar(self):\n",
        "    print(\"Sou um veículo e me desloco!\")\n",
        "\n",
        "if __name__ == \"__main__\":\n",
        "  meu_veiculo = Veiculo(\"GM\", \"Cadillac Escalade\")\n",
        "\n",
        "  meu_veiculo.set_fabricante(\"Fiat\")\n",
        "  meu_veiculo.set_modelo(\"Mobi\")\n",
        "  meu_veiculo.set_num_registro(\"12345-67\")\n",
        "\n",
        "  print(meu_veiculo.get_fabricante())\n",
        "  print(meu_veiculo.get_modelo())\n",
        "  print(meu_veiculo.get_num_registro())"
      ],
      "metadata": {
        "colab": {
          "base_uri": "https://localhost:8080/"
        },
        "id": "N3So5VzFcMjv",
        "outputId": "ac01b81a-a340-4bb3-d28e-1132be1c32b4"
      },
      "execution_count": null,
      "outputs": [
        {
          "output_type": "stream",
          "name": "stdout",
          "text": [
            "Fiat\n",
            "Mobi\n",
            "12345-67\n"
          ]
        }
      ]
    },
    {
      "cell_type": "code",
      "source": [
        "# Herança ...\n",
        "class Carro(Veiculo):\n",
        "  # Método __init__() será herdado\n",
        "  # Método Personalizado\n",
        "  def movimentar(self):\n",
        "    print(\"Sou um carro e ando pelas ruas ...\")\n",
        "\n",
        "class Motocicleta(Veiculo):\n",
        "  # Método __init__() será herdado\n",
        "  # Método Personalizado\n",
        "  def movimentar(self):\n",
        "    print(\"Sou uma motocicleta e tenho duas rodas ...\")\n",
        "\n",
        "class Aviao(Veiculo):\n",
        "  def __init__(self, fabricante, modelo, categoria):\n",
        "    super().__init__(fabricante, modelo)\n",
        "    self.__categoria = categoria\n",
        "\n",
        "  def get_categoria(self):\n",
        "    return self.__categoria\n",
        "\n",
        "  def set_categoria(self, categoria):\n",
        "    self.__categoria = categoria\n",
        "\n",
        "  def movimentar(self):\n",
        "    print(\"Sou um avião e estou voando ...\")\n",
        "\n",
        "\n",
        "if __name__ == \"__main__\":\n",
        "  meu_carro = Carro(\"Fiat\", \"Mobi\")\n",
        "  meu_carro.movimentar()\n",
        "  print(meu_carro.get_fabricante())\n",
        "  print(meu_carro.get_modelo())\n",
        "  meu_carro.set_num_registro(\"109867-99\")\n",
        "  print(meu_carro.get_num_registro())\n",
        "\n",
        "  minha_motocicleta = Motocicleta(\"Honda\", \"CG-50\")\n",
        "  minha_motocicleta.movimentar()\n",
        "\n",
        "  meu_aviao = Aviao(\"Boeing\", \"747\", \"Comercial\")\n",
        "  meu_aviao.movimentar()\n",
        "  print(meu_aviao.get_fabricante())\n",
        "  print(meu_aviao.get_modelo())\n",
        "  print(meu_aviao.get_categoria())"
      ],
      "metadata": {
        "colab": {
          "base_uri": "https://localhost:8080/"
        },
        "id": "vQBJp17usBnY",
        "outputId": "c38cf5f1-c045-4904-b214-55fcd4fdd277"
      },
      "execution_count": null,
      "outputs": [
        {
          "output_type": "stream",
          "name": "stdout",
          "text": [
            "Sou um carro e ando pelas ruas ...\n",
            "Fiat\n",
            "Mobi\n",
            "109867-99\n",
            "Sou uma motocicleta e tenho duas rodas ...\n",
            "Sou um avião e estou voando ...\n",
            "Boeing\n",
            "747\n",
            "Comercial\n"
          ]
        }
      ]
    },
    {
      "cell_type": "markdown",
      "source": [
        "### 30. Gerenciamento de arquivos e pastas com módulo os"
      ],
      "metadata": {
        "id": "5cq75VwLvg1J"
      }
    },
    {
      "cell_type": "code",
      "source": [
        "# Documentação oficial do módulo os\n",
        "# https://docs.python.org/3/library/os.html\n",
        "import os\n",
        "os.name                                # mostra o tipo do sistema operacional (nt - windows, posix - linux ou mac os)\n",
        "os.getcwd()                            # mostra o diretório de trabalho atual\n",
        "os.curdir                              # diretório atual\n",
        "os.listdir()                           # mostra todo o conteúdo do diretório atual\n",
        "os.listdir(\"path\")                     # mostra todo o conteúdo do diretório com o caminho path\n",
        "os.chdir(\"path\")                       # muda de diretório\n",
        "os.mkdir(\"nomePasta\")                  # cria uma pasta no diretório atual\n",
        "os.rename(\"nome_atual\", \"nome_novo\")   # renomeia uma pasta\n",
        "os.rmdir(\"path\")                       # remove a pasta\n",
        "# ..."
      ],
      "metadata": {
        "id": "roQld_Yuvh7L",
        "colab": {
          "base_uri": "https://localhost:8080/"
        },
        "outputId": "0190d383-9819-4ff4-fb7f-ed9c9f1acc17"
      },
      "execution_count": null,
      "outputs": [
        {
          "output_type": "execute_result",
          "data": {
            "text/plain": [
              "['.config', 'sample_data']"
            ]
          },
          "metadata": {},
          "execution_count": 9
        }
      ]
    },
    {
      "cell_type": "markdown",
      "source": [
        "### 31. Manipulação de arquivos de texto"
      ],
      "metadata": {
        "id": "alzHF13efaRJ"
      }
    },
    {
      "cell_type": "code",
      "source": [
        "# Leitura do conteúdo do arquivo ...\n",
        "manipulador = open(\"arquivo.txt\", \"r\", encoding=\"utf-8\")\n",
        "\n",
        "#print(manipulador.read())\n",
        "#print(manipulador.readline())\n",
        "#print(manipulador.readlines())"
      ],
      "metadata": {
        "id": "QTdcPUsnfb4w"
      },
      "execution_count": null,
      "outputs": []
    },
    {
      "cell_type": "code",
      "source": [
        "# Tratamento de erros ...\n",
        "try:\n",
        "  arquivo = open(\"arquivo.txt\", \"r\", encoding=\"utf-8\")\n",
        "  for i in arquivo:\n",
        "    i = i.rstrip()\n",
        "    print(i)\n",
        "except IOError:\n",
        "  print(\"Não foi possível abrir o arquivo!\")\n",
        "else:\n",
        "  arquivo.close()\n",
        "finally:\n",
        "  print(\"\\nFim do programa!\")"
      ],
      "metadata": {
        "colab": {
          "base_uri": "https://localhost:8080/"
        },
        "id": "N5ODOuGYzrS2",
        "outputId": "c82c9dca-89df-4455-c78d-f344359c9c72"
      },
      "execution_count": null,
      "outputs": [
        {
          "output_type": "stream",
          "name": "stdout",
          "text": [
            "Em sistemas operacionais, um arquivo de dispositivo,\n",
            "ou arquivo especial, é uma interface para um driver\n",
            "de dispositivo que aparece em um sistema de arquivos\n",
            "como se fosse um arquivo comum. Eles são comumente\n",
            "utilizados em sistemas operacionais do tipo Unix e\n",
            "também são encontrados no MS-DOS, OS/2 e Microsoft Windows.\n",
            "Os arquivos de dispositivo permitem que o software interaja\n",
            "com um driver de dispositivo utilizando as chamadas de\n",
            "sistema (system calls) padronizadas de entrada/saída, o que\n",
            "simplifica muitas tarefas e unifica mecanismos de E/S de\n",
            "espaço do usuário.\n",
            "\n",
            "Fim do programa!\n"
          ]
        }
      ]
    },
    {
      "cell_type": "code",
      "source": [
        "# Buscas em arquivos ...\n",
        "texto = input(\"Qual termo deseja procurar no arquivo? \")\n",
        "flag = 0\n",
        "\n",
        "try:\n",
        "  arquivo = open(\"arquivo.txt\", \"r\", encoding=\"utf-8\")\n",
        "  for i in arquivo:\n",
        "    i = i.rstrip()\n",
        "    if(texto in i):\n",
        "      print(\"A string foi encontrada!\")\n",
        "      print(i)\n",
        "      flag = 1\n",
        "  if(flag == 0):\n",
        "    print(\"String não encontrada no arquivo!\")\n",
        "except IOError:\n",
        "  print(\"Não foi possível abrir o arquivo!\")\n",
        "else:\n",
        "  arquivo.close()\n",
        "finally:\n",
        "  print(\"\\nFim do programa!\")"
      ],
      "metadata": {
        "colab": {
          "base_uri": "https://localhost:8080/"
        },
        "id": "dMDf6h4r3B8n",
        "outputId": "215fddc4-02fc-4097-e5c6-80819a7a928e"
      },
      "execution_count": null,
      "outputs": [
        {
          "output_type": "stream",
          "name": "stdout",
          "text": [
            "Qual termo deseja procurar no arquivo? ?????\n",
            "String não encontrada no arquivo!\n",
            "\n",
            "Fim do programa!\n"
          ]
        }
      ]
    },
    {
      "cell_type": "code",
      "source": [
        "# Escrita em arquivos de texto ...\n",
        "# \"w\" apaga todo o conteúdo anterior do arquivo!\n",
        "try:\n",
        "  arquivo = open(\"arquivo.txt\", \"w\", encoding=\"utf-8\")\n",
        "  arquivo.write(\"Curso de Python da Bóson Treinamentos ...\\n\")\n",
        "  arquivo.write(\"Como criar um arquivo de texto com Python ...\\n\")\n",
        "except IOError:\n",
        "  print(\"Não foi possível abrir o arquivo!\")\n",
        "else:\n",
        "  arquivo.close()\n",
        "finally:\n",
        "  print(\"Fim do programa!\")"
      ],
      "metadata": {
        "colab": {
          "base_uri": "https://localhost:8080/"
        },
        "id": "5Cbgy-U-4i9z",
        "outputId": "02a45f7b-35e3-4456-a744-d617e0c1470f"
      },
      "execution_count": null,
      "outputs": [
        {
          "output_type": "stream",
          "name": "stdout",
          "text": [
            "Fim do programa!\n"
          ]
        }
      ]
    },
    {
      "cell_type": "code",
      "source": [
        "# Escrita em arquivos de texto ...\n",
        "# \"a\" (append) não apaga o conteúdo anterior do arquivo!\n",
        "try:\n",
        "  arquivo = open(\"arquivo.txt\", \"a\", encoding=\"utf-8\")\n",
        "  arquivo.write(\"Curso de Python da Bóson Treinamentos ...\\n\")\n",
        "  arquivo.write(\"Como criar um arquivo de texto com Python ...\\n\")\n",
        "except IOError:\n",
        "  print(\"Não foi possível abrir o arquivo!\")\n",
        "else:\n",
        "  arquivo.close()\n",
        "finally:\n",
        "  print(\"Fim do programa!\")"
      ],
      "metadata": {
        "colab": {
          "base_uri": "https://localhost:8080/"
        },
        "id": "gZtotiHJ6ru4",
        "outputId": "e3a3ddac-02a9-43fe-c430-8561c8764ff3"
      },
      "execution_count": null,
      "outputs": [
        {
          "output_type": "stream",
          "name": "stdout",
          "text": [
            "Fim do programa!\n"
          ]
        }
      ]
    },
    {
      "cell_type": "code",
      "source": [
        "# Escrita em arquivos de texto + Listas ...\n",
        "frutas = [\"Morango\\n\", \"Banana\\n\", \"Uva\\n\", \"Cajú\\n\", \"Amora\\n\", \"Graviola\"]\n",
        "try:\n",
        "  arquivo = open(\"frutas.txt\", \"w\", encoding=\"utf-8\")\n",
        "  arquivo.writelines(frutas)\n",
        "except IOError:\n",
        "  print(\"Não foi possível abrir o arquivo!\")\n",
        "else:\n",
        "  arquivo.close()\n",
        "finally:\n",
        "  print(\"Fim do programa!\")\n",
        "\n",
        "try:\n",
        "  arquivo = open(\"frutas.txt\", \"r\", encoding=\"utf-8\")\n",
        "  print(arquivo.read())\n",
        "except IOError:\n",
        "  print(\"Não foi possível abrir o arquivo!\")\n",
        "else:\n",
        "  arquivo.close()\n",
        "finally:\n",
        "  print(\"Fim do programa!\")"
      ],
      "metadata": {
        "colab": {
          "base_uri": "https://localhost:8080/"
        },
        "id": "VeoYWU1X7iSv",
        "outputId": "67fbd1a7-52c9-46e8-db28-b67bd365f241"
      },
      "execution_count": null,
      "outputs": [
        {
          "output_type": "stream",
          "name": "stdout",
          "text": [
            "Fim do programa!\n",
            "Morango\n",
            "Banana\n",
            "Uva\n",
            "Cajú\n",
            "Amora\n",
            "Graviola\n",
            "Fim do programa!\n"
          ]
        }
      ]
    },
    {
      "cell_type": "markdown",
      "source": [
        "### 32. Outras técnicas e dicas"
      ],
      "metadata": {
        "id": "4BwtVr629Ah8"
      }
    },
    {
      "cell_type": "markdown",
      "source": [
        "#### Trocar valores entre duas variáveis"
      ],
      "metadata": {
        "id": "5gyv3v8mPCRn"
      }
    },
    {
      "cell_type": "code",
      "source": [
        "# Método tradicional ...\n",
        "var1 = 12\n",
        "var2 = 31\n",
        "print(var1, var2)\n",
        "\n",
        "aux = var1     # variavel auxiliar\n",
        "var1 = var2\n",
        "var2 = aux\n",
        "print(var1, var2)"
      ],
      "metadata": {
        "id": "N8Hy69849jrl",
        "colab": {
          "base_uri": "https://localhost:8080/"
        },
        "outputId": "30cc7d37-d626-4f57-fb9b-d780cd9b4ee3"
      },
      "execution_count": 7,
      "outputs": [
        {
          "output_type": "stream",
          "name": "stdout",
          "text": [
            "12 31\n",
            "31 12\n"
          ]
        }
      ]
    },
    {
      "cell_type": "code",
      "source": [
        "# Método pythônico ...\n",
        "var1 = 12\n",
        "var2 = 31\n",
        "print(var1, var2)\n",
        "\n",
        "var1, var2 = var2, var1     # três linhas de código (caso anterior) são substituídas por uma linha de código\n",
        "print(var1, var2)"
      ],
      "metadata": {
        "colab": {
          "base_uri": "https://localhost:8080/"
        },
        "id": "2VL5su9DPvf2",
        "outputId": "c9af1b48-2c68-4166-ef60-6f48dfcd5b5c"
      },
      "execution_count": 8,
      "outputs": [
        {
          "output_type": "stream",
          "name": "stdout",
          "text": [
            "12 31\n",
            "31 12\n"
          ]
        }
      ]
    },
    {
      "cell_type": "markdown",
      "source": [
        "#### Operador condicional ternário\n"
      ],
      "metadata": {
        "id": "jilO0OjwQVEL"
      }
    },
    {
      "cell_type": "code",
      "source": [
        "idade = 25\n",
        "if idade >= 18:\n",
        "  maior_idade = True\n",
        "else:\n",
        "  maior_idade = False\n",
        "\n",
        "print(f\"É maior de idade? {maior_idade}\")\n",
        "\n",
        "maior_idade = True if idade >= 18 else False\n",
        "print(f\"É maior de idade? {maior_idade}\")"
      ],
      "metadata": {
        "colab": {
          "base_uri": "https://localhost:8080/"
        },
        "id": "7wltnagqQoWi",
        "outputId": "3d065f54-6ccb-45a5-8f0d-08fb0002cb78"
      },
      "execution_count": 13,
      "outputs": [
        {
          "output_type": "stream",
          "name": "stdout",
          "text": [
            "É maior de idade? True\n",
            "É maior de idade? True\n"
          ]
        }
      ]
    },
    {
      "cell_type": "markdown",
      "source": [
        "#### Generators"
      ],
      "metadata": {
        "id": "LOFEfaIbTBpK"
      }
    },
    {
      "cell_type": "code",
      "source": [
        "valores = [1, 3, 5, 7, 9, 11, 13, 15]\n",
        "\n",
        "# Compreensões de lista\n",
        "quadrados_cl = [i**2 for i in valores]     # a nova lista completa é gerada e armazenada na memória\n",
        "print(quadrados_cl)\n",
        "\n",
        "# Generators\n",
        "quadrados_g = (i**2 for i in valores)      # o objeto generator é criado, porém seus valores só serão armazenados em memória à medida que forem solicitados\n",
        "print(quadrados_g)\n",
        "for i in quadrados_g:\n",
        "  print(f\"{i}\", end=\" \")\n",
        "\n",
        "# OBS: objeto generators não possui os métodos de lista!"
      ],
      "metadata": {
        "colab": {
          "base_uri": "https://localhost:8080/"
        },
        "id": "uo2iPwz4TDfB",
        "outputId": "93b87662-4337-4f0e-c1f2-f3802d6f98a8"
      },
      "execution_count": 27,
      "outputs": [
        {
          "output_type": "stream",
          "name": "stdout",
          "text": [
            "[1, 9, 25, 49, 81, 121, 169, 225]\n",
            "<generator object <genexpr> at 0x7cc7c190eb20>\n",
            "1 9 25 49 81 121 169 225 "
          ]
        }
      ]
    },
    {
      "cell_type": "markdown",
      "source": [
        "#### Função enumerate()"
      ],
      "metadata": {
        "id": "XNOPJ7ZBW6m_"
      }
    },
    {
      "cell_type": "code",
      "source": [
        "lista = [1, 3, 5, 7, 9, 11, 13, 15]\n",
        "for indice, valor in enumerate(lista):\n",
        "  print(f\"Índice: {indice}; Valor: {valor}\")"
      ],
      "metadata": {
        "colab": {
          "base_uri": "https://localhost:8080/"
        },
        "id": "tzfVVkO3W7vn",
        "outputId": "f599a16a-56cb-4186-f889-e890842789b9"
      },
      "execution_count": 30,
      "outputs": [
        {
          "output_type": "stream",
          "name": "stdout",
          "text": [
            "Índice: 0; Valor: 1\n",
            "Índice: 1; Valor: 3\n",
            "Índice: 2; Valor: 5\n",
            "Índice: 3; Valor: 7\n",
            "Índice: 4; Valor: 9\n",
            "Índice: 5; Valor: 11\n",
            "Índice: 6; Valor: 13\n",
            "Índice: 7; Valor: 15\n"
          ]
        }
      ]
    },
    {
      "cell_type": "code",
      "source": [
        "# Exemplo ...\n",
        "temperaturas = [-1, 10, 5, -3, 8, 4, -2, -5, 7]\n",
        "temp_menor = []\n",
        "# Quais temperaturas e índices são menores q zero?\n",
        "for i, t in enumerate(temperaturas):\n",
        "  if t < 0:\n",
        "    temp_menor.append((i, t))\n",
        "print(f\"(indice, temperatura): {temp_menor}\")"
      ],
      "metadata": {
        "colab": {
          "base_uri": "https://localhost:8080/"
        },
        "id": "M9xZPLFSZHRl",
        "outputId": "9845348a-ce84-4055-ae87-3d2166ab3104"
      },
      "execution_count": 34,
      "outputs": [
        {
          "output_type": "stream",
          "name": "stdout",
          "text": [
            "(indice, temperatura): [(0, -1), (3, -3), (6, -2), (7, -5)]\n"
          ]
        }
      ]
    }
  ]
}