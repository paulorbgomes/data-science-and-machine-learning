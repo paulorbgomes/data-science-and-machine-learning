{
  "nbformat": 4,
  "nbformat_minor": 0,
  "metadata": {
    "colab": {
      "provenance": []
    },
    "kernelspec": {
      "name": "python3",
      "display_name": "Python 3"
    },
    "language_info": {
      "name": "python"
    }
  },
  "cells": [
    {
      "cell_type": "code",
      "execution_count": 1,
      "metadata": {
        "colab": {
          "base_uri": "https://localhost:8080/",
          "height": 35
        },
        "id": "dtjABj2PAaLM",
        "outputId": "611a4191-9b06-4a25-ccc5-cde24a833e4b"
      },
      "outputs": [
        {
          "output_type": "execute_result",
          "data": {
            "text/plain": [
              "'\\nPlano de ação do caso de negócios\\n1. Pré-processamento dos dados\\n2. Criar o algortimo de ML\\n'"
            ],
            "application/vnd.google.colaboratory.intrinsic+json": {
              "type": "string"
            }
          },
          "metadata": {},
          "execution_count": 1
        }
      ],
      "source": [
        "'''\n",
        "Plano de ação do caso de negócios\n",
        "1. Pré-processamento dos dados\n",
        "2. Criar o algortimo de ML\n",
        "'''"
      ]
    },
    {
      "cell_type": "code",
      "source": [
        "# Bibliotecas\n",
        "import numpy as np\n",
        "from sklearn import preprocessing\n",
        "import tensorflow as tf"
      ],
      "metadata": {
        "id": "dxi5JoCkFHAR"
      },
      "execution_count": 2,
      "outputs": []
    },
    {
      "cell_type": "code",
      "source": [
        "# Datset\n",
        "raw_csv_data = np.loadtxt(\"Audiobooks_data.csv\", delimiter=\",\")\n",
        "unscaled_inputs_all = raw_csv_data[:,1:-1]\n",
        "targets_all = raw_csv_data[:,-1]"
      ],
      "metadata": {
        "id": "7o3iin4OFr8B"
      },
      "execution_count": 3,
      "outputs": []
    },
    {
      "cell_type": "code",
      "source": [
        "# Balanceamento do Dataset\n",
        "num_one_targets = int(np.sum(targets_all))\n",
        "zero_targets_counter = 0\n",
        "indices_to_remove = []\n",
        "\n",
        "for i in range(targets_all.shape[0]):\n",
        "  if targets_all[i] == 0:\n",
        "    zero_targets_counter += 1\n",
        "    if zero_targets_counter > num_one_targets:\n",
        "      indices_to_remove.append(i)\n",
        "\n",
        "unscaled_inputs_equal_priors = np.delete(unscaled_inputs_all, indices_to_remove, axis = 0)\n",
        "targets_equal_priors = np.delete(targets_all, indices_to_remove, axis = 0)"
      ],
      "metadata": {
        "id": "W9HJrFDxGc3l"
      },
      "execution_count": 4,
      "outputs": []
    },
    {
      "cell_type": "code",
      "source": [
        "# Padronização do Dataset\n",
        "scaled_inputs = preprocessing.scale(unscaled_inputs_equal_priors)"
      ],
      "metadata": {
        "id": "omGewMTnILBY"
      },
      "execution_count": 5,
      "outputs": []
    },
    {
      "cell_type": "code",
      "source": [
        "# \"Embaralhamento\" do Dataset\n",
        "shuffled_indices = np.arange(scaled_inputs.shape[0])\n",
        "np.random.shuffle(shuffled_indices)\n",
        "shuffled_inputs = scaled_inputs[shuffled_indices]\n",
        "shuffled_targets = targets_equal_priors[shuffled_indices]"
      ],
      "metadata": {
        "id": "t-udLK7PIfHZ"
      },
      "execution_count": 6,
      "outputs": []
    },
    {
      "cell_type": "code",
      "source": [
        "# Divisão do Dataset em Treinamento, Validação e Teste\n",
        "samples_count = shuffled_inputs.shape[0]\n",
        "train_sample_count = int(0.8 * samples_count)\n",
        "validation_sample_count = int(0.1 * samples_count)\n",
        "test_sample_count = samples_count - train_sample_count - validation_sample_count\n",
        "\n",
        "train_inputs = shuffled_inputs[:train_sample_count]\n",
        "train_targets = shuffled_targets[:train_sample_count]\n",
        "\n",
        "validation_inputs = shuffled_inputs[train_sample_count:train_sample_count+validation_sample_count]\n",
        "validation_targets = shuffled_targets[train_sample_count:train_sample_count+validation_sample_count]\n",
        "\n",
        "test_inputs = shuffled_inputs[train_sample_count+validation_sample_count:]\n",
        "test_targets = shuffled_targets[train_sample_count+validation_sample_count:]\n",
        "\n",
        "print(f\"Treinamento: {np.sum(train_targets)}, {train_sample_count}, {np.sum(train_targets) / train_sample_count}\")\n",
        "print(f\"Validação: {np.sum(validation_targets)}, {validation_sample_count}, {np.sum(validation_targets) / validation_sample_count}\")\n",
        "print(f\"Teste: {np.sum(test_targets)}, {test_sample_count}, {np.sum(test_targets) / test_sample_count}\")"
      ],
      "metadata": {
        "colab": {
          "base_uri": "https://localhost:8080/"
        },
        "id": "9iwl86YvJR2U",
        "outputId": "614794b9-c153-4f9a-ce32-2497f3e1e9de"
      },
      "execution_count": 7,
      "outputs": [
        {
          "output_type": "stream",
          "name": "stdout",
          "text": [
            "Treinamento: 1791.0, 3579, 0.5004191114836547\n",
            "Validação: 223.0, 447, 0.4988814317673378\n",
            "Teste: 223.0, 448, 0.49776785714285715\n"
          ]
        }
      ]
    },
    {
      "cell_type": "code",
      "source": [
        "# Salvando o Dataset no Formato .npz\n",
        "np.savez(\"Audiobooks_data_train\", inputs=train_inputs, targets=train_targets)\n",
        "np.savez(\"Audiobooks_data_validation\", inputs=validation_inputs, targets=validation_targets)\n",
        "np.savez(\"Audiobooks_data_test\", inputs=test_inputs, targets=test_targets)"
      ],
      "metadata": {
        "id": "rkB6_sdGNAOt"
      },
      "execution_count": 8,
      "outputs": []
    },
    {
      "cell_type": "code",
      "source": [
        "# Definição do Modelo\n",
        "# Entradas: 10; Saídas: 2; Camadas Ocultas: 2; Comprimento das Camadas: 50\n",
        "npz = np.load(\"Audiobooks_data_train.npz\")\n",
        "train_inputs = npz[\"inputs\"].astype(np.float64)\n",
        "train_targets = npz[\"targets\"].astype(np.int64)\n",
        "\n",
        "npz = np.load(\"Audiobooks_data_validation.npz\")\n",
        "validation_inputs, validation_targets = npz[\"inputs\"].astype(np.float64), npz[\"targets\"].astype(np.int64)\n",
        "\n",
        "npz = np.load(\"Audiobooks_data_test.npz\")\n",
        "test_inputs, test_targets = npz[\"inputs\"].astype(np.float64), npz[\"targets\"].astype(np.int64)"
      ],
      "metadata": {
        "id": "ZhH2RB7MN5bG"
      },
      "execution_count": 9,
      "outputs": []
    },
    {
      "cell_type": "code",
      "source": [
        "# Definição do Modelo (continuação)\n",
        "input_size = 10\n",
        "output_size = 2\n",
        "hidden_layer_size = 50\n",
        "\n",
        "model = tf.keras.Sequential([\n",
        "                            tf.keras.layers.Dense(hidden_layer_size, activation=\"relu\"),\n",
        "                            tf.keras.layers.Dense(hidden_layer_size, activation=\"relu\"),\n",
        "                            tf.keras.layers.Dense(hidden_layer_size, activation=\"softmax\")\n",
        "                            ])\n",
        "\n",
        "model.compile(optimizer=\"adam\", loss=\"sparse_categorical_crossentropy\", metrics=[\"accuracy\"])\n",
        "\n",
        "batch_size = 100\n",
        "max_epochs = 100\n",
        "early_stopping = tf.keras.callbacks.EarlyStopping(patience=2)   # objeto de parada precoce\n",
        "\n",
        "model.fit(train_inputs,\n",
        "          train_targets,\n",
        "          batch_size=batch_size,\n",
        "          epochs=max_epochs,\n",
        "          callbacks=[early_stopping],\n",
        "          validation_data=[validation_inputs, validation_targets],\n",
        "          verbose=2)"
      ],
      "metadata": {
        "colab": {
          "base_uri": "https://localhost:8080/"
        },
        "id": "ujJ6eELCQ8f8",
        "outputId": "0d88ce20-42c4-467d-9117-091ff24ac8e3"
      },
      "execution_count": 10,
      "outputs": [
        {
          "output_type": "stream",
          "name": "stdout",
          "text": [
            "Epoch 1/100\n",
            "36/36 - 1s - loss: 3.1710 - accuracy: 0.5152 - val_loss: 2.1355 - val_accuracy: 0.7405 - 692ms/epoch - 19ms/step\n",
            "Epoch 2/100\n",
            "36/36 - 0s - loss: 1.1251 - accuracy: 0.8011 - val_loss: 0.5139 - val_accuracy: 0.8501 - 103ms/epoch - 3ms/step\n",
            "Epoch 3/100\n",
            "36/36 - 0s - loss: 0.3935 - accuracy: 0.8726 - val_loss: 0.3738 - val_accuracy: 0.8635 - 105ms/epoch - 3ms/step\n",
            "Epoch 4/100\n",
            "36/36 - 0s - loss: 0.3343 - accuracy: 0.8793 - val_loss: 0.3456 - val_accuracy: 0.8658 - 97ms/epoch - 3ms/step\n",
            "Epoch 5/100\n",
            "36/36 - 0s - loss: 0.3152 - accuracy: 0.8849 - val_loss: 0.3318 - val_accuracy: 0.8725 - 78ms/epoch - 2ms/step\n",
            "Epoch 6/100\n",
            "36/36 - 0s - loss: 0.3041 - accuracy: 0.8877 - val_loss: 0.3182 - val_accuracy: 0.8747 - 82ms/epoch - 2ms/step\n",
            "Epoch 7/100\n",
            "36/36 - 0s - loss: 0.2936 - accuracy: 0.8938 - val_loss: 0.3082 - val_accuracy: 0.8770 - 64ms/epoch - 2ms/step\n",
            "Epoch 8/100\n",
            "36/36 - 0s - loss: 0.2858 - accuracy: 0.8944 - val_loss: 0.3029 - val_accuracy: 0.8770 - 76ms/epoch - 2ms/step\n",
            "Epoch 9/100\n",
            "36/36 - 0s - loss: 0.2791 - accuracy: 0.8963 - val_loss: 0.2948 - val_accuracy: 0.8814 - 81ms/epoch - 2ms/step\n",
            "Epoch 10/100\n",
            "36/36 - 0s - loss: 0.2746 - accuracy: 0.8986 - val_loss: 0.2930 - val_accuracy: 0.8881 - 62ms/epoch - 2ms/step\n",
            "Epoch 11/100\n",
            "36/36 - 0s - loss: 0.2695 - accuracy: 0.8989 - val_loss: 0.2868 - val_accuracy: 0.8881 - 83ms/epoch - 2ms/step\n",
            "Epoch 12/100\n",
            "36/36 - 0s - loss: 0.2654 - accuracy: 0.9014 - val_loss: 0.2840 - val_accuracy: 0.8881 - 67ms/epoch - 2ms/step\n",
            "Epoch 13/100\n",
            "36/36 - 0s - loss: 0.2619 - accuracy: 0.8994 - val_loss: 0.2832 - val_accuracy: 0.8904 - 79ms/epoch - 2ms/step\n",
            "Epoch 14/100\n",
            "36/36 - 0s - loss: 0.2597 - accuracy: 0.9025 - val_loss: 0.2798 - val_accuracy: 0.8859 - 85ms/epoch - 2ms/step\n",
            "Epoch 15/100\n",
            "36/36 - 0s - loss: 0.2569 - accuracy: 0.9016 - val_loss: 0.2750 - val_accuracy: 0.8971 - 64ms/epoch - 2ms/step\n",
            "Epoch 16/100\n",
            "36/36 - 0s - loss: 0.2535 - accuracy: 0.9028 - val_loss: 0.2738 - val_accuracy: 0.8971 - 66ms/epoch - 2ms/step\n",
            "Epoch 17/100\n",
            "36/36 - 0s - loss: 0.2519 - accuracy: 0.9030 - val_loss: 0.2734 - val_accuracy: 0.8904 - 77ms/epoch - 2ms/step\n",
            "Epoch 18/100\n",
            "36/36 - 0s - loss: 0.2487 - accuracy: 0.9058 - val_loss: 0.2708 - val_accuracy: 0.8949 - 81ms/epoch - 2ms/step\n",
            "Epoch 19/100\n",
            "36/36 - 0s - loss: 0.2471 - accuracy: 0.9050 - val_loss: 0.2665 - val_accuracy: 0.8993 - 69ms/epoch - 2ms/step\n",
            "Epoch 20/100\n",
            "36/36 - 0s - loss: 0.2454 - accuracy: 0.9061 - val_loss: 0.2658 - val_accuracy: 0.8993 - 76ms/epoch - 2ms/step\n",
            "Epoch 21/100\n",
            "36/36 - 0s - loss: 0.2475 - accuracy: 0.9081 - val_loss: 0.2700 - val_accuracy: 0.8993 - 79ms/epoch - 2ms/step\n",
            "Epoch 22/100\n",
            "36/36 - 0s - loss: 0.2451 - accuracy: 0.9081 - val_loss: 0.2644 - val_accuracy: 0.9016 - 61ms/epoch - 2ms/step\n",
            "Epoch 23/100\n",
            "36/36 - 0s - loss: 0.2422 - accuracy: 0.9095 - val_loss: 0.2677 - val_accuracy: 0.9038 - 80ms/epoch - 2ms/step\n",
            "Epoch 24/100\n",
            "36/36 - 0s - loss: 0.2424 - accuracy: 0.9089 - val_loss: 0.2638 - val_accuracy: 0.8993 - 67ms/epoch - 2ms/step\n",
            "Epoch 25/100\n",
            "36/36 - 0s - loss: 0.2397 - accuracy: 0.9109 - val_loss: 0.2634 - val_accuracy: 0.8993 - 85ms/epoch - 2ms/step\n",
            "Epoch 26/100\n",
            "36/36 - 0s - loss: 0.2389 - accuracy: 0.9103 - val_loss: 0.2608 - val_accuracy: 0.9016 - 83ms/epoch - 2ms/step\n",
            "Epoch 27/100\n",
            "36/36 - 0s - loss: 0.2404 - accuracy: 0.9106 - val_loss: 0.2599 - val_accuracy: 0.8993 - 64ms/epoch - 2ms/step\n",
            "Epoch 28/100\n",
            "36/36 - 0s - loss: 0.2355 - accuracy: 0.9120 - val_loss: 0.2577 - val_accuracy: 0.8993 - 61ms/epoch - 2ms/step\n",
            "Epoch 29/100\n",
            "36/36 - 0s - loss: 0.2343 - accuracy: 0.9117 - val_loss: 0.2582 - val_accuracy: 0.8993 - 64ms/epoch - 2ms/step\n",
            "Epoch 30/100\n",
            "36/36 - 0s - loss: 0.2344 - accuracy: 0.9111 - val_loss: 0.2553 - val_accuracy: 0.9083 - 61ms/epoch - 2ms/step\n",
            "Epoch 31/100\n",
            "36/36 - 0s - loss: 0.2343 - accuracy: 0.9134 - val_loss: 0.2600 - val_accuracy: 0.9060 - 63ms/epoch - 2ms/step\n",
            "Epoch 32/100\n",
            "36/36 - 0s - loss: 0.2364 - accuracy: 0.9120 - val_loss: 0.2547 - val_accuracy: 0.9038 - 74ms/epoch - 2ms/step\n",
            "Epoch 33/100\n",
            "36/36 - 0s - loss: 0.2321 - accuracy: 0.9106 - val_loss: 0.2549 - val_accuracy: 0.9016 - 76ms/epoch - 2ms/step\n",
            "Epoch 34/100\n",
            "36/36 - 0s - loss: 0.2318 - accuracy: 0.9123 - val_loss: 0.2576 - val_accuracy: 0.9060 - 97ms/epoch - 3ms/step\n"
          ]
        },
        {
          "output_type": "execute_result",
          "data": {
            "text/plain": [
              "<keras.src.callbacks.History at 0x7ae38e37ffa0>"
            ]
          },
          "metadata": {},
          "execution_count": 10
        }
      ]
    },
    {
      "cell_type": "code",
      "source": [
        "# Testando o Modelo\n",
        "test_loss, test_accuracy = model.evaluate(test_inputs, test_targets)\n",
        "print(f\"Test loss: {test_loss}. Test accuracy: {test_accuracy}\")"
      ],
      "metadata": {
        "colab": {
          "base_uri": "https://localhost:8080/"
        },
        "id": "HgdOei4sjGOZ",
        "outputId": "077cd8bd-396f-4e8f-9f5a-f9d0a0bab37a"
      },
      "execution_count": 11,
      "outputs": [
        {
          "output_type": "stream",
          "name": "stdout",
          "text": [
            "14/14 [==============================] - 0s 2ms/step - loss: 0.2106 - accuracy: 0.9263\n",
            "Test loss: 0.21061734855175018. Test accuracy: 0.9263392686843872\n"
          ]
        }
      ]
    }
  ]
}