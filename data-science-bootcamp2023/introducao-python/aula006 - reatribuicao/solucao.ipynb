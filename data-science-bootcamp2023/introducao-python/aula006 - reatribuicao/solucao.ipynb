{
  "cells": [
    {
      "cell_type": "markdown",
      "metadata": {
        "id": "oRfoEn_Xb8eA"
      },
      "source": [
        "## Reassign Values"
      ]
    },
    {
      "cell_type": "markdown",
      "metadata": {
        "id": "MHs4EcS2b8eI"
      },
      "source": [
        "Assign the value of 14 to a variable p."
      ]
    },
    {
      "cell_type": "code",
      "execution_count": null,
      "metadata": {
        "collapsed": true,
        "id": "N89xsgCZb8eK"
      },
      "outputs": [],
      "source": [
        "p = 14;"
      ]
    },
    {
      "cell_type": "markdown",
      "metadata": {
        "id": "Sj-slaGvb8eL"
      },
      "source": [
        "Calculate p + 10."
      ]
    },
    {
      "cell_type": "code",
      "execution_count": 1,
      "metadata": {
        "collapsed": true,
        "colab": {
          "base_uri": "https://localhost:8080/",
          "height": 176
        },
        "id": "cZkssBd4b8eM",
        "outputId": "66ef13e9-40cf-4209-afd0-61bb65068a6e"
      },
      "outputs": [
        {
          "output_type": "error",
          "ename": "NameError",
          "evalue": "ignored",
          "traceback": [
            "\u001b[0;31m---------------------------------------------------------------------------\u001b[0m",
            "\u001b[0;31mNameError\u001b[0m                                 Traceback (most recent call last)",
            "\u001b[0;32m<ipython-input-1-41b00c2b7a9d>\u001b[0m in \u001b[0;36m<cell line: 1>\u001b[0;34m()\u001b[0m\n\u001b[0;32m----> 1\u001b[0;31m \u001b[0mp\u001b[0m \u001b[0;34m+\u001b[0m \u001b[0;36m10\u001b[0m\u001b[0;34m;\u001b[0m\u001b[0;34m\u001b[0m\u001b[0;34m\u001b[0m\u001b[0m\n\u001b[0m",
            "\u001b[0;31mNameError\u001b[0m: name 'p' is not defined"
          ]
        }
      ],
      "source": [
        "p + 10;"
      ]
    },
    {
      "cell_type": "markdown",
      "metadata": {
        "id": "uQycEkwkb8eN"
      },
      "source": [
        "Now, assign 30 to the variable p."
      ]
    },
    {
      "cell_type": "code",
      "execution_count": 2,
      "metadata": {
        "collapsed": true,
        "id": "fuIdchjsb8eN"
      },
      "outputs": [],
      "source": [
        "p = 30;"
      ]
    },
    {
      "cell_type": "markdown",
      "metadata": {
        "id": "7ZBrlqa8b8eO"
      },
      "source": [
        "Calculate p + 10."
      ]
    },
    {
      "cell_type": "code",
      "execution_count": 3,
      "metadata": {
        "collapsed": true,
        "colab": {
          "base_uri": "https://localhost:8080/"
        },
        "id": "qNKN4Ttgb8eP",
        "outputId": "498e28c2-6d6d-4574-9f3b-e09611d11edd"
      },
      "outputs": [
        {
          "output_type": "stream",
          "name": "stdout",
          "text": [
            "40\n"
          ]
        }
      ],
      "source": [
        "print(p + 10);"
      ]
    },
    {
      "cell_type": "markdown",
      "metadata": {
        "id": "HDK4n8bZb8eP"
      },
      "source": [
        "Observe how the value of p is always the last one you have assigned."
      ]
    }
  ],
  "metadata": {
    "anaconda-cloud": {},
    "kernelspec": {
      "display_name": "Python 3",
      "language": "python",
      "name": "python3"
    },
    "language_info": {
      "codemirror_mode": {
        "name": "ipython",
        "version": 3
      },
      "file_extension": ".py",
      "mimetype": "text/x-python",
      "name": "python",
      "nbconvert_exporter": "python",
      "pygments_lexer": "ipython3",
      "version": "3.6.4"
    },
    "colab": {
      "provenance": []
    }
  },
  "nbformat": 4,
  "nbformat_minor": 0
}