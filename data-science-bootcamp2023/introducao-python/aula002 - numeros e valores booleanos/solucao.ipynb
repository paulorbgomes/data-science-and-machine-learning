{
  "cells": [
    {
      "cell_type": "markdown",
      "metadata": {
        "id": "ejbBjuSeLUIh"
      },
      "source": [
        "## Numbers and Boolean Values"
      ]
    },
    {
      "cell_type": "markdown",
      "metadata": {
        "id": "Mw-PSsS7LUIo"
      },
      "source": [
        "Create a variable equal to \"True\"."
      ]
    },
    {
      "cell_type": "code",
      "execution_count": 1,
      "metadata": {
        "collapsed": true,
        "id": "XKhnGoAALUIr"
      },
      "outputs": [],
      "source": [
        "x = True;"
      ]
    },
    {
      "cell_type": "markdown",
      "metadata": {
        "id": "-xE24nmVLUIs"
      },
      "source": [
        "Check its type."
      ]
    },
    {
      "cell_type": "code",
      "execution_count": 2,
      "metadata": {
        "collapsed": true,
        "colab": {
          "base_uri": "https://localhost:8080/"
        },
        "id": "I74XLAmlLUIt",
        "outputId": "ac603b0f-057e-4031-c1b7-54f6b2df1953"
      },
      "outputs": [
        {
          "output_type": "stream",
          "name": "stdout",
          "text": [
            "<class 'bool'>\n"
          ]
        }
      ],
      "source": [
        "print(type(x));"
      ]
    },
    {
      "cell_type": "markdown",
      "metadata": {
        "id": "tgFx5CEfLUIt"
      },
      "source": [
        "Create a variable equal to 99."
      ]
    },
    {
      "cell_type": "code",
      "execution_count": 4,
      "metadata": {
        "collapsed": true,
        "id": "Kr2PW9qdLUIt"
      },
      "outputs": [],
      "source": [
        "y = 99;"
      ]
    },
    {
      "cell_type": "markdown",
      "metadata": {
        "id": "4bZKRJPaLUIu"
      },
      "source": [
        "Check its type."
      ]
    },
    {
      "cell_type": "code",
      "execution_count": 5,
      "metadata": {
        "collapsed": true,
        "colab": {
          "base_uri": "https://localhost:8080/"
        },
        "id": "zHv79dqsLUIu",
        "outputId": "7a92dd3f-29c7-4821-e80e-dea91e3deecc"
      },
      "outputs": [
        {
          "output_type": "stream",
          "name": "stdout",
          "text": [
            "<class 'int'>\n"
          ]
        }
      ],
      "source": [
        "print(type(y));"
      ]
    },
    {
      "cell_type": "markdown",
      "metadata": {
        "id": "Cwsy10GgLUIv"
      },
      "source": [
        "Check the type of the value 0.99."
      ]
    },
    {
      "cell_type": "code",
      "execution_count": 6,
      "metadata": {
        "collapsed": true,
        "colab": {
          "base_uri": "https://localhost:8080/"
        },
        "id": "fBrsvf2GLUIv",
        "outputId": "1974138d-dc78-4025-de9b-1564897b3aa1"
      },
      "outputs": [
        {
          "output_type": "stream",
          "name": "stdout",
          "text": [
            "<class 'float'>\n"
          ]
        }
      ],
      "source": [
        "print(type(0.99));"
      ]
    },
    {
      "cell_type": "markdown",
      "metadata": {
        "id": "2VuyLwHyLUIw"
      },
      "source": [
        "Turn 99 into a *float*."
      ]
    },
    {
      "cell_type": "code",
      "execution_count": 7,
      "metadata": {
        "collapsed": true,
        "colab": {
          "base_uri": "https://localhost:8080/"
        },
        "id": "71GP01Q_LUIw",
        "outputId": "06323cbe-d6e5-451f-fb66-40c366df9242"
      },
      "outputs": [
        {
          "output_type": "stream",
          "name": "stdout",
          "text": [
            "<class 'float'>\n"
          ]
        }
      ],
      "source": [
        "print(type(float(99)));"
      ]
    },
    {
      "cell_type": "markdown",
      "metadata": {
        "id": "9FaMfpvbLUIx"
      },
      "source": [
        "Turn 0.99 into an integer. What value did you get?"
      ]
    },
    {
      "cell_type": "code",
      "execution_count": 8,
      "metadata": {
        "collapsed": true,
        "colab": {
          "base_uri": "https://localhost:8080/"
        },
        "id": "UAi4VlhlLUIx",
        "outputId": "1101bdaf-65f9-4aa3-faff-9922410fa691"
      },
      "outputs": [
        {
          "output_type": "stream",
          "name": "stdout",
          "text": [
            "0\n"
          ]
        }
      ],
      "source": [
        "z = int(0.99);\n",
        "print(z);"
      ]
    }
  ],
  "metadata": {
    "anaconda-cloud": {},
    "kernelspec": {
      "display_name": "Python 3",
      "language": "python",
      "name": "python3"
    },
    "language_info": {
      "codemirror_mode": {
        "name": "ipython",
        "version": 3
      },
      "file_extension": ".py",
      "mimetype": "text/x-python",
      "name": "python",
      "nbconvert_exporter": "python",
      "pygments_lexer": "ipython3",
      "version": "3.6.4"
    },
    "colab": {
      "provenance": []
    }
  },
  "nbformat": 4,
  "nbformat_minor": 0
}