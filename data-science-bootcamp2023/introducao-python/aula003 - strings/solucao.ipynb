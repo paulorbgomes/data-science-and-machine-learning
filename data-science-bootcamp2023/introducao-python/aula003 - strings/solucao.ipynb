{
  "cells": [
    {
      "cell_type": "markdown",
      "metadata": {
        "id": "bOXkpAxASFkT"
      },
      "source": [
        "## Strings"
      ]
    },
    {
      "cell_type": "markdown",
      "metadata": {
        "id": "srCCu-rKSFkX"
      },
      "source": [
        "Assign the value of 100 to the variable \"m\"."
      ]
    },
    {
      "cell_type": "code",
      "execution_count": 1,
      "metadata": {
        "id": "zHZTyX9tSFkX"
      },
      "outputs": [],
      "source": [
        "m = 100;"
      ]
    },
    {
      "cell_type": "markdown",
      "metadata": {
        "id": "orAw1vnvSFkY"
      },
      "source": [
        "With the help of the variable \"m\", write one line of code where the output after executuion would be *100 days*.\n",
        "\n",
        "*Hint:* *You could provide four answers to this question!*"
      ]
    },
    {
      "cell_type": "code",
      "execution_count": 3,
      "metadata": {
        "colab": {
          "base_uri": "https://localhost:8080/"
        },
        "id": "b0UJQBTUSFkZ",
        "outputId": "c0144652-1d71-496d-dc63-983e0867a4f6"
      },
      "outputs": [
        {
          "output_type": "stream",
          "name": "stdout",
          "text": [
            "100 dias\n"
          ]
        }
      ],
      "source": [
        "mensagem = str(m) + \" dias\";\n",
        "print(mensagem);"
      ]
    },
    {
      "cell_type": "code",
      "execution_count": null,
      "metadata": {
        "id": "ds-g7X-cSFkZ"
      },
      "outputs": [],
      "source": []
    },
    {
      "cell_type": "code",
      "execution_count": null,
      "metadata": {
        "id": "gugZoHRaSFkZ"
      },
      "outputs": [],
      "source": []
    },
    {
      "cell_type": "markdown",
      "metadata": {
        "id": "--nI4yk1SFka"
      },
      "source": [
        "Produce an output equal to *It's cool, isn't it?*"
      ]
    },
    {
      "cell_type": "code",
      "execution_count": 4,
      "metadata": {
        "colab": {
          "base_uri": "https://localhost:8080/"
        },
        "id": "SGNeLTADSFka",
        "outputId": "9c2b939c-11c3-4440-9959-759f83c4e00a"
      },
      "outputs": [
        {
          "output_type": "stream",
          "name": "stdout",
          "text": [
            "It's cool, isn't it?\n"
          ]
        }
      ],
      "source": [
        "mensagem = \"It's cool, isn't it?\";\n",
        "print(mensagem);"
      ]
    },
    {
      "cell_type": "markdown",
      "metadata": {
        "id": "u2tBE6bRSFka"
      },
      "source": [
        "Fix the string below."
      ]
    },
    {
      "cell_type": "code",
      "execution_count": 5,
      "metadata": {
        "colab": {
          "base_uri": "https://localhost:8080/"
        },
        "id": "3UArUjS7SFkb",
        "outputId": "528a0569-2c90-4770-fb9d-ff86be21f074"
      },
      "outputs": [
        {
          "output_type": "stream",
          "name": "stdout",
          "text": [
            "Don't be shy\n"
          ]
        }
      ],
      "source": [
        "mensagem = \"Don't be shy\";\n",
        "print(mensagem);"
      ]
    },
    {
      "cell_type": "markdown",
      "metadata": {
        "id": "Ka3dMBsBSFkc"
      },
      "source": [
        "Produce an output equal to *Click \"OK\"*."
      ]
    },
    {
      "cell_type": "code",
      "execution_count": 6,
      "metadata": {
        "colab": {
          "base_uri": "https://localhost:8080/"
        },
        "id": "dDlssmf1SFkc",
        "outputId": "cccbef65-8d01-4f31-913f-2a954566545d"
      },
      "outputs": [
        {
          "output_type": "stream",
          "name": "stdout",
          "text": [
            "Click \"OK\"\n"
          ]
        }
      ],
      "source": [
        "print('Click \"OK\"');"
      ]
    },
    {
      "cell_type": "markdown",
      "metadata": {
        "id": "xpjMKlAcSFkc"
      },
      "source": [
        "Include a plus sign in your line of code to produce *'Big Houses'*."
      ]
    },
    {
      "cell_type": "code",
      "execution_count": 7,
      "metadata": {
        "colab": {
          "base_uri": "https://localhost:8080/"
        },
        "id": "1HwzkP5mSFkc",
        "outputId": "b1da4da5-77c3-4249-dce9-86ee671463e6"
      },
      "outputs": [
        {
          "output_type": "stream",
          "name": "stdout",
          "text": [
            "Big Houses\n"
          ]
        }
      ],
      "source": [
        "print(\"Big \" + \"Houses\");"
      ]
    },
    {
      "cell_type": "markdown",
      "metadata": {
        "id": "Onrop7gpSFkc"
      },
      "source": [
        "Include a trailing comma in your line of code to produce *Big Houses*."
      ]
    },
    {
      "cell_type": "code",
      "execution_count": null,
      "metadata": {
        "id": "-JUuq22-SFkd"
      },
      "outputs": [],
      "source": []
    }
  ],
  "metadata": {
    "anaconda-cloud": {},
    "kernelspec": {
      "display_name": "Python 3",
      "language": "python",
      "name": "python3"
    },
    "language_info": {
      "codemirror_mode": {
        "name": "ipython",
        "version": 3
      },
      "file_extension": ".py",
      "mimetype": "text/x-python",
      "name": "python",
      "nbconvert_exporter": "python",
      "pygments_lexer": "ipython3",
      "version": "3.6.4"
    },
    "colab": {
      "provenance": []
    }
  },
  "nbformat": 4,
  "nbformat_minor": 0
}