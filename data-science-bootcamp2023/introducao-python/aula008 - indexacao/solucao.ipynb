{
  "cells": [
    {
      "cell_type": "markdown",
      "metadata": {
        "id": "_OOPRbnxf3vz"
      },
      "source": [
        "## Indexing Elements"
      ]
    },
    {
      "cell_type": "markdown",
      "metadata": {
        "id": "HKCrOcMQf3v8"
      },
      "source": [
        "Extract the letter 'B' from \"Bingo!\"."
      ]
    },
    {
      "cell_type": "code",
      "execution_count": 1,
      "metadata": {
        "collapsed": true,
        "id": "-uWVpGoOf3v-"
      },
      "outputs": [],
      "source": [
        "x = \"Bingo!\";"
      ]
    },
    {
      "cell_type": "code",
      "execution_count": 2,
      "metadata": {
        "collapsed": true,
        "colab": {
          "base_uri": "https://localhost:8080/"
        },
        "id": "uElaCyecf3v_",
        "outputId": "7c9b613c-6277-4042-df2e-ab7d60389ba2"
      },
      "outputs": [
        {
          "output_type": "stream",
          "name": "stdout",
          "text": [
            "B\n"
          ]
        }
      ],
      "source": [
        "print(x[0]);"
      ]
    },
    {
      "cell_type": "markdown",
      "metadata": {
        "id": "JL8ksDa-f3wA"
      },
      "source": [
        "Extract the letter \"u\" from \"Constitution\"."
      ]
    },
    {
      "cell_type": "code",
      "execution_count": 3,
      "metadata": {
        "collapsed": true,
        "id": "RIzUhikCf3wB"
      },
      "outputs": [],
      "source": [
        "x = \"Constituition\";"
      ]
    },
    {
      "cell_type": "code",
      "execution_count": 4,
      "metadata": {
        "collapsed": true,
        "colab": {
          "base_uri": "https://localhost:8080/"
        },
        "id": "YjgCKS4of3wB",
        "outputId": "fc2b0813-59f5-4723-96e5-f33cf9293816"
      },
      "outputs": [
        {
          "output_type": "stream",
          "name": "stdout",
          "text": [
            "u\n"
          ]
        }
      ],
      "source": [
        "print(x[7]);"
      ]
    }
  ],
  "metadata": {
    "anaconda-cloud": {},
    "kernelspec": {
      "display_name": "Python 3",
      "language": "python",
      "name": "python3"
    },
    "language_info": {
      "codemirror_mode": {
        "name": "ipython",
        "version": 3
      },
      "file_extension": ".py",
      "mimetype": "text/x-python",
      "name": "python",
      "nbconvert_exporter": "python",
      "pygments_lexer": "ipython3",
      "version": "3.6.4"
    },
    "colab": {
      "provenance": []
    }
  },
  "nbformat": 4,
  "nbformat_minor": 0
}