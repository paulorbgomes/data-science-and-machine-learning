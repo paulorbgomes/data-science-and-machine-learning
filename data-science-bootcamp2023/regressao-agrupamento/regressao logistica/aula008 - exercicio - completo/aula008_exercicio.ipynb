{
  "nbformat": 4,
  "nbformat_minor": 0,
  "metadata": {
    "colab": {
      "provenance": []
    },
    "kernelspec": {
      "name": "python3",
      "display_name": "Python 3"
    },
    "language_info": {
      "name": "python"
    }
  },
  "cells": [
    {
      "cell_type": "code",
      "execution_count": 37,
      "metadata": {
        "id": "9tZ-WvORs6fq"
      },
      "outputs": [],
      "source": [
        "# Bibliotecas\n",
        "import numpy as np\n",
        "import pandas as pd\n",
        "import statsmodels.api as sm\n",
        "import matplotlib.pyplot as plt\n",
        "import seaborn as sns\n",
        "sns.set()\n",
        "\n",
        "from scipy import stats\n",
        "stats.chisqprob = lambda chisq, df: stats.chi2.sf(chisq, df)"
      ]
    },
    {
      "cell_type": "code",
      "source": [
        "# Organização do Conjunto de Treinamento\n",
        "raw_data = pd.read_csv(\"Bank-data.csv\")\n",
        "raw_data\n",
        "training_data = raw_data.copy()\n",
        "training_data = training_data.drop([\"Unnamed: 0\"], axis=1)\n",
        "training_data[\"y\"] = training_data[\"y\"].map({\"yes\":1, \"no\":0})\n",
        "training_data\n",
        "training_data.describe()\n",
        "\n",
        "y = training_data[\"y\"]\n",
        "x1 = training_data[\"duration\"]\n",
        "#x1 = training_data[[\"interest_rate\", \"credit\", \"march\", \"may\", \"previous\", \"duration\"]]\n",
        "\n",
        "# Regressão Logística Simples (Treinamento do Modelo)\n",
        "x = sm.add_constant(x1)\n",
        "model = sm.Logit(y,x).fit()\n",
        "model.summary()\n",
        "cm_training = np.array(model.pred_table())\n",
        "training_accuracy = (cm_training[0,0] + cm_training[1,1]) / cm_training.sum()\n",
        "print(f\"Training Accuracy: {training_accuracy}\")"
      ],
      "metadata": {
        "colab": {
          "base_uri": "https://localhost:8080/"
        },
        "id": "Qmzfx46NtPA2",
        "outputId": "352e2121-9e09-41d6-e584-dcadad308584"
      },
      "execution_count": 38,
      "outputs": [
        {
          "output_type": "stream",
          "name": "stdout",
          "text": [
            "Optimization terminated successfully.\n",
            "         Current function value: 0.546118\n",
            "         Iterations 7\n",
            "Training Accuracy: 0.693050193050193\n"
          ]
        }
      ]
    },
    {
      "cell_type": "code",
      "source": [
        "# Visualização dos Dados\n",
        "def f(x,b0,b1):\n",
        "  return np.array(np.exp(b0 + b1*x) / (1 + np.exp(b0 + b1*x)))\n",
        "\n",
        "f_sorted = np.sort(f(x1,model.params[0],model.params[1]))\n",
        "x_sorted = np.sort(np.array(x1))\n",
        "\n",
        "plt.scatter(x1,y,color=\"C0\")\n",
        "plt.xlabel(\"Duration\", fontsize=20)\n",
        "plt.ylabel(\"Subscription\", fontsize=20)\n",
        "plt.plot(x_sorted, f_sorted, color=\"red\", lw=3)\n",
        "plt.show()"
      ],
      "metadata": {
        "colab": {
          "base_uri": "https://localhost:8080/",
          "height": 468
        },
        "id": "MUi_1ULawj2v",
        "outputId": "7d773c05-e674-4f08-e89d-1978908ecde8"
      },
      "execution_count": 39,
      "outputs": [
        {
          "output_type": "display_data",
          "data": {
            "text/plain": [
              "<Figure size 640x480 with 1 Axes>"
            ],
            "image/png": "[encoded data removed]"
          },
          "metadata": {}
        }
      ]
    },
    {
      "cell_type": "code",
      "source": [
        "# Recalculando a Regressão Logística Múltipla (com mais variáveis)\n",
        "x1 = training_data[[\"interest_rate\", \"credit\", \"march\", \"previous\", \"duration\"]]\n",
        "x = sm.add_constant(x1)\n",
        "model = sm.Logit(y,x).fit()\n",
        "model.summary()\n",
        "cm_training = np.array(model.pred_table())\n",
        "training_accuracy = (cm_training[0,0] + cm_training[1,1]) / cm_training.sum()\n",
        "print(f\"Training Accuracy: {training_accuracy}\")"
      ],
      "metadata": {
        "colab": {
          "base_uri": "https://localhost:8080/"
        },
        "id": "2DO3cXRExItO",
        "outputId": "0d1932f4-99a3-4bca-b3f6-0d8d00695560"
      },
      "execution_count": 40,
      "outputs": [
        {
          "output_type": "stream",
          "name": "stdout",
          "text": [
            "Optimization terminated successfully.\n",
            "         Current function value: 0.336664\n",
            "         Iterations 7\n",
            "Training Accuracy: 0.862934362934363\n"
          ]
        }
      ]
    },
    {
      "cell_type": "code",
      "source": [
        "# Avaliação do Conjunto de Teste\n",
        "raw_data = pd.read_csv(\"Bank-data-testing.csv\")\n",
        "test_data = raw_data.copy()\n",
        "test_data = test_data.drop([\"Unnamed: 0\"], axis=1)\n",
        "test_data[\"y\"] = test_data[\"y\"].map({\"yes\":1, \"no\":0})\n",
        "y_test = test_data[\"y\"]\n",
        "x1_test = test_data[[\"interest_rate\", \"credit\", \"march\", \"previous\", \"duration\"]]\n",
        "x_test = sm.add_constant(x1_test)\n",
        "\n",
        "# Matriz de Confusão\n",
        "def confusion_matrix(data, actual_values, model):\n",
        "  pred_values = model.predict(data)\n",
        "  bins=np.array([0,0.5,1])\n",
        "  cm = np.histogram2d(actual_values, pred_values, bins=bins)[0]\n",
        "  accuracy = (cm[0,0] + cm[1,1]) / cm.sum()\n",
        "  return cm, accuracy\n",
        "\n",
        "cm = confusion_matrix(x_test, y_test, model)\n",
        "cm"
      ],
      "metadata": {
        "colab": {
          "base_uri": "https://localhost:8080/"
        },
        "id": "AMo6ZZE5xzgZ",
        "outputId": "e7a7b375-4601-4b25-b7d5-0ed99f3723e5"
      },
      "execution_count": 42,
      "outputs": [
        {
          "output_type": "execute_result",
          "data": {
            "text/plain": [
              "(array([[93., 18.],\n",
              "        [13., 98.]]),\n",
              " 0.8603603603603603)"
            ]
          },
          "metadata": {},
          "execution_count": 42
        }
      ]
    }
  ]
}