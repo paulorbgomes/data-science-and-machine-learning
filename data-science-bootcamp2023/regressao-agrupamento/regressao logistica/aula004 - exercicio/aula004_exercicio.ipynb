{
  "nbformat": 4,
  "nbformat_minor": 0,
  "metadata": {
    "colab": {
      "provenance": []
    },
    "kernelspec": {
      "name": "python3",
      "display_name": "Python 3"
    },
    "language_info": {
      "name": "python"
    }
  },
  "cells": [
    {
      "cell_type": "code",
      "execution_count": null,
      "metadata": {
        "id": "I5a9bUMVOE0t"
      },
      "outputs": [],
      "source": [
        "# Bibliotecas\n",
        "import pandas as pd\n",
        "import statsmodels.api as sm\n",
        "import matplotlib.pyplot as plt\n",
        "import numpy as np\n",
        "import seaborn as sns\n",
        "sns.set()\n",
        "\n",
        "from scipy import stats\n",
        "stats.chisqprob = lambda chisq, df: stats.chi2.sf(chisq, df)"
      ]
    },
    {
      "cell_type": "code",
      "source": [
        "# Dados\n",
        "raw_data = pd.read_csv(\"Bank-data.csv\")\n",
        "raw_data\n",
        "data = raw_data.copy()\n",
        "data = data.drop([\"Unnamed: 0\"], axis = 1)\n",
        "data[\"y\"] = data[\"y\"].map({\"yes\":1, \"no\":0})\n",
        "data\n",
        "#data.describe()\n",
        "y = data[\"y\"]\n",
        "x1 = data[\"duration\"]"
      ],
      "metadata": {
        "id": "s8nBRhNFOQl-"
      },
      "execution_count": null,
      "outputs": []
    },
    {
      "cell_type": "code",
      "source": [
        "# Regressão Logística\n",
        "x = sm.add_constant(x1)\n",
        "results = sm.Logit(y,x).fit()\n",
        "results.summary()"
      ],
      "metadata": {
        "colab": {
          "base_uri": "https://localhost:8080/",
          "height": 304
        },
        "id": "whxDK519QSY3",
        "outputId": "ee8cef5b-3ea6-4265-cb8a-88b03ac9d330"
      },
      "execution_count": null,
      "outputs": [
        {
          "output_type": "stream",
          "name": "stdout",
          "text": [
            "Optimization terminated successfully.\n",
            "         Current function value: 0.546118\n",
            "         Iterations 7\n"
          ]
        },
        {
          "output_type": "execute_result",
          "data": {
            "text/plain": [
              "<class 'statsmodels.iolib.summary.Summary'>\n",
              "\"\"\"\n",
              "                           Logit Regression Results                           \n",
              "==============================================================================\n",
              "Dep. Variable:                      y   No. Observations:                  518\n",
              "Model:                          Logit   Df Residuals:                      516\n",
              "Method:                           MLE   Df Model:                            1\n",
              "Date:                Mon, 26 Feb 2024   Pseudo R-squ.:                  0.2121\n",
              "Time:                        21:11:08   Log-Likelihood:                -282.89\n",
              "converged:                       True   LL-Null:                       -359.05\n",
              "Covariance Type:            nonrobust   LLR p-value:                 5.387e-35\n",
              "==============================================================================\n",
              "                 coef    std err          z      P>|z|      [0.025      0.975]\n",
              "------------------------------------------------------------------------------\n",
              "const         -1.7001      0.192     -8.863      0.000      -2.076      -1.324\n",
              "duration       0.0051      0.001      9.159      0.000       0.004       0.006\n",
              "==============================================================================\n",
              "\"\"\""
            ],
            "text/html": [
              "<table class=\"simpletable\">\n",
              "<caption>Logit Regression Results</caption>\n",
              "<tr>\n",
              "  <th>Dep. Variable:</th>           <td>y</td>        <th>  No. Observations:  </th>  <td>   518</td>  \n",
              "</tr>\n",
              "<tr>\n",
              "  <th>Model:</th>                 <td>Logit</td>      <th>  Df Residuals:      </th>  <td>   516</td>  \n",
              "</tr>\n",
              "<tr>\n",
              "  <th>Method:</th>                 <td>MLE</td>       <th>  Df Model:          </th>  <td>     1</td>  \n",
              "</tr>\n",
              "<tr>\n",
              "  <th>Date:</th>            <td>Mon, 26 Feb 2024</td> <th>  Pseudo R-squ.:     </th>  <td>0.2121</td>  \n",
              "</tr>\n",
              "<tr>\n",
              "  <th>Time:</th>                <td>21:11:08</td>     <th>  Log-Likelihood:    </th> <td> -282.89</td> \n",
              "</tr>\n",
              "<tr>\n",
              "  <th>converged:</th>             <td>True</td>       <th>  LL-Null:           </th> <td> -359.05</td> \n",
              "</tr>\n",
              "<tr>\n",
              "  <th>Covariance Type:</th>     <td>nonrobust</td>    <th>  LLR p-value:       </th> <td>5.387e-35</td>\n",
              "</tr>\n",
              "</table>\n",
              "<table class=\"simpletable\">\n",
              "<tr>\n",
              "      <td></td>        <th>coef</th>     <th>std err</th>      <th>z</th>      <th>P>|z|</th>  <th>[0.025</th>    <th>0.975]</th>  \n",
              "</tr>\n",
              "<tr>\n",
              "  <th>const</th>    <td>   -1.7001</td> <td>    0.192</td> <td>   -8.863</td> <td> 0.000</td> <td>   -2.076</td> <td>   -1.324</td>\n",
              "</tr>\n",
              "<tr>\n",
              "  <th>duration</th> <td>    0.0051</td> <td>    0.001</td> <td>    9.159</td> <td> 0.000</td> <td>    0.004</td> <td>    0.006</td>\n",
              "</tr>\n",
              "</table>"
            ],
            "text/latex": "\\begin{center}\n\\begin{tabular}{lclc}\n\\toprule\n\\textbf{Dep. Variable:}   &        y         & \\textbf{  No. Observations:  } &      518    \\\\\n\\textbf{Model:}           &      Logit       & \\textbf{  Df Residuals:      } &      516    \\\\\n\\textbf{Method:}          &       MLE        & \\textbf{  Df Model:          } &        1    \\\\\n\\textbf{Date:}            & Mon, 26 Feb 2024 & \\textbf{  Pseudo R-squ.:     } &   0.2121    \\\\\n\\textbf{Time:}            &     21:11:08     & \\textbf{  Log-Likelihood:    } &   -282.89   \\\\\n\\textbf{converged:}       &       True       & \\textbf{  LL-Null:           } &   -359.05   \\\\\n\\textbf{Covariance Type:} &    nonrobust     & \\textbf{  LLR p-value:       } & 5.387e-35   \\\\\n\\bottomrule\n\\end{tabular}\n\\begin{tabular}{lcccccc}\n                  & \\textbf{coef} & \\textbf{std err} & \\textbf{z} & \\textbf{P$> |$z$|$} & \\textbf{[0.025} & \\textbf{0.975]}  \\\\\n\\midrule\n\\textbf{const}    &      -1.7001  &        0.192     &    -8.863  &         0.000        &       -2.076    &       -1.324     \\\\\n\\textbf{duration} &       0.0051  &        0.001     &     9.159  &         0.000        &        0.004    &        0.006     \\\\\n\\bottomrule\n\\end{tabular}\n%\\caption{Logit Regression Results}\n\\end{center}"
          },
          "metadata": {},
          "execution_count": 8
        }
      ]
    }
  ]
}