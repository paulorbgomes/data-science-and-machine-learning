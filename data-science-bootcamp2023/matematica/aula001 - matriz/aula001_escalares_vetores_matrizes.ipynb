{
  "nbformat": 4,
  "nbformat_minor": 0,
  "metadata": {
    "colab": {
      "provenance": []
    },
    "kernelspec": {
      "name": "python3",
      "display_name": "Python 3"
    },
    "language_info": {
      "name": "python"
    }
  },
  "cells": [
    {
      "cell_type": "code",
      "execution_count": 3,
      "metadata": {
        "id": "wBl25fF6PA6M"
      },
      "outputs": [],
      "source": [
        "# Bibliotecas\n",
        "import numpy as np"
      ]
    },
    {
      "cell_type": "code",
      "source": [
        "# Escalares, Vetores e Matrizes\n",
        "s = 5\n",
        "s\n",
        "print(type(s))\n",
        "\n",
        "v = np.array([5, -2, 4])\n",
        "v\n",
        "print(type(v))\n",
        "\n",
        "m = np.array([[5, 12, 6], [-3, 0, 14]])\n",
        "m\n",
        "print(type(m))"
      ],
      "metadata": {
        "colab": {
          "base_uri": "https://localhost:8080/"
        },
        "id": "eJS_JzhNQHRV",
        "outputId": "f50a6c4f-f539-4b70-82e5-e8a6f1835e78"
      },
      "execution_count": 8,
      "outputs": [
        {
          "output_type": "stream",
          "name": "stdout",
          "text": [
            "<class 'int'>\n",
            "<class 'numpy.ndarray'>\n",
            "<class 'numpy.ndarray'>\n"
          ]
        }
      ]
    }
  ]
}