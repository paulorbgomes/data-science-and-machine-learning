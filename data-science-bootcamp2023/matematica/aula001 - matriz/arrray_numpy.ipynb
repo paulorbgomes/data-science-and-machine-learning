{
  "nbformat": 4,
  "nbformat_minor": 0,
  "metadata": {
    "colab": {
      "provenance": []
    },
    "kernelspec": {
      "name": "python3",
      "display_name": "Python 3"
    },
    "language_info": {
      "name": "python"
    }
  },
  "cells": [
    {
      "cell_type": "code",
      "execution_count": 12,
      "metadata": {
        "colab": {
          "base_uri": "https://localhost:8080/"
        },
        "id": "lHvSIjAtjJUZ",
        "outputId": "cb7d814d-d1eb-4331-f06a-cb535f780b0f"
      },
      "outputs": [
        {
          "output_type": "stream",
          "name": "stdout",
          "text": [
            "Escalar no Numpy\n",
            "100 <class 'numpy.ndarray'>\n",
            "Vetor no Numpy\n",
            "[100 200 300] <class 'numpy.ndarray'>\n",
            "Matriz no Numpy\n",
            "[[ 10  20  30]\n",
            " [100 200 300]] <class 'numpy.ndarray'>\n",
            "\n",
            "Dimensões no Numpy\n",
            "()\n",
            "(3,)\n",
            "(2, 3)\n",
            "\n",
            "Transposição no Numpy\n",
            "[[100]\n",
            " [200]\n",
            " [300]] (3, 1)\n",
            "[[ 10  20]\n",
            " [ 30 100]\n",
            " [200 300]] (3, 2)\n"
          ]
        }
      ],
      "source": [
        "import numpy as np\n",
        "\n",
        "scalar = np.array(100)\n",
        "vector = np.array([100, 200, 300])\n",
        "matrix = np.array([[10, 20, 30], [100, 200, 300]])\n",
        "\n",
        "print(\"Escalar no Numpy\")\n",
        "print(scalar, type(scalar))\n",
        "print(\"Vetor no Numpy\")\n",
        "print(vector, type(vector))\n",
        "print(\"Matriz no Numpy\")\n",
        "print(matrix, type(matrix))\n",
        "print(\"\")\n",
        "\n",
        "print(\"Dimensões no Numpy\")\n",
        "print(scalar.shape)\n",
        "print(vector.shape)\n",
        "print(matrix.shape)\n",
        "print(\"\")\n",
        "\n",
        "print(\"Transposição no Numpy\")\n",
        "vectorT = vector.reshape(3,1)\n",
        "print(vectorT, vectorT.shape)\n",
        "matrixT = matrix.reshape(3,2)\n",
        "print(matrixT, matrixT.shape)"
      ]
    }
  ]
}