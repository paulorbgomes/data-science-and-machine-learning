{
  "nbformat": 4,
  "nbformat_minor": 0,
  "metadata": {
    "colab": {
      "provenance": []
    },
    "kernelspec": {
      "name": "python3",
      "display_name": "Python 3"
    },
    "language_info": {
      "name": "python"
    }
  },
  "cells": [
    {
      "cell_type": "code",
      "execution_count": 5,
      "metadata": {
        "colab": {
          "base_uri": "https://localhost:8080/"
        },
        "id": "fyBRe4TBl_Ee",
        "outputId": "620942b9-1808-4e5c-bdb1-09360d337b67"
      },
      "outputs": [
        {
          "output_type": "execute_result",
          "data": {
            "text/plain": [
              "(3, 2, 3)"
            ]
          },
          "metadata": {},
          "execution_count": 5
        }
      ],
      "source": [
        "import numpy as np\n",
        "\n",
        "m1 = np.array([[5, 12, 6], [-3, 0, 14]])\n",
        "m2 = np.array([[9, 8, 7], [1, 3, -5]])\n",
        "m3 = np.array([[1, 2, 3], [4, 5, 6]])\n",
        "\n",
        "t = np.array([m1, m2, m3])\n",
        "t.shape"
      ]
    }
  ]
}