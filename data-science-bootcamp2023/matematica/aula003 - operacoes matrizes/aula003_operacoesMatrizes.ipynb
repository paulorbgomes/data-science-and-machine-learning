{
  "nbformat": 4,
  "nbformat_minor": 0,
  "metadata": {
    "colab": {
      "provenance": []
    },
    "kernelspec": {
      "name": "python3",
      "display_name": "Python 3"
    },
    "language_info": {
      "name": "python"
    }
  },
  "cells": [
    {
      "cell_type": "code",
      "execution_count": 1,
      "metadata": {
        "id": "O2pJFXs4BhSl"
      },
      "outputs": [],
      "source": [
        "# Bibliotecas\n",
        "import numpy as np"
      ]
    },
    {
      "cell_type": "code",
      "source": [
        "# Soma de Matrizes\n",
        "m1 = np.array([[5, 12, 6], [-3, 0, 14]])\n",
        "m2 = np.array([[9, 8, 7], [1, 3, -5]])\n",
        "m1 + m2"
      ],
      "metadata": {
        "colab": {
          "base_uri": "https://localhost:8080/"
        },
        "id": "Wj3RHazNB3aj",
        "outputId": "49f4fbf4-ec1d-4d01-9850-7e90c5557398"
      },
      "execution_count": 2,
      "outputs": [
        {
          "output_type": "execute_result",
          "data": {
            "text/plain": [
              "array([[14, 20, 13],\n",
              "       [-2,  3,  9]])"
            ]
          },
          "metadata": {},
          "execution_count": 2
        }
      ]
    },
    {
      "cell_type": "code",
      "source": [
        "# Subtração de Matrizes\n",
        "m1 - m2"
      ],
      "metadata": {
        "colab": {
          "base_uri": "https://localhost:8080/"
        },
        "id": "bpjSqoUVCmu6",
        "outputId": "481174f6-f140-41e6-ba31-f1abaf56a8ff"
      },
      "execution_count": 3,
      "outputs": [
        {
          "output_type": "execute_result",
          "data": {
            "text/plain": [
              "array([[-4,  4, -1],\n",
              "       [-4, -3, 19]])"
            ]
          },
          "metadata": {},
          "execution_count": 3
        }
      ]
    },
    {
      "cell_type": "code",
      "source": [
        "# Soma e Subtração de Vetores\n",
        "v1 = np.array([1, 2, 3])\n",
        "v2 = np.array([10, 20, 30])\n",
        "v1 + v2\n",
        "v1 - v2"
      ],
      "metadata": {
        "colab": {
          "base_uri": "https://localhost:8080/"
        },
        "id": "J-kHK79XDKoo",
        "outputId": "7c296b75-9543-42a6-ad2b-cbcef4462d7b"
      },
      "execution_count": 4,
      "outputs": [
        {
          "output_type": "execute_result",
          "data": {
            "text/plain": [
              "array([ -9, -18, -27])"
            ]
          },
          "metadata": {},
          "execution_count": 4
        }
      ]
    },
    {
      "cell_type": "code",
      "source": [
        "# Transposição\n",
        "x = np.array([1, 2, 3])\n",
        "print(x.shape)\n",
        "xT = x.reshape(1,3)\n",
        "print(xT.shape)\n",
        "xTT = xT.reshape(3,1)\n",
        "print(xTT.shape)\n",
        "\n",
        "print(x)\n",
        "print(xT)\n",
        "print(xTT)\n",
        "\n",
        "print(\"Matriz A\")\n",
        "A = np.array([[5, 12, 6], [-3, 0, 14]])\n",
        "print(A)\n",
        "print(A.T)\n",
        "\n",
        "print(\"Matriz B\")\n",
        "B = np.array([[5, 3], [-2, 4]])\n",
        "print(B)\n",
        "print(B.T)"
      ],
      "metadata": {
        "colab": {
          "base_uri": "https://localhost:8080/"
        },
        "id": "p3FnoNjpEct0",
        "outputId": "e964939e-374c-462c-9fcd-5fd66f0dfd6b"
      },
      "execution_count": 5,
      "outputs": [
        {
          "output_type": "stream",
          "name": "stdout",
          "text": [
            "(3,)\n",
            "(1, 3)\n",
            "(3, 1)\n",
            "[1 2 3]\n",
            "[[1 2 3]]\n",
            "[[1]\n",
            " [2]\n",
            " [3]]\n",
            "Matriz A\n",
            "[[ 5 12  6]\n",
            " [-3  0 14]]\n",
            "[[ 5 -3]\n",
            " [12  0]\n",
            " [ 6 14]]\n",
            "Matriz B\n",
            "[[ 5  3]\n",
            " [-2  4]]\n",
            "[[ 5 -2]\n",
            " [ 3  4]]\n"
          ]
        }
      ]
    },
    {
      "cell_type": "code",
      "source": [
        "# Produto Escalar\n",
        "print(\"Operação com Escalares\")\n",
        "s1 = np.array(6)\n",
        "s2 = np.array(5)\n",
        "s1 * s2\n",
        "print(np.dot(s1, s2))\n",
        "\n",
        "print(\"Operação com Vetores\")\n",
        "v1 = np.array([2, 8, -4])\n",
        "v2 = np.array([1, -7, 3])\n",
        "v1 * v2          # equivalente ao produto de Hadamard\n",
        "np.dot(v1, v2)   # produto interno\n",
        "\n",
        "u = np.array([0, 2, 5, 8])\n",
        "v = np.array([20, 3, 4, -1])\n",
        "np.dot(u, v)\n",
        "np.dot(2, v)"
      ],
      "metadata": {
        "colab": {
          "base_uri": "https://localhost:8080/"
        },
        "id": "dnBKt7zcHH_Y",
        "outputId": "f4593d05-1b47-4f18-e6a9-c71cdaf5c9d9"
      },
      "execution_count": 6,
      "outputs": [
        {
          "output_type": "stream",
          "name": "stdout",
          "text": [
            "Operação com Escalares\n",
            "30\n",
            "Operação com Vetores\n"
          ]
        },
        {
          "output_type": "execute_result",
          "data": {
            "text/plain": [
              "array([40,  6,  8, -2])"
            ]
          },
          "metadata": {},
          "execution_count": 6
        }
      ]
    },
    {
      "cell_type": "code",
      "source": [
        "# Produto Entre Matrizes\n",
        "'''\n",
        "A = np.array([[5, 12, 6], [-3, 0, 14]])\n",
        "#np.dot(3, A)\n",
        "B = np.array([[1, 2], [3, 4], [5, 6]])\n",
        "print(A.shape, B.shape)\n",
        "np.dot(A, B)\n",
        "'''\n",
        "\n",
        "'''\n",
        "A = np.array([2, 8, -4])\n",
        "B = np.array([1, -7, 3])\n",
        "np.dot(A.reshape(1,3), B)\n",
        "'''\n",
        "\n",
        "A = np.array([[5, 12, 6], [-3, 0, 14]])\n",
        "print(A.shape)\n",
        "B = np.array([[2, -1], [8, 0], [3, 0]])\n",
        "print(B.shape)\n",
        "np.dot(A, B)\n",
        "\n",
        "print(\"Outro exemplo ...\")\n",
        "A = np.array([[-12, 5, -5, 1, 6], [6, -2, 0, 0, -3], [10, 2, 0, 8, 0], [9, -4, 8, 3, -6]])\n",
        "B = np.array([[6, -1], [8, -4], [2, -2], [7, 4], [-6, -9]])\n",
        "print(A.shape, B.shape)\n",
        "np.dot(A, B)"
      ],
      "metadata": {
        "colab": {
          "base_uri": "https://localhost:8080/"
        },
        "id": "Hc1mY5jXNtEc",
        "outputId": "6661bd5f-f29a-42fe-fadc-d2d60c7910a8"
      },
      "execution_count": 22,
      "outputs": [
        {
          "output_type": "stream",
          "name": "stdout",
          "text": [
            "(2, 3)\n",
            "(3, 2)\n",
            "Outro exemplo ...\n",
            "(4, 5) (5, 2)\n"
          ]
        },
        {
          "output_type": "execute_result",
          "data": {
            "text/plain": [
              "array([[-71, -48],\n",
              "       [ 38,  29],\n",
              "       [132,  14],\n",
              "       [ 95,  57]])"
            ]
          },
          "metadata": {},
          "execution_count": 22
        }
      ]
    }
  ]
}