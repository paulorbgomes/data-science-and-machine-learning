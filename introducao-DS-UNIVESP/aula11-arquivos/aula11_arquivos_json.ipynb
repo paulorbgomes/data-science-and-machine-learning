{
  "nbformat": 4,
  "nbformat_minor": 0,
  "metadata": {
    "colab": {
      "provenance": []
    },
    "kernelspec": {
      "name": "python3",
      "display_name": "Python 3"
    },
    "language_info": {
      "name": "python"
    }
  },
  "cells": [
    {
      "cell_type": "markdown",
      "source": [
        "# ARQUIVOS"
      ],
      "metadata": {
        "id": "biAjdfta-bKt"
      }
    },
    {
      "cell_type": "markdown",
      "source": [
        "Trabalhar com arquivos JSON, buscando dados da API (https://randomuser.me/api) que gera como resultado arquivos JSON. Essa é uma API bem legal de teste (gera os dados de um usuário aleatório)"
      ],
      "metadata": {
        "id": "S1Pwz7o--e4l"
      }
    },
    {
      "cell_type": "code",
      "execution_count": 1,
      "metadata": {
        "id": "b6M2a06u-XHH"
      },
      "outputs": [],
      "source": [
        "import json\n",
        "import requests"
      ]
    },
    {
      "cell_type": "code",
      "source": [
        "resposta = requests.get(\"https://randomuser.me/api\")\n",
        "dados = json.loads(resposta.text)\n",
        "dados"
      ],
      "metadata": {
        "colab": {
          "base_uri": "https://localhost:8080/"
        },
        "id": "Zo41nNMG_Gzf",
        "outputId": "139f3e1b-f679-46df-ba3d-a59ad208b10a"
      },
      "execution_count": 2,
      "outputs": [
        {
          "output_type": "execute_result",
          "data": {
            "text/plain": [
              "{'results': [{'gender': 'female',\n",
              "   'name': {'title': 'Miss', 'first': 'Mira', 'last': 'Mladenović'},\n",
              "   'location': {'street': {'number': 5058, 'name': 'Voćarska'},\n",
              "    'city': 'Krupanj',\n",
              "    'state': 'Bor',\n",
              "    'country': 'Serbia',\n",
              "    'postcode': 73568,\n",
              "    'coordinates': {'latitude': '58.8681', 'longitude': '89.7340'},\n",
              "    'timezone': {'offset': '-3:00',\n",
              "     'description': 'Brazil, Buenos Aires, Georgetown'}},\n",
              "   'email': 'mira.mladenovic@example.com',\n",
              "   'login': {'uuid': '96158f50-bb08-4edb-8e56-60a5ddc9338a',\n",
              "    'username': 'happykoala126',\n",
              "    'password': 'estrella',\n",
              "    'salt': 'SdF31Ta5',\n",
              "    'md5': '220ba2cb181f04edbec81af428752b7c',\n",
              "    'sha1': '792733e3b40e577ce98c6f2138b3668792298e9a',\n",
              "    'sha256': '41205e31500e9501d3df1e28994382e9839eb605a65f559e6e0efce6b916f608'},\n",
              "   'dob': {'date': '1983-02-07T22:52:01.647Z', 'age': 41},\n",
              "   'registered': {'date': '2009-06-14T18:25:33.667Z', 'age': 14},\n",
              "   'phone': '037-6215-600',\n",
              "   'cell': '066-0842-782',\n",
              "   'id': {'name': 'SID', 'value': '775165141'},\n",
              "   'picture': {'large': 'https://randomuser.me/api/portraits/women/84.jpg',\n",
              "    'medium': 'https://randomuser.me/api/portraits/med/women/84.jpg',\n",
              "    'thumbnail': 'https://randomuser.me/api/portraits/thumb/women/84.jpg'},\n",
              "   'nat': 'RS'}],\n",
              " 'info': {'seed': '78aef1dde2569de9',\n",
              "  'results': 1,\n",
              "  'page': 1,\n",
              "  'version': '1.4'}}"
            ]
          },
          "metadata": {},
          "execution_count": 2
        }
      ]
    },
    {
      "cell_type": "code",
      "source": [
        "print(dados[\"results\"][0][\"name\"][\"first\"])"
      ],
      "metadata": {
        "colab": {
          "base_uri": "https://localhost:8080/"
        },
        "id": "e4DArKTB_umB",
        "outputId": "f8efd063-9be2-42f7-a321-bc143d0fdf64"
      },
      "execution_count": 3,
      "outputs": [
        {
          "output_type": "stream",
          "name": "stdout",
          "text": [
            "Mira\n"
          ]
        }
      ]
    }
  ]
}