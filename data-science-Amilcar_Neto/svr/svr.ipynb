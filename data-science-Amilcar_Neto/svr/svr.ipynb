{
  "nbformat": 4,
  "nbformat_minor": 0,
  "metadata": {
    "colab": {
      "provenance": []
    },
    "kernelspec": {
      "name": "python3",
      "display_name": "Python 3"
    },
    "language_info": {
      "name": "python"
    }
  },
  "cells": [
    {
      "cell_type": "code",
      "execution_count": 48,
      "metadata": {
        "id": "-08FnieKe_Bg"
      },
      "outputs": [],
      "source": [
        "# Bibliotecas\n",
        "import pandas as pd\n",
        "import numpy as np\n",
        "import matplotlib.pyplot as plt\n",
        "from sklearn.preprocessing import StandardScaler\n",
        "from sklearn.svm import SVR"
      ]
    },
    {
      "cell_type": "code",
      "source": [
        "# Dataset\n",
        "dataset = pd.read_csv(\"tempo_salarios.csv\")\n",
        "X = dataset.iloc[:,0].values\n",
        "Y = dataset.iloc[:,-1].values"
      ],
      "metadata": {
        "id": "O3xW7xp9g1kC"
      },
      "execution_count": 49,
      "outputs": []
    },
    {
      "cell_type": "code",
      "source": [
        "# Padronização\n",
        "X = X.reshape(len(X),1)\n",
        "Y = Y.reshape(len(Y),1)\n",
        "\n",
        "sc_X = StandardScaler()\n",
        "sc_Y = StandardScaler()\n",
        "X = sc_X.fit_transform(X)\n",
        "Y = sc_Y.fit_transform(Y)"
      ],
      "metadata": {
        "id": "DcjXosN-hVQw"
      },
      "execution_count": 50,
      "outputs": []
    },
    {
      "cell_type": "code",
      "source": [
        "# Regressão de Vetores de Suporte (SVR) - Linear\n",
        "svr_lin = SVR(kernel=\"linear\")\n",
        "svr_rbf = SVR(kernel=\"rbf\")\n",
        "\n",
        "Y = np.ravel(Y)\n",
        "svr_lin.fit(X,Y)\n",
        "\n",
        "'''\n",
        "plt.scatter(sc_X.inverse_transform(X), sc_Y.inverse_transform(Y), color = 'red')\n",
        "plt.plot(sc_X.inverse_transform(X), sc_Y.inverse_transform(svr_lin.predict(X)), color = 'blue')\n",
        "plt.title('Regressão Linear usando SVR - kernel Linear')\n",
        "plt.xlabel('Anos de Experiência')\n",
        "plt.ylabel('Salário')\n",
        "plt.show()\n",
        "'''"
      ],
      "metadata": {
        "colab": {
          "base_uri": "https://localhost:8080/",
          "height": 53
        },
        "id": "5b225uoKju5Z",
        "outputId": "ea8a92ad-8027-4081-9e4a-1def47c50fec"
      },
      "execution_count": 51,
      "outputs": [
        {
          "output_type": "execute_result",
          "data": {
            "text/plain": [
              "\"\\nplt.scatter(sc_X.inverse_transform(X), sc_Y.inverse_transform(Y), color = 'red')\\nplt.plot(sc_X.inverse_transform(X), sc_Y.inverse_transform(svr_lin.predict(X)), color = 'blue')\\nplt.title('Regressão Linear usando SVR - kernel Linear')\\nplt.xlabel('Anos de Experiência')\\nplt.ylabel('Salário')\\nplt.show()\\n\""
            ],
            "application/vnd.google.colaboratory.intrinsic+json": {
              "type": "string"
            }
          },
          "metadata": {},
          "execution_count": 51
        }
      ]
    },
    {
      "cell_type": "code",
      "source": [
        "# Regressão de Vetores de Suporte (SVR) - RBF\n",
        "Y = np.ravel(Y)\n",
        "svr_rbf.fit(X,Y)\n",
        "\n",
        "'''\n",
        "plt.scatter(sc_X.inverse_transform(X), sc_Y.inverse_transform(Y), color = 'red')\n",
        "plt.plot(sc_X.inverse_transform(X), sc_Y.inverse_transform(svr_lin.predict(X)), color = 'blue')\n",
        "plt.title('Regressão Linear usando SVR - kernel Linear')\n",
        "plt.xlabel('Anos de Experiência')\n",
        "plt.ylabel('Salário')\n",
        "plt.show()\n",
        "'''"
      ],
      "metadata": {
        "colab": {
          "base_uri": "https://localhost:8080/",
          "height": 53
        },
        "id": "QB-tkrKMmkKo",
        "outputId": "c8d78990-d134-4ffd-e53b-90322fa8f1c4"
      },
      "execution_count": 52,
      "outputs": [
        {
          "output_type": "execute_result",
          "data": {
            "text/plain": [
              "\"\\nplt.scatter(sc_X.inverse_transform(X), sc_Y.inverse_transform(Y), color = 'red')\\nplt.plot(sc_X.inverse_transform(X), sc_Y.inverse_transform(svr_lin.predict(X)), color = 'blue')\\nplt.title('Regressão Linear usando SVR - kernel Linear')\\nplt.xlabel('Anos de Experiência')\\nplt.ylabel('Salário')\\nplt.show()\\n\""
            ],
            "application/vnd.google.colaboratory.intrinsic+json": {
              "type": "string"
            }
          },
          "metadata": {},
          "execution_count": 52
        }
      ]
    }
  ]
}