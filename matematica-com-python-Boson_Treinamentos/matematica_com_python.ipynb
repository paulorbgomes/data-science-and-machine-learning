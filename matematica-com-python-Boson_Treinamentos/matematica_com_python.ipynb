{
  "nbformat": 4,
  "nbformat_minor": 0,
  "metadata": {
    "colab": {
      "provenance": []
    },
    "kernelspec": {
      "name": "python3",
      "display_name": "Python 3"
    },
    "language_info": {
      "name": "python"
    }
  },
  "cells": [
    {
      "cell_type": "markdown",
      "source": [
        "# MATEMÁTICA COM PYTHON\n",
        "Link: https://www.youtube.com/watch?v=uONIsnjprE8&list=PLucm8g_ezqNrCFUZ3vPIKs41hveecygsm"
      ],
      "metadata": {
        "id": "gWDk1usSs0uX"
      }
    },
    {
      "cell_type": "markdown",
      "source": [
        "### 1. Operações aritméticas básicas"
      ],
      "metadata": {
        "id": "WYovHFAns53_"
      }
    },
    {
      "cell_type": "code",
      "source": [
        "# +, -, *, /, //, %, **"
      ],
      "metadata": {
        "id": "FKbsotnKvoZe"
      },
      "execution_count": null,
      "outputs": []
    },
    {
      "cell_type": "markdown",
      "source": [
        "### 2. Tipos de dados e conversão de tipos numéricos"
      ],
      "metadata": {
        "id": "y-FGoI2StdQE"
      }
    },
    {
      "cell_type": "code",
      "execution_count": null,
      "metadata": {
        "colab": {
          "base_uri": "https://localhost:8080/"
        },
        "id": "DLxQTRO_sw0W",
        "outputId": "2db898a5-eb57-4e16-df05-f0f7cb224d97"
      },
      "outputs": [
        {
          "output_type": "stream",
          "name": "stdout",
          "text": [
            "3 <class 'int'>\n"
          ]
        }
      ],
      "source": [
        "# int\n",
        "v1 = 3\n",
        "print(v1, type(v1))"
      ]
    },
    {
      "cell_type": "code",
      "source": [
        "# float\n",
        "v2 = 3.0\n",
        "print(v2, type(v2))"
      ],
      "metadata": {
        "colab": {
          "base_uri": "https://localhost:8080/"
        },
        "id": "al1xO8BcuIn7",
        "outputId": "502ba236-0ed8-45ff-ef2a-e0998be85e11"
      },
      "execution_count": null,
      "outputs": [
        {
          "output_type": "stream",
          "name": "stdout",
          "text": [
            "3.0 <class 'float'>\n"
          ]
        }
      ]
    },
    {
      "cell_type": "code",
      "source": [
        "# boolean\n",
        "v3 = True; v4 = False\n",
        "print(v3, type(v3), v4, type(v4))"
      ],
      "metadata": {
        "colab": {
          "base_uri": "https://localhost:8080/"
        },
        "id": "Tpo4HkXzue2b",
        "outputId": "00e82d51-9c9f-46a9-fcc2-456059860d6b"
      },
      "execution_count": null,
      "outputs": [
        {
          "output_type": "stream",
          "name": "stdout",
          "text": [
            "True <class 'bool'> False <class 'bool'>\n"
          ]
        }
      ]
    },
    {
      "cell_type": "code",
      "source": [
        "# string\n",
        "v5 = \"10\"\n",
        "print(v5, type(v5))"
      ],
      "metadata": {
        "colab": {
          "base_uri": "https://localhost:8080/"
        },
        "id": "sZhPbch_u4Ns",
        "outputId": "fb4dbf6c-3090-45ca-e8fc-c77d7d715101"
      },
      "execution_count": null,
      "outputs": [
        {
          "output_type": "stream",
          "name": "stdout",
          "text": [
            "10 <class 'str'>\n"
          ]
        }
      ]
    },
    {
      "cell_type": "code",
      "source": [
        "# complex\n",
        "v6 = 1 + 1j\n",
        "print(v6, type(v6))"
      ],
      "metadata": {
        "colab": {
          "base_uri": "https://localhost:8080/"
        },
        "id": "Q9RfTnKSvAAo",
        "outputId": "05b903c7-18a2-4fe1-f083-e74b0bbfcaea"
      },
      "execution_count": null,
      "outputs": [
        {
          "output_type": "stream",
          "name": "stdout",
          "text": [
            "(1+1j) <class 'complex'>\n"
          ]
        }
      ]
    },
    {
      "cell_type": "code",
      "source": [
        "# Cast (ou casting)\n",
        "a = 4.5\n",
        "print(a, type(a), int(a), type(int(a)))\n",
        "\n",
        "b = \"100\"\n",
        "print(b, type(b), int(b), type(int(b)))\n",
        "\n",
        "c = 10\n",
        "print(c, type(c), float(c), type(float(c)))"
      ],
      "metadata": {
        "colab": {
          "base_uri": "https://localhost:8080/"
        },
        "id": "NdyT0XniwBgV",
        "outputId": "51577743-caa2-4ea4-ab2a-e509289058f0"
      },
      "execution_count": null,
      "outputs": [
        {
          "output_type": "stream",
          "name": "stdout",
          "text": [
            "4.5 <class 'float'> 4 <class 'int'>\n",
            "100 <class 'str'> 100 <class 'int'>\n",
            "10 <class 'int'> 10.0 <class 'float'>\n"
          ]
        }
      ]
    },
    {
      "cell_type": "markdown",
      "source": [
        "### 3. Frações em Python (módulo fractions)"
      ],
      "metadata": {
        "id": "iKkNA-yExQO5"
      }
    },
    {
      "cell_type": "code",
      "source": [
        "from fractions import Fraction\n",
        "\n",
        "f1 = Fraction(1/2)\n",
        "print(f1, type(f1))\n",
        "print(2 * f1)"
      ],
      "metadata": {
        "colab": {
          "base_uri": "https://localhost:8080/"
        },
        "id": "p4CgpQlhxRRS",
        "outputId": "35b175a8-fd33-4350-c522-8b822aec37d7"
      },
      "execution_count": null,
      "outputs": [
        {
          "output_type": "stream",
          "name": "stdout",
          "text": [
            "1/2 <class 'fractions.Fraction'>\n",
            "1\n"
          ]
        }
      ]
    },
    {
      "cell_type": "code",
      "source": [
        "f2 = Fraction(3/4)\n",
        "r = f1 + f2\n",
        "print(r, type(r))"
      ],
      "metadata": {
        "colab": {
          "base_uri": "https://localhost:8080/"
        },
        "id": "7D7m691fzi8A",
        "outputId": "fdd7a2f3-8caf-4127-9d94-99fcd0036434"
      },
      "execution_count": null,
      "outputs": [
        {
          "output_type": "stream",
          "name": "stdout",
          "text": [
            "5/4 <class 'fractions.Fraction'>\n"
          ]
        }
      ]
    },
    {
      "cell_type": "markdown",
      "source": [
        "### 4. Números complexos em Python"
      ],
      "metadata": {
        "id": "pngIbFQm0UhB"
      }
    },
    {
      "cell_type": "code",
      "source": [
        "# Declaração 1\n",
        "x = 3 + 4j\n",
        "print(x, type(x))\n",
        "\n",
        "# Declaração 2\n",
        "a = 3\n",
        "b = 4\n",
        "x = complex(a, b)\n",
        "print(x, type(x))"
      ],
      "metadata": {
        "colab": {
          "base_uri": "https://localhost:8080/"
        },
        "id": "uSUIv7FW0VeF",
        "outputId": "b299e690-96d4-49ad-a598-e41d307692f2"
      },
      "execution_count": null,
      "outputs": [
        {
          "output_type": "stream",
          "name": "stdout",
          "text": [
            "(3+4j) <class 'complex'>\n",
            "(3+4j) <class 'complex'>\n"
          ]
        }
      ]
    },
    {
      "cell_type": "code",
      "source": [
        "# Operações básicas com números complexos\n",
        "z1 = complex(1, 2)\n",
        "z2 = complex(3, 4)\n",
        "print(z1, type(z1), z2, type(z2))\n",
        "\n",
        "print(\"\\nOperações aritméticas:\")\n",
        "print(z1 + z2)\n",
        "print(z1 - z2)\n",
        "print(z1 * z2)\n",
        "print(z1 / z2)\n",
        "\n",
        "print(\"\\nParte real, parte imaginária e conjugado:\")\n",
        "print(z1.real)\n",
        "print(z1.imag)\n",
        "print(z1.conjugate())"
      ],
      "metadata": {
        "colab": {
          "base_uri": "https://localhost:8080/"
        },
        "id": "74RIl8i83kWR",
        "outputId": "bbe2ed59-8d60-43b6-f4b0-76739b62cfe2"
      },
      "execution_count": null,
      "outputs": [
        {
          "output_type": "stream",
          "name": "stdout",
          "text": [
            "(1+2j) <class 'complex'> (3+4j) <class 'complex'>\n",
            "\n",
            "Operações aritméticas:\n",
            "(4+6j)\n",
            "(-2-2j)\n",
            "(-5+10j)\n",
            "(0.44+0.08j)\n",
            "\n",
            "Parte real, parte imaginária e conjugado:\n",
            "1.0\n",
            "2.0\n",
            "(1-2j)\n"
          ]
        }
      ]
    },
    {
      "cell_type": "markdown",
      "source": [
        "### 5. Módulo cmath\n",
        "Link: https://docs.python.org/3/library/cmath.html"
      ],
      "metadata": {
        "id": "k4hAZ5NV6oLS"
      }
    },
    {
      "cell_type": "code",
      "source": [
        "import cmath\n",
        "\n",
        "c = complex(-1, 0)\n",
        "print(cmath.phase(c))\n",
        "print(abs(c))\n",
        "# ..."
      ],
      "metadata": {
        "colab": {
          "base_uri": "https://localhost:8080/"
        },
        "id": "_QeEKqtF6wgi",
        "outputId": "863f1ce9-8fcc-4a44-8187-41c22c605c0a"
      },
      "execution_count": null,
      "outputs": [
        {
          "output_type": "stream",
          "name": "stdout",
          "text": [
            "3.141592653589793\n",
            "1.0\n"
          ]
        }
      ]
    },
    {
      "cell_type": "markdown",
      "source": [
        "### 6. Biblioteca Numpy (parte I)\n",
        "Link: https://numpy.org/"
      ],
      "metadata": {
        "id": "c5UleEkqKb44"
      }
    },
    {
      "cell_type": "code",
      "source": [
        "import numpy as np\n",
        "\n",
        "# Array 1D\n",
        "array = [1, 2, 3, 4, 5]\n",
        "print(type(array))\n",
        "array1 = np.array(array)\n",
        "print(type(array1))"
      ],
      "metadata": {
        "colab": {
          "base_uri": "https://localhost:8080/"
        },
        "id": "Peiojr5BKiTx",
        "outputId": "d5555504-cb7c-412a-cce7-03e7fc180d73"
      },
      "execution_count": null,
      "outputs": [
        {
          "output_type": "stream",
          "name": "stdout",
          "text": [
            "<class 'list'>\n",
            "<class 'numpy.ndarray'>\n"
          ]
        }
      ]
    },
    {
      "cell_type": "code",
      "source": [
        "print(\"Array Numpy:\")\n",
        "print(array1)\n",
        "\n",
        "print(\"\\nAcesso a posição específica:\")\n",
        "print(f\"Posição {0}: {array1[0]}\")\n",
        "\n",
        "print(\"\\nVarredura do array Numpy:\")\n",
        "for index, value in enumerate(array1):\n",
        "  print(f\"Índice: {index}; Valor: {value}\")\n",
        "\n",
        "print(\"\\nTipos dos dados que compõem o array Numpy:\")\n",
        "print(array1.dtype)"
      ],
      "metadata": {
        "colab": {
          "base_uri": "https://localhost:8080/"
        },
        "id": "ufvQrFMgNeJj",
        "outputId": "969b68d6-d08b-4e8d-f909-a832d24049df"
      },
      "execution_count": null,
      "outputs": [
        {
          "output_type": "stream",
          "name": "stdout",
          "text": [
            "Array Numpy:\n",
            "[1 2 3 4 5]\n",
            "\n",
            "Acesso a posição específica:\n",
            "Posição 0: 1\n",
            "\n",
            "Varredura do array Numpy:\n",
            "Índice: 0; Valor: 1\n",
            "Índice: 1; Valor: 2\n",
            "Índice: 2; Valor: 3\n",
            "Índice: 3; Valor: 4\n",
            "Índice: 4; Valor: 5\n",
            "\n",
            "Tipos dos dados que compõem o array Numpy:\n",
            "int64\n"
          ]
        }
      ]
    },
    {
      "cell_type": "code",
      "source": [
        "# Array 2D\n",
        "array2 = np.array([[1, 2, 3], [4, 5, 6], [7, 8, 9]])\n",
        "print(array2)\n",
        "\n",
        "print(\"\\nAcesso a posição específica:\")\n",
        "print(array2[2, 2])\n",
        "\n",
        "print(\"\\nVisualização de uma linha inteira:\")\n",
        "print(array2[0,:])\n",
        "\n",
        "print(\"\\nVisualização de uma coluna inteira:\")\n",
        "print(array2[:,0])"
      ],
      "metadata": {
        "colab": {
          "base_uri": "https://localhost:8080/"
        },
        "id": "fNthlBPBPRPN",
        "outputId": "c4776eb7-6a2c-4ed7-df56-424813e41979"
      },
      "execution_count": null,
      "outputs": [
        {
          "output_type": "stream",
          "name": "stdout",
          "text": [
            "[[1 2 3]\n",
            " [4 5 6]\n",
            " [7 8 9]]\n",
            "\n",
            "Acesso a posição específica:\n",
            "9\n",
            "\n",
            "Visualização de uma linha inteira:\n",
            "[1 2 3]\n",
            "\n",
            "Visualização de uma coluna inteira:\n",
            "[1 4 7]\n"
          ]
        }
      ]
    },
    {
      "cell_type": "code",
      "source": [
        "# Atributos básicos dos arrays\n",
        "print(array1.dtype)\n",
        "print(array2.dtype)\n",
        "\n",
        "print(array1.shape)\n",
        "print(array2.shape)\n",
        "\n",
        "print(array1.ndim)\n",
        "print(array2.ndim)\n",
        "\n",
        "print(array1.size)\n",
        "print(array2.size)"
      ],
      "metadata": {
        "colab": {
          "base_uri": "https://localhost:8080/"
        },
        "id": "PHXNwJfDR4Pw",
        "outputId": "d45099f6-c614-4a54-b169-ff0c8ccb3105"
      },
      "execution_count": null,
      "outputs": [
        {
          "output_type": "stream",
          "name": "stdout",
          "text": [
            "int64\n",
            "int64\n",
            "(5,)\n",
            "(3, 3)\n",
            "1\n",
            "2\n",
            "5\n",
            "9\n"
          ]
        }
      ]
    },
    {
      "cell_type": "markdown",
      "source": [
        "### 7. Biblioteca Numpy (parte II)\n",
        "Técnicas para preenchimento de arrays"
      ],
      "metadata": {
        "id": "cQtjp50mT-LF"
      }
    },
    {
      "cell_type": "code",
      "source": [
        "import numpy as np\n",
        "\n",
        "# Criar um array con números pares de 0 a 100\n",
        "array1 = np.array([i for i in range(0, 101, 2)])     # utiliza o conceito de compreensão de lista\n",
        "print(array1)"
      ],
      "metadata": {
        "colab": {
          "base_uri": "https://localhost:8080/"
        },
        "id": "Xp2aizPzUdkf",
        "outputId": "b6d58427-ffe9-4206-e568-c5f23d2d240c"
      },
      "execution_count": null,
      "outputs": [
        {
          "output_type": "stream",
          "name": "stdout",
          "text": [
            "[  0   2   4   6   8  10  12  14  16  18  20  22  24  26  28  30  32  34\n",
            "  36  38  40  42  44  46  48  50  52  54  56  58  60  62  64  66  68  70\n",
            "  72  74  76  78  80  82  84  86  88  90  92  94  96  98 100]\n"
          ]
        }
      ]
    },
    {
      "cell_type": "code",
      "source": [
        "# Criar um array com 10 elementos iguais a 0\n",
        "array2 = np.zeros(10, dtype=int)\n",
        "print(array2)"
      ],
      "metadata": {
        "colab": {
          "base_uri": "https://localhost:8080/"
        },
        "id": "aGpYlCOsV3TM",
        "outputId": "d2eee4c7-6ea5-4b44-8b62-c5415e0c3a39"
      },
      "execution_count": null,
      "outputs": [
        {
          "output_type": "stream",
          "name": "stdout",
          "text": [
            "[0 0 0 0 0 0 0 0 0 0]\n"
          ]
        }
      ]
    },
    {
      "cell_type": "code",
      "source": [
        "# Criar um array com 15 elementos iguais a 1\n",
        "array3 = np.ones(15, dtype=int)\n",
        "print(array3)"
      ],
      "metadata": {
        "colab": {
          "base_uri": "https://localhost:8080/"
        },
        "id": "NE_VjGikWYri",
        "outputId": "5442be8d-f0d8-4389-b07a-068fc106aaee"
      },
      "execution_count": null,
      "outputs": [
        {
          "output_type": "stream",
          "name": "stdout",
          "text": [
            "[1 1 1 1 1 1 1 1 1 1 1 1 1 1 1]\n"
          ]
        }
      ]
    },
    {
      "cell_type": "code",
      "source": [
        "# Criar um array com 8 elementos iguais a 12 (int)\n",
        "array4 = np.full(8, 12, dtype=int)\n",
        "print(array4)"
      ],
      "metadata": {
        "colab": {
          "base_uri": "https://localhost:8080/"
        },
        "id": "aiVNnsAeXL0l",
        "outputId": "7421ddc1-b837-4846-fe2b-237a2dfaadaa"
      },
      "execution_count": null,
      "outputs": [
        {
          "output_type": "stream",
          "name": "stdout",
          "text": [
            "[12 12 12 12 12 12 12 12]\n"
          ]
        }
      ]
    },
    {
      "cell_type": "code",
      "source": [
        "# Criar um array com 10 elementos iguais a 0, tipo inteiro\n",
        "array = np.zeros(10, dtype=int)\n",
        "print(array)"
      ],
      "metadata": {
        "colab": {
          "base_uri": "https://localhost:8080/"
        },
        "id": "gcehpriuXqd4",
        "outputId": "2547d413-f2b7-4a3f-b83b-63cf5dd94135"
      },
      "execution_count": null,
      "outputs": [
        {
          "output_type": "stream",
          "name": "stdout",
          "text": [
            "[0 0 0 0 0 0 0 0 0 0]\n"
          ]
        }
      ]
    },
    {
      "cell_type": "code",
      "source": [
        "# Criar um array com 15 elementos iguais a 1, tipo inteiro\n",
        "array = np.ones(15, dtype=int)\n",
        "print(array)"
      ],
      "metadata": {
        "colab": {
          "base_uri": "https://localhost:8080/"
        },
        "id": "QV1i0oq2X4JP",
        "outputId": "323a952c-9ebc-4cc6-a604-b4cfcbb97886"
      },
      "execution_count": null,
      "outputs": [
        {
          "output_type": "stream",
          "name": "stdout",
          "text": [
            "[1 1 1 1 1 1 1 1 1 1 1 1 1 1 1]\n"
          ]
        }
      ]
    },
    {
      "cell_type": "code",
      "source": [
        "# Criar um array com 8 elementos iguais a 12, tipo ponto flutuante\n",
        "array = np.full(8, 12, dtype=float)\n",
        "print(array)"
      ],
      "metadata": {
        "colab": {
          "base_uri": "https://localhost:8080/"
        },
        "id": "nZCqVNnDX88T",
        "outputId": "b34403f1-1b67-458e-b4f0-090b8573a124"
      },
      "execution_count": null,
      "outputs": [
        {
          "output_type": "stream",
          "name": "stdout",
          "text": [
            "[12. 12. 12. 12. 12. 12. 12. 12.]\n"
          ]
        }
      ]
    },
    {
      "cell_type": "code",
      "source": [
        "# Criar um array bidimensional 2x5 preenchido com zeros, tipo inteiro\n",
        "array = np.zeros((2,5), dtype=int)\n",
        "print(array)"
      ],
      "metadata": {
        "colab": {
          "base_uri": "https://localhost:8080/"
        },
        "id": "pyQ_b3zlYDiG",
        "outputId": "37937840-da96-4c6e-9a2f-992760daa065"
      },
      "execution_count": null,
      "outputs": [
        {
          "output_type": "stream",
          "name": "stdout",
          "text": [
            "[[0 0 0 0 0]\n",
            " [0 0 0 0 0]]\n"
          ]
        }
      ]
    },
    {
      "cell_type": "code",
      "source": [
        "# Criar um array a partir de faixas de valores: método arange\n",
        "# Array de 10 elementos, números de 0 a 10\n",
        "array = np.arange(10)\n",
        "print(array)"
      ],
      "metadata": {
        "colab": {
          "base_uri": "https://localhost:8080/"
        },
        "id": "TE5hBSh9ZKWM",
        "outputId": "3feeeb01-d4cd-4083-9411-17cb2fc8b380"
      },
      "execution_count": null,
      "outputs": [
        {
          "output_type": "stream",
          "name": "stdout",
          "text": [
            "[0 1 2 3 4 5 6 7 8 9]\n"
          ]
        }
      ]
    },
    {
      "cell_type": "code",
      "source": [
        "# Array de 10 elementos float, números de 0 a 9\n",
        "array = np.arange(10, dtype=float)\n",
        "print(array)"
      ],
      "metadata": {
        "colab": {
          "base_uri": "https://localhost:8080/"
        },
        "id": "EWyJbiueZkSs",
        "outputId": "3a5ba063-2954-47f9-e94b-db66ec91737e"
      },
      "execution_count": null,
      "outputs": [
        {
          "output_type": "stream",
          "name": "stdout",
          "text": [
            "[0. 1. 2. 3. 4. 5. 6. 7. 8. 9.]\n"
          ]
        }
      ]
    },
    {
      "cell_type": "code",
      "source": [
        "# Array com valores no intervalo de 5 a 15\n",
        "array = np.arange(5,16,1)\n",
        "print(array)"
      ],
      "metadata": {
        "colab": {
          "base_uri": "https://localhost:8080/"
        },
        "id": "R1JcEchYZx-d",
        "outputId": "d40951e4-2988-4950-fcd5-07106e1dd45e"
      },
      "execution_count": null,
      "outputs": [
        {
          "output_type": "stream",
          "name": "stdout",
          "text": [
            "[ 5  6  7  8  9 10 11 12 13 14 15]\n"
          ]
        }
      ]
    },
    {
      "cell_type": "code",
      "source": [
        "# Array com números pares de 50 até 1\n",
        "array = np.arange(50,0,-2)\n",
        "print(array)"
      ],
      "metadata": {
        "colab": {
          "base_uri": "https://localhost:8080/"
        },
        "id": "sJzERxCFaNZl",
        "outputId": "2b2cd3e1-6316-4706-9698-0a6a233e5d8d"
      },
      "execution_count": null,
      "outputs": [
        {
          "output_type": "stream",
          "name": "stdout",
          "text": [
            "[50 48 46 44 42 40 38 36 34 32 30 28 26 24 22 20 18 16 14 12 10  8  6  4\n",
            "  2]\n"
          ]
        }
      ]
    },
    {
      "cell_type": "code",
      "source": [
        "# Criar um array com valores de ponto flutuante com o método linspace\n",
        "array = np.linspace(0, 2, 5, dtype=float)\n",
        "print(array)"
      ],
      "metadata": {
        "colab": {
          "base_uri": "https://localhost:8080/"
        },
        "id": "Ta8aJeCXavxo",
        "outputId": "f3fbe400-5d75-4659-bb41-23fcc02efa23"
      },
      "execution_count": null,
      "outputs": [
        {
          "output_type": "stream",
          "name": "stdout",
          "text": [
            "[0.  0.5 1.  1.5 2. ]\n"
          ]
        }
      ]
    },
    {
      "cell_type": "code",
      "source": [
        "# Arrays com valores aleatórios: métodos rand e randint\n",
        "# Array de 10 elementos entre 0 e 1\n",
        "array = np.random.rand(10)\n",
        "print(array)"
      ],
      "metadata": {
        "colab": {
          "base_uri": "https://localhost:8080/"
        },
        "id": "H2TAK-PEbbdr",
        "outputId": "88afcf47-ae69-4527-b6c7-ec96e517dfaf"
      },
      "execution_count": null,
      "outputs": [
        {
          "output_type": "stream",
          "name": "stdout",
          "text": [
            "[0.68649672 0.91335616 0.70891739 0.44323202 0.99897537 0.05806174\n",
            " 0.15521693 0.74451937 0.6701172  0.38083188]\n"
          ]
        }
      ]
    },
    {
      "cell_type": "code",
      "source": [
        "# Array bidimensional 3x3 com valores aleatórios\n",
        "array = np.random.rand(3,3)\n",
        "print(array)"
      ],
      "metadata": {
        "colab": {
          "base_uri": "https://localhost:8080/"
        },
        "id": "ESSQgjjMb_52",
        "outputId": "2d87ad19-9eaa-4428-ca2a-a7e4e59e8058"
      },
      "execution_count": null,
      "outputs": [
        {
          "output_type": "stream",
          "name": "stdout",
          "text": [
            "[[0.59763707 0.28845952 0.05110275]\n",
            " [0.01511567 0.95282674 0.4785762 ]\n",
            " [0.7805768  0.53535017 0.65241232]]\n"
          ]
        }
      ]
    },
    {
      "cell_type": "code",
      "source": [
        "# Gerar um número elatório inteiro entre 0 e 8\n",
        "numero = np.random.randint(8)\n",
        "print(numero)"
      ],
      "metadata": {
        "colab": {
          "base_uri": "https://localhost:8080/"
        },
        "id": "wQ6JSC3Fcp-5",
        "outputId": "0d61ef5d-6450-4872-9aeb-243fb2111406"
      },
      "execution_count": null,
      "outputs": [
        {
          "output_type": "stream",
          "name": "stdout",
          "text": [
            "3\n"
          ]
        }
      ]
    },
    {
      "cell_type": "code",
      "source": [
        "# Gerar um array unidimensional com 10 números aleatórios inteiros entre 10 e 20\n",
        "array = np.random.randint(10,21,10)\n",
        "print(array)"
      ],
      "metadata": {
        "colab": {
          "base_uri": "https://localhost:8080/"
        },
        "id": "9ctwIQZAdHmu",
        "outputId": "33dba707-7d7c-4ed5-f632-efec9ae02746"
      },
      "execution_count": null,
      "outputs": [
        {
          "output_type": "stream",
          "name": "stdout",
          "text": [
            "[10 15 19 18 10 20 20 18 15 19]\n"
          ]
        }
      ]
    },
    {
      "cell_type": "code",
      "source": [
        "# Array bidimensional 4x5 com números aleatórios inteiros entre 1 e 30\n",
        "array = np.random.randint(1,31,(4,5))\n",
        "print(array)"
      ],
      "metadata": {
        "colab": {
          "base_uri": "https://localhost:8080/"
        },
        "id": "4LMTHd9Pd0Jg",
        "outputId": "341b1e04-bfb9-44fb-d368-58576c67497e"
      },
      "execution_count": null,
      "outputs": [
        {
          "output_type": "stream",
          "name": "stdout",
          "text": [
            "[[ 3  1 10  3 28]\n",
            " [19  2 30 26 17]\n",
            " [30 11 15  4 13]\n",
            " [ 3  3 20  8  9]]\n"
          ]
        }
      ]
    },
    {
      "cell_type": "markdown",
      "source": [
        "### 8. Biblioteca Numpy (parte III)\n",
        "Arrays 3D"
      ],
      "metadata": {
        "id": "YtEnCtOIfz4q"
      }
    },
    {
      "cell_type": "code",
      "source": [
        "import numpy as np\n",
        "\n",
        "# Estrutura: [profundidade][linha][coluna]\n",
        "# Exemplo:\n",
        "array = [[[1,4,7],[3,5,2]], [[5,6,0],[7,4,1]], [[2,8,8],[0,3,6]]]\n",
        "array3 = np.array(array)\n",
        "\n",
        "array = [[[1,4,7],[3,5,2]], [[5,6,0],[7,4,1]]]\n",
        "array3 = np.array(array)\n",
        "print(array3)\n",
        "print(\"---------------\")\n",
        "print(array3[0,:,:])\n",
        "print(\"---------------\")\n",
        "print(array3[1,:,:])"
      ],
      "metadata": {
        "colab": {
          "base_uri": "https://localhost:8080/"
        },
        "id": "uqX2sqaugAug",
        "outputId": "1cca060a-efc2-41da-8e92-e2477d30a3cf"
      },
      "execution_count": null,
      "outputs": [
        {
          "output_type": "stream",
          "name": "stdout",
          "text": [
            "[[[1 4 7]\n",
            "  [3 5 2]]\n",
            "\n",
            " [[5 6 0]\n",
            "  [7 4 1]]]\n",
            "---------------\n",
            "[[1 4 7]\n",
            " [3 5 2]]\n",
            "---------------\n",
            "[[5 6 0]\n",
            " [7 4 1]]\n"
          ]
        }
      ]
    },
    {
      "cell_type": "code",
      "source": [
        "# Atributos básicos dos arrays\n",
        "print(\"Tipo dos dados:\")\n",
        "print(array3.dtype)\n",
        "\n",
        "print(\"\\nTamanho do array:\")\n",
        "print(array3.shape)\n",
        "\n",
        "print(\"\\nNúmero de dimensões do array:\")\n",
        "print(array3.ndim)\n",
        "\n",
        "print(\"\\nNúmero de elementos do array:\")\n",
        "print(array3.size)"
      ],
      "metadata": {
        "colab": {
          "base_uri": "https://localhost:8080/"
        },
        "id": "IjhsEvYAkOvH",
        "outputId": "c7003f1a-ecdb-471c-a88e-40a0111c6205"
      },
      "execution_count": null,
      "outputs": [
        {
          "output_type": "stream",
          "name": "stdout",
          "text": [
            "Tipo dos dados:\n",
            "int64\n",
            "\n",
            "Tamanho do array:\n",
            "(2, 2, 3)\n",
            "\n",
            "Número de dimensões do array:\n",
            "3\n",
            "\n",
            "Número de elementos do array:\n",
            "12\n"
          ]
        }
      ]
    },
    {
      "cell_type": "code",
      "source": [
        "print(array3)\n",
        "print(\"---------------\")\n",
        "for k in range(array3.shape[0]):\n",
        "  for i in range(array3.shape[1]):\n",
        "    for j in range(array3.shape[2]):\n",
        "      print(f\"Elemento {k,i,j}: {array3[k,i,j]}\")"
      ],
      "metadata": {
        "colab": {
          "base_uri": "https://localhost:8080/"
        },
        "id": "WpIzuQCAmUvv",
        "outputId": "43ea477e-88f3-495d-fa90-7b281131e90e"
      },
      "execution_count": null,
      "outputs": [
        {
          "output_type": "stream",
          "name": "stdout",
          "text": [
            "[[[1 4 7]\n",
            "  [3 5 2]]\n",
            "\n",
            " [[5 6 0]\n",
            "  [7 4 1]]]\n",
            "---------------\n",
            "Elemento (0, 0, 0): 1\n",
            "Elemento (0, 0, 1): 4\n",
            "Elemento (0, 0, 2): 7\n",
            "Elemento (0, 1, 0): 3\n",
            "Elemento (0, 1, 1): 5\n",
            "Elemento (0, 1, 2): 2\n",
            "Elemento (1, 0, 0): 5\n",
            "Elemento (1, 0, 1): 6\n",
            "Elemento (1, 0, 2): 0\n",
            "Elemento (1, 1, 0): 7\n",
            "Elemento (1, 1, 1): 4\n",
            "Elemento (1, 1, 2): 1\n"
          ]
        }
      ]
    },
    {
      "cell_type": "markdown",
      "source": [
        "### 9. Operadores e expressõoes aritméticas"
      ],
      "metadata": {
        "id": "rOmXhHyVl5w-"
      }
    },
    {
      "cell_type": "code",
      "source": [
        "# +, -, *, /, //, %, **\n",
        "a = 5\n",
        "b = 4\n",
        "\n",
        "print(\"Operações aritméticas básicas:\")\n",
        "print(f\"{a} + {b} = {a + b}\")\n",
        "print(f\"{a} - {b} = {a - b}\")\n",
        "print(f\"{a} * {b} = {a * b}\")\n",
        "print(f\"{a} / {b} = {a / b}\")\n",
        "print(f\"{a} // {b} = {a // b}\")\n",
        "print(f\"{a} % {b} = {a % b}\")\n",
        "print(f\"{a} ** {b} = {a ** b}\")\n",
        "\n",
        "# Precedência: PEMDAS\n",
        "print(\"\\nExpressões:\")\n",
        "c = a + (a * b)\n",
        "print(c)\n",
        "\n",
        "# Exemplo:\n",
        "print(\"\\nExemplo:\")\n",
        "a = 1\n",
        "b = 2\n",
        "c = 3\n",
        "\n",
        "delta = (b ** 2) - (4 * a * c)\n",
        "r1 = ((-1 * b) + (delta ** (1/2))) / (2 * a)\n",
        "r2 = ((-1 * b) - (delta ** (1/2))) / (2 * a)\n",
        "print(f\"Raízes da equação do segundo grau: {r1:.2f} e {r2:.2f}\")"
      ],
      "metadata": {
        "colab": {
          "base_uri": "https://localhost:8080/"
        },
        "id": "6DkZf-8PmAfQ",
        "outputId": "f403bbce-2a29-4ceb-f9eb-5a88a2bcb937"
      },
      "execution_count": null,
      "outputs": [
        {
          "output_type": "stream",
          "name": "stdout",
          "text": [
            "Operações aritméticas básicas:\n",
            "5 + 4 = 9\n",
            "5 - 4 = 1\n",
            "5 * 4 = 20\n",
            "5 / 4 = 1.25\n",
            "5 // 4 = 1\n",
            "5 % 4 = 1\n",
            "5 ** 4 = 625\n",
            "\n",
            "Expressões:\n",
            "25\n",
            "\n",
            "Exemplo:\n",
            "Raízes da equação do segundo grau: -1.00+1.41j e -1.00-1.41j\n"
          ]
        }
      ]
    },
    {
      "cell_type": "markdown",
      "source": [
        "### 10. Funções matemáticas e o módulo math"
      ],
      "metadata": {
        "id": "koHEGcJ1or5B"
      }
    },
    {
      "cell_type": "code",
      "source": [
        "import math\n",
        "\n",
        "print(math.pi)\n",
        "print(math.sqrt(100))\n",
        "print(math.fabs(-5), math.fabs(5))\n",
        "print(math.factorial(5))\n",
        "print(math.log10(1000))\n",
        "print(math.pow(2,5))\n",
        "print(math.ceil(1.76))\n",
        "print(math.floor(2.2))"
      ],
      "metadata": {
        "colab": {
          "base_uri": "https://localhost:8080/"
        },
        "id": "erLXmcAUqYpI",
        "outputId": "d127eb34-e864-4469-d406-399c8a4f98e8"
      },
      "execution_count": null,
      "outputs": [
        {
          "output_type": "stream",
          "name": "stdout",
          "text": [
            "3.141592653589793\n",
            "10.0\n",
            "5.0 5.0\n",
            "120\n",
            "3.0\n",
            "32.0\n",
            "2\n",
            "2\n"
          ]
        }
      ]
    },
    {
      "cell_type": "markdown",
      "source": [
        "### 11. Geração de números aleatórios e o módulo random"
      ],
      "metadata": {
        "id": "ufy_sGdco0XD"
      }
    },
    {
      "cell_type": "code",
      "source": [
        "import random\n",
        "\n",
        "v = random.random()\n",
        "print(v)\n",
        "\n",
        "lista = list(range(1,11))\n",
        "print(lista)\n",
        "print(random.choice(lista))\n",
        "\n",
        "dias_semana = [\"Domingo\", \"Segunda-Feira\", \"Terça-Feira\", \"Quarta-Feira\", \"Quinta-Feira\", \"Sexta-Feira\", \"Sábado\"]\n",
        "print(random.choice(dias_semana))"
      ],
      "metadata": {
        "colab": {
          "base_uri": "https://localhost:8080/"
        },
        "id": "LRRhoAM2tdy7",
        "outputId": "6a5957c9-2667-4133-a5e9-ac3497c9548c"
      },
      "execution_count": null,
      "outputs": [
        {
          "output_type": "stream",
          "name": "stdout",
          "text": [
            "0.5894621704536799\n",
            "[1, 2, 3, 4, 5, 6, 7, 8, 9, 10]\n",
            "10\n",
            "Segunda-Feira\n"
          ]
        }
      ]
    },
    {
      "cell_type": "markdown",
      "source": [
        "### 12. Visualização de dados (Matplotlib) - Introdução\n",
        "Link: https://matplotlib.org/"
      ],
      "metadata": {
        "id": "zkn1hpHjo9AE"
      }
    },
    {
      "cell_type": "code",
      "source": [
        "import numpy as np\n",
        "import matplotlib.pyplot as plt\n",
        "\n",
        "x = np.linspace(0,10,10)\n",
        "y1 = 2 * x + 3\n",
        "y2 = x ** 2\n",
        "y3 = 10 * (1 / x)\n",
        "\n",
        "plt.figure(figsize=(8,6))\n",
        "plt.plot(x,y1,label=\"plot-1\",marker=\"o\")\n",
        "plt.plot(x,y2,label=\"plot-2\",marker=\"o\")\n",
        "plt.plot(x,y3,label=\"plot-3\",marker=\"o\")\n",
        "plt.title(\"Exemplo no Matplotlib\")\n",
        "plt.xlabel(\"Eixo - x\")\n",
        "plt.ylabel(\"Eixo - y\")\n",
        "plt.axis(xmin=0, xmax=10, ymin=0, ymax=100)\n",
        "plt.legend()\n",
        "plt.grid(True)\n",
        "plt.show()"
      ],
      "metadata": {
        "colab": {
          "base_uri": "https://localhost:8080/",
          "height": 599
        },
        "id": "-7Xrs5k1xV5Y",
        "outputId": "14744a97-a006-423a-fbcf-dca8ac02b732"
      },
      "execution_count": 108,
      "outputs": [
        {
          "output_type": "stream",
          "name": "stderr",
          "text": [
            "<ipython-input-108-db778a5b2478>:7: RuntimeWarning: divide by zero encountered in divide\n",
            "  y3 = 10 * (1 / x)\n"
          ]
        },
        {
          "output_type": "display_data",
          "data": {
            "text/plain": [
              "<Figure size 800x600 with 1 Axes>"
            ],
            "image/png": "[encoded data removed]"
          },
          "metadata": {}
        }
      ]
    },
    {
      "cell_type": "markdown",
      "source": [
        "### 13. Arredondando números (round, floor, ceil)"
      ],
      "metadata": {
        "id": "yaQaxMKHpSLj"
      }
    },
    {
      "cell_type": "code",
      "source": [
        "import math\n",
        "\n",
        "# Função built-in round()\n",
        "print(\"Função round()\")\n",
        "n = 56.45\n",
        "print(round(n))\n",
        "\n",
        "n = 56.78\n",
        "print(round(n))\n",
        "\n",
        "# Métodos da classe math, math.floor() e math.ceil()\n",
        "print(\"\\nMétodos math.floor() e math.ceil()\")\n",
        "print(math.floor(n))\n",
        "print(math.ceil(n))"
      ],
      "metadata": {
        "id": "idDi4vh-9niv",
        "colab": {
          "base_uri": "https://localhost:8080/"
        },
        "outputId": "c8f61f77-9e00-464d-cd7b-d3a49cf63cf8"
      },
      "execution_count": 120,
      "outputs": [
        {
          "output_type": "stream",
          "name": "stdout",
          "text": [
            "Função round()\n",
            "56\n",
            "57\n",
            "\n",
            "Métodos math.floor() e math.ceil()\n",
            "56\n",
            "57\n"
          ]
        }
      ]
    }
  ]
}