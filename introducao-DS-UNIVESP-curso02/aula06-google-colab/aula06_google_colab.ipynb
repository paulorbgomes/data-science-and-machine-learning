{
  "nbformat": 4,
  "nbformat_minor": 0,
  "metadata": {
    "colab": {
      "provenance": []
    },
    "kernelspec": {
      "name": "python3",
      "display_name": "Python 3"
    },
    "language_info": {
      "name": "python"
    }
  },
  "cells": [
    {
      "cell_type": "markdown",
      "source": [
        "#INTRODUÇÃO AO GOOGLE COLAB"
      ],
      "metadata": {
        "id": "4SgJ80OpHcfY"
      }
    },
    {
      "cell_type": "code",
      "source": [
        "x = 10\n",
        "print(x)\n",
        "x = 11\n",
        "print(x)"
      ],
      "metadata": {
        "colab": {
          "base_uri": "https://localhost:8080/"
        },
        "id": "It8hJScBHqer",
        "outputId": "a093ddb3-5f65-4458-8257-0fe1cee39e1a"
      },
      "execution_count": 4,
      "outputs": [
        {
          "output_type": "stream",
          "name": "stdout",
          "text": [
            "10\n",
            "11\n"
          ]
        }
      ]
    },
    {
      "cell_type": "markdown",
      "source": [
        "#MARKDOWN\n",
        "#Cabeçalho 1\n",
        "##Cabeçalho 2\n",
        "###Cabeçalho 3"
      ],
      "metadata": {
        "id": "khpH-9DBIICW"
      }
    },
    {
      "cell_type": "code",
      "source": [
        "for i in range(0,11):\n",
        "    print(f\"Valor: {i}\")"
      ],
      "metadata": {
        "colab": {
          "base_uri": "https://localhost:8080/"
        },
        "id": "-VoAlfLAITit",
        "outputId": "77e4c37b-2234-4ab8-ee6c-cca36f2d6089"
      },
      "execution_count": 6,
      "outputs": [
        {
          "output_type": "stream",
          "name": "stdout",
          "text": [
            "Valor: 0\n",
            "Valor: 1\n",
            "Valor: 2\n",
            "Valor: 3\n",
            "Valor: 4\n",
            "Valor: 5\n",
            "Valor: 6\n",
            "Valor: 7\n",
            "Valor: 8\n",
            "Valor: 9\n",
            "Valor: 10\n"
          ]
        }
      ]
    }
  ]
}