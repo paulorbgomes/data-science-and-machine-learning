{
  "nbformat": 4,
  "nbformat_minor": 0,
  "metadata": {
    "colab": {
      "provenance": []
    },
    "kernelspec": {
      "name": "python3",
      "display_name": "Python 3"
    },
    "language_info": {
      "name": "python"
    }
  },
  "cells": [
    {
      "cell_type": "markdown",
      "source": [
        "# ARQUIVOS\n",
        "## Trabalhando com arquivos .txt"
      ],
      "metadata": {
        "id": "yDxjA6SHsFVx"
      }
    },
    {
      "cell_type": "markdown",
      "source": [
        "## Importar Bibliotecas"
      ],
      "metadata": {
        "id": "IHl7gkTpvXFm"
      }
    },
    {
      "cell_type": "code",
      "execution_count": 18,
      "metadata": {
        "id": "HNWtp-oRp6Y2"
      },
      "outputs": [],
      "source": [
        "import csv\n",
        "import pandas as pd\n",
        "import numpy as np"
      ]
    },
    {
      "cell_type": "markdown",
      "source": [
        "## Abrir arquivo (vamos olhar o conteúdo dele, é uma informação de texto copiada da Wikipedia: https://pt.wikipedia.org/wiki/Machado_de_Assis)"
      ],
      "metadata": {
        "id": "4oxi4LdDvyuE"
      }
    },
    {
      "cell_type": "code",
      "source": [
        "arquivo = open(\"machado_de_assis.txt\", \"r\")"
      ],
      "metadata": {
        "id": "jIWdTompwGEE"
      },
      "execution_count": 19,
      "outputs": []
    },
    {
      "cell_type": "markdown",
      "source": [
        "## Ler linhas, fechar arquivo e mostrar conteúdo"
      ],
      "metadata": {
        "id": "Qo9xv7dMxPBr"
      }
    },
    {
      "cell_type": "code",
      "source": [
        "conteudo = arquivo.readlines()\n",
        "arquivo.close()"
      ],
      "metadata": {
        "id": "y0QHPVbnxWpw"
      },
      "execution_count": 20,
      "outputs": []
    },
    {
      "cell_type": "code",
      "source": [
        "print(conteudo)\n",
        "for linha in conteudo:\n",
        "    print(linha)"
      ],
      "metadata": {
        "colab": {
          "base_uri": "https://localhost:8080/"
        },
        "id": "67OhNaH0x28i",
        "outputId": "da7e3e8f-3820-4525-ae52-56de3d42abbb"
      },
      "execution_count": 21,
      "outputs": [
        {
          "output_type": "stream",
          "name": "stdout",
          "text": [
            "['Joaquim Maria Machado de Assis (Rio de Janeiro, 21 de junho de 1839 – Rio de Janeiro, 29 de setembro de 1908) \\n', 'foi um escritor brasileiro, amplamente reconhecido por críticos, estudiosos, escritores e \\n', 'leitores como o maior expoente da literatura brasileira.[2][3][4][5][6] Sua produção literária \\n', 'abrangeu praticamente todos os gêneros, incluindo poesia, romance, crônica, dramaturgia, conto, \\n', 'folhetim, jornalismo e crítica literária.[7][8] Machado de Assis testemunhou a Abolição da Escravatura e a transição \\n', 'política do Brasil, com a proclamação da República em substituição ao Império, além de diversos eventos \\n', 'significativos no final do século XIX e início do século XX, sendo um notável comentador e relator dos acontecimentos \\n', 'político-sociais de sua época.[9] Nascido no Morro do Livramento, Rio de Janeiro, de uma família pobre, mal estudou em \\n', 'escolas públicas e nunca frequentou universidade.[10] Para o considerado crítico literário norte-americano Harold Bloom, \\n', 'Machado de Assis é o maior escritor negro de todos os tempos,[11] embora outros estudiosos prefiram especificar \\n', 'que Machado era mestiço,[12] filho de um descendente de negros alforriados e de uma portuguesa \\n', 'da ilha de São Miguel. Seus biógrafos notam que, interessado pela boemia e pela corte, lutou para subir socialmente \\n', 'abastecendo-se de superioridade intelectual e da cultura da capital brasileira.[13] Para isso, assumiu diversos \\n', 'cargos públicos, passando pelo Ministério da Agricultura, do Comércio e das Obras Públicas, e conseguindo precoce \\n', 'notoriedade em jornais onde publicava suas primeiras poesias e crônicas. Machado de Assis pôde assistir, \\n', 'durante sua vida, que abarca o final da primeira metade do século XIX até os anos iniciais do século XX, a enormes \\n', 'mudanças históricas na política, na economia e na sociedade brasileira e também mundial. Em sua maturidade, \\n', 'reunido a intelectuais e colegas próximos, fundou e foi o primeiro presidente unânime da Academia Brasileira de Letras.\\n', '[14] A extensa obra machadiana constitui-se de dez romances, 205 contos,[15] dez peças teatrais, \\n', 'cinco coletâneas de poemas e sonetos, e mais de seiscentas crônicas.[16][17] Machado de Assis é considerado o introdutor \\n', 'do Realismo no Brasil, com a publicação de Memórias Póstumas de Brás Cubas (1881).[18][19] Este romance é posto \\n', 'ao lado de todas suas produções posteriores, Quincas Borba, Dom Casmurro, Esaú e Jacó e Memorial de Aires, \\n', 'ortodoxamente conhecidas como pertencentes à sua segunda fase, em que notam-se traços de crítica social, \\n', 'ironia e até pessimismo, embora não haja rompimento de resíduos românticos. Dessa fase, os críticos destacam que suas \\n', 'melhores obras são as do que se passou a chamar de \"Trilogia Realista\".[1] Sua primeira fase literária é \\n', 'constituída de obras como Ressurreição, A Mão e a Luva, Helena e Iaiá Garcia, onde notam-se características \\n', 'herdadas do Romantismo, ou \"convencionalismo\", como prefere a crítica moderna.[20] Sua obra foi de fundamental importância \\n', 'para as escolas literárias brasileiras do século XIX e do século XX e surge nos dias de hoje como de grande interesse \\n', 'acadêmico e público para entender o Brasil e o mundo.[21] Influenciou grandes nomes das letras, como Olavo Bilac, \\n', 'Lima Barreto, Drummond de Andrade, John Barth, Donald Barthelme e muitos outros. Ainda em vida, alcançou fama e \\n', 'prestígio pelo Brasil e países vizinhos.[22] Hoje em dia, por sua inovação literária e por sua audácia em temas \\n', 'sociais e precoces, é frequentemente visto como o escritor brasileiro de produção sem precedentes,[23][24] de \\n', 'modo que, recentemente, seu nome e sua obra têm alcançado diversos críticos, influenciados, estudiosos e \\n', 'admiradores do mundo inteiro. Machado de Assis é considerado um dos grandes gênios da história da literatura, ao lado \\n', 'de autores como Dante, Shakespeare e Camões.[25] Machado de Assis e Eça de Queiroz são considerados os dois maiores \\n', 'escritores em língua portuguesa do século XIX.[26][27][28] Foi incluído na lista oficial dos Heróis Nacionais \\n', 'do Brasil[29] e é homenageado pelo principal prêmio literário brasileiro, o Prêmio Machado de Assis.']\n",
            "Joaquim Maria Machado de Assis (Rio de Janeiro, 21 de junho de 1839 – Rio de Janeiro, 29 de setembro de 1908) \n",
            "\n",
            "foi um escritor brasileiro, amplamente reconhecido por críticos, estudiosos, escritores e \n",
            "\n",
            "leitores como o maior expoente da literatura brasileira.[2][3][4][5][6] Sua produção literária \n",
            "\n",
            "abrangeu praticamente todos os gêneros, incluindo poesia, romance, crônica, dramaturgia, conto, \n",
            "\n",
            "folhetim, jornalismo e crítica literária.[7][8] Machado de Assis testemunhou a Abolição da Escravatura e a transição \n",
            "\n",
            "política do Brasil, com a proclamação da República em substituição ao Império, além de diversos eventos \n",
            "\n",
            "significativos no final do século XIX e início do século XX, sendo um notável comentador e relator dos acontecimentos \n",
            "\n",
            "político-sociais de sua época.[9] Nascido no Morro do Livramento, Rio de Janeiro, de uma família pobre, mal estudou em \n",
            "\n",
            "escolas públicas e nunca frequentou universidade.[10] Para o considerado crítico literário norte-americano Harold Bloom, \n",
            "\n",
            "Machado de Assis é o maior escritor negro de todos os tempos,[11] embora outros estudiosos prefiram especificar \n",
            "\n",
            "que Machado era mestiço,[12] filho de um descendente de negros alforriados e de uma portuguesa \n",
            "\n",
            "da ilha de São Miguel. Seus biógrafos notam que, interessado pela boemia e pela corte, lutou para subir socialmente \n",
            "\n",
            "abastecendo-se de superioridade intelectual e da cultura da capital brasileira.[13] Para isso, assumiu diversos \n",
            "\n",
            "cargos públicos, passando pelo Ministério da Agricultura, do Comércio e das Obras Públicas, e conseguindo precoce \n",
            "\n",
            "notoriedade em jornais onde publicava suas primeiras poesias e crônicas. Machado de Assis pôde assistir, \n",
            "\n",
            "durante sua vida, que abarca o final da primeira metade do século XIX até os anos iniciais do século XX, a enormes \n",
            "\n",
            "mudanças históricas na política, na economia e na sociedade brasileira e também mundial. Em sua maturidade, \n",
            "\n",
            "reunido a intelectuais e colegas próximos, fundou e foi o primeiro presidente unânime da Academia Brasileira de Letras.\n",
            "\n",
            "[14] A extensa obra machadiana constitui-se de dez romances, 205 contos,[15] dez peças teatrais, \n",
            "\n",
            "cinco coletâneas de poemas e sonetos, e mais de seiscentas crônicas.[16][17] Machado de Assis é considerado o introdutor \n",
            "\n",
            "do Realismo no Brasil, com a publicação de Memórias Póstumas de Brás Cubas (1881).[18][19] Este romance é posto \n",
            "\n",
            "ao lado de todas suas produções posteriores, Quincas Borba, Dom Casmurro, Esaú e Jacó e Memorial de Aires, \n",
            "\n",
            "ortodoxamente conhecidas como pertencentes à sua segunda fase, em que notam-se traços de crítica social, \n",
            "\n",
            "ironia e até pessimismo, embora não haja rompimento de resíduos românticos. Dessa fase, os críticos destacam que suas \n",
            "\n",
            "melhores obras são as do que se passou a chamar de \"Trilogia Realista\".[1] Sua primeira fase literária é \n",
            "\n",
            "constituída de obras como Ressurreição, A Mão e a Luva, Helena e Iaiá Garcia, onde notam-se características \n",
            "\n",
            "herdadas do Romantismo, ou \"convencionalismo\", como prefere a crítica moderna.[20] Sua obra foi de fundamental importância \n",
            "\n",
            "para as escolas literárias brasileiras do século XIX e do século XX e surge nos dias de hoje como de grande interesse \n",
            "\n",
            "acadêmico e público para entender o Brasil e o mundo.[21] Influenciou grandes nomes das letras, como Olavo Bilac, \n",
            "\n",
            "Lima Barreto, Drummond de Andrade, John Barth, Donald Barthelme e muitos outros. Ainda em vida, alcançou fama e \n",
            "\n",
            "prestígio pelo Brasil e países vizinhos.[22] Hoje em dia, por sua inovação literária e por sua audácia em temas \n",
            "\n",
            "sociais e precoces, é frequentemente visto como o escritor brasileiro de produção sem precedentes,[23][24] de \n",
            "\n",
            "modo que, recentemente, seu nome e sua obra têm alcançado diversos críticos, influenciados, estudiosos e \n",
            "\n",
            "admiradores do mundo inteiro. Machado de Assis é considerado um dos grandes gênios da história da literatura, ao lado \n",
            "\n",
            "de autores como Dante, Shakespeare e Camões.[25] Machado de Assis e Eça de Queiroz são considerados os dois maiores \n",
            "\n",
            "escritores em língua portuguesa do século XIX.[26][27][28] Foi incluído na lista oficial dos Heróis Nacionais \n",
            "\n",
            "do Brasil[29] e é homenageado pelo principal prêmio literário brasileiro, o Prêmio Machado de Assis.\n"
          ]
        }
      ]
    },
    {
      "cell_type": "markdown",
      "source": [
        "## Alterar em todo o textooo a palavra \"Rio de Janeiro\" por \"Ribeirão Preto\""
      ],
      "metadata": {
        "id": "vVY4U1-JzcZm"
      }
    },
    {
      "cell_type": "code",
      "source": [
        "x = \"\"\n",
        "for linha in conteudo:\n",
        "    if linha != \"\":\n",
        "        x += linha\n",
        "print(x)"
      ],
      "metadata": {
        "colab": {
          "base_uri": "https://localhost:8080/"
        },
        "id": "avyIycGEzi9F",
        "outputId": "6e14a949-1cd6-4242-fc70-85bfd7016c1b"
      },
      "execution_count": 22,
      "outputs": [
        {
          "output_type": "stream",
          "name": "stdout",
          "text": [
            "Joaquim Maria Machado de Assis (Rio de Janeiro, 21 de junho de 1839 – Rio de Janeiro, 29 de setembro de 1908) \n",
            "foi um escritor brasileiro, amplamente reconhecido por críticos, estudiosos, escritores e \n",
            "leitores como o maior expoente da literatura brasileira.[2][3][4][5][6] Sua produção literária \n",
            "abrangeu praticamente todos os gêneros, incluindo poesia, romance, crônica, dramaturgia, conto, \n",
            "folhetim, jornalismo e crítica literária.[7][8] Machado de Assis testemunhou a Abolição da Escravatura e a transição \n",
            "política do Brasil, com a proclamação da República em substituição ao Império, além de diversos eventos \n",
            "significativos no final do século XIX e início do século XX, sendo um notável comentador e relator dos acontecimentos \n",
            "político-sociais de sua época.[9] Nascido no Morro do Livramento, Rio de Janeiro, de uma família pobre, mal estudou em \n",
            "escolas públicas e nunca frequentou universidade.[10] Para o considerado crítico literário norte-americano Harold Bloom, \n",
            "Machado de Assis é o maior escritor negro de todos os tempos,[11] embora outros estudiosos prefiram especificar \n",
            "que Machado era mestiço,[12] filho de um descendente de negros alforriados e de uma portuguesa \n",
            "da ilha de São Miguel. Seus biógrafos notam que, interessado pela boemia e pela corte, lutou para subir socialmente \n",
            "abastecendo-se de superioridade intelectual e da cultura da capital brasileira.[13] Para isso, assumiu diversos \n",
            "cargos públicos, passando pelo Ministério da Agricultura, do Comércio e das Obras Públicas, e conseguindo precoce \n",
            "notoriedade em jornais onde publicava suas primeiras poesias e crônicas. Machado de Assis pôde assistir, \n",
            "durante sua vida, que abarca o final da primeira metade do século XIX até os anos iniciais do século XX, a enormes \n",
            "mudanças históricas na política, na economia e na sociedade brasileira e também mundial. Em sua maturidade, \n",
            "reunido a intelectuais e colegas próximos, fundou e foi o primeiro presidente unânime da Academia Brasileira de Letras.\n",
            "[14] A extensa obra machadiana constitui-se de dez romances, 205 contos,[15] dez peças teatrais, \n",
            "cinco coletâneas de poemas e sonetos, e mais de seiscentas crônicas.[16][17] Machado de Assis é considerado o introdutor \n",
            "do Realismo no Brasil, com a publicação de Memórias Póstumas de Brás Cubas (1881).[18][19] Este romance é posto \n",
            "ao lado de todas suas produções posteriores, Quincas Borba, Dom Casmurro, Esaú e Jacó e Memorial de Aires, \n",
            "ortodoxamente conhecidas como pertencentes à sua segunda fase, em que notam-se traços de crítica social, \n",
            "ironia e até pessimismo, embora não haja rompimento de resíduos românticos. Dessa fase, os críticos destacam que suas \n",
            "melhores obras são as do que se passou a chamar de \"Trilogia Realista\".[1] Sua primeira fase literária é \n",
            "constituída de obras como Ressurreição, A Mão e a Luva, Helena e Iaiá Garcia, onde notam-se características \n",
            "herdadas do Romantismo, ou \"convencionalismo\", como prefere a crítica moderna.[20] Sua obra foi de fundamental importância \n",
            "para as escolas literárias brasileiras do século XIX e do século XX e surge nos dias de hoje como de grande interesse \n",
            "acadêmico e público para entender o Brasil e o mundo.[21] Influenciou grandes nomes das letras, como Olavo Bilac, \n",
            "Lima Barreto, Drummond de Andrade, John Barth, Donald Barthelme e muitos outros. Ainda em vida, alcançou fama e \n",
            "prestígio pelo Brasil e países vizinhos.[22] Hoje em dia, por sua inovação literária e por sua audácia em temas \n",
            "sociais e precoces, é frequentemente visto como o escritor brasileiro de produção sem precedentes,[23][24] de \n",
            "modo que, recentemente, seu nome e sua obra têm alcançado diversos críticos, influenciados, estudiosos e \n",
            "admiradores do mundo inteiro. Machado de Assis é considerado um dos grandes gênios da história da literatura, ao lado \n",
            "de autores como Dante, Shakespeare e Camões.[25] Machado de Assis e Eça de Queiroz são considerados os dois maiores \n",
            "escritores em língua portuguesa do século XIX.[26][27][28] Foi incluído na lista oficial dos Heróis Nacionais \n",
            "do Brasil[29] e é homenageado pelo principal prêmio literário brasileiro, o Prêmio Machado de Assis.\n"
          ]
        }
      ]
    },
    {
      "cell_type": "code",
      "source": [
        "x = x.replace(\"Rio de Janeiro\", \"Ribeirão Preto\")\n",
        "print(x)"
      ],
      "metadata": {
        "colab": {
          "base_uri": "https://localhost:8080/"
        },
        "id": "4ZI-gWuz0Foi",
        "outputId": "64645525-ad6e-4675-ec12-d9082bde1e58"
      },
      "execution_count": 23,
      "outputs": [
        {
          "output_type": "stream",
          "name": "stdout",
          "text": [
            "Joaquim Maria Machado de Assis (Ribeirão Preto, 21 de junho de 1839 – Ribeirão Preto, 29 de setembro de 1908) \n",
            "foi um escritor brasileiro, amplamente reconhecido por críticos, estudiosos, escritores e \n",
            "leitores como o maior expoente da literatura brasileira.[2][3][4][5][6] Sua produção literária \n",
            "abrangeu praticamente todos os gêneros, incluindo poesia, romance, crônica, dramaturgia, conto, \n",
            "folhetim, jornalismo e crítica literária.[7][8] Machado de Assis testemunhou a Abolição da Escravatura e a transição \n",
            "política do Brasil, com a proclamação da República em substituição ao Império, além de diversos eventos \n",
            "significativos no final do século XIX e início do século XX, sendo um notável comentador e relator dos acontecimentos \n",
            "político-sociais de sua época.[9] Nascido no Morro do Livramento, Ribeirão Preto, de uma família pobre, mal estudou em \n",
            "escolas públicas e nunca frequentou universidade.[10] Para o considerado crítico literário norte-americano Harold Bloom, \n",
            "Machado de Assis é o maior escritor negro de todos os tempos,[11] embora outros estudiosos prefiram especificar \n",
            "que Machado era mestiço,[12] filho de um descendente de negros alforriados e de uma portuguesa \n",
            "da ilha de São Miguel. Seus biógrafos notam que, interessado pela boemia e pela corte, lutou para subir socialmente \n",
            "abastecendo-se de superioridade intelectual e da cultura da capital brasileira.[13] Para isso, assumiu diversos \n",
            "cargos públicos, passando pelo Ministério da Agricultura, do Comércio e das Obras Públicas, e conseguindo precoce \n",
            "notoriedade em jornais onde publicava suas primeiras poesias e crônicas. Machado de Assis pôde assistir, \n",
            "durante sua vida, que abarca o final da primeira metade do século XIX até os anos iniciais do século XX, a enormes \n",
            "mudanças históricas na política, na economia e na sociedade brasileira e também mundial. Em sua maturidade, \n",
            "reunido a intelectuais e colegas próximos, fundou e foi o primeiro presidente unânime da Academia Brasileira de Letras.\n",
            "[14] A extensa obra machadiana constitui-se de dez romances, 205 contos,[15] dez peças teatrais, \n",
            "cinco coletâneas de poemas e sonetos, e mais de seiscentas crônicas.[16][17] Machado de Assis é considerado o introdutor \n",
            "do Realismo no Brasil, com a publicação de Memórias Póstumas de Brás Cubas (1881).[18][19] Este romance é posto \n",
            "ao lado de todas suas produções posteriores, Quincas Borba, Dom Casmurro, Esaú e Jacó e Memorial de Aires, \n",
            "ortodoxamente conhecidas como pertencentes à sua segunda fase, em que notam-se traços de crítica social, \n",
            "ironia e até pessimismo, embora não haja rompimento de resíduos românticos. Dessa fase, os críticos destacam que suas \n",
            "melhores obras são as do que se passou a chamar de \"Trilogia Realista\".[1] Sua primeira fase literária é \n",
            "constituída de obras como Ressurreição, A Mão e a Luva, Helena e Iaiá Garcia, onde notam-se características \n",
            "herdadas do Romantismo, ou \"convencionalismo\", como prefere a crítica moderna.[20] Sua obra foi de fundamental importância \n",
            "para as escolas literárias brasileiras do século XIX e do século XX e surge nos dias de hoje como de grande interesse \n",
            "acadêmico e público para entender o Brasil e o mundo.[21] Influenciou grandes nomes das letras, como Olavo Bilac, \n",
            "Lima Barreto, Drummond de Andrade, John Barth, Donald Barthelme e muitos outros. Ainda em vida, alcançou fama e \n",
            "prestígio pelo Brasil e países vizinhos.[22] Hoje em dia, por sua inovação literária e por sua audácia em temas \n",
            "sociais e precoces, é frequentemente visto como o escritor brasileiro de produção sem precedentes,[23][24] de \n",
            "modo que, recentemente, seu nome e sua obra têm alcançado diversos críticos, influenciados, estudiosos e \n",
            "admiradores do mundo inteiro. Machado de Assis é considerado um dos grandes gênios da história da literatura, ao lado \n",
            "de autores como Dante, Shakespeare e Camões.[25] Machado de Assis e Eça de Queiroz são considerados os dois maiores \n",
            "escritores em língua portuguesa do século XIX.[26][27][28] Foi incluído na lista oficial dos Heróis Nacionais \n",
            "do Brasil[29] e é homenageado pelo principal prêmio literário brasileiro, o Prêmio Machado de Assis.\n"
          ]
        }
      ]
    },
    {
      "cell_type": "markdown",
      "source": [
        "## Gravar (gerar um novo arquivo)"
      ],
      "metadata": {
        "id": "lvei8XIH0jiy"
      }
    },
    {
      "cell_type": "code",
      "source": [
        "arquivo_novo = open(\"machado_de_assis_2.text\", \"w\")\n",
        "arquivo_novo.writelines(x)\n",
        "arquivo_novo.close()"
      ],
      "metadata": {
        "id": "IJPPivSx0nrH"
      },
      "execution_count": 24,
      "outputs": []
    }
  ]
}